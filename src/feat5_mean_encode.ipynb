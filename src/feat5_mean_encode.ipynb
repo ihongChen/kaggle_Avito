{
 "cells": [
  {
   "cell_type": "code",
   "execution_count": 6,
   "metadata": {},
   "outputs": [],
   "source": [
    "import pandas as pd \n",
    "import numpy as np \n",
    "import matplotlib.pyplot as plt\n",
    "%matplotlib inline"
   ]
  },
  {
   "cell_type": "code",
   "execution_count": 5,
   "metadata": {},
   "outputs": [],
   "source": [
    "df_train = pd.read_pickle('../input/feats/df_trn_feat0.pkl')\n",
    "df_test  = pd.read_pickle('../input/feats/df_test_feat0.pkl')"
   ]
  },
  {
   "cell_type": "markdown",
   "metadata": {},
   "source": [
    "how to do stratified kfold in continuous variable"
   ]
  },
  {
   "cell_type": "markdown",
   "metadata": {},
   "source": [
    "mean encode\n",
    "\n",
    "- by categorical "
   ]
  },
  {
   "cell_type": "code",
   "execution_count": 10,
   "metadata": {},
   "outputs": [],
   "source": [
    "import gc\n",
    "from sklearn.model_selection import StratifiedKFold"
   ]
  },
  {
   "cell_type": "code",
   "execution_count": 37,
   "metadata": {},
   "outputs": [],
   "source": [
    "def mean_encode_train(df, cols, nfolds=4, num_bucket=100, target='deal_probability'):\n",
    "    df_new = df.copy()\n",
    "    \n",
    "    \n",
    "    ## create empty col\n",
    "    for col in cols:\n",
    "        df_new[col+'_mean_target'] = 0\n",
    "    \n",
    "    \n",
    "    y_tr = df_new[target].values\n",
    "    \n",
    "    ## stratified k fold in continus y\n",
    "    percentiles = np.percentile(y_tr, np.linspace(0, 100, num_bucket)) ## create percentiles \n",
    "    falls_into = np.searchsorted(percentiles,y_tr) ## fall into bucket\n",
    "    \n",
    "    skf = StratifiedKFold(nfolds, random_state=0)\n",
    "    skf.get_n_splits(df_new, falls_into)\n",
    "    \n",
    "    for fold, (tr_idx, val_idx) in enumerate(skf.split(df_new, falls_into)):\n",
    "        X_tr ,X_val = df_new.iloc[tr_idx].copy(), df_new.iloc[val_idx].copy()\n",
    "        \n",
    "        \n",
    "        print('fold:{} mean encoding...'.format(fold),end='\\n\\t')\n",
    "        \n",
    "        for col in cols:        \n",
    "            print(col,end='\\t')\n",
    "            means = X_val[col].map(X_tr.groupby(col)[target].mean()) ## map mean encoding in X_tr to X_val\n",
    "            X_val[col + '_mean_target'] = means.astype('float16')\n",
    "\n",
    "        df_new.iloc[val_idx] = X_val\n",
    "        print('')    \n",
    "        del X_tr,X_val;gc.collect()\n",
    "\n",
    "    prior = df[target].mean()\n",
    "    mean_target_cols = [col+'_mean_target' for col in cols]\n",
    "    df_new[mean_target_cols] = df_new[mean_target_cols].fillna(prior)\n",
    "    \n",
    "    print('complete')\n",
    "    return df_new[mean_target_cols]"
   ]
  },
  {
   "cell_type": "code",
   "execution_count": 38,
   "metadata": {},
   "outputs": [],
   "source": [
    "def mean_encode_test(df_train, df_test, cols, num_bucket=100,target='deal_probability'):\n",
    "    ''' encode df_test mean target by df_train'''\n",
    "    y_target = df_train[target]\n",
    "    \n",
    "    for col in cols:\n",
    "        print(col,end='\\t')\n",
    "        means = df_test[col].map(df_train.groupby(col)[target].mean()) ## map mean encode in train to test\n",
    "        df_test[col+'_mean_target'] = means.astype('float16')\n",
    "    print('')\n",
    "    prior = df_train[target].mean()\n",
    "    mean_target_cols = [col+'_mean_target' for col in cols]\n",
    "    \n",
    "    df_test[mean_target_cols] = df_test[mean_target_cols].fillna(prior)\n",
    "    print('complete')\n",
    "    return df_test[mean_target_cols]"
   ]
  },
  {
   "cell_type": "code",
   "execution_count": 39,
   "metadata": {},
   "outputs": [
    {
     "data": {
      "text/plain": [
       "Index(['uidx', 'iidx', 'iid', 'region_city_label', 'tit_len', 'desc_len',\n",
       "       'activation_date', 'month', 'day', 'weekday', 'param_1', 'param_2',\n",
       "       'param_3', 'user_type', 'parent_category_name', 'price',\n",
       "       'category_name', 'image_top_1', 'ads_cnt_by_uid', 'ads_cnt_by_iid',\n",
       "       'deal_probability'],\n",
       "      dtype='object')"
      ]
     },
     "execution_count": 39,
     "metadata": {},
     "output_type": "execute_result"
    }
   ],
   "source": [
    "df_train.columns"
   ]
  },
  {
   "cell_type": "code",
   "execution_count": 43,
   "metadata": {},
   "outputs": [
    {
     "name": "stdout",
     "output_type": "stream",
     "text": [
      "fold:0 mean encoding...\n",
      "\tuidx\tiidx\tregion_city_label\tmonth\tday\tparam_1\tparam_2\tparam_3\tuser_type\tparent_category_name\tcategory_name\t\n",
      "fold:1 mean encoding...\n",
      "\tuidx\tiidx\tregion_city_label\tmonth\tday\tparam_1\tparam_2\tparam_3\tuser_type\tparent_category_name\tcategory_name\t\n",
      "fold:2 mean encoding...\n",
      "\tuidx\tiidx\tregion_city_label\tmonth\tday\tparam_1\tparam_2\tparam_3\tuser_type\tparent_category_name\tcategory_name\t\n",
      "fold:3 mean encoding...\n",
      "\tuidx\tiidx\tregion_city_label\tmonth\tday\tparam_1\tparam_2\tparam_3\tuser_type\tparent_category_name\tcategory_name\t\n",
      "complete\n"
     ]
    }
   ],
   "source": [
    "encode_cols = [\n",
    "    'uidx','iidx',\n",
    "    'region_city_label',\n",
    "    'month','day',\n",
    "    'param_1','param_2','param_3',\n",
    "    'user_type',\n",
    "    'parent_category_name','category_name'\n",
    "]\n",
    "df_train_mean_target = mean_encode_train(df_train,cols=encode_cols)"
   ]
  },
  {
   "cell_type": "code",
   "execution_count": 41,
   "metadata": {},
   "outputs": [
    {
     "name": "stdout",
     "output_type": "stream",
     "text": [
      "uidx\tiidx\tregion_city_label\tmonth\tday\tparam_1\tparam_2\tparam_3\tuser_type\tparent_category_name\tcategory_name\t\n",
      "complete\n"
     ]
    }
   ],
   "source": [
    "df_test_mean_target = mean_encode_test(df_train, df_test,cols=encode_cols)"
   ]
  },
  {
   "cell_type": "code",
   "execution_count": 44,
   "metadata": {},
   "outputs": [
    {
     "name": "stdout",
     "output_type": "stream",
     "text": [
      "shape of df_train_mean_target: (1503424, 11)\n",
      "shape of df_test_mean_target: (508438, 11)\n"
     ]
    }
   ],
   "source": [
    "print('shape of df_train_mean_target:',df_train_mean_target.shape)\n",
    "print('shape of df_test_mean_target:',df_test_mean_target.shape)"
   ]
  },
  {
   "cell_type": "code",
   "execution_count": 45,
   "metadata": {},
   "outputs": [],
   "source": [
    "store = pd.HDFStore('../input/feats/df_mean_target.h5') \n",
    "store['df_trn_mean_target'] = df_train_mean_target\n",
    "store['df_test_mean_target'] = df_test_mean_target\n",
    "store.close()"
   ]
  }
 ],
 "metadata": {
  "kernelspec": {
   "display_name": "Python [conda env:py36]",
   "language": "python",
   "name": "conda-env-py36-py"
  },
  "language_info": {
   "codemirror_mode": {
    "name": "ipython",
    "version": 3
   },
   "file_extension": ".py",
   "mimetype": "text/x-python",
   "name": "python",
   "nbconvert_exporter": "python",
   "pygments_lexer": "ipython3",
   "version": "3.6.3"
  }
 },
 "nbformat": 4,
 "nbformat_minor": 1
}
