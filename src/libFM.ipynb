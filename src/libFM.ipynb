{
 "cells": [
  {
   "cell_type": "markdown",
   "metadata": {},
   "source": [
    "try to understand libFM from this [script](http://nbviewer.jupyter.org/github/jfpuget/LibFM_in_Keras/blob/master/keras_blog.ipynb)\n",
    "\n",
    "and use it in this competition"
   ]
  },
  {
   "cell_type": "code",
   "execution_count": 45,
   "metadata": {},
   "outputs": [],
   "source": [
    "import keras \n",
    "import pandas as pd\n",
    "import numpy as np\n",
    "import gc\n"
   ]
  },
  {
   "cell_type": "code",
   "execution_count": 46,
   "metadata": {},
   "outputs": [],
   "source": [
    "from keras.layers.normalization import BatchNormalization\n",
    "from keras.models import Sequential, Model\n",
    "from keras.layers import Input, Embedding, Dense, Flatten, Concatenate, Dot, Reshape, Add, Subtract\n",
    "from keras import objectives\n",
    "from keras import backend as K\n",
    "from keras import regularizers \n",
    "from keras.optimizers import Adam\n",
    "from keras.callbacks import EarlyStopping, ModelCheckpoint\n",
    "from keras.regularizers import l2"
   ]
  },
  {
   "cell_type": "code",
   "execution_count": 47,
   "metadata": {},
   "outputs": [],
   "source": [
    "import scipy.sparse as sp"
   ]
  },
  {
   "cell_type": "code",
   "execution_count": 48,
   "metadata": {},
   "outputs": [],
   "source": [
    "import numpy as np\n",
    "import tensorflow as tf\n",
    "import random as rn\n",
    "\n",
    "# The below is necessary in Python 3.2.3 onwards to\n",
    "# have reproducible behavior for certain hash-based operations.\n",
    "# See these references for further details:\n",
    "# https://docs.python.org/3.4/using/cmdline.html#envvar-PYTHONHASHSEED\n",
    "# https://github.com/fchollet/keras/issues/2280#issuecomment-306959926\n",
    "\n",
    "import os\n",
    "\n",
    "def init_seeds(seed):\n",
    "    os.environ['PYTHONHASHSEED'] = '0'\n",
    "\n",
    "    # The below is necessary for starting Numpy generated random numbers\n",
    "    # in a well-defined initial state.\n",
    "\n",
    "    np.random.seed(seed)\n",
    "\n",
    "    # The below is necessary for starting core Python generated random numbers\n",
    "    # in a well-defined state.\n",
    "\n",
    "    rn.seed(seed)\n",
    "\n",
    "    # Force TensorFlow to use single thread.\n",
    "    # Multiple threads are a potential source of\n",
    "    # non-reproducible results.\n",
    "    # For further details, see: https://stackoverflow.com/questions/42022950/which-seeds-have-to-be-set-where-to-realize-100-reproducibility-of-training-res\n",
    "\n",
    "    session_conf = tf.ConfigProto(intra_op_parallelism_threads=1, inter_op_parallelism_threads=1)\n",
    "\n",
    "    from keras import backend as K\n",
    "\n",
    "    # The below tf.set_random_seed() will make random number generation\n",
    "    # in the TensorFlow backend have a well-defined initial state.\n",
    "    # For further details, see: https://www.tensorflow.org/api_docs/python/tf/set_random_seed\n",
    "\n",
    "    tf.set_random_seed(seed)\n",
    "\n",
    "    sess = tf.Session(graph=tf.get_default_graph(), config=session_conf)\n",
    "    K.set_session(sess)\n",
    "    return sess"
   ]
  },
  {
   "cell_type": "code",
   "execution_count": 49,
   "metadata": {},
   "outputs": [],
   "source": [
    "k_latent = 2\n",
    "embedding_reg = 0.0002\n",
    "kernel_reg = 0.1\n",
    "\n",
    "def get_embed(x_input, x_size, k_latent):\n",
    "    if x_size > 0: #category\n",
    "        embed = Embedding(x_size, k_latent, input_length=1, \n",
    "                          embeddings_regularizer=l2(embedding_reg))(x_input)\n",
    "        embed = Flatten()(embed)\n",
    "    else:\n",
    "        embed = Dense(k_latent, kernel_regularizer=l2(embedding_reg))(x_input)\n",
    "    return embed\n",
    "\n",
    "def build_model_1(X, f_size):\n",
    "    dim_input = len(f_size)\n",
    "    \n",
    "    input_x = [Input(shape=(1,)) for i in range(dim_input)] \n",
    "     \n",
    "    biases = [get_embed(x, size, 1) for (x, size) in zip(input_x, f_size)]\n",
    "    \n",
    "    factors = [get_embed(x, size, k_latent) for (x, size) in zip(input_x, f_size)]\n",
    "    \n",
    "    s = Add()(factors)\n",
    "    \n",
    "    diffs = [Subtract()([s, x]) for x in factors]\n",
    "    \n",
    "    dots = [Dot(axes=1)([d, x]) for d,x in zip(diffs, factors)]\n",
    "    \n",
    "    x = Concatenate()(biases + dots)\n",
    "    x = BatchNormalization()(x)\n",
    "    output = Dense(1, activation='relu', kernel_regularizer=l2(kernel_reg))(x)\n",
    "    model = Model(inputs=input_x, outputs=[output])\n",
    "    opt = Adam(clipnorm=0.5)\n",
    "    model.compile(optimizer=opt, loss='mean_squared_error')\n",
    "    output_f = factors + biases\n",
    "    model_features = Model(inputs=input_x, outputs=output_f)\n",
    "    return model, model_features"
   ]
  },
  {
   "cell_type": "code",
   "execution_count": 5,
   "metadata": {},
   "outputs": [
    {
     "name": "stdout",
     "output_type": "stream",
     "text": [
      "Wall time: 4.89 s\n"
     ]
    }
   ],
   "source": [
    "%%time \n",
    "df_train = pd.read_pickle('../input/train.pkl')"
   ]
  },
  {
   "cell_type": "markdown",
   "metadata": {},
   "source": [
    "encode uidx, iidx"
   ]
  },
  {
   "cell_type": "code",
   "execution_count": 50,
   "metadata": {},
   "outputs": [],
   "source": [
    "def get_df_matrix_mappings(df, row_name, col_name):\n",
    "    # Create mappings\n",
    "    rid_to_idx = {}\n",
    "    idx_to_rid = {}\n",
    "    for (idx, rid) in enumerate(df[row_name].unique().tolist()):\n",
    "        rid_to_idx[rid] = idx\n",
    "        idx_to_rid[idx] = rid\n",
    "\n",
    "\n",
    "    cid_to_idx = {}\n",
    "    idx_to_cid = {}\n",
    "    for (idx, cid) in enumerate(df[col_name].unique().tolist()):\n",
    "        cid_to_idx[cid] = idx\n",
    "        idx_to_cid[idx] = cid\n",
    "\n",
    "\n",
    "    return rid_to_idx, idx_to_rid, cid_to_idx, idx_to_cid"
   ]
  },
  {
   "cell_type": "code",
   "execution_count": 7,
   "metadata": {},
   "outputs": [
    {
     "name": "stdout",
     "output_type": "stream",
     "text": [
      "build id->idx map ...\n",
      "build iidx, uidx col\n"
     ]
    }
   ],
   "source": [
    "print('build id->idx map ...')\n",
    "rid_to_idx, idx_to_rid, cid_to_idx, idx_to_cid = get_df_matrix_mappings(df_train,'user_id','item_seq_number')\n",
    "\n",
    "\n",
    "df_trn_uidx = pd.DataFrame()\n",
    "df_trn_uidx['uidx']= df_train.user_id.map(rid_to_idx)\n",
    "df_trn_uidx['iidx']= df_train.item_seq_number.map(cid_to_idx)\n",
    "df_trn_uidx['uid'] = df_train.user_id\n",
    "df_trn_uidx['iid'] = df_train.item_seq_number\n",
    "\n",
    "print('build iidx, uidx col')\n",
    "df_train['iidx'] = df_train.item_seq_number.map(cid_to_idx).astype('uint16')\n",
    "df_train['uidx'] = df_train.user_id.map(rid_to_idx).astype('uint32')"
   ]
  },
  {
   "cell_type": "markdown",
   "metadata": {},
   "source": [
    "encode city_region "
   ]
  },
  {
   "cell_type": "code",
   "execution_count": 8,
   "metadata": {},
   "outputs": [],
   "source": [
    "from sklearn.preprocessing import LabelEncoder"
   ]
  },
  {
   "cell_type": "code",
   "execution_count": 9,
   "metadata": {},
   "outputs": [],
   "source": [
    "def create_label_encoding_with_min_count(df, column, min_count=50):\n",
    "    column_counts = df.groupby([column])[column].transform(\"count\").astype(int)\n",
    "    column_values = np.where(column_counts >= min_count, df[column], \"\")\n",
    "    df[column+\"_label\"] = LabelEncoder().fit_transform(column_values)\n",
    "    \n",
    "    return df[column+\"_label\"]"
   ]
  },
  {
   "cell_type": "code",
   "execution_count": 10,
   "metadata": {},
   "outputs": [],
   "source": [
    "df_train['region_city2'] = df_train.groupby(['region','city'])['region'].transform(lambda x:np.random.random()) ## faster and encode it correctly!!\n",
    "df_train['region_city2_label'] = create_label_encoding_with_min_count(df_train,'region_city2',min_count=50)\n",
    "\n",
    "df_train.drop('region_city2',axis=1,inplace=True)"
   ]
  },
  {
   "cell_type": "code",
   "execution_count": 34,
   "metadata": {},
   "outputs": [
    {
     "data": {
      "text/html": [
       "<div>\n",
       "<style>\n",
       "    .dataframe thead tr:only-child th {\n",
       "        text-align: right;\n",
       "    }\n",
       "\n",
       "    .dataframe thead th {\n",
       "        text-align: left;\n",
       "    }\n",
       "\n",
       "    .dataframe tbody tr th {\n",
       "        vertical-align: top;\n",
       "    }\n",
       "</style>\n",
       "<table border=\"1\" class=\"dataframe\">\n",
       "  <thead>\n",
       "    <tr style=\"text-align: right;\">\n",
       "      <th></th>\n",
       "      <th>uidx</th>\n",
       "      <th>iidx</th>\n",
       "    </tr>\n",
       "  </thead>\n",
       "  <tbody>\n",
       "    <tr>\n",
       "      <th>0</th>\n",
       "      <td>0</td>\n",
       "      <td>0</td>\n",
       "    </tr>\n",
       "    <tr>\n",
       "      <th>1</th>\n",
       "      <td>1</td>\n",
       "      <td>1</td>\n",
       "    </tr>\n",
       "    <tr>\n",
       "      <th>2</th>\n",
       "      <td>2</td>\n",
       "      <td>2</td>\n",
       "    </tr>\n",
       "    <tr>\n",
       "      <th>3</th>\n",
       "      <td>3</td>\n",
       "      <td>3</td>\n",
       "    </tr>\n",
       "    <tr>\n",
       "      <th>4</th>\n",
       "      <td>4</td>\n",
       "      <td>4</td>\n",
       "    </tr>\n",
       "  </tbody>\n",
       "</table>\n",
       "</div>"
      ],
      "text/plain": [
       "   uidx  iidx\n",
       "0     0     0\n",
       "1     1     1\n",
       "2     2     2\n",
       "3     3     3\n",
       "4     4     4"
      ]
     },
     "execution_count": 34,
     "metadata": {},
     "output_type": "execute_result"
    }
   ],
   "source": [
    "# sel_cols = ['uidx','iidx','']\n",
    "feats = ['uidx','iidx']#,'region_city2_label','image_top_1']\n",
    "\n",
    "target = ['deal_probability']\n",
    "fm_data = df_train[feats].copy()\n",
    "fm_data.head()"
   ]
  },
  {
   "cell_type": "code",
   "execution_count": 35,
   "metadata": {},
   "outputs": [
    {
     "name": "stdout",
     "output_type": "stream",
     "text": [
      "<class 'pandas.core.frame.DataFrame'>\n",
      "RangeIndex: 1503424 entries, 0 to 1503423\n",
      "Data columns (total 2 columns):\n",
      "uidx    1503424 non-null uint32\n",
      "iidx    1503424 non-null uint16\n",
      "dtypes: uint16(1), uint32(1)\n",
      "memory usage: 8.6 MB\n"
     ]
    }
   ],
   "source": [
    "fm_data.info()"
   ]
  },
  {
   "cell_type": "code",
   "execution_count": 38,
   "metadata": {},
   "outputs": [],
   "source": [
    "# print('max val image_top_1',fm_data.image_top_1.max())\n",
    "# fm_data['image_top_1'] = fm_data.image_top_1.fillna(3067).astype('uint16')\n"
   ]
  },
  {
   "cell_type": "code",
   "execution_count": 39,
   "metadata": {},
   "outputs": [
    {
     "data": {
      "text/plain": [
       "[771769, 26079]"
      ]
     },
     "execution_count": 39,
     "metadata": {},
     "output_type": "execute_result"
    }
   ],
   "source": [
    "f_size  = [int(fm_data[f].max()) + 1 for f in feats]\n",
    "f_size"
   ]
  },
  {
   "cell_type": "code",
   "execution_count": 40,
   "metadata": {},
   "outputs": [
    {
     "data": {
      "text/plain": [
       "uidx    uint32\n",
       "iidx    uint16\n",
       "dtype: object"
      ]
     },
     "execution_count": 40,
     "metadata": {},
     "output_type": "execute_result"
    }
   ],
   "source": [
    "fm_data.dtypes"
   ]
  },
  {
   "cell_type": "code",
   "execution_count": 41,
   "metadata": {},
   "outputs": [],
   "source": [
    "fm_data = fm_data.merge(df_train[['uidx','iidx','deal_probability']], how='left',on=['uidx','iidx'])"
   ]
  },
  {
   "cell_type": "code",
   "execution_count": 42,
   "metadata": {},
   "outputs": [
    {
     "data": {
      "text/html": [
       "<div>\n",
       "<style>\n",
       "    .dataframe thead tr:only-child th {\n",
       "        text-align: right;\n",
       "    }\n",
       "\n",
       "    .dataframe thead th {\n",
       "        text-align: left;\n",
       "    }\n",
       "\n",
       "    .dataframe tbody tr th {\n",
       "        vertical-align: top;\n",
       "    }\n",
       "</style>\n",
       "<table border=\"1\" class=\"dataframe\">\n",
       "  <thead>\n",
       "    <tr style=\"text-align: right;\">\n",
       "      <th></th>\n",
       "      <th>uidx</th>\n",
       "      <th>iidx</th>\n",
       "      <th>deal_probability</th>\n",
       "    </tr>\n",
       "  </thead>\n",
       "  <tbody>\n",
       "    <tr>\n",
       "      <th>0</th>\n",
       "      <td>0</td>\n",
       "      <td>0</td>\n",
       "      <td>0.12789</td>\n",
       "    </tr>\n",
       "    <tr>\n",
       "      <th>1</th>\n",
       "      <td>1</td>\n",
       "      <td>1</td>\n",
       "      <td>0.00000</td>\n",
       "    </tr>\n",
       "    <tr>\n",
       "      <th>2</th>\n",
       "      <td>2</td>\n",
       "      <td>2</td>\n",
       "      <td>0.43177</td>\n",
       "    </tr>\n",
       "    <tr>\n",
       "      <th>3</th>\n",
       "      <td>3</td>\n",
       "      <td>3</td>\n",
       "      <td>0.80323</td>\n",
       "    </tr>\n",
       "    <tr>\n",
       "      <th>4</th>\n",
       "      <td>4</td>\n",
       "      <td>4</td>\n",
       "      <td>0.20797</td>\n",
       "    </tr>\n",
       "  </tbody>\n",
       "</table>\n",
       "</div>"
      ],
      "text/plain": [
       "   uidx  iidx  deal_probability\n",
       "0     0     0           0.12789\n",
       "1     1     1           0.00000\n",
       "2     2     2           0.43177\n",
       "3     3     3           0.80323\n",
       "4     4     4           0.20797"
      ]
     },
     "execution_count": 42,
     "metadata": {},
     "output_type": "execute_result"
    }
   ],
   "source": [
    "fm_data.head()"
   ]
  },
  {
   "cell_type": "markdown",
   "metadata": {},
   "source": [
    "build fm "
   ]
  },
  {
   "cell_type": "code",
   "execution_count": 43,
   "metadata": {},
   "outputs": [],
   "source": [
    "X_train = [fm_data[f].values for f in feats]\n",
    "y_train = (fm_data['deal_probability'].values).astype('float32')"
   ]
  },
  {
   "cell_type": "code",
   "execution_count": 51,
   "metadata": {},
   "outputs": [
    {
     "name": "stdout",
     "output_type": "stream",
     "text": [
      "__________________________________________________________________________________________________\n",
      "Layer (type)                    Output Shape         Param #     Connected to                     \n",
      "==================================================================================================\n",
      "input_1 (InputLayer)            (None, 1)            0                                            \n",
      "__________________________________________________________________________________________________\n",
      "input_2 (InputLayer)            (None, 1)            0                                            \n",
      "__________________________________________________________________________________________________\n",
      "embedding_3 (Embedding)         (None, 1, 2)         1543538     input_1[0][0]                    \n",
      "__________________________________________________________________________________________________\n",
      "embedding_4 (Embedding)         (None, 1, 2)         52158       input_2[0][0]                    \n",
      "__________________________________________________________________________________________________\n",
      "flatten_3 (Flatten)             (None, 2)            0           embedding_3[0][0]                \n",
      "__________________________________________________________________________________________________\n",
      "flatten_4 (Flatten)             (None, 2)            0           embedding_4[0][0]                \n",
      "__________________________________________________________________________________________________\n",
      "add_1 (Add)                     (None, 2)            0           flatten_3[0][0]                  \n",
      "                                                                 flatten_4[0][0]                  \n",
      "__________________________________________________________________________________________________\n",
      "embedding_1 (Embedding)         (None, 1, 1)         771769      input_1[0][0]                    \n",
      "__________________________________________________________________________________________________\n",
      "embedding_2 (Embedding)         (None, 1, 1)         26079       input_2[0][0]                    \n",
      "__________________________________________________________________________________________________\n",
      "subtract_1 (Subtract)           (None, 2)            0           add_1[0][0]                      \n",
      "                                                                 flatten_3[0][0]                  \n",
      "__________________________________________________________________________________________________\n",
      "subtract_2 (Subtract)           (None, 2)            0           add_1[0][0]                      \n",
      "                                                                 flatten_4[0][0]                  \n",
      "__________________________________________________________________________________________________\n",
      "flatten_1 (Flatten)             (None, 1)            0           embedding_1[0][0]                \n",
      "__________________________________________________________________________________________________\n",
      "flatten_2 (Flatten)             (None, 1)            0           embedding_2[0][0]                \n",
      "__________________________________________________________________________________________________\n",
      "dot_1 (Dot)                     (None, 1)            0           subtract_1[0][0]                 \n",
      "                                                                 flatten_3[0][0]                  \n",
      "__________________________________________________________________________________________________\n",
      "dot_2 (Dot)                     (None, 1)            0           subtract_2[0][0]                 \n",
      "                                                                 flatten_4[0][0]                  \n",
      "__________________________________________________________________________________________________\n",
      "concatenate_1 (Concatenate)     (None, 4)            0           flatten_1[0][0]                  \n",
      "                                                                 flatten_2[0][0]                  \n",
      "                                                                 dot_1[0][0]                      \n",
      "                                                                 dot_2[0][0]                      \n",
      "__________________________________________________________________________________________________\n",
      "batch_normalization_1 (BatchNor (None, 4)            16          concatenate_1[0][0]              \n",
      "__________________________________________________________________________________________________\n",
      "dense_1 (Dense)                 (None, 1)            5           batch_normalization_1[0][0]      \n",
      "==================================================================================================\n",
      "Total params: 2,393,565\n",
      "Trainable params: 2,393,557\n",
      "Non-trainable params: 8\n",
      "__________________________________________________________________________________________________\n"
     ]
    }
   ],
   "source": [
    "model, model_features = build_model_1(X_train, f_size)\n",
    "model.summary()"
   ]
  },
  {
   "cell_type": "code",
   "execution_count": 52,
   "metadata": {},
   "outputs": [
    {
     "name": "stdout",
     "output_type": "stream",
     "text": [
      "__________________________________________________________________________________________________\n",
      "Layer (type)                    Output Shape         Param #     Connected to                     \n",
      "==================================================================================================\n",
      "input_1 (InputLayer)            (None, 1)            0                                            \n",
      "__________________________________________________________________________________________________\n",
      "input_2 (InputLayer)            (None, 1)            0                                            \n",
      "__________________________________________________________________________________________________\n",
      "embedding_3 (Embedding)         (None, 1, 2)         1543538     input_1[0][0]                    \n",
      "__________________________________________________________________________________________________\n",
      "embedding_4 (Embedding)         (None, 1, 2)         52158       input_2[0][0]                    \n",
      "__________________________________________________________________________________________________\n",
      "embedding_1 (Embedding)         (None, 1, 1)         771769      input_1[0][0]                    \n",
      "__________________________________________________________________________________________________\n",
      "embedding_2 (Embedding)         (None, 1, 1)         26079       input_2[0][0]                    \n",
      "__________________________________________________________________________________________________\n",
      "flatten_3 (Flatten)             (None, 2)            0           embedding_3[0][0]                \n",
      "__________________________________________________________________________________________________\n",
      "flatten_4 (Flatten)             (None, 2)            0           embedding_4[0][0]                \n",
      "__________________________________________________________________________________________________\n",
      "flatten_1 (Flatten)             (None, 1)            0           embedding_1[0][0]                \n",
      "__________________________________________________________________________________________________\n",
      "flatten_2 (Flatten)             (None, 1)            0           embedding_2[0][0]                \n",
      "==================================================================================================\n",
      "Total params: 2,393,544\n",
      "Trainable params: 2,393,544\n",
      "Non-trainable params: 0\n",
      "__________________________________________________________________________________________________\n"
     ]
    }
   ],
   "source": [
    "model_features.summary()"
   ]
  },
  {
   "cell_type": "code",
   "execution_count": 53,
   "metadata": {},
   "outputs": [
    {
     "data": {
      "text/plain": [
       "(1503424, 3)"
      ]
     },
     "execution_count": 53,
     "metadata": {},
     "output_type": "execute_result"
    }
   ],
   "source": [
    "fm_data.shape"
   ]
  },
  {
   "cell_type": "code",
   "execution_count": 54,
   "metadata": {},
   "outputs": [
    {
     "data": {
      "text/plain": [
       "4096"
      ]
     },
     "execution_count": 54,
     "metadata": {},
     "output_type": "execute_result"
    }
   ],
   "source": [
    "2**12"
   ]
  },
  {
   "cell_type": "code",
   "execution_count": 55,
   "metadata": {},
   "outputs": [
    {
     "name": "stdout",
     "output_type": "stream",
     "text": [
      "4096\n",
      "Train on 1503424 samples, validate on 1503424 samples\n",
      "Epoch 1/100\n",
      "1503424/1503424 [==============================] - 92s 61us/step - loss: 0.2147 - val_loss: 0.1268\n",
      "Epoch 2/100\n",
      "1503424/1503424 [==============================] - 88s 59us/step - loss: 0.1052 - val_loss: 0.0803\n",
      "Epoch 3/100\n",
      "1503424/1503424 [==============================] - 89s 59us/step - loss: 0.0775 - val_loss: 0.0650\n",
      "Epoch 4/100\n",
      "1503424/1503424 [==============================] - 89s 59us/step - loss: 0.0707 - val_loss: 0.0616\n",
      "Epoch 5/100\n",
      "1503424/1503424 [==============================] - 89s 59us/step - loss: 0.0700 - val_loss: 0.0602\n",
      "Epoch 6/100\n",
      "1503424/1503424 [==============================] - 89s 59us/step - loss: 0.0699 - val_loss: 0.0591\n",
      "Epoch 7/100\n",
      "1503424/1503424 [==============================] - 90s 60us/step - loss: 0.0694 - val_loss: 0.0579\n",
      "Epoch 8/100\n",
      "1503424/1503424 [==============================] - 89s 59us/step - loss: 0.0687 - val_loss: 0.0569\n",
      "Epoch 9/100\n",
      "1503424/1503424 [==============================] - 89s 59us/step - loss: 0.0679 - val_loss: 0.0559\n",
      "Epoch 10/100\n",
      "1503424/1503424 [==============================] - 89s 59us/step - loss: 0.0670 - val_loss: 0.0552\n",
      "Epoch 11/100\n",
      "1503424/1503424 [==============================] - 88s 59us/step - loss: 0.0662 - val_loss: 0.0545\n",
      "Epoch 12/100\n",
      "1503424/1503424 [==============================] - 89s 59us/step - loss: 0.0653 - val_loss: 0.0538\n",
      "Epoch 13/100\n",
      "1503424/1503424 [==============================] - 91s 61us/step - loss: 0.0645 - val_loss: 0.0531\n",
      "Epoch 14/100\n",
      "1503424/1503424 [==============================] - 88s 58us/step - loss: 0.0640 - val_loss: 0.0527\n",
      "Epoch 15/100\n",
      "1503424/1503424 [==============================] - 88s 58us/step - loss: 0.0633 - val_loss: 0.0524\n",
      "Epoch 16/100\n",
      "1503424/1503424 [==============================] - 88s 58us/step - loss: 0.0628 - val_loss: 0.0519\n",
      "Epoch 17/100\n",
      "1503424/1503424 [==============================] - 88s 59us/step - loss: 0.0624 - val_loss: 0.0516\n",
      "Epoch 18/100\n",
      "1503424/1503424 [==============================] - 89s 59us/step - loss: 0.0619 - val_loss: 0.0515\n",
      "Epoch 19/100\n",
      "1503424/1503424 [==============================] - 89s 59us/step - loss: 0.0616 - val_loss: 0.0511\n",
      "Epoch 20/100\n",
      "1503424/1503424 [==============================] - 89s 59us/step - loss: 0.0612 - val_loss: 0.0509\n",
      "Epoch 21/100\n",
      "1503424/1503424 [==============================] - 88s 58us/step - loss: 0.0609 - val_loss: 0.0508\n",
      "Epoch 22/100\n",
      "1503424/1503424 [==============================] - 87s 58us/step - loss: 0.0606 - val_loss: 0.0506\n",
      "Epoch 23/100\n",
      "1503424/1503424 [==============================] - 88s 58us/step - loss: 0.0604 - val_loss: 0.0504\n",
      "Epoch 24/100\n",
      "1503424/1503424 [==============================] - 89s 59us/step - loss: 0.0602 - val_loss: 0.0502\n",
      "Epoch 25/100\n",
      "1503424/1503424 [==============================] - 89s 59us/step - loss: 0.0599 - val_loss: 0.0505\n",
      "Epoch 00025: early stopping\n"
     ]
    },
    {
     "data": {
      "text/plain": [
       "<keras.callbacks.History at 0x35389f3a20>"
      ]
     },
     "execution_count": 55,
     "metadata": {},
     "output_type": "execute_result"
    }
   ],
   "source": [
    "n_epochs = 100\n",
    "P = 12\n",
    "try:\n",
    "    del sess\n",
    "except:\n",
    "    pass\n",
    "sess = init_seeds(0)\n",
    "\n",
    "batch_size = 2**P\n",
    "print(batch_size)\n",
    "model, model_features = build_model_1(X_train, f_size)\n",
    "earlystopper = EarlyStopping(patience=0, verbose=1)\n",
    "\n",
    "model.fit(X_train,  y_train, \n",
    "          epochs=n_epochs, batch_size=batch_size, verbose=1, shuffle=True, \n",
    "          validation_data=(X_train, y_train), \n",
    "#           sample_weight=w_train,\n",
    "          callbacks=[earlystopper],\n",
    "         )"
   ]
  },
  {
   "cell_type": "code",
   "execution_count": 56,
   "metadata": {},
   "outputs": [],
   "source": [
    "result = model.predict(X_train,batch_size=batch_size)"
   ]
  },
  {
   "cell_type": "code",
   "execution_count": 64,
   "metadata": {},
   "outputs": [],
   "source": [
    "X_pred = model_features.predict(X_train, batch_size=batch_size)"
   ]
  },
  {
   "cell_type": "code",
   "execution_count": 95,
   "metadata": {},
   "outputs": [],
   "source": [
    "# X_pred[:len(feats)]"
   ]
  },
  {
   "cell_type": "code",
   "execution_count": 65,
   "metadata": {},
   "outputs": [
    {
     "data": {
      "text/plain": [
       "['uidx', 'iidx']"
      ]
     },
     "execution_count": 65,
     "metadata": {},
     "output_type": "execute_result"
    }
   ],
   "source": [
    "feats"
   ]
  },
  {
   "cell_type": "code",
   "execution_count": 66,
   "metadata": {},
   "outputs": [
    {
     "data": {
      "text/html": [
       "<div>\n",
       "<style>\n",
       "    .dataframe thead tr:only-child th {\n",
       "        text-align: right;\n",
       "    }\n",
       "\n",
       "    .dataframe thead th {\n",
       "        text-align: left;\n",
       "    }\n",
       "\n",
       "    .dataframe tbody tr th {\n",
       "        vertical-align: top;\n",
       "    }\n",
       "</style>\n",
       "<table border=\"1\" class=\"dataframe\">\n",
       "  <thead>\n",
       "    <tr style=\"text-align: right;\">\n",
       "      <th></th>\n",
       "      <th>uidx</th>\n",
       "      <th>iidx</th>\n",
       "      <th>deal_probability</th>\n",
       "      <th>uidx_fm_factor_0</th>\n",
       "      <th>uidx_fm_factor_1</th>\n",
       "      <th>iidx_fm_factor_0</th>\n",
       "      <th>iidx_fm_factor_1</th>\n",
       "      <th>uidx_fm_bias</th>\n",
       "      <th>iidx_fm_bias</th>\n",
       "    </tr>\n",
       "  </thead>\n",
       "  <tbody>\n",
       "    <tr>\n",
       "      <th>0</th>\n",
       "      <td>0</td>\n",
       "      <td>0</td>\n",
       "      <td>0.12789</td>\n",
       "      <td>5.814371e-32</td>\n",
       "      <td>-4.188051e-34</td>\n",
       "      <td>-8.275533e-33</td>\n",
       "      <td>1.139949e-32</td>\n",
       "      <td>0.000006</td>\n",
       "      <td>0.087593</td>\n",
       "    </tr>\n",
       "    <tr>\n",
       "      <th>1</th>\n",
       "      <td>1</td>\n",
       "      <td>1</td>\n",
       "      <td>0.00000</td>\n",
       "      <td>5.575870e-32</td>\n",
       "      <td>5.708553e-34</td>\n",
       "      <td>4.006117e-33</td>\n",
       "      <td>4.041425e-33</td>\n",
       "      <td>0.019104</td>\n",
       "      <td>0.038058</td>\n",
       "    </tr>\n",
       "    <tr>\n",
       "      <th>2</th>\n",
       "      <td>2</td>\n",
       "      <td>2</td>\n",
       "      <td>0.43177</td>\n",
       "      <td>-2.221814e-32</td>\n",
       "      <td>-1.801257e-32</td>\n",
       "      <td>8.551332e-34</td>\n",
       "      <td>-8.390112e-33</td>\n",
       "      <td>-0.004823</td>\n",
       "      <td>0.051516</td>\n",
       "    </tr>\n",
       "    <tr>\n",
       "      <th>3</th>\n",
       "      <td>3</td>\n",
       "      <td>3</td>\n",
       "      <td>0.80323</td>\n",
       "      <td>1.341696e-32</td>\n",
       "      <td>2.741651e-32</td>\n",
       "      <td>2.416178e-32</td>\n",
       "      <td>-4.123943e-34</td>\n",
       "      <td>-0.025035</td>\n",
       "      <td>0.000412</td>\n",
       "    </tr>\n",
       "    <tr>\n",
       "      <th>4</th>\n",
       "      <td>4</td>\n",
       "      <td>4</td>\n",
       "      <td>0.20797</td>\n",
       "      <td>6.549448e-32</td>\n",
       "      <td>2.223676e-32</td>\n",
       "      <td>7.815027e-33</td>\n",
       "      <td>1.294836e-32</td>\n",
       "      <td>-0.000040</td>\n",
       "      <td>0.081084</td>\n",
       "    </tr>\n",
       "  </tbody>\n",
       "</table>\n",
       "</div>"
      ],
      "text/plain": [
       "   uidx  iidx  deal_probability  uidx_fm_factor_0  uidx_fm_factor_1  \\\n",
       "0     0     0           0.12789      5.814371e-32     -4.188051e-34   \n",
       "1     1     1           0.00000      5.575870e-32      5.708553e-34   \n",
       "2     2     2           0.43177     -2.221814e-32     -1.801257e-32   \n",
       "3     3     3           0.80323      1.341696e-32      2.741651e-32   \n",
       "4     4     4           0.20797      6.549448e-32      2.223676e-32   \n",
       "\n",
       "   iidx_fm_factor_0  iidx_fm_factor_1  uidx_fm_bias  iidx_fm_bias  \n",
       "0     -8.275533e-33      1.139949e-32      0.000006      0.087593  \n",
       "1      4.006117e-33      4.041425e-33      0.019104      0.038058  \n",
       "2      8.551332e-34     -8.390112e-33     -0.004823      0.051516  \n",
       "3      2.416178e-32     -4.123943e-34     -0.025035      0.000412  \n",
       "4      7.815027e-33      1.294836e-32     -0.000040      0.081084  "
      ]
     },
     "execution_count": 66,
     "metadata": {},
     "output_type": "execute_result"
    }
   ],
   "source": [
    "factors = X_pred[:len(feats)]\n",
    "\n",
    "biases = X_pred[len(feats):2*len(feats)]\n",
    "\n",
    "for f, X_p in zip(feats, factors):\n",
    "    for i in range(k_latent):\n",
    "        fm_data['%s_fm_factor_%d' % (f, i)] = X_p[:,i]\n",
    "\n",
    "for f, X_p in zip(feats, biases):\n",
    "    fm_data['%s_fm_bias' % (f)] = X_p[:,0]\n",
    "\n",
    "fm_data.head()"
   ]
  },
  {
   "cell_type": "code",
   "execution_count": 123,
   "metadata": {},
   "outputs": [
    {
     "data": {
      "text/html": [
       "<div>\n",
       "<style>\n",
       "    .dataframe thead tr:only-child th {\n",
       "        text-align: right;\n",
       "    }\n",
       "\n",
       "    .dataframe thead th {\n",
       "        text-align: left;\n",
       "    }\n",
       "\n",
       "    .dataframe tbody tr th {\n",
       "        vertical-align: top;\n",
       "    }\n",
       "</style>\n",
       "<table border=\"1\" class=\"dataframe\">\n",
       "  <thead>\n",
       "    <tr style=\"text-align: right;\">\n",
       "      <th></th>\n",
       "      <th>deal_probability</th>\n",
       "      <th>uidx_fm_bias</th>\n",
       "      <th>iidx_fm_bias</th>\n",
       "      <th>region_city2_label_fm_bias</th>\n",
       "      <th>image_top_1_fm_bias</th>\n",
       "    </tr>\n",
       "  </thead>\n",
       "  <tbody>\n",
       "    <tr>\n",
       "      <th>deal_probability</th>\n",
       "      <td>1.000000</td>\n",
       "      <td>-0.643092</td>\n",
       "      <td>-0.116859</td>\n",
       "      <td>-0.011302</td>\n",
       "      <td>-0.330248</td>\n",
       "    </tr>\n",
       "    <tr>\n",
       "      <th>uidx_fm_bias</th>\n",
       "      <td>-0.643092</td>\n",
       "      <td>1.000000</td>\n",
       "      <td>0.086963</td>\n",
       "      <td>0.005518</td>\n",
       "      <td>-0.015974</td>\n",
       "    </tr>\n",
       "    <tr>\n",
       "      <th>iidx_fm_bias</th>\n",
       "      <td>-0.116859</td>\n",
       "      <td>0.086963</td>\n",
       "      <td>1.000000</td>\n",
       "      <td>-0.101912</td>\n",
       "      <td>0.140643</td>\n",
       "    </tr>\n",
       "    <tr>\n",
       "      <th>region_city2_label_fm_bias</th>\n",
       "      <td>-0.011302</td>\n",
       "      <td>0.005518</td>\n",
       "      <td>-0.101912</td>\n",
       "      <td>1.000000</td>\n",
       "      <td>-0.062619</td>\n",
       "    </tr>\n",
       "    <tr>\n",
       "      <th>image_top_1_fm_bias</th>\n",
       "      <td>-0.330248</td>\n",
       "      <td>-0.015974</td>\n",
       "      <td>0.140643</td>\n",
       "      <td>-0.062619</td>\n",
       "      <td>1.000000</td>\n",
       "    </tr>\n",
       "  </tbody>\n",
       "</table>\n",
       "</div>"
      ],
      "text/plain": [
       "                            deal_probability  uidx_fm_bias  iidx_fm_bias  \\\n",
       "deal_probability                    1.000000     -0.643092     -0.116859   \n",
       "uidx_fm_bias                       -0.643092      1.000000      0.086963   \n",
       "iidx_fm_bias                       -0.116859      0.086963      1.000000   \n",
       "region_city2_label_fm_bias         -0.011302      0.005518     -0.101912   \n",
       "image_top_1_fm_bias                -0.330248     -0.015974      0.140643   \n",
       "\n",
       "                            region_city2_label_fm_bias  image_top_1_fm_bias  \n",
       "deal_probability                             -0.011302            -0.330248  \n",
       "uidx_fm_bias                                  0.005518            -0.015974  \n",
       "iidx_fm_bias                                 -0.101912             0.140643  \n",
       "region_city2_label_fm_bias                    1.000000            -0.062619  \n",
       "image_top_1_fm_bias                          -0.062619             1.000000  "
      ]
     },
     "execution_count": 123,
     "metadata": {},
     "output_type": "execute_result"
    }
   ],
   "source": [
    "# used_cols = ['deal_probability','uidx_fm_bias','iidx_fm_bias','region_city2_label_fm_bias','image_top_1_fm_bias']\n",
    "# fm_data[used_cols].corr()"
   ]
  },
  {
   "cell_type": "code",
   "execution_count": 81,
   "metadata": {},
   "outputs": [
    {
     "data": {
      "image/png": "[encoded data removed]",
      "text/plain": [
       "<matplotlib.figure.Figure at 0x3552009e48>"
      ]
     },
     "metadata": {},
     "output_type": "display_data"
    }
   ],
   "source": [
    "import seaborn as sns\n",
    "%matplotlib inline\n",
    "selcols = [e for e in list(fm_data.columns) if e not in feats]\n",
    "corr = fm_data[selcols].corr()\n",
    "mask = np.zeros_like(corr, dtype=np.bool)\n",
    "mask[np.triu_indices_from(mask)] = True\n",
    "sns.set(style=\"white\")\n",
    "\n",
    "cmap = sns.diverging_palette(30,10,as_cmap=True)\n",
    "sns.heatmap(corr,cmap=cmap,center=0,square=True,vmax=.3,linewidths=.1, cbar_kws={\"shrink\": .5});"
   ]
  },
  {
   "cell_type": "markdown",
   "metadata": {},
   "source": [
    "seems factor is useless (almost zeros)... "
   ]
  },
  {
   "cell_type": "code",
   "execution_count": 83,
   "metadata": {},
   "outputs": [
    {
     "data": {
      "text/html": [
       "<div>\n",
       "<style>\n",
       "    .dataframe thead tr:only-child th {\n",
       "        text-align: right;\n",
       "    }\n",
       "\n",
       "    .dataframe thead th {\n",
       "        text-align: left;\n",
       "    }\n",
       "\n",
       "    .dataframe tbody tr th {\n",
       "        vertical-align: top;\n",
       "    }\n",
       "</style>\n",
       "<table border=\"1\" class=\"dataframe\">\n",
       "  <thead>\n",
       "    <tr style=\"text-align: right;\">\n",
       "      <th></th>\n",
       "      <th>uidx</th>\n",
       "      <th>iidx</th>\n",
       "      <th>deal_probability</th>\n",
       "      <th>uidx_fm_factor_0</th>\n",
       "      <th>uidx_fm_factor_1</th>\n",
       "      <th>iidx_fm_factor_0</th>\n",
       "      <th>iidx_fm_factor_1</th>\n",
       "      <th>uidx_fm_bias</th>\n",
       "      <th>iidx_fm_bias</th>\n",
       "    </tr>\n",
       "  </thead>\n",
       "  <tbody>\n",
       "    <tr>\n",
       "      <th>0</th>\n",
       "      <td>0</td>\n",
       "      <td>0</td>\n",
       "      <td>0.12789</td>\n",
       "      <td>5.814371e-32</td>\n",
       "      <td>-4.188051e-34</td>\n",
       "      <td>-8.275533e-33</td>\n",
       "      <td>1.139949e-32</td>\n",
       "      <td>0.000006</td>\n",
       "      <td>0.087593</td>\n",
       "    </tr>\n",
       "    <tr>\n",
       "      <th>1</th>\n",
       "      <td>1</td>\n",
       "      <td>1</td>\n",
       "      <td>0.00000</td>\n",
       "      <td>5.575870e-32</td>\n",
       "      <td>5.708553e-34</td>\n",
       "      <td>4.006117e-33</td>\n",
       "      <td>4.041425e-33</td>\n",
       "      <td>0.019104</td>\n",
       "      <td>0.038058</td>\n",
       "    </tr>\n",
       "    <tr>\n",
       "      <th>2</th>\n",
       "      <td>2</td>\n",
       "      <td>2</td>\n",
       "      <td>0.43177</td>\n",
       "      <td>-2.221814e-32</td>\n",
       "      <td>-1.801257e-32</td>\n",
       "      <td>8.551332e-34</td>\n",
       "      <td>-8.390112e-33</td>\n",
       "      <td>-0.004823</td>\n",
       "      <td>0.051516</td>\n",
       "    </tr>\n",
       "    <tr>\n",
       "      <th>3</th>\n",
       "      <td>3</td>\n",
       "      <td>3</td>\n",
       "      <td>0.80323</td>\n",
       "      <td>1.341696e-32</td>\n",
       "      <td>2.741651e-32</td>\n",
       "      <td>2.416178e-32</td>\n",
       "      <td>-4.123943e-34</td>\n",
       "      <td>-0.025035</td>\n",
       "      <td>0.000412</td>\n",
       "    </tr>\n",
       "    <tr>\n",
       "      <th>4</th>\n",
       "      <td>4</td>\n",
       "      <td>4</td>\n",
       "      <td>0.20797</td>\n",
       "      <td>6.549448e-32</td>\n",
       "      <td>2.223676e-32</td>\n",
       "      <td>7.815027e-33</td>\n",
       "      <td>1.294836e-32</td>\n",
       "      <td>-0.000040</td>\n",
       "      <td>0.081084</td>\n",
       "    </tr>\n",
       "  </tbody>\n",
       "</table>\n",
       "</div>"
      ],
      "text/plain": [
       "   uidx  iidx  deal_probability  uidx_fm_factor_0  uidx_fm_factor_1  \\\n",
       "0     0     0           0.12789      5.814371e-32     -4.188051e-34   \n",
       "1     1     1           0.00000      5.575870e-32      5.708553e-34   \n",
       "2     2     2           0.43177     -2.221814e-32     -1.801257e-32   \n",
       "3     3     3           0.80323      1.341696e-32      2.741651e-32   \n",
       "4     4     4           0.20797      6.549448e-32      2.223676e-32   \n",
       "\n",
       "   iidx_fm_factor_0  iidx_fm_factor_1  uidx_fm_bias  iidx_fm_bias  \n",
       "0     -8.275533e-33      1.139949e-32      0.000006      0.087593  \n",
       "1      4.006117e-33      4.041425e-33      0.019104      0.038058  \n",
       "2      8.551332e-34     -8.390112e-33     -0.004823      0.051516  \n",
       "3      2.416178e-32     -4.123943e-34     -0.025035      0.000412  \n",
       "4      7.815027e-33      1.294836e-32     -0.000040      0.081084  "
      ]
     },
     "execution_count": 83,
     "metadata": {},
     "output_type": "execute_result"
    }
   ],
   "source": [
    "fm_data.head()"
   ]
  },
  {
   "cell_type": "code",
   "execution_count": 86,
   "metadata": {},
   "outputs": [],
   "source": [
    "fm_data.drop(['uidx','iidx','deal_probability'],axis=1,\n",
    "             inplace=True)"
   ]
  },
  {
   "cell_type": "code",
   "execution_count": 90,
   "metadata": {},
   "outputs": [
    {
     "data": {
      "text/plain": [
       "Index(['uidx_fm_factor_0', 'uidx_fm_factor_1', 'iidx_fm_factor_0',\n",
       "       'iidx_fm_factor_1', 'uidx_fm_bias', 'iidx_fm_bias'],\n",
       "      dtype='object')"
      ]
     },
     "execution_count": 90,
     "metadata": {},
     "output_type": "execute_result"
    }
   ],
   "source": [
    "fm_data.columns"
   ]
  },
  {
   "cell_type": "code",
   "execution_count": 92,
   "metadata": {},
   "outputs": [],
   "source": [
    "fm_data.drop(['uidx_fm_factor_0','uidx_fm_factor_1','iidx_fm_factor_0','iidx_fm_factor_1'],\n",
    "             axis=1,\n",
    "             inplace=True)"
   ]
  },
  {
   "cell_type": "code",
   "execution_count": 93,
   "metadata": {},
   "outputs": [
    {
     "data": {
      "text/html": [
       "<div>\n",
       "<style>\n",
       "    .dataframe thead tr:only-child th {\n",
       "        text-align: right;\n",
       "    }\n",
       "\n",
       "    .dataframe thead th {\n",
       "        text-align: left;\n",
       "    }\n",
       "\n",
       "    .dataframe tbody tr th {\n",
       "        vertical-align: top;\n",
       "    }\n",
       "</style>\n",
       "<table border=\"1\" class=\"dataframe\">\n",
       "  <thead>\n",
       "    <tr style=\"text-align: right;\">\n",
       "      <th></th>\n",
       "      <th>uidx_fm_bias</th>\n",
       "      <th>iidx_fm_bias</th>\n",
       "    </tr>\n",
       "  </thead>\n",
       "  <tbody>\n",
       "    <tr>\n",
       "      <th>0</th>\n",
       "      <td>0.000006</td>\n",
       "      <td>0.087593</td>\n",
       "    </tr>\n",
       "    <tr>\n",
       "      <th>1</th>\n",
       "      <td>0.019104</td>\n",
       "      <td>0.038058</td>\n",
       "    </tr>\n",
       "    <tr>\n",
       "      <th>2</th>\n",
       "      <td>-0.004823</td>\n",
       "      <td>0.051516</td>\n",
       "    </tr>\n",
       "    <tr>\n",
       "      <th>3</th>\n",
       "      <td>-0.025035</td>\n",
       "      <td>0.000412</td>\n",
       "    </tr>\n",
       "    <tr>\n",
       "      <th>4</th>\n",
       "      <td>-0.000040</td>\n",
       "      <td>0.081084</td>\n",
       "    </tr>\n",
       "  </tbody>\n",
       "</table>\n",
       "</div>"
      ],
      "text/plain": [
       "   uidx_fm_bias  iidx_fm_bias\n",
       "0      0.000006      0.087593\n",
       "1      0.019104      0.038058\n",
       "2     -0.004823      0.051516\n",
       "3     -0.025035      0.000412\n",
       "4     -0.000040      0.081084"
      ]
     },
     "execution_count": 93,
     "metadata": {},
     "output_type": "execute_result"
    }
   ],
   "source": [
    "fm_data.head()"
   ]
  },
  {
   "cell_type": "code",
   "execution_count": 94,
   "metadata": {},
   "outputs": [],
   "source": [
    "store = pd.HDFStore('../input/feats/trn_fm_1.h5')\n",
    "store['trn_fm_bias'] = fm_data\n",
    "store.close()"
   ]
  },
  {
   "cell_type": "markdown",
   "metadata": {},
   "source": [
    "_____"
   ]
  },
  {
   "cell_type": "markdown",
   "metadata": {},
   "source": [
    "not train on deal_prob directly\n",
    "\n",
    "but some sort of groupby count"
   ]
  },
  {
   "cell_type": "code",
   "execution_count": 122,
   "metadata": {},
   "outputs": [],
   "source": [
    "feats = ['uidx','region_city2_label']\n",
    "fm_data = df_train.groupby(feats).size().reset_index().rename(columns={0:'cnt'})"
   ]
  },
  {
   "cell_type": "code",
   "execution_count": 123,
   "metadata": {},
   "outputs": [
    {
     "name": "stdout",
     "output_type": "stream",
     "text": [
      "<class 'pandas.core.frame.DataFrame'>\n",
      "RangeIndex: 785453 entries, 0 to 785452\n",
      "Data columns (total 3 columns):\n",
      "uidx                  785453 non-null uint64\n",
      "region_city2_label    785453 non-null int64\n",
      "cnt                   785453 non-null int64\n",
      "dtypes: int64(2), uint64(1)\n",
      "memory usage: 18.0 MB\n"
     ]
    }
   ],
   "source": [
    "fm_data.info()"
   ]
  },
  {
   "cell_type": "code",
   "execution_count": 120,
   "metadata": {},
   "outputs": [],
   "source": [
    "# print('max val image_top_1',fm_data.image_top_1.max())\n",
    "# fm_data['image_top_1'] = fm_data.image_top_1.fillna(3067).astype('uint16')\n"
   ]
  },
  {
   "cell_type": "code",
   "execution_count": 124,
   "metadata": {},
   "outputs": [
    {
     "data": {
      "text/plain": [
       "[771769, 677]"
      ]
     },
     "execution_count": 124,
     "metadata": {},
     "output_type": "execute_result"
    }
   ],
   "source": [
    "f_size  = [int(fm_data[f].max()) + 1 for f in feats]\n",
    "f_size"
   ]
  },
  {
   "cell_type": "code",
   "execution_count": 125,
   "metadata": {},
   "outputs": [
    {
     "data": {
      "text/plain": [
       "uidx                  uint64\n",
       "region_city2_label     int64\n",
       "cnt                    int64\n",
       "dtype: object"
      ]
     },
     "execution_count": 125,
     "metadata": {},
     "output_type": "execute_result"
    }
   ],
   "source": [
    "fm_data.dtypes"
   ]
  },
  {
   "cell_type": "code",
   "execution_count": 126,
   "metadata": {},
   "outputs": [],
   "source": [
    "# fm_data['deal_probability'] = df_train.deal_probability"
   ]
  },
  {
   "cell_type": "markdown",
   "metadata": {},
   "source": [
    "build fm "
   ]
  },
  {
   "cell_type": "code",
   "execution_count": 129,
   "metadata": {},
   "outputs": [],
   "source": [
    "X_train = [fm_data[f].values for f in feats]\n",
    "y_train = (fm_data['cnt'].values).astype('float32')"
   ]
  },
  {
   "cell_type": "code",
   "execution_count": 130,
   "metadata": {},
   "outputs": [
    {
     "data": {
      "text/plain": [
       "(785453, 3)"
      ]
     },
     "execution_count": 130,
     "metadata": {},
     "output_type": "execute_result"
    }
   ],
   "source": [
    "fm_data.shape"
   ]
  },
  {
   "cell_type": "code",
   "execution_count": null,
   "metadata": {},
   "outputs": [
    {
     "name": "stdout",
     "output_type": "stream",
     "text": [
      "4096\n",
      "Train on 785453 samples, validate on 785453 samples\n",
      "Epoch 1/100\n",
      "785453/785453 [==============================] - 49s 63us/step - loss: 25.0881 - val_loss: 24.2573\n",
      "Epoch 2/100\n",
      "785453/785453 [==============================] - 45s 57us/step - loss: 24.0262 - val_loss: 23.3229\n",
      "Epoch 3/100\n",
      "785453/785453 [==============================] - 45s 57us/step - loss: 22.8154 - val_loss: 21.8780\n",
      "Epoch 4/100\n",
      "785453/785453 [==============================] - 45s 58us/step - loss: 21.1258 - val_loss: 20.3382\n",
      "Epoch 5/100\n",
      "785453/785453 [==============================] - 45s 57us/step - loss: 19.9795 - val_loss: 19.3580\n",
      "Epoch 6/100\n",
      "785453/785453 [==============================] - 45s 57us/step - loss: 19.2256 - val_loss: 18.4469\n",
      "Epoch 7/100\n",
      "785453/785453 [==============================] - 45s 57us/step - loss: 18.3334 - val_loss: 17.7309\n",
      "Epoch 8/100\n",
      "785453/785453 [==============================] - 45s 58us/step - loss: 17.6376 - val_loss: 16.8413\n",
      "Epoch 9/100\n",
      "785453/785453 [==============================] - 45s 58us/step - loss: 16.7542 - val_loss: 16.3468\n",
      "Epoch 10/100\n",
      "785453/785453 [==============================] - 45s 57us/step - loss: 16.2740 - val_loss: 15.6648\n",
      "Epoch 11/100\n",
      "785453/785453 [==============================] - 45s 57us/step - loss: 15.5988 - val_loss: 15.1878\n",
      "Epoch 12/100\n",
      "785453/785453 [==============================] - 45s 58us/step - loss: 15.1549 - val_loss: 14.6461\n",
      "Epoch 13/100\n",
      "785453/785453 [==============================] - 45s 57us/step - loss: 14.6060 - val_loss: 14.2507\n",
      "Epoch 14/100\n",
      "785453/785453 [==============================] - 44s 57us/step - loss: 14.2223 - val_loss: 13.8168\n",
      "Epoch 15/100\n",
      "785453/785453 [==============================] - 45s 57us/step - loss: 13.7830 - val_loss: 13.2659\n",
      "Epoch 16/100\n",
      "785453/785453 [==============================] - 45s 57us/step - loss: 13.2476 - val_loss: 12.9581\n",
      "Epoch 17/100\n",
      "720896/785453 [==========================>...] - ETA: 3s - loss: 13.6014"
     ]
    }
   ],
   "source": [
    "n_epochs = 100\n",
    "P = 12\n",
    "try:\n",
    "    del sess\n",
    "except:\n",
    "    pass\n",
    "sess = init_seeds(0)\n",
    "\n",
    "batch_size = 2**P\n",
    "print(batch_size)\n",
    "model, model_features = build_model_1(X_train, f_size)\n",
    "earlystopper = EarlyStopping(patience=0, verbose=1)\n",
    "\n",
    "model.fit(X_train,  y_train, \n",
    "          epochs=n_epochs, batch_size=batch_size, verbose=1, shuffle=True, \n",
    "          validation_data=(X_train, y_train), \n",
    "#           sample_weight=w_train,\n",
    "          callbacks=[earlystopper],\n",
    "         )"
   ]
  },
  {
   "cell_type": "code",
   "execution_count": null,
   "metadata": {},
   "outputs": [],
   "source": []
  },
  {
   "cell_type": "code",
   "execution_count": null,
   "metadata": {},
   "outputs": [],
   "source": []
  },
  {
   "cell_type": "code",
   "execution_count": 64,
   "metadata": {},
   "outputs": [],
   "source": [
    "X_pred = model_features.predict(X_train, batch_size=batch_size)"
   ]
  },
  {
   "cell_type": "code",
   "execution_count": 56,
   "metadata": {},
   "outputs": [],
   "source": [
    "# result = model.predict(X_train,batch_size=batch_size)"
   ]
  },
  {
   "cell_type": "code",
   "execution_count": 65,
   "metadata": {},
   "outputs": [
    {
     "data": {
      "text/plain": [
       "['uidx', 'iidx']"
      ]
     },
     "execution_count": 65,
     "metadata": {},
     "output_type": "execute_result"
    }
   ],
   "source": [
    "feats"
   ]
  },
  {
   "cell_type": "code",
   "execution_count": 66,
   "metadata": {},
   "outputs": [
    {
     "data": {
      "text/html": [
       "<div>\n",
       "<style>\n",
       "    .dataframe thead tr:only-child th {\n",
       "        text-align: right;\n",
       "    }\n",
       "\n",
       "    .dataframe thead th {\n",
       "        text-align: left;\n",
       "    }\n",
       "\n",
       "    .dataframe tbody tr th {\n",
       "        vertical-align: top;\n",
       "    }\n",
       "</style>\n",
       "<table border=\"1\" class=\"dataframe\">\n",
       "  <thead>\n",
       "    <tr style=\"text-align: right;\">\n",
       "      <th></th>\n",
       "      <th>uidx</th>\n",
       "      <th>iidx</th>\n",
       "      <th>deal_probability</th>\n",
       "      <th>uidx_fm_factor_0</th>\n",
       "      <th>uidx_fm_factor_1</th>\n",
       "      <th>iidx_fm_factor_0</th>\n",
       "      <th>iidx_fm_factor_1</th>\n",
       "      <th>uidx_fm_bias</th>\n",
       "      <th>iidx_fm_bias</th>\n",
       "    </tr>\n",
       "  </thead>\n",
       "  <tbody>\n",
       "    <tr>\n",
       "      <th>0</th>\n",
       "      <td>0</td>\n",
       "      <td>0</td>\n",
       "      <td>0.12789</td>\n",
       "      <td>5.814371e-32</td>\n",
       "      <td>-4.188051e-34</td>\n",
       "      <td>-8.275533e-33</td>\n",
       "      <td>1.139949e-32</td>\n",
       "      <td>0.000006</td>\n",
       "      <td>0.087593</td>\n",
       "    </tr>\n",
       "    <tr>\n",
       "      <th>1</th>\n",
       "      <td>1</td>\n",
       "      <td>1</td>\n",
       "      <td>0.00000</td>\n",
       "      <td>5.575870e-32</td>\n",
       "      <td>5.708553e-34</td>\n",
       "      <td>4.006117e-33</td>\n",
       "      <td>4.041425e-33</td>\n",
       "      <td>0.019104</td>\n",
       "      <td>0.038058</td>\n",
       "    </tr>\n",
       "    <tr>\n",
       "      <th>2</th>\n",
       "      <td>2</td>\n",
       "      <td>2</td>\n",
       "      <td>0.43177</td>\n",
       "      <td>-2.221814e-32</td>\n",
       "      <td>-1.801257e-32</td>\n",
       "      <td>8.551332e-34</td>\n",
       "      <td>-8.390112e-33</td>\n",
       "      <td>-0.004823</td>\n",
       "      <td>0.051516</td>\n",
       "    </tr>\n",
       "    <tr>\n",
       "      <th>3</th>\n",
       "      <td>3</td>\n",
       "      <td>3</td>\n",
       "      <td>0.80323</td>\n",
       "      <td>1.341696e-32</td>\n",
       "      <td>2.741651e-32</td>\n",
       "      <td>2.416178e-32</td>\n",
       "      <td>-4.123943e-34</td>\n",
       "      <td>-0.025035</td>\n",
       "      <td>0.000412</td>\n",
       "    </tr>\n",
       "    <tr>\n",
       "      <th>4</th>\n",
       "      <td>4</td>\n",
       "      <td>4</td>\n",
       "      <td>0.20797</td>\n",
       "      <td>6.549448e-32</td>\n",
       "      <td>2.223676e-32</td>\n",
       "      <td>7.815027e-33</td>\n",
       "      <td>1.294836e-32</td>\n",
       "      <td>-0.000040</td>\n",
       "      <td>0.081084</td>\n",
       "    </tr>\n",
       "  </tbody>\n",
       "</table>\n",
       "</div>"
      ],
      "text/plain": [
       "   uidx  iidx  deal_probability  uidx_fm_factor_0  uidx_fm_factor_1  \\\n",
       "0     0     0           0.12789      5.814371e-32     -4.188051e-34   \n",
       "1     1     1           0.00000      5.575870e-32      5.708553e-34   \n",
       "2     2     2           0.43177     -2.221814e-32     -1.801257e-32   \n",
       "3     3     3           0.80323      1.341696e-32      2.741651e-32   \n",
       "4     4     4           0.20797      6.549448e-32      2.223676e-32   \n",
       "\n",
       "   iidx_fm_factor_0  iidx_fm_factor_1  uidx_fm_bias  iidx_fm_bias  \n",
       "0     -8.275533e-33      1.139949e-32      0.000006      0.087593  \n",
       "1      4.006117e-33      4.041425e-33      0.019104      0.038058  \n",
       "2      8.551332e-34     -8.390112e-33     -0.004823      0.051516  \n",
       "3      2.416178e-32     -4.123943e-34     -0.025035      0.000412  \n",
       "4      7.815027e-33      1.294836e-32     -0.000040      0.081084  "
      ]
     },
     "execution_count": 66,
     "metadata": {},
     "output_type": "execute_result"
    }
   ],
   "source": [
    "factors = X_pred[:len(feats)]\n",
    "\n",
    "biases = X_pred[len(feats):2*len(feats)]\n",
    "\n",
    "for f, X_p in zip(feats, factors):\n",
    "    for i in range(k_latent):\n",
    "        fm_data['%s_fm_factor_%d' % (f, i)] = X_p[:,i]\n",
    "\n",
    "for f, X_p in zip(feats, biases):\n",
    "    fm_data['%s_fm_bias' % (f)] = X_p[:,0]\n",
    "\n",
    "fm_data.head()"
   ]
  }
 ],
 "metadata": {
  "anaconda-cloud": {},
  "kernelspec": {
   "display_name": "Python [conda env:py36]",
   "language": "python",
   "name": "conda-env-py36-py"
  },
  "language_info": {
   "codemirror_mode": {
    "name": "ipython",
    "version": 3
   },
   "file_extension": ".py",
   "mimetype": "text/x-python",
   "name": "python",
   "nbconvert_exporter": "python",
   "pygments_lexer": "ipython3",
   "version": "3.6.3"
  }
 },
 "nbformat": 4,
 "nbformat_minor": 1
}
