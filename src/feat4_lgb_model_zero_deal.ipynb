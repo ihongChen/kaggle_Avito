{
 "cells": [
  {
   "cell_type": "code",
   "execution_count": 2,
   "metadata": {},
   "outputs": [],
   "source": [
    "import pandas as pd \n",
    "import numpy as np\n",
    "import matplotlib.pyplot as plt \n",
    "%matplotlib inline "
   ]
  },
  {
   "cell_type": "code",
   "execution_count": 3,
   "metadata": {},
   "outputs": [],
   "source": [
    "df_train = pd.read_pickle('../input/feats/df_trn_feat0.pkl')"
   ]
  },
  {
   "cell_type": "code",
   "execution_count": 5,
   "metadata": {},
   "outputs": [],
   "source": [
    "df_train['price_log1'] = df_train.price.apply(np.log1p)"
   ]
  },
  {
   "cell_type": "code",
   "execution_count": 7,
   "metadata": {},
   "outputs": [
    {
     "data": {
      "text/plain": [
       "Index(['uidx', 'iidx', 'iid', 'region_city_label', 'tit_len', 'desc_len',\n",
       "       'activation_date', 'month', 'day', 'weekday', 'param_1', 'param_2',\n",
       "       'param_3', 'user_type', 'parent_category_name', 'price',\n",
       "       'category_name', 'image_top_1', 'ads_cnt_by_uid', 'ads_cnt_by_iid',\n",
       "       'deal_probability', 'price_log1'],\n",
       "      dtype='object')"
      ]
     },
     "execution_count": 7,
     "metadata": {},
     "output_type": "execute_result"
    }
   ],
   "source": [
    "df_train.columns"
   ]
  },
  {
   "cell_type": "code",
   "execution_count": 8,
   "metadata": {},
   "outputs": [],
   "source": [
    "mask0 = df_train.deal_probability == 0\n",
    "mask1 = df_train.deal_probability == 1\n",
    "X_trn_deal_0 = df_train[mask0]\n",
    "X_trn_deal_1 = df_train[mask1]"
   ]
  },
  {
   "cell_type": "code",
   "execution_count": 9,
   "metadata": {},
   "outputs": [
    {
     "data": {
      "text/plain": [
       "(974618, 22)"
      ]
     },
     "execution_count": 9,
     "metadata": {},
     "output_type": "execute_result"
    }
   ],
   "source": [
    "X_trn_deal_0.shape"
   ]
  },
  {
   "cell_type": "code",
   "execution_count": 10,
   "metadata": {},
   "outputs": [
    {
     "data": {
      "text/plain": [
       "(10076, 22)"
      ]
     },
     "execution_count": 10,
     "metadata": {},
     "output_type": "execute_result"
    }
   ],
   "source": [
    "X_trn_deal_1.shape"
   ]
  },
  {
   "cell_type": "markdown",
   "metadata": {},
   "source": [
    "deal probability = 0 --> 974,618 / 1.5 milion (over 50%)"
   ]
  },
  {
   "cell_type": "code",
   "execution_count": 11,
   "metadata": {},
   "outputs": [],
   "source": [
    "import lightgbm as lgb"
   ]
  },
  {
   "cell_type": "code",
   "execution_count": 12,
   "metadata": {},
   "outputs": [],
   "source": [
    "df_train['y_zero'] = mask0.astype('uint8')"
   ]
  },
  {
   "cell_type": "code",
   "execution_count": 20,
   "metadata": {},
   "outputs": [],
   "source": [
    "selcols = list(df_train.columns)\n",
    "drop_cols = ['deal_probability','activation_date','iid','y_zero','price']\n",
    "selcols = [col for col in selcols if col not in drop_cols]\n",
    "X_train = df_train[selcols].copy()\n",
    "y_train = mask0.astype('uint8')\n",
    "y_train.name = 'y_zero'"
   ]
  },
  {
   "cell_type": "code",
   "execution_count": 14,
   "metadata": {},
   "outputs": [],
   "source": [
    "predictors = list(X_train.columns)"
   ]
  },
  {
   "cell_type": "code",
   "execution_count": 15,
   "metadata": {},
   "outputs": [
    {
     "data": {
      "text/plain": [
       "['uidx',\n",
       " 'iidx',\n",
       " 'region_city_label',\n",
       " 'tit_len',\n",
       " 'desc_len',\n",
       " 'month',\n",
       " 'day',\n",
       " 'weekday',\n",
       " 'param_1',\n",
       " 'param_2',\n",
       " 'param_3',\n",
       " 'user_type',\n",
       " 'parent_category_name',\n",
       " 'category_name',\n",
       " 'image_top_1',\n",
       " 'ads_cnt_by_uid',\n",
       " 'ads_cnt_by_iid',\n",
       " 'price_log1']"
      ]
     },
     "execution_count": 15,
     "metadata": {},
     "output_type": "execute_result"
    }
   ],
   "source": [
    "predictors"
   ]
  },
  {
   "cell_type": "markdown",
   "metadata": {},
   "source": [
    "cv for paramers tuning ..."
   ]
  },
  {
   "cell_type": "code",
   "execution_count": 38,
   "metadata": {},
   "outputs": [],
   "source": [
    "lgbm_params =  {\n",
    "    'task': 'train',\n",
    "    'boosting_type': 'gbdt',\n",
    "    'objective': 'binary',\n",
    "    'metric': 'auc',    \n",
    "    'max_depth': -1,\n",
    "    'num_leaves': 33,\n",
    "    'feature_fraction': 0.7,\n",
    "    'bagging_fraction': 0.8,\n",
    "    # 'bagging_freq': 5,\n",
    "    'learning_rate': 0.1\n",
    "} \n",
    "predictors = list(X_train.columns)\n",
    "\n",
    "categorical = ['month','day','weekday',\n",
    "               'param_1','param_2','param_3',\n",
    "               'category_name','parent_category_name',\n",
    "               'region_city_label',\n",
    "               'user_type']"
   ]
  },
  {
   "cell_type": "code",
   "execution_count": 33,
   "metadata": {},
   "outputs": [
    {
     "name": "stderr",
     "output_type": "stream",
     "text": [
      "/home/ihong/anaconda3/lib/python3.6/site-packages/lightgbm/basic.py:1005: UserWarning: Using categorical_feature in Dataset.\n",
      "  warnings.warn('Using categorical_feature in Dataset.')\n"
     ]
    },
    {
     "name": "stdout",
     "output_type": "stream",
     "text": [
      "[100]\tcv_agg's auc: 0.806964 + 0.000552226\n",
      "[200]\tcv_agg's auc: 0.810522 + 0.000576355\n",
      "[300]\tcv_agg's auc: 0.812095 + 0.00058868\n",
      "[400]\tcv_agg's auc: 0.813173 + 0.000602578\n",
      "[500]\tcv_agg's auc: 0.813967 + 0.000567106\n",
      "[600]\tcv_agg's auc: 0.814497 + 0.000529122\n",
      "[700]\tcv_agg's auc: 0.814898 + 0.00054234\n",
      "[800]\tcv_agg's auc: 0.815214 + 0.000522802\n",
      "[900]\tcv_agg's auc: 0.815458 + 0.000469385\n",
      "[1000]\tcv_agg's auc: 0.815703 + 0.000461226\n",
      "[1100]\tcv_agg's auc: 0.815895 + 0.000449416\n",
      "[1200]\tcv_agg's auc: 0.816041 + 0.000431564\n",
      "[1300]\tcv_agg's auc: 0.816204 + 0.000456995\n",
      "[1400]\tcv_agg's auc: 0.816334 + 0.000470158\n",
      "[1500]\tcv_agg's auc: 0.81641 + 0.000463659\n",
      "done\n"
     ]
    }
   ],
   "source": [
    "dtrain = lgb.Dataset(X_train, label=y_train, feature_name=predictors, categorical_feature=categorical)\n",
    "cv_results = lgb.cv(lgbm_params, dtrain, \n",
    "                    num_boost_round=10000, \n",
    "                    nfold=4,\n",
    "                    stratified=False,\n",
    "                    early_stopping_rounds=10,\n",
    "                    verbose_eval= 100)\n",
    "print('done')"
   ]
  },
  {
   "cell_type": "markdown",
   "metadata": {},
   "source": [
    "use k-1 fold to predict current fold as `meta_y_zero`"
   ]
  },
  {
   "cell_type": "code",
   "execution_count": 22,
   "metadata": {},
   "outputs": [],
   "source": [
    "from sklearn.model_selection import KFold\n",
    "from sklearn.metrics import roc_auc_score"
   ]
  },
  {
   "cell_type": "code",
   "execution_count": 57,
   "metadata": {},
   "outputs": [],
   "source": [
    "def oof(X_train, y_train,kf, params):    \n",
    "    folds = kf.n_splits\n",
    "    y_pred_all = np.zeros(y_train.shape[0])\n",
    "    \n",
    "    for nfold, (trn_idx, val_idx) in enumerate(kf.split(X_train)):\n",
    "        \n",
    "        x_trn, y_trn = X_train.iloc[trn_idx], y_train.iloc[trn_idx]\n",
    "        x_val, y_val = X_train.iloc[val_idx], y_train.iloc[val_idx]\n",
    "\n",
    "        dtrain = lgb.Dataset(x_trn,y_trn, feature_name=predictors, categorical_feature=categorical)\n",
    "        dval   = lgb.Dataset(x_val,y_val, feature_name=predictors, categorical_feature=categorical)\n",
    "\n",
    "        lgb_clf = lgb.train(params,num_boost_round = 10000,\n",
    "                            train_set = dtrain,\n",
    "                            valid_sets = dval,\n",
    "                            early_stopping_rounds=10,\n",
    "                            verbose_eval= 0)           \n",
    "        \n",
    "        y_pred = lgb_clf.predict(x_val)\n",
    "        y_pred_all[val_idx] = y_pred\n",
    "        auc = roc_auc_score(y_val, y_pred)\n",
    "        print('fold:{}\\t:{:.4f}'.format(nfold,auc))\n",
    "        \n",
    "    auc = roc_auc_score(y_train,y_pred_all)\n",
    "    print('--'*20)\n",
    "    print('all auc:\\t{:.4f}'.format(auc))\n",
    "    return y_pred_all, lgb_clf\n"
   ]
  },
  {
   "cell_type": "code",
   "execution_count": 52,
   "metadata": {},
   "outputs": [
    {
     "data": {
      "text/plain": [
       "0.5"
      ]
     },
     "execution_count": 52,
     "metadata": {},
     "output_type": "execute_result"
    }
   ],
   "source": [
    "y_pred = np.zeros(y_val.shape)\n",
    "roc_auc_score(y_val,y_pred)"
   ]
  },
  {
   "cell_type": "code",
   "execution_count": 63,
   "metadata": {},
   "outputs": [
    {
     "name": "stderr",
     "output_type": "stream",
     "text": [
      "C:\\Program Files\\Anaconda3\\envs\\py36\\lib\\site-packages\\lightgbm\\basic.py:1036: UserWarning: Using categorical_feature in Dataset.\n",
      "  warnings.warn('Using categorical_feature in Dataset.')\n",
      "C:\\Program Files\\Anaconda3\\envs\\py36\\lib\\site-packages\\lightgbm\\basic.py:681: UserWarning: categorical_feature in param dict is overrided.\n",
      "  warnings.warn('categorical_feature in param dict is overrided.')\n"
     ]
    },
    {
     "name": "stdout",
     "output_type": "stream",
     "text": [
      "fold:0\t:0.8160\n",
      "fold:1\t:0.8165\n",
      "fold:2\t:0.8159\n",
      "fold:3\t:0.8162\n",
      "----------------------------------------\n",
      "all auc:\t0.8162\n"
     ]
    }
   ],
   "source": [
    "lgbm_params =  {\n",
    "    'task': 'train',\n",
    "    'boosting_type': 'gbdt',\n",
    "    'objective': 'binary',\n",
    "    'metric': 'auc',    \n",
    "    'max_depth': -1,\n",
    "    'num_leaves': 32,\n",
    "    'feature_fraction': 0.7,\n",
    "    'bagging_fraction': 0.8,\n",
    "    'learning_rate': 0.1\n",
    "} \n",
    "kf = KFold(4,shuffle=True)\n",
    "y_pred = oof(X_train,y_train,kf,lgbm_params)"
   ]
  },
  {
   "cell_type": "code",
   "execution_count": 79,
   "metadata": {},
   "outputs": [
    {
     "data": {
      "text/html": [
       "<div>\n",
       "<style>\n",
       "    .dataframe thead tr:only-child th {\n",
       "        text-align: right;\n",
       "    }\n",
       "\n",
       "    .dataframe thead th {\n",
       "        text-align: left;\n",
       "    }\n",
       "\n",
       "    .dataframe tbody tr th {\n",
       "        vertical-align: top;\n",
       "    }\n",
       "</style>\n",
       "<table border=\"1\" class=\"dataframe\">\n",
       "  <thead>\n",
       "    <tr style=\"text-align: right;\">\n",
       "      <th></th>\n",
       "      <th>deal_probability</th>\n",
       "      <th>y_zero</th>\n",
       "      <th>yhat_zero</th>\n",
       "    </tr>\n",
       "  </thead>\n",
       "  <tbody>\n",
       "    <tr>\n",
       "      <th>deal_probability</th>\n",
       "      <td>1.000000</td>\n",
       "      <td>-0.726252</td>\n",
       "      <td>-0.393548</td>\n",
       "    </tr>\n",
       "    <tr>\n",
       "      <th>y_zero</th>\n",
       "      <td>-0.726252</td>\n",
       "      <td>1.000000</td>\n",
       "      <td>0.539506</td>\n",
       "    </tr>\n",
       "    <tr>\n",
       "      <th>yhat_zero</th>\n",
       "      <td>-0.393548</td>\n",
       "      <td>0.539506</td>\n",
       "      <td>1.000000</td>\n",
       "    </tr>\n",
       "  </tbody>\n",
       "</table>\n",
       "</div>"
      ],
      "text/plain": [
       "                  deal_probability    y_zero  yhat_zero\n",
       "deal_probability          1.000000 -0.726252  -0.393548\n",
       "y_zero                   -0.726252  1.000000   0.539506\n",
       "yhat_zero                -0.393548  0.539506   1.000000"
      ]
     },
     "execution_count": 79,
     "metadata": {},
     "output_type": "execute_result"
    }
   ],
   "source": [
    "y_pred = y_pred.astype('float32')\n",
    "df_y_meta = pd.DataFrame({'y_zero': y_train,'yhat_zero':y_pred,'deal_probability':df_train.deal_probability})\n",
    "df_y_meta.corr()"
   ]
  },
  {
   "cell_type": "code",
   "execution_count": 84,
   "metadata": {},
   "outputs": [],
   "source": [
    "np.save('../input/feats/meta_zero_deal',y_pred)"
   ]
  },
  {
   "cell_type": "code",
   "execution_count": 85,
   "metadata": {},
   "outputs": [
    {
     "data": {
      "text/plain": [
       "array([ 0.77144444,  0.78732169,  0.69957447, ...,  0.42257649,\n",
       "        0.82077223,  0.7648322 ], dtype=float32)"
      ]
     },
     "execution_count": 85,
     "metadata": {},
     "output_type": "execute_result"
    }
   ],
   "source": [
    "np.load('../input/feats/meta_zero_deal.npy')"
   ]
  }
 ],
 "metadata": {
  "anaconda-cloud": {},
  "kernelspec": {
   "display_name": "Python [conda env:py36]",
   "language": "python",
   "name": "conda-env-py36-py"
  },
  "language_info": {
   "codemirror_mode": {
    "name": "ipython",
    "version": 3
   },
   "file_extension": ".py",
   "mimetype": "text/x-python",
   "name": "python",
   "nbconvert_exporter": "python",
   "pygments_lexer": "ipython3",
   "version": "3.6.3"
  }
 },
 "nbformat": 4,
 "nbformat_minor": 2
}
