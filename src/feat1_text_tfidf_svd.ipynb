{
 "cells": [
  {
   "cell_type": "markdown",
   "metadata": {},
   "source": [
    "handle text features \n",
    "\n",
    "- tfidf + tsvd \n",
    "- binarize tfidf + tsvd \n",
    "- hashing + tsvd \n",
    "- binarize + tsvd "
   ]
  },
  {
   "cell_type": "markdown",
   "metadata": {},
   "source": [
    "some notes : \n",
    "- constraint on ngram=(1,2), max_features = 10^5\n",
    "- tsvd to dim =5 "
   ]
  },
  {
   "cell_type": "code",
   "execution_count": 1,
   "metadata": {
    "collapsed": true
   },
   "outputs": [],
   "source": [
    "import pandas as pd \n",
    "import numpy as np \n",
    "import re\n"
   ]
  },
  {
   "cell_type": "code",
   "execution_count": 2,
   "metadata": {},
   "outputs": [
    {
     "name": "stdout",
     "output_type": "stream",
     "text": [
      "CPU times: user 4.22 s, sys: 916 ms, total: 5.13 s\n",
      "Wall time: 5.48 s\n"
     ]
    }
   ],
   "source": [
    "%%time\n",
    "df_train = pd.read_pickle('../input/train.pkl')\n",
    "df_test = pd.read_pickle('../input/test.pkl')"
   ]
  },
  {
   "cell_type": "code",
   "execution_count": 3,
   "metadata": {},
   "outputs": [
    {
     "data": {
      "text/plain": [
       "Index(['item_id', 'user_id', 'region', 'city', 'parent_category_name',\n",
       "       'category_name', 'param_1', 'param_2', 'param_3', 'title',\n",
       "       'description', 'price', 'item_seq_number', 'activation_date',\n",
       "       'user_type', 'image', 'image_top_1', 'deal_probability'],\n",
       "      dtype='object')"
      ]
     },
     "execution_count": 3,
     "metadata": {},
     "output_type": "execute_result"
    }
   ],
   "source": [
    "df_train.columns"
   ]
  },
  {
   "cell_type": "code",
   "execution_count": 4,
   "metadata": {
    "collapsed": true
   },
   "outputs": [],
   "source": [
    "## copy from https://www.kaggle.com/demery/lightgbm-with-ridge-feature/code#L72-L81\n",
    "def cleanName(text):\n",
    "    try:\n",
    "        textProc = text.lower()\n",
    "        textProc = \" \".join(map(str.strip, re.split('(\\d+)',textProc)))\n",
    "        regex = re.compile(u'[^[:alpha:]]')\n",
    "        textProc = regex.sub(\" \", textProc)\n",
    "        textProc = \" \".join(textProc.split())\n",
    "        return textProc\n",
    "    except: \n",
    "        return \"name error\""
   ]
  },
  {
   "cell_type": "code",
   "execution_count": 5,
   "metadata": {
    "collapsed": true
   },
   "outputs": [],
   "source": [
    "df_train['title'] = df_train.title.apply(lambda x: cleanName(x))\n",
    "df_test['title']  = df_test.title.apply(lambda x: cleanName(x))\n",
    "\n",
    "df_train['description'] = df_train.description.apply(lambda x:cleanName(x))\n",
    "df_test['description'] = df_test.description.apply(lambda x:cleanName(x))"
   ]
  },
  {
   "cell_type": "code",
   "execution_count": 6,
   "metadata": {
    "collapsed": true
   },
   "outputs": [],
   "source": [
    "# title_text_raw = df_train.title.append(df_test.title)\n",
    "# title_text_raw.reset_index(drop=True,inplace=True)"
   ]
  },
  {
   "cell_type": "code",
   "execution_count": 7,
   "metadata": {},
   "outputs": [
    {
     "data": {
      "text/plain": [
       "(2011862,)"
      ]
     },
     "execution_count": 7,
     "metadata": {},
     "output_type": "execute_result"
    }
   ],
   "source": [
    "# title_text_raw.shape"
   ]
  },
  {
   "cell_type": "markdown",
   "metadata": {},
   "source": [
    "pipeline"
   ]
  },
  {
   "cell_type": "code",
   "execution_count": 33,
   "metadata": {
    "collapsed": true
   },
   "outputs": [],
   "source": [
    "from sklearn.pipeline import FeatureUnion, Pipeline\n",
    "from sklearn.feature_extraction.text import CountVectorizer, TfidfVectorizer\n",
    "from nltk.corpus import stopwords \n",
    "from sklearn.decomposition import TruncatedSVD"
   ]
  },
  {
   "cell_type": "code",
   "execution_count": 13,
   "metadata": {},
   "outputs": [],
   "source": [
    "def get_col(col_name): return lambda x: x[col_name]\n",
    "\n",
    "## copy from https://www.kaggle.com/demery/lightgbm-with-ridge-feature\n",
    "\n",
    "russian_stop = set(stopwords.words('russian'))\n",
    "\n",
    "tfidf_para = {\n",
    "    \"stop_words\": russian_stop,\n",
    "    \"analyzer\": 'word',\n",
    "    \"token_pattern\": r'\\w{1,}',\n",
    "    \"sublinear_tf\": True,\n",
    "    \"dtype\": np.float32,\n",
    "    \"norm\": 'l2',\n",
    "    #\"min_df\":5,\n",
    "    #\"max_df\":.9,\n",
    "    \"smooth_idf\":False\n",
    "}\n",
    "\n",
    "\n",
    "vectorizer = FeatureUnion([\n",
    "        ('description',TfidfVectorizer(\n",
    "            ngram_range=(1, 2),\n",
    "            max_features=50000,\n",
    "            **tfidf_para,\n",
    "            preprocessor=get_col('description'))),\n",
    "#         ('text_feat',CountVectorizer(\n",
    "#             ngram_range=(1, 2),\n",
    "#             #max_features=7000,\n",
    "#             preprocessor=get_col('text_feat'))),\n",
    "        ('title',TfidfVectorizer(\n",
    "            ngram_range=(1, 2),\n",
    "            **tfidf_para,            \n",
    "            preprocessor=get_col('title')))\n",
    "    ])\n",
    "\n",
    "# vectorizer.fit(df.to_dict('records'))\n",
    "df_transform = vectorizer.fit_transform(df_train.to_dict('records'))"
   ]
  },
  {
   "cell_type": "code",
   "execution_count": 18,
   "metadata": {},
   "outputs": [],
   "source": [
    "tfvocab = vectorizer.get_feature_names()"
   ]
  },
  {
   "cell_type": "code",
   "execution_count": 40,
   "metadata": {},
   "outputs": [],
   "source": [
    "pipe = Pipeline([\n",
    "    ('txt_feats', vectorizer),\n",
    "    ('tsvd',TruncatedSVD(random_state=0))\n",
    "])"
   ]
  },
  {
   "cell_type": "code",
   "execution_count": 41,
   "metadata": {
    "collapsed": true
   },
   "outputs": [],
   "source": [
    "tmp = pipe.fit_transform(df_train.head().to_dict('rec'))"
   ]
  },
  {
   "cell_type": "code",
   "execution_count": 49,
   "metadata": {},
   "outputs": [],
   "source": [
    "tsvd = pipe.get_params()['tsvd']"
   ]
  },
  {
   "cell_type": "code",
   "execution_count": 50,
   "metadata": {},
   "outputs": [
    {
     "data": {
      "text/plain": [
       "array([ 0.16893574,  0.2       ])"
      ]
     },
     "execution_count": 50,
     "metadata": {},
     "output_type": "execute_result"
    }
   ],
   "source": [
    "tsvd.explained_variance_ratio_"
   ]
  },
  {
   "cell_type": "markdown",
   "metadata": {},
   "source": [
    "##### tfidf + tsvd"
   ]
  },
  {
   "cell_type": "code",
   "execution_count": 8,
   "metadata": {
    "collapsed": true
   },
   "outputs": [],
   "source": [
    "from sklearn.feature_extraction.text import TfidfVectorizer\n",
    "from sklearn.decomposition import TruncatedSVD\n",
    "\n",
    "from nltk.corpus import stopwords \n",
    "import nltk"
   ]
  },
  {
   "cell_type": "code",
   "execution_count": 9,
   "metadata": {},
   "outputs": [
    {
     "name": "stdout",
     "output_type": "stream",
     "text": [
      "showing info https://raw.githubusercontent.com/nltk/nltk_data/gh-pages/index.xml\n"
     ]
    },
    {
     "data": {
      "text/plain": [
       "True"
      ]
     },
     "execution_count": 9,
     "metadata": {},
     "output_type": "execute_result"
    }
   ],
   "source": [
    "nltk.download()"
   ]
  },
  {
   "cell_type": "code",
   "execution_count": 10,
   "metadata": {
    "collapsed": true
   },
   "outputs": [],
   "source": [
    "import matplotlib.pyplot as plt \n",
    "import seaborn as sns\n",
    "%matplotlib inline"
   ]
  },
  {
   "cell_type": "code",
   "execution_count": 11,
   "metadata": {
    "collapsed": true
   },
   "outputs": [],
   "source": [
    "## copy from https://www.kaggle.com/demery/lightgbm-with-ridge-feature/code#L159-L172\n",
    "\n",
    "russian_stop = set(stopwords.words('russian'))\n",
    "\n",
    "tfidf_para = {\n",
    "    \"stop_words\": russian_stop,\n",
    "    \"analyzer\": 'word',\n",
    "    \"token_pattern\": r'\\w{1,}',\n",
    "    \"sublinear_tf\": True,\n",
    "    \"dtype\": np.float32,\n",
    "    \"norm\": 'l2',\n",
    "    #\"min_df\":5,\n",
    "    #\"max_df\":.9,\n",
    "    \"smooth_idf\":False\n",
    "}\n"
   ]
  },
  {
   "cell_type": "code",
   "execution_count": 12,
   "metadata": {},
   "outputs": [
    {
     "name": "stdout",
     "output_type": "stream",
     "text": [
      "shape of tfidf Vectorizer:(2011862, 100000)\n"
     ]
    }
   ],
   "source": [
    "## tfidf \n",
    "tv = TfidfVectorizer(lowercase=False,ngram_range=(1,2),max_features=100000,**tfidf_para)\n",
    "tv_feats = tv.fit_transform(title_text_raw)\n",
    "print('shape of tfidf Vectorizer:{}'.format(tv_feats.shape))"
   ]
  },
  {
   "cell_type": "code",
   "execution_count": 13,
   "metadata": {},
   "outputs": [
    {
     "name": "stdout",
     "output_type": "stream",
     "text": [
      "shape of tv_svd_feats: (2011862, 5)\n"
     ]
    }
   ],
   "source": [
    "svd = TruncatedSVD(n_components=5, random_state=0)\n",
    "tv_svd_feats = svd.fit_transform(tv_feats)\n",
    "print('shape of tv_svd_feats:',tv_svd_feats.shape)"
   ]
  },
  {
   "cell_type": "code",
   "execution_count": 14,
   "metadata": {},
   "outputs": [
    {
     "name": "stdout",
     "output_type": "stream",
     "text": [
      "[ 0.01258035  0.02210309  0.02832564  0.03402659  0.03861157]\n"
     ]
    }
   ],
   "source": [
    "# print(svd.explained_variance_ratio_)\n",
    "print(np.cumsum(svd.explained_variance_ratio_)) ## 4% variance ratio only"
   ]
  },
  {
   "cell_type": "code",
   "execution_count": 8,
   "metadata": {},
   "outputs": [],
   "source": [
    "# tv_svd_df = pd.DataFrame(tv_svd_feats).iloc[:df_train.shape[0]]\n",
    "# tv_svd_df['y'] = df_train.deal_probability\n",
    "\n",
    "# tv_svd_df.corr()['y']"
   ]
  },
  {
   "cell_type": "code",
   "execution_count": 6,
   "metadata": {},
   "outputs": [],
   "source": [
    "# sns.jointplot(x = tv_svd_df[0].values, y=tv_svd_df['y'].values)"
   ]
  },
  {
   "cell_type": "code",
   "execution_count": 7,
   "metadata": {},
   "outputs": [],
   "source": [
    "# sns.jointplot(x = tv_svd_df[1].values, y=tv_svd_df['y'].values)"
   ]
  },
  {
   "cell_type": "markdown",
   "metadata": {},
   "source": [
    "##### hashing + tsvd (title)"
   ]
  },
  {
   "cell_type": "code",
   "execution_count": 16,
   "metadata": {},
   "outputs": [
    {
     "name": "stdout",
     "output_type": "stream",
     "text": [
      "shape of hv features:(2011862, 1048576)\n"
     ]
    }
   ],
   "source": [
    "from sklearn.feature_extraction.text import HashingVectorizer\n",
    "\n",
    "hv = HashingVectorizer(ngram_range=(1, 2), lowercase=False)\n",
    "hv_features = hv.fit_transform(title_text_raw).tocsr()\n",
    "print('shape of hv features:{}'.format(hv_features.shape))\n",
    "\n",
    "svd = TruncatedSVD(n_components=5, random_state=0)\n",
    "hv_svd_features = svd.fit_transform(hv_features)\n"
   ]
  },
  {
   "cell_type": "code",
   "execution_count": 17,
   "metadata": {},
   "outputs": [
    {
     "data": {
      "text/plain": [
       "array([ 0.02535947,  0.04120639,  0.05283315,  0.0623459 ,  0.07225276])"
      ]
     },
     "execution_count": 17,
     "metadata": {},
     "output_type": "execute_result"
    }
   ],
   "source": [
    "np.cumsum(svd.explained_variance_ratio_) # 7.2%"
   ]
  },
  {
   "cell_type": "code",
   "execution_count": 18,
   "metadata": {
    "collapsed": true
   },
   "outputs": [],
   "source": [
    "hv_svd_df = pd.DataFrame(hv_svd_features).iloc[:df_train.shape[0]]\n",
    "hv_svd_df['y'] = df_train.deal_probability\n"
   ]
  },
  {
   "cell_type": "code",
   "execution_count": 45,
   "metadata": {},
   "outputs": [
    {
     "data": {
      "text/plain": [
       "0    0.010421\n",
       "1   -0.080351\n",
       "2   -0.034651\n",
       "3   -0.027230\n",
       "4    0.045767\n",
       "y    1.000000\n",
       "Name: y, dtype: float64"
      ]
     },
     "execution_count": 45,
     "metadata": {},
     "output_type": "execute_result"
    }
   ],
   "source": [
    "hv_svd_df.corr().y"
   ]
  },
  {
   "cell_type": "markdown",
   "metadata": {},
   "source": [
    "______\n",
    "do the same thing in description"
   ]
  },
  {
   "cell_type": "code",
   "execution_count": 19,
   "metadata": {
    "collapsed": true
   },
   "outputs": [],
   "source": [
    "desc_raw = df_train.description.append(df_test.description)\n",
    "desc_raw.fillna('',inplace=True)\n",
    "desc_raw.reset_index(drop=True,inplace=True)"
   ]
  },
  {
   "cell_type": "code",
   "execution_count": 20,
   "metadata": {},
   "outputs": [
    {
     "name": "stdout",
     "output_type": "stream",
     "text": [
      "shape of tfidf Vectorizer:(2011862, 100000)\n",
      "shape of tv_svd_feats: (2011862, 5)\n"
     ]
    }
   ],
   "source": [
    "## tfidf  + svd \n",
    "tv = TfidfVectorizer(lowercase=False,ngram_range=(1,2),max_features=100000,**tfidf_para)\n",
    "tv_feats = tv.fit_transform(desc_raw)\n",
    "\n",
    "print('shape of tfidf Vectorizer:{}'.format(tv_feats.shape))\n",
    "\n",
    "svd = TruncatedSVD(n_components=5, random_state=0)\n",
    "tv_svd_feats1 = svd.fit_transform(tv_feats)\n",
    "print('shape of tv_svd_feats:',tv_svd_feats.shape)"
   ]
  },
  {
   "cell_type": "code",
   "execution_count": 21,
   "metadata": {},
   "outputs": [
    {
     "data": {
      "text/plain": [
       "array([ 0.05495604,  0.00722424,  0.00540837,  0.00355453,  0.00311933])"
      ]
     },
     "execution_count": 21,
     "metadata": {},
     "output_type": "execute_result"
    }
   ],
   "source": [
    "svd.explained_variance_ratio_"
   ]
  },
  {
   "cell_type": "code",
   "execution_count": 22,
   "metadata": {},
   "outputs": [
    {
     "name": "stdout",
     "output_type": "stream",
     "text": [
      "shape of hv features:(2011862, 1048576)\n"
     ]
    }
   ],
   "source": [
    "## hashing + svd \n",
    "\n",
    "hv = HashingVectorizer(ngram_range=(1, 2), lowercase=False)\n",
    "hv_features = hv.fit_transform(desc_raw).tocsr()\n",
    "print('shape of hv features:{}'.format(hv_features.shape))\n",
    "\n",
    "svd = TruncatedSVD(n_components=5, random_state=0)\n",
    "hv_svd_features1 = svd.fit_transform(hv_features)\n"
   ]
  },
  {
   "cell_type": "code",
   "execution_count": 23,
   "metadata": {},
   "outputs": [
    {
     "data": {
      "text/plain": [
       "(2011862, 5)"
      ]
     },
     "execution_count": 23,
     "metadata": {},
     "output_type": "execute_result"
    }
   ],
   "source": [
    "hv_svd_features1.shape\n",
    "tv_svd_feats1.shape"
   ]
  },
  {
   "cell_type": "markdown",
   "metadata": {},
   "source": [
    "### save hdf5"
   ]
  },
  {
   "cell_type": "code",
   "execution_count": 24,
   "metadata": {
    "collapsed": true
   },
   "outputs": [],
   "source": [
    "all_text_feats =  np.concatenate([tv_svd_feats,hv_svd_features,tv_svd_feats1,hv_svd_features1],axis=1)"
   ]
  },
  {
   "cell_type": "code",
   "execution_count": 25,
   "metadata": {
    "collapsed": true
   },
   "outputs": [],
   "source": [
    "df_text_feats = pd.DataFrame(all_text_feats)\n",
    "colnames = ['title_tfidf_{}'.format(e) for e in range(5)] + ['title_hash_{}'.format(i) for i in range(5)] + \\\n",
    "            ['desc_tfidf_{}'.format(e) for e in range(5)] + ['desc_hash_{}'.format(i) for i in range(5)] \n",
    "df_text_feats.columns = colnames"
   ]
  },
  {
   "cell_type": "code",
   "execution_count": 26,
   "metadata": {},
   "outputs": [
    {
     "data": {
      "text/html": [
       "<div>\n",
       "<style>\n",
       "    .dataframe thead tr:only-child th {\n",
       "        text-align: right;\n",
       "    }\n",
       "\n",
       "    .dataframe thead th {\n",
       "        text-align: left;\n",
       "    }\n",
       "\n",
       "    .dataframe tbody tr th {\n",
       "        vertical-align: top;\n",
       "    }\n",
       "</style>\n",
       "<table border=\"1\" class=\"dataframe\">\n",
       "  <thead>\n",
       "    <tr style=\"text-align: right;\">\n",
       "      <th></th>\n",
       "      <th>0</th>\n",
       "      <th>1</th>\n",
       "      <th>2</th>\n",
       "      <th>3</th>\n",
       "      <th>4</th>\n",
       "    </tr>\n",
       "  </thead>\n",
       "  <tbody>\n",
       "    <tr>\n",
       "      <th>title_tfidf_0</th>\n",
       "      <td>3.155938e-06</td>\n",
       "      <td>2.005842e-05</td>\n",
       "      <td>9.995545e-06</td>\n",
       "      <td>5.558904e-05</td>\n",
       "      <td>-3.539002e-06</td>\n",
       "    </tr>\n",
       "    <tr>\n",
       "      <th>title_tfidf_1</th>\n",
       "      <td>8.473042e-06</td>\n",
       "      <td>1.133695e-04</td>\n",
       "      <td>1.629503e-04</td>\n",
       "      <td>3.003903e-04</td>\n",
       "      <td>8.301491e-05</td>\n",
       "    </tr>\n",
       "    <tr>\n",
       "      <th>title_tfidf_2</th>\n",
       "      <td>1.255558e-05</td>\n",
       "      <td>7.503001e-05</td>\n",
       "      <td>1.882395e-05</td>\n",
       "      <td>2.437479e-05</td>\n",
       "      <td>8.447903e-05</td>\n",
       "    </tr>\n",
       "    <tr>\n",
       "      <th>title_tfidf_3</th>\n",
       "      <td>1.057398e-05</td>\n",
       "      <td>4.090454e-05</td>\n",
       "      <td>7.641594e-05</td>\n",
       "      <td>1.652462e-04</td>\n",
       "      <td>2.656529e-04</td>\n",
       "    </tr>\n",
       "    <tr>\n",
       "      <th>title_tfidf_4</th>\n",
       "      <td>5.858753e-06</td>\n",
       "      <td>1.590257e-05</td>\n",
       "      <td>7.149039e-05</td>\n",
       "      <td>-4.580733e-05</td>\n",
       "      <td>8.570438e-05</td>\n",
       "    </tr>\n",
       "    <tr>\n",
       "      <th>title_hash_0</th>\n",
       "      <td>4.894437e-04</td>\n",
       "      <td>6.017932e-04</td>\n",
       "      <td>1.424015e-05</td>\n",
       "      <td>2.587222e-05</td>\n",
       "      <td>2.567360e-06</td>\n",
       "    </tr>\n",
       "    <tr>\n",
       "      <th>title_hash_1</th>\n",
       "      <td>2.333327e-02</td>\n",
       "      <td>2.780037e-02</td>\n",
       "      <td>4.522878e-05</td>\n",
       "      <td>1.614659e-04</td>\n",
       "      <td>-7.717952e-06</td>\n",
       "    </tr>\n",
       "    <tr>\n",
       "      <th>title_hash_2</th>\n",
       "      <td>3.659733e-02</td>\n",
       "      <td>4.402271e-02</td>\n",
       "      <td>1.751792e-04</td>\n",
       "      <td>2.623710e-04</td>\n",
       "      <td>7.541814e-05</td>\n",
       "    </tr>\n",
       "    <tr>\n",
       "      <th>title_hash_3</th>\n",
       "      <td>2.834564e-01</td>\n",
       "      <td>3.382862e-01</td>\n",
       "      <td>4.820311e-04</td>\n",
       "      <td>1.199343e-03</td>\n",
       "      <td>1.405320e-04</td>\n",
       "    </tr>\n",
       "    <tr>\n",
       "      <th>title_hash_4</th>\n",
       "      <td>-1.910312e-01</td>\n",
       "      <td>-2.278477e-01</td>\n",
       "      <td>1.803965e-04</td>\n",
       "      <td>1.410686e-03</td>\n",
       "      <td>1.864875e-04</td>\n",
       "    </tr>\n",
       "    <tr>\n",
       "      <th>desc_tfidf_0</th>\n",
       "      <td>1.505374e-07</td>\n",
       "      <td>6.169195e-08</td>\n",
       "      <td>2.690877e-07</td>\n",
       "      <td>2.309691e-07</td>\n",
       "      <td>1.658187e-07</td>\n",
       "    </tr>\n",
       "    <tr>\n",
       "      <th>desc_tfidf_1</th>\n",
       "      <td>8.898330e-03</td>\n",
       "      <td>1.450000e-03</td>\n",
       "      <td>1.630683e-01</td>\n",
       "      <td>2.508604e-02</td>\n",
       "      <td>3.238181e-02</td>\n",
       "    </tr>\n",
       "    <tr>\n",
       "      <th>desc_tfidf_2</th>\n",
       "      <td>4.794486e-03</td>\n",
       "      <td>6.437057e-04</td>\n",
       "      <td>-1.028731e-01</td>\n",
       "      <td>8.745161e-03</td>\n",
       "      <td>5.093439e-03</td>\n",
       "    </tr>\n",
       "    <tr>\n",
       "      <th>desc_tfidf_3</th>\n",
       "      <td>1.672841e-02</td>\n",
       "      <td>2.840932e-03</td>\n",
       "      <td>-2.683959e-03</td>\n",
       "      <td>4.707185e-02</td>\n",
       "      <td>5.263548e-02</td>\n",
       "    </tr>\n",
       "    <tr>\n",
       "      <th>desc_tfidf_4</th>\n",
       "      <td>-1.375773e-02</td>\n",
       "      <td>-2.895666e-03</td>\n",
       "      <td>3.412921e-03</td>\n",
       "      <td>-5.910124e-02</td>\n",
       "      <td>-6.668183e-02</td>\n",
       "    </tr>\n",
       "    <tr>\n",
       "      <th>desc_hash_0</th>\n",
       "      <td>1.203253e-06</td>\n",
       "      <td>1.204897e-06</td>\n",
       "      <td>2.447606e-06</td>\n",
       "      <td>1.413502e-06</td>\n",
       "      <td>2.684787e-06</td>\n",
       "    </tr>\n",
       "    <tr>\n",
       "      <th>desc_hash_1</th>\n",
       "      <td>5.125037e-02</td>\n",
       "      <td>5.505209e-02</td>\n",
       "      <td>2.032194e-01</td>\n",
       "      <td>1.100251e-01</td>\n",
       "      <td>1.431734e-01</td>\n",
       "    </tr>\n",
       "    <tr>\n",
       "      <th>desc_hash_2</th>\n",
       "      <td>-3.100811e-02</td>\n",
       "      <td>-3.830619e-02</td>\n",
       "      <td>2.125667e-01</td>\n",
       "      <td>-2.976088e-02</td>\n",
       "      <td>-9.512462e-02</td>\n",
       "    </tr>\n",
       "    <tr>\n",
       "      <th>desc_hash_3</th>\n",
       "      <td>2.771389e-02</td>\n",
       "      <td>2.445223e-02</td>\n",
       "      <td>-1.430747e-02</td>\n",
       "      <td>1.722992e-01</td>\n",
       "      <td>5.682185e-02</td>\n",
       "    </tr>\n",
       "    <tr>\n",
       "      <th>desc_hash_4</th>\n",
       "      <td>4.058460e-03</td>\n",
       "      <td>2.072346e-03</td>\n",
       "      <td>-1.694874e-01</td>\n",
       "      <td>6.020018e-03</td>\n",
       "      <td>-1.619153e-02</td>\n",
       "    </tr>\n",
       "  </tbody>\n",
       "</table>\n",
       "</div>"
      ],
      "text/plain": [
       "                          0             1             2             3  \\\n",
       "title_tfidf_0  3.155938e-06  2.005842e-05  9.995545e-06  5.558904e-05   \n",
       "title_tfidf_1  8.473042e-06  1.133695e-04  1.629503e-04  3.003903e-04   \n",
       "title_tfidf_2  1.255558e-05  7.503001e-05  1.882395e-05  2.437479e-05   \n",
       "title_tfidf_3  1.057398e-05  4.090454e-05  7.641594e-05  1.652462e-04   \n",
       "title_tfidf_4  5.858753e-06  1.590257e-05  7.149039e-05 -4.580733e-05   \n",
       "title_hash_0   4.894437e-04  6.017932e-04  1.424015e-05  2.587222e-05   \n",
       "title_hash_1   2.333327e-02  2.780037e-02  4.522878e-05  1.614659e-04   \n",
       "title_hash_2   3.659733e-02  4.402271e-02  1.751792e-04  2.623710e-04   \n",
       "title_hash_3   2.834564e-01  3.382862e-01  4.820311e-04  1.199343e-03   \n",
       "title_hash_4  -1.910312e-01 -2.278477e-01  1.803965e-04  1.410686e-03   \n",
       "desc_tfidf_0   1.505374e-07  6.169195e-08  2.690877e-07  2.309691e-07   \n",
       "desc_tfidf_1   8.898330e-03  1.450000e-03  1.630683e-01  2.508604e-02   \n",
       "desc_tfidf_2   4.794486e-03  6.437057e-04 -1.028731e-01  8.745161e-03   \n",
       "desc_tfidf_3   1.672841e-02  2.840932e-03 -2.683959e-03  4.707185e-02   \n",
       "desc_tfidf_4  -1.375773e-02 -2.895666e-03  3.412921e-03 -5.910124e-02   \n",
       "desc_hash_0    1.203253e-06  1.204897e-06  2.447606e-06  1.413502e-06   \n",
       "desc_hash_1    5.125037e-02  5.505209e-02  2.032194e-01  1.100251e-01   \n",
       "desc_hash_2   -3.100811e-02 -3.830619e-02  2.125667e-01 -2.976088e-02   \n",
       "desc_hash_3    2.771389e-02  2.445223e-02 -1.430747e-02  1.722992e-01   \n",
       "desc_hash_4    4.058460e-03  2.072346e-03 -1.694874e-01  6.020018e-03   \n",
       "\n",
       "                          4  \n",
       "title_tfidf_0 -3.539002e-06  \n",
       "title_tfidf_1  8.301491e-05  \n",
       "title_tfidf_2  8.447903e-05  \n",
       "title_tfidf_3  2.656529e-04  \n",
       "title_tfidf_4  8.570438e-05  \n",
       "title_hash_0   2.567360e-06  \n",
       "title_hash_1  -7.717952e-06  \n",
       "title_hash_2   7.541814e-05  \n",
       "title_hash_3   1.405320e-04  \n",
       "title_hash_4   1.864875e-04  \n",
       "desc_tfidf_0   1.658187e-07  \n",
       "desc_tfidf_1   3.238181e-02  \n",
       "desc_tfidf_2   5.093439e-03  \n",
       "desc_tfidf_3   5.263548e-02  \n",
       "desc_tfidf_4  -6.668183e-02  \n",
       "desc_hash_0    2.684787e-06  \n",
       "desc_hash_1    1.431734e-01  \n",
       "desc_hash_2   -9.512462e-02  \n",
       "desc_hash_3    5.682185e-02  \n",
       "desc_hash_4   -1.619153e-02  "
      ]
     },
     "execution_count": 26,
     "metadata": {},
     "output_type": "execute_result"
    }
   ],
   "source": [
    "df_text_feats.head().T"
   ]
  },
  {
   "cell_type": "code",
   "execution_count": 27,
   "metadata": {
    "collapsed": true
   },
   "outputs": [],
   "source": [
    "def downcast(df):\n",
    "    for idx, col in enumerate(df):\n",
    "        if df.iloc[:,idx].dtypes == 'float64':\n",
    "            df[col] = df[col].astype('float32')\n",
    "        else:\n",
    "            pass    "
   ]
  },
  {
   "cell_type": "code",
   "execution_count": 28,
   "metadata": {
    "collapsed": true
   },
   "outputs": [],
   "source": [
    "downcast(df_text_feats)"
   ]
  },
  {
   "cell_type": "code",
   "execution_count": 29,
   "metadata": {},
   "outputs": [
    {
     "name": "stdout",
     "output_type": "stream",
     "text": [
      "<class 'pandas.core.frame.DataFrame'>\n",
      "RangeIndex: 2011862 entries, 0 to 2011861\n",
      "Data columns (total 20 columns):\n",
      "title_tfidf_0    float32\n",
      "title_tfidf_1    float32\n",
      "title_tfidf_2    float32\n",
      "title_tfidf_3    float32\n",
      "title_tfidf_4    float32\n",
      "title_hash_0     float32\n",
      "title_hash_1     float32\n",
      "title_hash_2     float32\n",
      "title_hash_3     float32\n",
      "title_hash_4     float32\n",
      "desc_tfidf_0     float32\n",
      "desc_tfidf_1     float32\n",
      "desc_tfidf_2     float32\n",
      "desc_tfidf_3     float32\n",
      "desc_tfidf_4     float32\n",
      "desc_hash_0      float32\n",
      "desc_hash_1      float32\n",
      "desc_hash_2      float32\n",
      "desc_hash_3      float32\n",
      "desc_hash_4      float32\n",
      "dtypes: float32(20)\n",
      "memory usage: 153.5 MB\n"
     ]
    }
   ],
   "source": [
    "df_text_feats.info()"
   ]
  },
  {
   "cell_type": "code",
   "execution_count": 30,
   "metadata": {},
   "outputs": [
    {
     "data": {
      "text/plain": [
       "(2011862, 20)"
      ]
     },
     "execution_count": 30,
     "metadata": {},
     "output_type": "execute_result"
    }
   ],
   "source": [
    "df_text_feats.shape"
   ]
  },
  {
   "cell_type": "code",
   "execution_count": 31,
   "metadata": {
    "collapsed": true
   },
   "outputs": [],
   "source": [
    "len_trn = df_train.shape[0]"
   ]
  },
  {
   "cell_type": "code",
   "execution_count": 32,
   "metadata": {
    "collapsed": true
   },
   "outputs": [],
   "source": [
    "store = pd.HDFStore('../input/feats/txt_td_tfidf_hash5.h5')\n",
    "store['df_trn_text_feat'] = df_text_feats.iloc[:len_trn,:]\n",
    "store['df_test_text_feat'] = df_text_feats.iloc[len_trn:,:]\n",
    "store.close()"
   ]
  }
 ],
 "metadata": {
  "anaconda-cloud": {},
  "kernelspec": {
   "display_name": "Python 3",
   "language": "python",
   "name": "python3"
  },
  "language_info": {
   "codemirror_mode": {
    "name": "ipython",
    "version": 3
   },
   "file_extension": ".py",
   "mimetype": "text/x-python",
   "name": "python",
   "nbconvert_exporter": "python",
   "pygments_lexer": "ipython3",
   "version": "3.6.3"
  }
 },
 "nbformat": 4,
 "nbformat_minor": 1
}
