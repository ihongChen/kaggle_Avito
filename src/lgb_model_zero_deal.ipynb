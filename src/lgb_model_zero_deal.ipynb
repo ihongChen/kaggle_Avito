{
 "cells": [
  {
   "cell_type": "code",
   "execution_count": 1,
   "metadata": {},
   "outputs": [],
   "source": [
    "import pandas as pd \n",
    "import numpy as np\n",
    "import matplotlib.pyplot as plt \n",
    "%matplotlib inline "
   ]
  },
  {
   "cell_type": "code",
   "execution_count": 2,
   "metadata": {
    "collapsed": true
   },
   "outputs": [],
   "source": [
    "df_train = pd.read_pickle('../input/feats/df_trn_feat0.pkl')"
   ]
  },
  {
   "cell_type": "code",
   "execution_count": 3,
   "metadata": {},
   "outputs": [
    {
     "data": {
      "text/plain": [
       "Index(['uidx', 'iidx', 'iid', 'region_city_label', 'tit_len', 'desc_len',\n",
       "       'activation_date', 'month', 'day', 'weekday', 'param_1', 'param_2',\n",
       "       'param_3', 'user_type', 'parent_category_name', 'price',\n",
       "       'category_name', 'image_top_1', 'ads_cnt_by_uid', 'ads_cnt_by_iid',\n",
       "       'deal_probability'],\n",
       "      dtype='object')"
      ]
     },
     "execution_count": 3,
     "metadata": {},
     "output_type": "execute_result"
    }
   ],
   "source": [
    "df_train.columns"
   ]
  },
  {
   "cell_type": "code",
   "execution_count": 4,
   "metadata": {
    "collapsed": true
   },
   "outputs": [],
   "source": [
    "mask0 = df_train.deal_probability == 0\n",
    "mask1 = df_train.deal_probability == 1\n",
    "X_trn_deal_0 = df_train[mask0]\n",
    "X_trn_deal_1 = df_train[mask1]"
   ]
  },
  {
   "cell_type": "code",
   "execution_count": 5,
   "metadata": {},
   "outputs": [
    {
     "data": {
      "text/plain": [
       "(974618, 21)"
      ]
     },
     "execution_count": 5,
     "metadata": {},
     "output_type": "execute_result"
    }
   ],
   "source": [
    "X_trn_deal_0.shape"
   ]
  },
  {
   "cell_type": "code",
   "execution_count": 6,
   "metadata": {},
   "outputs": [
    {
     "data": {
      "text/plain": [
       "(10076, 21)"
      ]
     },
     "execution_count": 6,
     "metadata": {},
     "output_type": "execute_result"
    }
   ],
   "source": [
    "X_trn_deal_1.shape"
   ]
  },
  {
   "cell_type": "code",
   "execution_count": 11,
   "metadata": {},
   "outputs": [
    {
     "data": {
      "text/plain": [
       "(36751, 21)"
      ]
     },
     "execution_count": 11,
     "metadata": {},
     "output_type": "execute_result"
    }
   ],
   "source": [
    "X_trn_deal_0[pd.isnull(X_trn_deal_0.price)]"
   ]
  },
  {
   "cell_type": "markdown",
   "metadata": {},
   "source": [
    "deal probability = 0 --> 974,618 / 1.5 milion (over 50%)"
   ]
  },
  {
   "cell_type": "code",
   "execution_count": 17,
   "metadata": {},
   "outputs": [],
   "source": [
    "import lightgbm as lgb"
   ]
  },
  {
   "cell_type": "code",
   "execution_count": 24,
   "metadata": {},
   "outputs": [],
   "source": [
    "df_train['y_zero'] = mask0.astype('uint8')"
   ]
  },
  {
   "cell_type": "code",
   "execution_count": 30,
   "metadata": {
    "collapsed": true
   },
   "outputs": [],
   "source": [
    "selcols = list(df_train.columns)\n",
    "drop_cols = ['deal_probability','activation_date','iid','y_zero']\n",
    "selcols = [col for col in selcols if col not in drop_cols]\n",
    "X_train = df_train[selcols].copy()\n",
    "y_train = mask0.astype('uint8')\n"
   ]
  },
  {
   "cell_type": "code",
   "execution_count": 31,
   "metadata": {
    "collapsed": true
   },
   "outputs": [],
   "source": [
    "predictors = list(X_train.columns)"
   ]
  },
  {
   "cell_type": "code",
   "execution_count": 32,
   "metadata": {},
   "outputs": [
    {
     "data": {
      "text/plain": [
       "['uidx',\n",
       " 'iidx',\n",
       " 'region_city_label',\n",
       " 'tit_len',\n",
       " 'desc_len',\n",
       " 'month',\n",
       " 'day',\n",
       " 'weekday',\n",
       " 'param_1',\n",
       " 'param_2',\n",
       " 'param_3',\n",
       " 'user_type',\n",
       " 'parent_category_name',\n",
       " 'price',\n",
       " 'category_name',\n",
       " 'image_top_1',\n",
       " 'ads_cnt_by_uid',\n",
       " 'ads_cnt_by_iid']"
      ]
     },
     "execution_count": 32,
     "metadata": {},
     "output_type": "execute_result"
    }
   ],
   "source": [
    "predictors"
   ]
  },
  {
   "cell_type": "code",
   "execution_count": 33,
   "metadata": {},
   "outputs": [
    {
     "name": "stderr",
     "output_type": "stream",
     "text": [
      "/home/ihong/anaconda3/lib/python3.6/site-packages/lightgbm/basic.py:1005: UserWarning: Using categorical_feature in Dataset.\n",
      "  warnings.warn('Using categorical_feature in Dataset.')\n"
     ]
    },
    {
     "name": "stdout",
     "output_type": "stream",
     "text": [
      "[100]\tcv_agg's auc: 0.806964 + 0.000552226\n",
      "[200]\tcv_agg's auc: 0.810522 + 0.000576355\n",
      "[300]\tcv_agg's auc: 0.812095 + 0.00058868\n",
      "[400]\tcv_agg's auc: 0.813173 + 0.000602578\n",
      "[500]\tcv_agg's auc: 0.813967 + 0.000567106\n",
      "[600]\tcv_agg's auc: 0.814497 + 0.000529122\n",
      "[700]\tcv_agg's auc: 0.814898 + 0.00054234\n",
      "[800]\tcv_agg's auc: 0.815214 + 0.000522802\n",
      "[900]\tcv_agg's auc: 0.815458 + 0.000469385\n",
      "[1000]\tcv_agg's auc: 0.815703 + 0.000461226\n",
      "[1100]\tcv_agg's auc: 0.815895 + 0.000449416\n",
      "[1200]\tcv_agg's auc: 0.816041 + 0.000431564\n",
      "[1300]\tcv_agg's auc: 0.816204 + 0.000456995\n",
      "[1400]\tcv_agg's auc: 0.816334 + 0.000470158\n",
      "[1500]\tcv_agg's auc: 0.81641 + 0.000463659\n",
      "done\n"
     ]
    }
   ],
   "source": [
    "lgbm_params =  {\n",
    "    'task': 'train',\n",
    "    'boosting_type': 'gbdt',\n",
    "    'objective': 'binary',\n",
    "    'metric': 'auc',    \n",
    "    'max_depth': -1,\n",
    "    'num_leaves': 33,\n",
    "    'feature_fraction': 0.7,\n",
    "    'bagging_fraction': 0.8,\n",
    "    # 'bagging_freq': 5,\n",
    "    'learning_rate': 0.05,\n",
    "    'verbose': 20\n",
    "} \n",
    "predictors = list(X_train.columns)\n",
    "\n",
    "categorical = ['month','day','weekday',\n",
    "               'param_1','param_2','param_3',\n",
    "               'category_name','parent_category_name',\n",
    "               'user_type']\n",
    "\n",
    "\n",
    "\n",
    "\n",
    "dtrain = lgb.Dataset(X_train, label=y_train, feature_name=predictors, categorical_feature=categorical)\n",
    "cv_results = lgb.cv(lgbm_params, dtrain, \n",
    "                    num_boost_round=10000, \n",
    "                    nfold=4,\n",
    "                    stratified=False,\n",
    "                    early_stopping_rounds=10,\n",
    "                    verbose_eval= 100)\n",
    "print('done')"
   ]
  },
  {
   "cell_type": "code",
   "execution_count": null,
   "metadata": {},
   "outputs": [
    {
     "name": "stderr",
     "output_type": "stream",
     "text": [
      "/home/ihong/anaconda3/lib/python3.6/site-packages/lightgbm/basic.py:1005: UserWarning: Using categorical_feature in Dataset.\n",
      "  warnings.warn('Using categorical_feature in Dataset.')\n"
     ]
    },
    {
     "name": "stdout",
     "output_type": "stream",
     "text": [
      "Training until validation scores don't improve for 10 rounds.\n",
      "[100]\ttraining's auc: 0.808353\n",
      "[200]\ttraining's auc: 0.813483\n",
      "[300]\ttraining's auc: 0.816496\n",
      "[400]\ttraining's auc: 0.818714\n",
      "[500]\ttraining's auc: 0.820588\n",
      "[600]\ttraining's auc: 0.822098\n",
      "[700]\ttraining's auc: 0.823526\n",
      "[800]\ttraining's auc: 0.824729\n",
      "[900]\ttraining's auc: 0.825909\n",
      "[1000]\ttraining's auc: 0.826966\n",
      "[1100]\ttraining's auc: 0.827909\n",
      "[1200]\ttraining's auc: 0.828864\n",
      "[1300]\ttraining's auc: 0.829797\n",
      "[1400]\ttraining's auc: 0.830676\n",
      "[1500]\ttraining's auc: 0.831532\n",
      "[1600]\ttraining's auc: 0.832322\n",
      "[1700]\ttraining's auc: 0.833192\n",
      "[1800]\ttraining's auc: 0.833981\n",
      "[1900]\ttraining's auc: 0.834745\n",
      "[2000]\ttraining's auc: 0.835394\n"
     ]
    }
   ],
   "source": [
    "dtrain = lgb.Dataset(X_train, label=y_train, feature_name=predictors, categorical_feature=categorical)\n",
    "lgb_clf = lgb.train(lgbm_params,num_boost_round = 10000,\n",
    "                        train_set = dtrain,\n",
    "                        valid_sets = [dtrain],                        \n",
    "                        early_stopping_rounds=10,\n",
    "                        verbose_eval= 100)"
   ]
  },
  {
   "cell_type": "code",
   "execution_count": null,
   "metadata": {
    "collapsed": true
   },
   "outputs": [],
   "source": []
  }
 ],
 "metadata": {
  "kernelspec": {
   "display_name": "Python 3",
   "language": "python",
   "name": "python3"
  },
  "language_info": {
   "codemirror_mode": {
    "name": "ipython",
    "version": 3
   },
   "file_extension": ".py",
   "mimetype": "text/x-python",
   "name": "python",
   "nbconvert_exporter": "python",
   "pygments_lexer": "ipython3",
   "version": "3.6.3"
  }
 },
 "nbformat": 4,
 "nbformat_minor": 2
}
