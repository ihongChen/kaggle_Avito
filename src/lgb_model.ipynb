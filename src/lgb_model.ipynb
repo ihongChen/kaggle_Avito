{
 "cells": [
  {
   "cell_type": "code",
   "execution_count": 1,
   "metadata": {},
   "outputs": [],
   "source": [
    "import pandas as pd \n",
    "import numpy as np \n",
    "import gc \n",
    "import lightgbm as lgb"
   ]
  },
  {
   "cell_type": "code",
   "execution_count": 2,
   "metadata": {},
   "outputs": [],
   "source": [
    "import matplotlib.pyplot as plt \n",
    "%matplotlib inline"
   ]
  },
  {
   "cell_type": "markdown",
   "metadata": {},
   "source": [
    "load basic features "
   ]
  },
  {
   "cell_type": "code",
   "execution_count": 3,
   "metadata": {},
   "outputs": [
    {
     "name": "stdout",
     "output_type": "stream",
     "text": [
      "Wall time: 120 ms\n"
     ]
    }
   ],
   "source": [
    "%%time \n",
    "df_train = pd.read_pickle('../input/feats/df_trn_feat0.pkl')\n",
    "# df_test = pd.read_pickle('../input/feats/df_test_feat0.pkl')"
   ]
  },
  {
   "cell_type": "code",
   "execution_count": 4,
   "metadata": {},
   "outputs": [
    {
     "data": {
      "text/plain": [
       "Index(['uidx', 'iidx', 'iid', 'region_city_label', 'tit_len', 'desc_len',\n",
       "       'activation_date', 'month', 'day', 'weekday', 'param_1', 'param_2',\n",
       "       'param_3', 'user_type', 'parent_category_name', 'price',\n",
       "       'category_name', 'image_top_1', 'ads_cnt_by_uid', 'ads_cnt_by_iid',\n",
       "       'deal_probability'],\n",
       "      dtype='object')"
      ]
     },
     "execution_count": 4,
     "metadata": {},
     "output_type": "execute_result"
    }
   ],
   "source": [
    "df_train.columns"
   ]
  },
  {
   "cell_type": "markdown",
   "metadata": {},
   "source": [
    "load text features"
   ]
  },
  {
   "cell_type": "code",
   "execution_count": 5,
   "metadata": {},
   "outputs": [
    {
     "name": "stdout",
     "output_type": "stream",
     "text": [
      "['/df_test_text_feat', '/df_trn_text_feat']\n",
      "Wall time: 162 ms\n"
     ]
    }
   ],
   "source": [
    "%%time \n",
    "with pd.HDFStore('../input/feats/txt_td_tfidf_hash5.h5') as store:\n",
    "    print(store.keys())\n",
    "    df_trn_text_feat  = store['df_trn_text_feat']\n",
    "    df_test_text_feat = store['df_test_text_feat']"
   ]
  },
  {
   "cell_type": "markdown",
   "metadata": {},
   "source": [
    "load fm features "
   ]
  },
  {
   "cell_type": "code",
   "execution_count": 12,
   "metadata": {},
   "outputs": [
    {
     "name": "stdout",
     "output_type": "stream",
     "text": [
      "['/fm_uidx_rc_cnt_lat2']\n",
      "Wall time: 42 ms\n"
     ]
    }
   ],
   "source": [
    "# %%time \n",
    "# with pd.HDFStore('../input/feats/fm_uidx_rc_cnt_lat2.h5') as store:\n",
    "#     print(store.keys())\n",
    "#     df_fm_uidx_rc_cnt_lat2 = store['fm_uidx_rc_cnt_lat2']"
   ]
  },
  {
   "cell_type": "code",
   "execution_count": 16,
   "metadata": {},
   "outputs": [
    {
     "data": {
      "text/html": [
       "<div>\n",
       "<style>\n",
       "    .dataframe thead tr:only-child th {\n",
       "        text-align: right;\n",
       "    }\n",
       "\n",
       "    .dataframe thead th {\n",
       "        text-align: left;\n",
       "    }\n",
       "\n",
       "    .dataframe tbody tr th {\n",
       "        vertical-align: top;\n",
       "    }\n",
       "</style>\n",
       "<table border=\"1\" class=\"dataframe\">\n",
       "  <thead>\n",
       "    <tr style=\"text-align: right;\">\n",
       "      <th></th>\n",
       "      <th>0</th>\n",
       "      <th>1</th>\n",
       "      <th>2</th>\n",
       "      <th>3</th>\n",
       "      <th>4</th>\n",
       "    </tr>\n",
       "  </thead>\n",
       "  <tbody>\n",
       "    <tr>\n",
       "      <th>uidx</th>\n",
       "      <td>0.000000</td>\n",
       "      <td>1.000000</td>\n",
       "      <td>2.000000</td>\n",
       "      <td>3.000000</td>\n",
       "      <td>4.000000</td>\n",
       "    </tr>\n",
       "    <tr>\n",
       "      <th>region_city_label</th>\n",
       "      <td>449.000000</td>\n",
       "      <td>279.000000</td>\n",
       "      <td>376.000000</td>\n",
       "      <td>276.000000</td>\n",
       "      <td>518.000000</td>\n",
       "    </tr>\n",
       "    <tr>\n",
       "      <th>cnt</th>\n",
       "      <td>1.000000</td>\n",
       "      <td>1.000000</td>\n",
       "      <td>2.000000</td>\n",
       "      <td>1.000000</td>\n",
       "      <td>1.000000</td>\n",
       "    </tr>\n",
       "    <tr>\n",
       "      <th>uidx_fm_factor_0</th>\n",
       "      <td>0.002701</td>\n",
       "      <td>0.000503</td>\n",
       "      <td>0.017951</td>\n",
       "      <td>-0.015764</td>\n",
       "      <td>-0.009267</td>\n",
       "    </tr>\n",
       "    <tr>\n",
       "      <th>uidx_fm_factor_1</th>\n",
       "      <td>-0.002083</td>\n",
       "      <td>-0.000264</td>\n",
       "      <td>-0.012941</td>\n",
       "      <td>0.012905</td>\n",
       "      <td>-0.006171</td>\n",
       "    </tr>\n",
       "    <tr>\n",
       "      <th>region_city2_label_fm_factor_0</th>\n",
       "      <td>0.674149</td>\n",
       "      <td>-0.603294</td>\n",
       "      <td>1.224959</td>\n",
       "      <td>-0.586777</td>\n",
       "      <td>-0.696928</td>\n",
       "    </tr>\n",
       "    <tr>\n",
       "      <th>region_city2_label_fm_factor_1</th>\n",
       "      <td>-0.553216</td>\n",
       "      <td>0.641692</td>\n",
       "      <td>-0.736749</td>\n",
       "      <td>0.456205</td>\n",
       "      <td>-0.583239</td>\n",
       "    </tr>\n",
       "    <tr>\n",
       "      <th>uidx_fm_bias</th>\n",
       "      <td>-0.003021</td>\n",
       "      <td>-0.006119</td>\n",
       "      <td>-0.007854</td>\n",
       "      <td>-0.012045</td>\n",
       "      <td>-0.006555</td>\n",
       "    </tr>\n",
       "    <tr>\n",
       "      <th>region_city2_label_fm_bias</th>\n",
       "      <td>0.096357</td>\n",
       "      <td>0.117088</td>\n",
       "      <td>0.368274</td>\n",
       "      <td>0.032786</td>\n",
       "      <td>0.131809</td>\n",
       "    </tr>\n",
       "  </tbody>\n",
       "</table>\n",
       "</div>"
      ],
      "text/plain": [
       "                                         0           1           2  \\\n",
       "uidx                              0.000000    1.000000    2.000000   \n",
       "region_city_label               449.000000  279.000000  376.000000   \n",
       "cnt                               1.000000    1.000000    2.000000   \n",
       "uidx_fm_factor_0                  0.002701    0.000503    0.017951   \n",
       "uidx_fm_factor_1                 -0.002083   -0.000264   -0.012941   \n",
       "region_city2_label_fm_factor_0    0.674149   -0.603294    1.224959   \n",
       "region_city2_label_fm_factor_1   -0.553216    0.641692   -0.736749   \n",
       "uidx_fm_bias                     -0.003021   -0.006119   -0.007854   \n",
       "region_city2_label_fm_bias        0.096357    0.117088    0.368274   \n",
       "\n",
       "                                         3           4  \n",
       "uidx                              3.000000    4.000000  \n",
       "region_city_label               276.000000  518.000000  \n",
       "cnt                               1.000000    1.000000  \n",
       "uidx_fm_factor_0                 -0.015764   -0.009267  \n",
       "uidx_fm_factor_1                  0.012905   -0.006171  \n",
       "region_city2_label_fm_factor_0   -0.586777   -0.696928  \n",
       "region_city2_label_fm_factor_1    0.456205   -0.583239  \n",
       "uidx_fm_bias                     -0.012045   -0.006555  \n",
       "region_city2_label_fm_bias        0.032786    0.131809  "
      ]
     },
     "execution_count": 16,
     "metadata": {},
     "output_type": "execute_result"
    }
   ],
   "source": [
    "# df_fm_uidx_rc_cnt_lat2.head().T"
   ]
  },
  {
   "cell_type": "code",
   "execution_count": 18,
   "metadata": {},
   "outputs": [
    {
     "ename": "NameError",
     "evalue": "name 'df_test' is not defined",
     "output_type": "error",
     "traceback": [
      "\u001b[1;31m---------------------------------------------------------------------------\u001b[0m",
      "\u001b[1;31mNameError\u001b[0m                                 Traceback (most recent call last)",
      "\u001b[1;32m<ipython-input-18-8ee3eda4a597>\u001b[0m in \u001b[0;36m<module>\u001b[1;34m()\u001b[0m\n\u001b[0;32m      1\u001b[0m \u001b[0mdf_train\u001b[0m \u001b[1;33m=\u001b[0m \u001b[0mdf_train\u001b[0m\u001b[1;33m.\u001b[0m\u001b[0mmerge\u001b[0m\u001b[1;33m(\u001b[0m\u001b[0mdf_fm_uidx_rc_cnt_lat2\u001b[0m\u001b[1;33m,\u001b[0m\u001b[0mhow\u001b[0m\u001b[1;33m=\u001b[0m\u001b[1;34m'left'\u001b[0m\u001b[1;33m,\u001b[0m\u001b[0mon\u001b[0m\u001b[1;33m=\u001b[0m\u001b[1;33m[\u001b[0m\u001b[1;34m'uidx'\u001b[0m\u001b[1;33m,\u001b[0m\u001b[1;34m'region_city_label'\u001b[0m\u001b[1;33m]\u001b[0m\u001b[1;33m)\u001b[0m\u001b[1;33m\u001b[0m\u001b[0m\n\u001b[1;32m----> 2\u001b[1;33m \u001b[0mdf_test\u001b[0m \u001b[1;33m=\u001b[0m \u001b[0mdf_test\u001b[0m\u001b[1;33m.\u001b[0m\u001b[0mmerge\u001b[0m\u001b[1;33m(\u001b[0m\u001b[0mdf_fm_uidx_rc_cnt_lat2\u001b[0m\u001b[1;33m,\u001b[0m\u001b[0mhow\u001b[0m\u001b[1;33m=\u001b[0m\u001b[1;34m'left'\u001b[0m\u001b[1;33m,\u001b[0m\u001b[0mon\u001b[0m\u001b[1;33m=\u001b[0m\u001b[1;33m[\u001b[0m\u001b[1;34m'uidx'\u001b[0m\u001b[1;33m,\u001b[0m\u001b[1;34m'region_city_label'\u001b[0m\u001b[1;33m]\u001b[0m\u001b[1;33m)\u001b[0m\u001b[1;33m\u001b[0m\u001b[0m\n\u001b[0m",
      "\u001b[1;31mNameError\u001b[0m: name 'df_test' is not defined"
     ]
    }
   ],
   "source": [
    "# df_train = df_train.merge(df_fm_uidx_rc_cnt_lat2,how='left',on=['uidx','region_city_label'])\n",
    "# df_test = df_test.merge(df_fm_uidx_rc_cnt_lat2,how='left',on=['uidx','region_city_label'])"
   ]
  },
  {
   "cell_type": "code",
   "execution_count": 24,
   "metadata": {},
   "outputs": [],
   "source": [
    "# df_train['cnt_by_uidx_rc'] = df_train['cnt'].astype('float16')\n",
    "# df_train.drop('cnt',axis=1,inplace=True)"
   ]
  },
  {
   "cell_type": "markdown",
   "metadata": {},
   "source": [
    "combine features"
   ]
  },
  {
   "cell_type": "code",
   "execution_count": 6,
   "metadata": {},
   "outputs": [
    {
     "name": "stdout",
     "output_type": "stream",
     "text": [
      "Wall time: 318 ms\n"
     ]
    }
   ],
   "source": [
    "%%time\n",
    "df_train = pd.concat([df_train, df_trn_text_feat ],axis=1)"
   ]
  },
  {
   "cell_type": "code",
   "execution_count": 7,
   "metadata": {},
   "outputs": [],
   "source": [
    "selcols = list(df_train.columns)\n",
    "drop_cols = ['deal_probability','activation_date','iid']\n",
    "selcols = [col for col in selcols if col not in drop_cols]\n",
    "X_train = df_train[selcols].copy()\n",
    "y_train = df_train['deal_probability']"
   ]
  },
  {
   "cell_type": "code",
   "execution_count": 8,
   "metadata": {},
   "outputs": [
    {
     "name": "stdout",
     "output_type": "stream",
     "text": [
      "shape of X_train: (1503424, 38)\n"
     ]
    }
   ],
   "source": [
    "print('shape of X_train:',X_train.shape)"
   ]
  },
  {
   "cell_type": "markdown",
   "metadata": {},
   "source": [
    "##### KFold"
   ]
  },
  {
   "cell_type": "markdown",
   "metadata": {},
   "source": [
    "use built-in `lgb.cv`"
   ]
  },
  {
   "cell_type": "code",
   "execution_count": 9,
   "metadata": {},
   "outputs": [
    {
     "data": {
      "text/plain": [
       "Index(['uidx', 'iidx', 'iid', 'region_city_label', 'tit_len', 'desc_len',\n",
       "       'activation_date', 'month', 'day', 'weekday', 'param_1', 'param_2',\n",
       "       'param_3', 'user_type', 'parent_category_name', 'price',\n",
       "       'category_name', 'image_top_1', 'ads_cnt_by_uid', 'ads_cnt_by_iid',\n",
       "       'deal_probability', 'title_tfidf_0', 'title_tfidf_1', 'title_tfidf_2',\n",
       "       'title_tfidf_3', 'title_tfidf_4', 'title_hash_0', 'title_hash_1',\n",
       "       'title_hash_2', 'title_hash_3', 'title_hash_4', 'desc_tfidf_0',\n",
       "       'desc_tfidf_1', 'desc_tfidf_2', 'desc_tfidf_3', 'desc_tfidf_4',\n",
       "       'desc_hash_0', 'desc_hash_1', 'desc_hash_2', 'desc_hash_3',\n",
       "       'desc_hash_4'],\n",
       "      dtype='object')"
      ]
     },
     "execution_count": 9,
     "metadata": {},
     "output_type": "execute_result"
    }
   ],
   "source": [
    "df_train.columns"
   ]
  },
  {
   "cell_type": "code",
   "execution_count": 10,
   "metadata": {},
   "outputs": [
    {
     "name": "stderr",
     "output_type": "stream",
     "text": [
      "C:\\Program Files\\Anaconda3\\envs\\py36\\lib\\site-packages\\lightgbm\\basic.py:1036: UserWarning: Using categorical_feature in Dataset.\n",
      "  warnings.warn('Using categorical_feature in Dataset.')\n"
     ]
    },
    {
     "name": "stdout",
     "output_type": "stream",
     "text": [
      "[100]\tcv_agg's rmse: 0.228366 + 0.00023069\n",
      "[200]\tcv_agg's rmse: 0.22672 + 0.000249414\n",
      "[300]\tcv_agg's rmse: 0.226041 + 0.000229927\n",
      "[400]\tcv_agg's rmse: 0.225654 + 0.00023063\n",
      "[500]\tcv_agg's rmse: 0.225341 + 0.000252254\n",
      "[600]\tcv_agg's rmse: 0.225125 + 0.000250674\n",
      "[700]\tcv_agg's rmse: 0.224968 + 0.000264488\n",
      "[800]\tcv_agg's rmse: 0.224826 + 0.00027525\n",
      "[900]\tcv_agg's rmse: 0.224706 + 0.00028873\n",
      "[1000]\tcv_agg's rmse: 0.224594 + 0.000296666\n",
      "[1100]\tcv_agg's rmse: 0.224504 + 0.000300117\n",
      "[1200]\tcv_agg's rmse: 0.224425 + 0.000295224\n",
      "[1300]\tcv_agg's rmse: 0.224349 + 0.000297056\n",
      "[1400]\tcv_agg's rmse: 0.224274 + 0.000292713\n",
      "[1500]\tcv_agg's rmse: 0.224216 + 0.000286755\n",
      "[1600]\tcv_agg's rmse: 0.22417 + 0.000289644\n",
      "[1700]\tcv_agg's rmse: 0.224123 + 0.000285902\n",
      "[1800]\tcv_agg's rmse: 0.224085 + 0.000291632\n",
      "[1900]\tcv_agg's rmse: 0.224046 + 0.000287158\n",
      "[2000]\tcv_agg's rmse: 0.224014 + 0.000286567\n",
      "[2100]\tcv_agg's rmse: 0.223987 + 0.00029178\n",
      "[2200]\tcv_agg's rmse: 0.223961 + 0.000290603\n",
      "[2300]\tcv_agg's rmse: 0.223934 + 0.000287749\n",
      "[2400]\tcv_agg's rmse: 0.223908 + 0.000289244\n",
      "done\n"
     ]
    }
   ],
   "source": [
    "lgbm_params =  {\n",
    "    'task': 'train',\n",
    "    'boosting_type': 'gbdt',\n",
    "    'objective': 'regression',\n",
    "    'metric': 'rmse',    \n",
    "    'max_depth': -1,\n",
    "    'num_leaves': 33,\n",
    "    'feature_fraction': 0.7,\n",
    "    'bagging_fraction': 0.8,\n",
    "    # 'bagging_freq': 5,\n",
    "    'learning_rate': 0.05,\n",
    "    'verbose': 20\n",
    "}  \n",
    "\n",
    "predictors = list(X_train.columns)\n",
    "\n",
    "\n",
    "categorical = ['month','day','weekday',\n",
    "               'param_1','param_2','param_3',\n",
    "               'category_name','parent_category_name',\n",
    "               'user_type']\n",
    "\n",
    "dtrain = lgb.Dataset(X_train, label=y_train, feature_name=predictors, categorical_feature=categorical)\n",
    "cv_results = lgb.cv(lgbm_params, dtrain, \n",
    "                    num_boost_round=10000, \n",
    "                    nfold=4,\n",
    "                    stratified=False,\n",
    "                    early_stopping_rounds=10,\n",
    "                    verbose_eval= 100)\n",
    "print('done')"
   ]
  },
  {
   "cell_type": "markdown",
   "metadata": {},
   "source": [
    "____"
   ]
  },
  {
   "cell_type": "code",
   "execution_count": 46,
   "metadata": {},
   "outputs": [],
   "source": [
    "from sklearn.model_selection import KFold\n",
    "from sklearn.metrics import mean_squared_error"
   ]
  },
  {
   "cell_type": "code",
   "execution_count": 71,
   "metadata": {},
   "outputs": [
    {
     "name": "stderr",
     "output_type": "stream",
     "text": [
      "C:\\Program Files\\Anaconda3\\envs\\py36\\lib\\site-packages\\lightgbm\\basic.py:1036: UserWarning: Using categorical_feature in Dataset.\n",
      "  warnings.warn('Using categorical_feature in Dataset.')\n",
      "C:\\Program Files\\Anaconda3\\envs\\py36\\lib\\site-packages\\lightgbm\\basic.py:681: UserWarning: categorical_feature in param dict is overrided.\n",
      "  warnings.warn('categorical_feature in param dict is overrided.')\n"
     ]
    },
    {
     "name": "stdout",
     "output_type": "stream",
     "text": [
      "Training until validation scores don't improve for 10 rounds.\n",
      "[100]\ttraining's rmse: 0.2281\tvalid_1's rmse: 0.22846\n",
      "[200]\ttraining's rmse: 0.2257\tvalid_1's rmse: 0.226915\n",
      "[300]\ttraining's rmse: 0.224365\tvalid_1's rmse: 0.226312\n",
      "[400]\ttraining's rmse: 0.22338\tvalid_1's rmse: 0.22598\n",
      "[500]\ttraining's rmse: 0.222548\tvalid_1's rmse: 0.22578\n",
      "[600]\ttraining's rmse: 0.221799\tvalid_1's rmse: 0.225605\n",
      "[700]\ttraining's rmse: 0.221099\tvalid_1's rmse: 0.225451\n",
      "[800]\ttraining's rmse: 0.220431\tvalid_1's rmse: 0.225333\n",
      "[900]\ttraining's rmse: 0.219799\tvalid_1's rmse: 0.22524\n",
      "[1000]\ttraining's rmse: 0.219156\tvalid_1's rmse: 0.225156\n",
      "[1100]\ttraining's rmse: 0.218557\tvalid_1's rmse: 0.2251\n",
      "Early stopping, best iteration is:\n",
      "[1157]\ttraining's rmse: 0.218207\tvalid_1's rmse: 0.225046\n",
      "fold:0,\trmse:\t0.2250\n",
      "Training until validation scores don't improve for 10 rounds.\n",
      "[100]\ttraining's rmse: 0.228017\tvalid_1's rmse: 0.228542\n",
      "[200]\ttraining's rmse: 0.225602\tvalid_1's rmse: 0.227084\n",
      "[300]\ttraining's rmse: 0.224283\tvalid_1's rmse: 0.226497\n",
      "[400]\ttraining's rmse: 0.223298\tvalid_1's rmse: 0.226139\n",
      "[500]\ttraining's rmse: 0.222494\tvalid_1's rmse: 0.225927\n",
      "[600]\ttraining's rmse: 0.221785\tvalid_1's rmse: 0.225796\n",
      "[700]\ttraining's rmse: 0.221067\tvalid_1's rmse: 0.225653\n",
      "[800]\ttraining's rmse: 0.220417\tvalid_1's rmse: 0.225551\n",
      "[900]\ttraining's rmse: 0.219792\tvalid_1's rmse: 0.225444\n",
      "[1000]\ttraining's rmse: 0.219202\tvalid_1's rmse: 0.225376\n",
      "Early stopping, best iteration is:\n",
      "[1018]\ttraining's rmse: 0.219096\tvalid_1's rmse: 0.225358\n",
      "fold:1,\trmse:\t0.2254\n",
      "Training until validation scores don't improve for 10 rounds.\n",
      "[100]\ttraining's rmse: 0.22778\tvalid_1's rmse: 0.229205\n",
      "[200]\ttraining's rmse: 0.22548\tvalid_1's rmse: 0.227651\n",
      "[300]\ttraining's rmse: 0.224183\tvalid_1's rmse: 0.227021\n",
      "[400]\ttraining's rmse: 0.223208\tvalid_1's rmse: 0.22663\n",
      "[500]\ttraining's rmse: 0.222384\tvalid_1's rmse: 0.226362\n",
      "[600]\ttraining's rmse: 0.221592\tvalid_1's rmse: 0.226134\n",
      "[700]\ttraining's rmse: 0.220908\tvalid_1's rmse: 0.226003\n",
      "[800]\ttraining's rmse: 0.220233\tvalid_1's rmse: 0.225854\n",
      "Early stopping, best iteration is:\n",
      "[838]\ttraining's rmse: 0.219974\tvalid_1's rmse: 0.225803\n",
      "fold:2,\trmse:\t0.2258\n"
     ]
    }
   ],
   "source": [
    "NFOLDS = 3\n",
    "kf = KFold(n_splits=NFOLDS,random_state=0)\n",
    "rmse_results = []\n",
    "# def oof:\n",
    "for nfold,(trn_idx, val_idx) in enumerate(kf.split(X_train)):\n",
    "    x_trn, y_trn = X_train.iloc[trn_idx], y_train.iloc[trn_idx]\n",
    "    x_val, y_val = X_train.iloc[val_idx], y_train.iloc[val_idx]\n",
    "    \n",
    "    dtrain = lgb.Dataset(x_trn,y_trn, feature_name=predictors, categorical_feature=categorical)\n",
    "    dval   = lgb.Dataset(x_val,y_val, feature_name=predictors, categorical_feature=categorical)\n",
    "    \n",
    "    lgb_clf = lgb.train(lgbm_params,num_boost_round = 10000,\n",
    "                        train_set = dtrain,\n",
    "                        valid_sets = [dtrain, dval] ,                        \n",
    "                        early_stopping_rounds=10,\n",
    "                        verbose_eval= 100)                    \n",
    "    y_pred = lgb_clf.predict(x_val)\n",
    "    rmse = (mean_squared_error(y_pred,y_val))**0.5\n",
    "    print('fold:{},\\trmse:\\t{:.4f}'.format(nfold,rmse))\n",
    "    rmse_results.append(rmse)\n",
    "    "
   ]
  },
  {
   "cell_type": "code",
   "execution_count": 82,
   "metadata": {},
   "outputs": [
    {
     "data": {
      "text/plain": [
       "<matplotlib.axes._subplots.AxesSubplot at 0x3f9f7cb828>"
      ]
     },
     "execution_count": 82,
     "metadata": {},
     "output_type": "execute_result"
    },
    {
     "data": {
      "image/png": "[encoded data removed]",
      "text/plain": [
       "<matplotlib.figure.Figure at 0x3f9ecc0b00>"
      ]
     },
     "metadata": {},
     "output_type": "display_data"
    }
   ],
   "source": [
    "# feat_names = lgb_clf.feature_name()\n",
    "f, ax = plt.subplots(figsize=[7,10])\n",
    "lgb.plot_importance(lgb_clf,max_num_features=50, ax=ax)\n",
    "# pd.DataFrame({'feat_idx':range(len(feat_names))})"
   ]
  },
  {
   "cell_type": "markdown",
   "metadata": {},
   "source": [
    "____"
   ]
  },
  {
   "cell_type": "code",
   "execution_count": null,
   "metadata": {},
   "outputs": [],
   "source": []
  }
 ],
 "metadata": {
  "kernelspec": {
   "display_name": "Python [conda env:py36]",
   "language": "python",
   "name": "conda-env-py36-py"
  },
  "language_info": {
   "codemirror_mode": {
    "name": "ipython",
    "version": 3
   },
   "file_extension": ".py",
   "mimetype": "text/x-python",
   "name": "python",
   "nbconvert_exporter": "python",
   "pygments_lexer": "ipython3",
   "version": "3.6.3"
  }
 },
 "nbformat": 4,
 "nbformat_minor": 1
}
