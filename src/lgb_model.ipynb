{
 "cells": [
  {
   "cell_type": "code",
   "execution_count": 1,
   "metadata": {},
   "outputs": [],
   "source": [
    "import pandas as pd \n",
    "import numpy as np \n",
    "import gc \n",
    "import lightgbm as lgb"
   ]
  },
  {
   "cell_type": "code",
   "execution_count": 2,
   "metadata": {},
   "outputs": [],
   "source": [
    "import matplotlib.pyplot as plt \n",
    "%matplotlib inline"
   ]
  },
  {
   "cell_type": "markdown",
   "metadata": {},
   "source": [
    "load basic features "
   ]
  },
  {
   "cell_type": "code",
   "execution_count": 3,
   "metadata": {},
   "outputs": [
    {
     "name": "stdout",
     "output_type": "stream",
     "text": [
      "Wall time: 136 ms\n"
     ]
    }
   ],
   "source": [
    "%%time \n",
    "df_train = pd.read_pickle('../input/feats/df_trn_feat0.pkl')\n",
    "# df_test = pd.read_pickle('../input/feats/df_test_feat0.pkl')"
   ]
  },
  {
   "cell_type": "markdown",
   "metadata": {},
   "source": [
    "load text features"
   ]
  },
  {
   "cell_type": "code",
   "execution_count": 4,
   "metadata": {},
   "outputs": [
    {
     "name": "stdout",
     "output_type": "stream",
     "text": [
      "['/df_test_text_feat', '/df_trn_text_feat']\n",
      "Wall time: 162 ms\n"
     ]
    }
   ],
   "source": [
    "%%time \n",
    "with pd.HDFStore('../input/feats/txt_td_tfidf_hash5.h5') as store:\n",
    "    print(store.keys())\n",
    "    df_trn_text_feat  = store['df_trn_text_feat']\n",
    "    df_test_text_feat = store['df_test_text_feat']"
   ]
  },
  {
   "cell_type": "markdown",
   "metadata": {},
   "source": [
    "load fm features "
   ]
  },
  {
   "cell_type": "code",
   "execution_count": 12,
   "metadata": {},
   "outputs": [
    {
     "name": "stdout",
     "output_type": "stream",
     "text": [
      "['/fm_uidx_rc_cnt_lat2']\n",
      "Wall time: 42 ms\n"
     ]
    }
   ],
   "source": [
    "# %%time \n",
    "# with pd.HDFStore('../input/feats/fm_uidx_rc_cnt_lat2.h5') as store:\n",
    "#     print(store.keys())\n",
    "#     df_fm_uidx_rc_cnt_lat2 = store['fm_uidx_rc_cnt_lat2']"
   ]
  },
  {
   "cell_type": "code",
   "execution_count": 12,
   "metadata": {},
   "outputs": [],
   "source": [
    "# df_fm_uidx_rc_cnt_lat2.head().T"
   ]
  },
  {
   "cell_type": "code",
   "execution_count": 5,
   "metadata": {},
   "outputs": [],
   "source": [
    "# df_train = df_train.merge(df_fm_uidx_rc_cnt_lat2,how='left',on=['uidx','region_city_label'])\n",
    "# df_test = df_test.merge(df_fm_uidx_rc_cnt_lat2,how='left',on=['uidx','region_city_label'])"
   ]
  },
  {
   "cell_type": "code",
   "execution_count": 24,
   "metadata": {},
   "outputs": [],
   "source": [
    "# df_train['cnt_by_uidx_rc'] = df_train['cnt'].astype('float16')\n",
    "# df_train.drop('cnt',axis=1,inplace=True)"
   ]
  },
  {
   "cell_type": "markdown",
   "metadata": {},
   "source": [
    "load interaction tsvd features"
   ]
  },
  {
   "cell_type": "code",
   "execution_count": 5,
   "metadata": {},
   "outputs": [
    {
     "name": "stdout",
     "output_type": "stream",
     "text": [
      "['/df_test_inter_svd', '/df_trn_inter_svd']\n",
      "Wall time: 77.1 ms\n"
     ]
    }
   ],
   "source": [
    "%%time \n",
    "with pd.HDFStore('../input/feats/feat2_trn_inter_svd.h5') as store:\n",
    "    print(store.keys())\n",
    "    df_trn_inter_svd = store['df_trn_inter_svd']\n",
    "    df_test_inter_svd = store['df_test_inter_svd']"
   ]
  },
  {
   "cell_type": "markdown",
   "metadata": {},
   "source": [
    "combine features"
   ]
  },
  {
   "cell_type": "code",
   "execution_count": 6,
   "metadata": {},
   "outputs": [
    {
     "name": "stdout",
     "output_type": "stream",
     "text": [
      "Wall time: 442 ms\n"
     ]
    }
   ],
   "source": [
    "%%time\n",
    "# df_train = pd.concat([df_train, df_trn_text_feat ],axis=1)\n",
    "df_train = pd.concat([df_train,df_trn_text_feat,df_trn_inter_svd], axis=1)"
   ]
  },
  {
   "cell_type": "code",
   "execution_count": 7,
   "metadata": {},
   "outputs": [],
   "source": [
    "selcols = list(df_train.columns)\n",
    "drop_cols = ['deal_probability','activation_date','iid']\n",
    "selcols = [col for col in selcols if col not in drop_cols]\n",
    "X_train = df_train[selcols].copy()\n",
    "y_train = df_train['deal_probability']"
   ]
  },
  {
   "cell_type": "code",
   "execution_count": 8,
   "metadata": {},
   "outputs": [
    {
     "name": "stdout",
     "output_type": "stream",
     "text": [
      "shape of X_train: (1503424, 49)\n"
     ]
    }
   ],
   "source": [
    "print('shape of X_train:',X_train.shape)"
   ]
  },
  {
   "cell_type": "markdown",
   "metadata": {},
   "source": [
    "##### KFold"
   ]
  },
  {
   "cell_type": "markdown",
   "metadata": {},
   "source": [
    "use built-in `lgb.cv`"
   ]
  },
  {
   "cell_type": "code",
   "execution_count": 11,
   "metadata": {},
   "outputs": [
    {
     "name": "stderr",
     "output_type": "stream",
     "text": [
      "C:\\Program Files\\Anaconda3\\envs\\py36\\lib\\site-packages\\lightgbm\\basic.py:1036: UserWarning: Using categorical_feature in Dataset.\n",
      "  warnings.warn('Using categorical_feature in Dataset.')\n"
     ]
    },
    {
     "name": "stdout",
     "output_type": "stream",
     "text": [
      "[100]\tcv_agg's rmse: 0.228278 + 0.000259203\n",
      "[200]\tcv_agg's rmse: 0.226613 + 0.000260928\n",
      "[300]\tcv_agg's rmse: 0.225932 + 0.000267815\n",
      "[400]\tcv_agg's rmse: 0.225564 + 0.000249602\n",
      "[500]\tcv_agg's rmse: 0.225257 + 0.000253508\n",
      "[600]\tcv_agg's rmse: 0.225024 + 0.00024957\n",
      "[700]\tcv_agg's rmse: 0.224833 + 0.000251103\n",
      "[800]\tcv_agg's rmse: 0.224674 + 0.000257615\n",
      "[900]\tcv_agg's rmse: 0.224565 + 0.000267663\n",
      "[1000]\tcv_agg's rmse: 0.224445 + 0.000258471\n",
      "[1100]\tcv_agg's rmse: 0.224366 + 0.000261898\n",
      "[1200]\tcv_agg's rmse: 0.224289 + 0.000274636\n",
      "[1300]\tcv_agg's rmse: 0.224218 + 0.000274773\n",
      "[1400]\tcv_agg's rmse: 0.224142 + 0.00027501\n",
      "[1500]\tcv_agg's rmse: 0.224087 + 0.000285468\n",
      "[1600]\tcv_agg's rmse: 0.224025 + 0.000285006\n",
      "[1700]\tcv_agg's rmse: 0.223984 + 0.00028696\n",
      "[1800]\tcv_agg's rmse: 0.223936 + 0.000290554\n",
      "[1900]\tcv_agg's rmse: 0.223898 + 0.000292542\n",
      "[2000]\tcv_agg's rmse: 0.223852 + 0.000292917\n",
      "done\n"
     ]
    }
   ],
   "source": [
    "lgbm_params =  {\n",
    "    'task': 'train',\n",
    "    'boosting_type': 'gbdt',\n",
    "    'objective': 'regression',\n",
    "    'metric': 'rmse',    \n",
    "    'max_depth': -1,\n",
    "    'num_leaves': 33,\n",
    "    'feature_fraction': 0.7,\n",
    "    'bagging_fraction': 0.8,\n",
    "    # 'bagging_freq': 5,\n",
    "    'learning_rate': 0.05,\n",
    "    'verbose': 20\n",
    "}  \n",
    "\n",
    "predictors = list(X_train.columns)\n",
    "\n",
    "\n",
    "categorical = ['month','day','weekday',\n",
    "               'param_1','param_2','param_3',\n",
    "               'category_name','parent_category_name',\n",
    "               'user_type']\n",
    "\n",
    "dtrain = lgb.Dataset(X_train, label=y_train, feature_name=predictors, categorical_feature=categorical)\n",
    "cv_results = lgb.cv(lgbm_params, dtrain, \n",
    "                    num_boost_round=10000, \n",
    "                    nfold=4,\n",
    "                    stratified=False,\n",
    "                    early_stopping_rounds=10,\n",
    "                    verbose_eval= 100)\n",
    "print('done')"
   ]
  },
  {
   "cell_type": "markdown",
   "metadata": {},
   "source": [
    "____"
   ]
  },
  {
   "cell_type": "code",
   "execution_count": 13,
   "metadata": {},
   "outputs": [],
   "source": [
    "from sklearn.model_selection import KFold\n",
    "from sklearn.metrics import mean_squared_error"
   ]
  },
  {
   "cell_type": "code",
   "execution_count": 14,
   "metadata": {},
   "outputs": [
    {
     "name": "stderr",
     "output_type": "stream",
     "text": [
      "C:\\Program Files\\Anaconda3\\envs\\py36\\lib\\site-packages\\lightgbm\\basic.py:1036: UserWarning: Using categorical_feature in Dataset.\n",
      "  warnings.warn('Using categorical_feature in Dataset.')\n",
      "C:\\Program Files\\Anaconda3\\envs\\py36\\lib\\site-packages\\lightgbm\\basic.py:681: UserWarning: categorical_feature in param dict is overrided.\n",
      "  warnings.warn('categorical_feature in param dict is overrided.')\n"
     ]
    },
    {
     "name": "stdout",
     "output_type": "stream",
     "text": [
      "Training until validation scores don't improve for 10 rounds.\n",
      "[100]\ttraining's rmse: 0.227651\tvalid_1's rmse: 0.228072\n",
      "[200]\ttraining's rmse: 0.225162\tvalid_1's rmse: 0.226379\n",
      "[300]\ttraining's rmse: 0.223785\tvalid_1's rmse: 0.225717\n",
      "[400]\ttraining's rmse: 0.222781\tvalid_1's rmse: 0.225376\n",
      "[500]\ttraining's rmse: 0.221881\tvalid_1's rmse: 0.225123\n",
      "[600]\ttraining's rmse: 0.221078\tvalid_1's rmse: 0.224917\n",
      "[700]\ttraining's rmse: 0.220364\tvalid_1's rmse: 0.22478\n",
      "[800]\ttraining's rmse: 0.219666\tvalid_1's rmse: 0.224651\n",
      "[900]\ttraining's rmse: 0.218989\tvalid_1's rmse: 0.224524\n",
      "Early stopping, best iteration is:\n",
      "[979]\ttraining's rmse: 0.218474\tvalid_1's rmse: 0.224436\n",
      "fold:0,\trmse:\t0.2244\n",
      "Training until validation scores don't improve for 10 rounds.\n",
      "[100]\ttraining's rmse: 0.227554\tvalid_1's rmse: 0.228178\n",
      "[200]\ttraining's rmse: 0.22504\tvalid_1's rmse: 0.226572\n",
      "[300]\ttraining's rmse: 0.223677\tvalid_1's rmse: 0.225962\n",
      "[400]\ttraining's rmse: 0.222658\tvalid_1's rmse: 0.225601\n",
      "[500]\ttraining's rmse: 0.221792\tvalid_1's rmse: 0.225356\n",
      "[600]\ttraining's rmse: 0.220985\tvalid_1's rmse: 0.225139\n",
      "[700]\ttraining's rmse: 0.220229\tvalid_1's rmse: 0.224942\n",
      "[800]\ttraining's rmse: 0.219564\tvalid_1's rmse: 0.224811\n",
      "[900]\ttraining's rmse: 0.218889\tvalid_1's rmse: 0.224695\n",
      "[1000]\ttraining's rmse: 0.218246\tvalid_1's rmse: 0.224574\n",
      "[1100]\ttraining's rmse: 0.217646\tvalid_1's rmse: 0.224493\n",
      "[1200]\ttraining's rmse: 0.217063\tvalid_1's rmse: 0.224433\n",
      "[1300]\ttraining's rmse: 0.216472\tvalid_1's rmse: 0.224365\n",
      "[1400]\ttraining's rmse: 0.215909\tvalid_1's rmse: 0.224308\n",
      "Early stopping, best iteration is:\n",
      "[1411]\ttraining's rmse: 0.215853\tvalid_1's rmse: 0.224303\n",
      "fold:1,\trmse:\t0.2243\n",
      "Training until validation scores don't improve for 10 rounds.\n",
      "[100]\ttraining's rmse: 0.227338\tvalid_1's rmse: 0.228742\n",
      "[200]\ttraining's rmse: 0.224881\tvalid_1's rmse: 0.227041\n",
      "[300]\ttraining's rmse: 0.223539\tvalid_1's rmse: 0.226369\n",
      "[400]\ttraining's rmse: 0.222525\tvalid_1's rmse: 0.225996\n",
      "[500]\ttraining's rmse: 0.221639\tvalid_1's rmse: 0.225728\n",
      "[600]\ttraining's rmse: 0.220857\tvalid_1's rmse: 0.225518\n",
      "[700]\ttraining's rmse: 0.220098\tvalid_1's rmse: 0.225345\n",
      "[800]\ttraining's rmse: 0.219362\tvalid_1's rmse: 0.225172\n",
      "[900]\ttraining's rmse: 0.218686\tvalid_1's rmse: 0.225029\n",
      "[1000]\ttraining's rmse: 0.218033\tvalid_1's rmse: 0.224905\n",
      "[1100]\ttraining's rmse: 0.217437\tvalid_1's rmse: 0.224841\n",
      "[1200]\ttraining's rmse: 0.216857\tvalid_1's rmse: 0.224766\n",
      "Early stopping, best iteration is:\n",
      "[1278]\ttraining's rmse: 0.216407\tvalid_1's rmse: 0.224705\n",
      "fold:2,\trmse:\t0.2247\n"
     ]
    }
   ],
   "source": [
    "NFOLDS = 3\n",
    "kf = KFold(n_splits=NFOLDS,random_state=0)\n",
    "rmse_results = []\n",
    "# def oof:\n",
    "for nfold,(trn_idx, val_idx) in enumerate(kf.split(X_train)):\n",
    "    x_trn, y_trn = X_train.iloc[trn_idx], y_train.iloc[trn_idx]\n",
    "    x_val, y_val = X_train.iloc[val_idx], y_train.iloc[val_idx]\n",
    "    \n",
    "    dtrain = lgb.Dataset(x_trn,y_trn, feature_name=predictors, categorical_feature=categorical)\n",
    "    dval   = lgb.Dataset(x_val,y_val, feature_name=predictors, categorical_feature=categorical)\n",
    "    \n",
    "    lgb_clf = lgb.train(lgbm_params,num_boost_round = 10000,\n",
    "                        train_set = dtrain,\n",
    "                        valid_sets = [dtrain, dval] ,                        \n",
    "                        early_stopping_rounds=10,\n",
    "                        verbose_eval= 100)                    \n",
    "    y_pred = lgb_clf.predict(x_val)\n",
    "    rmse = (mean_squared_error(y_pred,y_val))**0.5\n",
    "    print('fold:{},\\trmse:\\t{:.4f}'.format(nfold,rmse))\n",
    "    rmse_results.append(rmse)\n",
    "    "
   ]
  },
  {
   "cell_type": "code",
   "execution_count": 15,
   "metadata": {},
   "outputs": [
    {
     "data": {
      "text/plain": [
       "<matplotlib.axes._subplots.AxesSubplot at 0xa66c668908>"
      ]
     },
     "execution_count": 15,
     "metadata": {},
     "output_type": "execute_result"
    },
    {
     "data": {
      "image/png": "[encoded data removed]",
      "text/plain": [
       "<matplotlib.figure.Figure at 0xa655a6b0f0>"
      ]
     },
     "metadata": {},
     "output_type": "display_data"
    }
   ],
   "source": [
    "# feat_names = lgb_clf.feature_name()\n",
    "f, ax = plt.subplots(figsize=[7,10])\n",
    "lgb.plot_importance(lgb_clf,max_num_features=50, ax=ax)\n",
    "# pd.DataFrame({'feat_idx':range(len(feat_names))})"
   ]
  },
  {
   "cell_type": "markdown",
   "metadata": {},
   "source": [
    "____"
   ]
  },
  {
   "cell_type": "code",
   "execution_count": null,
   "metadata": {},
   "outputs": [],
   "source": []
  }
 ],
 "metadata": {
  "anaconda-cloud": {},
  "kernelspec": {
   "display_name": "Python [conda env:py36]",
   "language": "python",
   "name": "conda-env-py36-py"
  },
  "language_info": {
   "codemirror_mode": {
    "name": "ipython",
    "version": 3
   },
   "file_extension": ".py",
   "mimetype": "text/x-python",
   "name": "python",
   "nbconvert_exporter": "python",
   "pygments_lexer": "ipython3",
   "version": "3.6.3"
  }
 },
 "nbformat": 4,
 "nbformat_minor": 1
}
