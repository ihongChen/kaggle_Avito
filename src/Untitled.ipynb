{
 "cells": [
  {
   "cell_type": "code",
   "execution_count": 1,
   "metadata": {},
   "outputs": [],
   "source": [
    "import pandas as pd \n",
    "import numpy as np \n",
    "import lightgbm as lgb"
   ]
  },
  {
   "cell_type": "code",
   "execution_count": 2,
   "metadata": {},
   "outputs": [
    {
     "name": "stdout",
     "output_type": "stream",
     "text": [
      "Wall time: 157 ms\n"
     ]
    }
   ],
   "source": [
    "%%time \n",
    "df_train = pd.read_pickle('../input/feats/df_trn_feat0.pkl')\n",
    "df_test = pd.read_pickle('../input/feats/df_test_feat0.pkl')"
   ]
  },
  {
   "cell_type": "code",
   "execution_count": 3,
   "metadata": {},
   "outputs": [],
   "source": [
    "df_train['price_log1'] = df_train.price.apply(np.log1p).astype('float16').fillna(-999)\n",
    "df_test['price_log1'] = df_test.price.apply(np.log1p).astype('float16').fillna(-999)"
   ]
  },
  {
   "cell_type": "code",
   "execution_count": 4,
   "metadata": {},
   "outputs": [
    {
     "name": "stdout",
     "output_type": "stream",
     "text": [
      "['/df_test_text_feats', '/df_trn_text_feats']\n",
      "Wall time: 168 ms\n"
     ]
    }
   ],
   "source": [
    "%%time \n",
    "text_feat = 'txt_svd_feat2.h5'\n",
    "with pd.HDFStore('../input/feats/{}'.format(text_feat)) as store:\n",
    "    print(store.keys())\n",
    "    df_trn_text_feat  = store['df_trn_text_feats']\n",
    "    df_test_text_feat = store['df_test_text_feats']"
   ]
  },
  {
   "cell_type": "code",
   "execution_count": 5,
   "metadata": {},
   "outputs": [
    {
     "name": "stdout",
     "output_type": "stream",
     "text": [
      "['/df_test_text_feat', '/df_trn_text_feat']\n",
      "Wall time: 123 ms\n"
     ]
    }
   ],
   "source": [
    "%%time \n",
    "\n",
    "with pd.HDFStore('../input/feats/txt_td_tfidf_hash5.h5') as store:\n",
    "    print(store.keys())\n",
    "    df_trn_text_feat1  = store['df_trn_text_feat']\n",
    "    df_test_text_feat1 = store['df_test_text_feat']"
   ]
  },
  {
   "cell_type": "code",
   "execution_count": 5,
   "metadata": {},
   "outputs": [
    {
     "name": "stdout",
     "output_type": "stream",
     "text": [
      "['/df_test_encoded', '/df_trn_encoded']\n"
     ]
    }
   ],
   "source": [
    "# with pd.HDFStore('../input/feats/df_mean_target_cv2.h5') as store:\n",
    "#     print(store.keys())\n",
    "#     df_trn_mean_target = store['df_trn_encoded']\n",
    "#     df_test_mean_target = store['df_test_encoded']    "
   ]
  },
  {
   "cell_type": "code",
   "execution_count": 6,
   "metadata": {},
   "outputs": [],
   "source": [
    "df_train = pd.concat([df_train,  df_trn_text_feat1],axis=1)\n",
    "df_test = pd.concat([df_test, df_test_text_feat1],axis=1)"
   ]
  },
  {
   "cell_type": "code",
   "execution_count": 7,
   "metadata": {},
   "outputs": [
    {
     "data": {
      "text/plain": [
       "Index(['uidx', 'iidx', 'iid', 'region_city_label', 'tit_len', 'desc_len',\n",
       "       'activation_date', 'month', 'day', 'weekday', 'param_1', 'param_2',\n",
       "       'param_3', 'user_type', 'parent_category_name', 'price',\n",
       "       'category_name', 'image_top_1', 'ads_cnt_by_uid', 'ads_cnt_by_iid',\n",
       "       'deal_probability', 'price_log1', 'title_tfidf_0', 'title_tfidf_1',\n",
       "       'title_tfidf_2', 'title_tfidf_3', 'title_tfidf_4', 'title_hash_0',\n",
       "       'title_hash_1', 'title_hash_2', 'title_hash_3', 'title_hash_4',\n",
       "       'desc_tfidf_0', 'desc_tfidf_1', 'desc_tfidf_2', 'desc_tfidf_3',\n",
       "       'desc_tfidf_4', 'desc_hash_0', 'desc_hash_1', 'desc_hash_2',\n",
       "       'desc_hash_3', 'desc_hash_4'],\n",
       "      dtype='object')"
      ]
     },
     "execution_count": 7,
     "metadata": {},
     "output_type": "execute_result"
    }
   ],
   "source": [
    "df_train.columns"
   ]
  },
  {
   "cell_type": "markdown",
   "metadata": {},
   "source": [
    "train/ test split for a known answers datasets"
   ]
  },
  {
   "cell_type": "code",
   "execution_count": 8,
   "metadata": {},
   "outputs": [],
   "source": [
    "from sklearn.model_selection import train_test_split, StratifiedKFold\n",
    "from sklearn.metrics import mean_squared_error"
   ]
  },
  {
   "cell_type": "code",
   "execution_count": 15,
   "metadata": {},
   "outputs": [],
   "source": [
    "num_bucket=100\n",
    "seed = 99 ## decide random seed for cutting te/tr split\n",
    "y_train = df_train.deal_probability\n",
    "nfolds = 10 ## 1/nfolds  for testing used\n",
    "\n",
    "percentiles = np.percentile(y_train, np.linspace(0, 100, num_bucket)) ## create percentiles \n",
    "falls_into = np.searchsorted(percentiles,y_train) ## fall into bucket\n",
    "\n",
    "skf = StratifiedKFold(nfolds, random_state=seed) ## random state\n",
    "skf.get_n_splits(df_train, falls_into)\n",
    "\n",
    "trn_idx, te_idx = next(skf.split(df_train,falls_into))\n",
    "\n",
    "df_te = df_train.iloc[te_idx].copy()\n",
    "df_tr = df_train.iloc[trn_idx].copy()\n"
   ]
  },
  {
   "cell_type": "markdown",
   "metadata": {},
   "source": [
    "model and validate on `df_tr`"
   ]
  },
  {
   "cell_type": "markdown",
   "metadata": {},
   "source": [
    "- train test split (simple hold out)"
   ]
  },
  {
   "cell_type": "code",
   "execution_count": 16,
   "metadata": {},
   "outputs": [],
   "source": [
    "selcols = [\n",
    "    'uidx','iidx','tit_len','desc_len','price_log1', ## basic \n",
    "    'region_city_label',\n",
    "    'day','weekday',\n",
    "    'param_1','param_2','param_3',\n",
    "    'user_type',\n",
    "    'parent_category_name','category_name','image_top_1',\n",
    "    'ads_cnt_by_uid','ads_cnt_by_iid'\n",
    "#     'mean_region_city_label','mean_param_1','mean_param_2','mean_param_3', ## mean\n",
    "#     'mean_user_type','mean_parent_category_name','mean_category_name','mean_image_top_1' ### mean    \n",
    "]\n",
    "\n",
    "text_cols = []\n",
    "# text_cols = ['text_feat_{}'.format(e) for e in range(5)]\n",
    "### text tfidf/\n",
    "for x in ['title','desc']:\n",
    "    for y in ['tfidf','hash']:\n",
    "        for i in range(5):\n",
    "            text_cols.append('{}_{}_{}'.format(x,y,i))\n",
    "selcols += text_cols\n",
    "\n",
    "\n",
    "categorical = [\n",
    "    'region_city_label',\n",
    "    'user_type',\n",
    "    'image_top_1',\n",
    "    'param_1','param_2','param_3',\n",
    "    'category_name','parent_category_name'\n",
    "]\n",
    "y_train = df_tr.deal_probability\n",
    "# df_tr.drop('deal_probability',inplace=True, axis=1)\n",
    "\n",
    "\n",
    "X_train = df_tr[selcols]"
   ]
  },
  {
   "cell_type": "code",
   "execution_count": 17,
   "metadata": {},
   "outputs": [
    {
     "data": {
      "text/plain": [
       "(1353066, 37)"
      ]
     },
     "execution_count": 17,
     "metadata": {},
     "output_type": "execute_result"
    }
   ],
   "source": [
    "X_train.shape"
   ]
  },
  {
   "cell_type": "code",
   "execution_count": 22,
   "metadata": {},
   "outputs": [
    {
     "name": "stderr",
     "output_type": "stream",
     "text": [
      "C:\\Program Files\\Anaconda3\\envs\\py36\\lib\\site-packages\\lightgbm\\engine.py:99: UserWarning: Found `num_boost_round` in params. Will use it instead of argument\n",
      "  warnings.warn(\"Found `{}` in params. Will use it instead of argument\".format(alias))\n",
      "C:\\Program Files\\Anaconda3\\envs\\py36\\lib\\site-packages\\lightgbm\\basic.py:1036: UserWarning: Using categorical_feature in Dataset.\n",
      "  warnings.warn('Using categorical_feature in Dataset.')\n",
      "C:\\Program Files\\Anaconda3\\envs\\py36\\lib\\site-packages\\lightgbm\\basic.py:681: UserWarning: categorical_feature in param dict is overrided.\n",
      "  warnings.warn('categorical_feature in param dict is overrided.')\n"
     ]
    },
    {
     "name": "stdout",
     "output_type": "stream",
     "text": [
      "Training until validation scores don't improve for 10 rounds.\n",
      "[100]\tvalid's rmse: 0.227237\n",
      "[200]\tvalid's rmse: 0.225732\n",
      "[300]\tvalid's rmse: 0.224931\n",
      "[400]\tvalid's rmse: 0.224442\n",
      "[500]\tvalid's rmse: 0.224134\n",
      "[600]\tvalid's rmse: 0.223896\n",
      "Early stopping, best iteration is:\n",
      "[666]\tvalid's rmse: 0.223813\n",
      "Model Evaluation Stage\n",
      "RMSE: 0.223812775375\n"
     ]
    }
   ],
   "source": [
    "X_trn, X_val, y_trn, y_val = train_test_split(X_train,y_train,test_size=0.2, random_state=1)\n",
    "\n",
    "lgtrain = lgb.Dataset(X_trn, y_trn,categorical_feature = categorical)\n",
    "lgvalid = lgb.Dataset(X_val, y_val,categorical_feature = categorical)\n",
    "\n",
    "lgbm_params =  {\n",
    "    'task': 'train',\n",
    "    'boosting_type': 'gbdt',\n",
    "    'objective': 'regression',\n",
    "    'metric': 'rmse',     \n",
    "    'max_depth': 5,\n",
    "    'num_leaves': 33,\n",
    "    'feature_fraction': 0.7,\n",
    "    'bagging_fraction': 0.8,    \n",
    "    'learning_rate': 0.1,\n",
    "    'num_boost_round': 10000\n",
    "#     'categorical':categorical\n",
    "}  \n",
    "\n",
    "# Go Go Go\n",
    "lgb_clf = lgb.train(\n",
    "    lgbm_params,\n",
    "    lgtrain,    \n",
    "    valid_sets = lgvalid,\n",
    "    valid_names= 'valid',\n",
    "    early_stopping_rounds=10,\n",
    "    verbose_eval=100\n",
    ")\n",
    "print(\"Model Evaluation Stage\")\n",
    "print('RMSE:', np.sqrt(mean_squared_error(y_val, lgb_clf.predict(X_val))))"
   ]
  },
  {
   "cell_type": "code",
   "execution_count": 24,
   "metadata": {},
   "outputs": [
    {
     "name": "stdout",
     "output_type": "stream",
     "text": [
      "RMSE in hold out test:0.22387\n"
     ]
    }
   ],
   "source": [
    "y_te = df_te.deal_probability\n",
    "print('RMSE in hold out test:{:.5f}'.format(np.sqrt(mean_squared_error(y_te,lgb_clf.predict(df_te[selcols])))))"
   ]
  },
  {
   "cell_type": "code",
   "execution_count": 25,
   "metadata": {},
   "outputs": [],
   "source": [
    "df_test2 = pd.read_pickle('../input/test.pkl')\n",
    "itemid = df_test2.item_id "
   ]
  },
  {
   "cell_type": "code",
   "execution_count": 26,
   "metadata": {},
   "outputs": [],
   "source": [
    "y_pred0 = pd.DataFrame()\n",
    "y_pred0['item_id'] = itemid\n",
    "y_pred0['deal_probability'] = lgb_clf.predict(df_test[selcols]).clip(0,1)"
   ]
  },
  {
   "cell_type": "code",
   "execution_count": 27,
   "metadata": {},
   "outputs": [
    {
     "data": {
      "text/html": [
       "<div>\n",
       "<style>\n",
       "    .dataframe thead tr:only-child th {\n",
       "        text-align: right;\n",
       "    }\n",
       "\n",
       "    .dataframe thead th {\n",
       "        text-align: left;\n",
       "    }\n",
       "\n",
       "    .dataframe tbody tr th {\n",
       "        vertical-align: top;\n",
       "    }\n",
       "</style>\n",
       "<table border=\"1\" class=\"dataframe\">\n",
       "  <thead>\n",
       "    <tr style=\"text-align: right;\">\n",
       "      <th></th>\n",
       "      <th>item_id</th>\n",
       "      <th>deal_probability</th>\n",
       "    </tr>\n",
       "  </thead>\n",
       "  <tbody>\n",
       "    <tr>\n",
       "      <th>0</th>\n",
       "      <td>6544e41a8817</td>\n",
       "      <td>0.057642</td>\n",
       "    </tr>\n",
       "    <tr>\n",
       "      <th>1</th>\n",
       "      <td>65b9484d670f</td>\n",
       "      <td>0.230857</td>\n",
       "    </tr>\n",
       "    <tr>\n",
       "      <th>2</th>\n",
       "      <td>8bab230b2ecd</td>\n",
       "      <td>0.151402</td>\n",
       "    </tr>\n",
       "    <tr>\n",
       "      <th>3</th>\n",
       "      <td>8e348601fefc</td>\n",
       "      <td>0.191676</td>\n",
       "    </tr>\n",
       "    <tr>\n",
       "      <th>4</th>\n",
       "      <td>8bd2fe400b89</td>\n",
       "      <td>0.222705</td>\n",
       "    </tr>\n",
       "  </tbody>\n",
       "</table>\n",
       "</div>"
      ],
      "text/plain": [
       "        item_id  deal_probability\n",
       "0  6544e41a8817          0.057642\n",
       "1  65b9484d670f          0.230857\n",
       "2  8bab230b2ecd          0.151402\n",
       "3  8e348601fefc          0.191676\n",
       "4  8bd2fe400b89          0.222705"
      ]
     },
     "execution_count": 27,
     "metadata": {},
     "output_type": "execute_result"
    }
   ],
   "source": [
    "y_pred0.head()"
   ]
  },
  {
   "cell_type": "code",
   "execution_count": 29,
   "metadata": {},
   "outputs": [],
   "source": [
    "fileno = 14\n",
    "y_pred0.to_csv('../output/sub/sub_{}.csv'.format(fileno),index=False)"
   ]
  },
  {
   "cell_type": "code",
   "execution_count": 28,
   "metadata": {},
   "outputs": [
    {
     "data": {
      "text/html": [
       "<div>\n",
       "<style>\n",
       "    .dataframe thead tr:only-child th {\n",
       "        text-align: right;\n",
       "    }\n",
       "\n",
       "    .dataframe thead th {\n",
       "        text-align: left;\n",
       "    }\n",
       "\n",
       "    .dataframe tbody tr th {\n",
       "        vertical-align: top;\n",
       "    }\n",
       "</style>\n",
       "<table border=\"1\" class=\"dataframe\">\n",
       "  <thead>\n",
       "    <tr style=\"text-align: right;\">\n",
       "      <th></th>\n",
       "      <th>f</th>\n",
       "      <th>gain</th>\n",
       "      <th>split</th>\n",
       "    </tr>\n",
       "  </thead>\n",
       "  <tbody>\n",
       "    <tr>\n",
       "      <th>5</th>\n",
       "      <td>region_city_label</td>\n",
       "      <td>9534.229616</td>\n",
       "      <td>3304</td>\n",
       "    </tr>\n",
       "    <tr>\n",
       "      <th>14</th>\n",
       "      <td>image_top_1</td>\n",
       "      <td>20682.303359</td>\n",
       "      <td>3012</td>\n",
       "    </tr>\n",
       "    <tr>\n",
       "      <th>8</th>\n",
       "      <td>param_1</td>\n",
       "      <td>30660.174146</td>\n",
       "      <td>2085</td>\n",
       "    </tr>\n",
       "    <tr>\n",
       "      <th>4</th>\n",
       "      <td>price_log1</td>\n",
       "      <td>5746.280673</td>\n",
       "      <td>1242</td>\n",
       "    </tr>\n",
       "    <tr>\n",
       "      <th>13</th>\n",
       "      <td>category_name</td>\n",
       "      <td>28219.747931</td>\n",
       "      <td>796</td>\n",
       "    </tr>\n",
       "    <tr>\n",
       "      <th>10</th>\n",
       "      <td>param_3</td>\n",
       "      <td>3160.106969</td>\n",
       "      <td>624</td>\n",
       "    </tr>\n",
       "    <tr>\n",
       "      <th>9</th>\n",
       "      <td>param_2</td>\n",
       "      <td>6796.610172</td>\n",
       "      <td>571</td>\n",
       "    </tr>\n",
       "    <tr>\n",
       "      <th>16</th>\n",
       "      <td>ads_cnt_by_iid</td>\n",
       "      <td>590.868669</td>\n",
       "      <td>419</td>\n",
       "    </tr>\n",
       "    <tr>\n",
       "      <th>28</th>\n",
       "      <td>desc_tfidf_1</td>\n",
       "      <td>1324.068148</td>\n",
       "      <td>394</td>\n",
       "    </tr>\n",
       "    <tr>\n",
       "      <th>3</th>\n",
       "      <td>desc_len</td>\n",
       "      <td>823.900116</td>\n",
       "      <td>393</td>\n",
       "    </tr>\n",
       "  </tbody>\n",
       "</table>\n",
       "</div>"
      ],
      "text/plain": [
       "                    f          gain  split\n",
       "5   region_city_label   9534.229616   3304\n",
       "14        image_top_1  20682.303359   3012\n",
       "8             param_1  30660.174146   2085\n",
       "4          price_log1   5746.280673   1242\n",
       "13      category_name  28219.747931    796\n",
       "10            param_3   3160.106969    624\n",
       "9             param_2   6796.610172    571\n",
       "16     ads_cnt_by_iid    590.868669    419\n",
       "28       desc_tfidf_1   1324.068148    394\n",
       "3            desc_len    823.900116    393"
      ]
     },
     "execution_count": 28,
     "metadata": {},
     "output_type": "execute_result"
    }
   ],
   "source": [
    "feat_imp = pd.DataFrame({'f':lgb_clf.feature_name(),\n",
    "                         'split':lgb_clf.feature_importance(importance_type='split'),\n",
    "                         'gain':lgb_clf.feature_importance(importance_type='gain')}).sort_values(by='split',ascending=False)\n",
    "feat_imp.head(10)"
   ]
  },
  {
   "cell_type": "markdown",
   "metadata": {},
   "source": [
    "___"
   ]
  },
  {
   "cell_type": "code",
   "execution_count": null,
   "metadata": {},
   "outputs": [],
   "source": []
  },
  {
   "cell_type": "code",
   "execution_count": null,
   "metadata": {},
   "outputs": [],
   "source": []
  },
  {
   "cell_type": "code",
   "execution_count": null,
   "metadata": {},
   "outputs": [],
   "source": []
  },
  {
   "cell_type": "markdown",
   "metadata": {},
   "source": [
    "train on all datasets for submission"
   ]
  },
  {
   "cell_type": "code",
   "execution_count": 25,
   "metadata": {},
   "outputs": [
    {
     "name": "stderr",
     "output_type": "stream",
     "text": [
      "C:\\Program Files\\Anaconda3\\envs\\py36\\lib\\site-packages\\lightgbm\\basic.py:1036: UserWarning: Using categorical_feature in Dataset.\n",
      "  warnings.warn('Using categorical_feature in Dataset.')\n",
      "C:\\Program Files\\Anaconda3\\envs\\py36\\lib\\site-packages\\lightgbm\\basic.py:681: UserWarning: categorical_feature in param dict is overrided.\n",
      "  warnings.warn('categorical_feature in param dict is overrided.')\n"
     ]
    },
    {
     "name": "stdout",
     "output_type": "stream",
     "text": [
      "Training until validation scores don't improve for 10 rounds.\n",
      "[100]\ttrain's rmse: 0.22178\tvalid's rmse: 0.221735\n",
      "Did not meet early stopping. Best iteration is:\n",
      "[100]\ttrain's rmse: 0.22178\tvalid's rmse: 0.221735\n"
     ]
    }
   ],
   "source": [
    "X_train = df_train[selcols]\n",
    "y_train = df_train.deal_probability \n",
    "X_val   = df_tr[selcols]\n",
    "y_val   = df_tr.deal_probability\n",
    "\n",
    "lgtrain = lgb.Dataset(X_train, y_train,\n",
    "                    categorical_feature = categorical)\n",
    "lgvalid = lgb.Dataset(X_val, y_val,                \n",
    "                categorical_feature = categorical)\n",
    "\n",
    "lgb_clf = lgb.train(\n",
    "    lgbm_params,\n",
    "    lgtrain,    \n",
    "    valid_sets = [lgtrain,lgvalid],\n",
    "    valid_names= ['train','valid'],\n",
    "    early_stopping_rounds=10,\n",
    "    verbose_eval=100\n",
    ")\n",
    "\n"
   ]
  },
  {
   "cell_type": "code",
   "execution_count": null,
   "metadata": {},
   "outputs": [],
   "source": []
  },
  {
   "cell_type": "code",
   "execution_count": null,
   "metadata": {},
   "outputs": [],
   "source": []
  },
  {
   "cell_type": "markdown",
   "metadata": {},
   "source": [
    "# submit"
   ]
  },
  {
   "cell_type": "code",
   "execution_count": 16,
   "metadata": {},
   "outputs": [],
   "source": [
    "df_test2 = pd.read_pickle('../input/test.pkl')\n",
    "itemid = df_test2.item_id "
   ]
  },
  {
   "cell_type": "code",
   "execution_count": 17,
   "metadata": {},
   "outputs": [],
   "source": [
    "y_pred = pd.DataFrame()\n",
    "y_pred['item_id'] = itemid\n",
    "y_pred['deal_probability'] = lgb_clf.predict(df_test[selcols]).clip(0,1)"
   ]
  },
  {
   "cell_type": "code",
   "execution_count": 18,
   "metadata": {},
   "outputs": [
    {
     "data": {
      "text/html": [
       "<div>\n",
       "<style>\n",
       "    .dataframe thead tr:only-child th {\n",
       "        text-align: right;\n",
       "    }\n",
       "\n",
       "    .dataframe thead th {\n",
       "        text-align: left;\n",
       "    }\n",
       "\n",
       "    .dataframe tbody tr th {\n",
       "        vertical-align: top;\n",
       "    }\n",
       "</style>\n",
       "<table border=\"1\" class=\"dataframe\">\n",
       "  <thead>\n",
       "    <tr style=\"text-align: right;\">\n",
       "      <th></th>\n",
       "      <th>item_id</th>\n",
       "      <th>deal_probability</th>\n",
       "    </tr>\n",
       "  </thead>\n",
       "  <tbody>\n",
       "    <tr>\n",
       "      <th>0</th>\n",
       "      <td>6544e41a8817</td>\n",
       "      <td>0.061893</td>\n",
       "    </tr>\n",
       "    <tr>\n",
       "      <th>1</th>\n",
       "      <td>65b9484d670f</td>\n",
       "      <td>0.294296</td>\n",
       "    </tr>\n",
       "    <tr>\n",
       "      <th>2</th>\n",
       "      <td>8bab230b2ecd</td>\n",
       "      <td>0.214183</td>\n",
       "    </tr>\n",
       "    <tr>\n",
       "      <th>3</th>\n",
       "      <td>8e348601fefc</td>\n",
       "      <td>0.143842</td>\n",
       "    </tr>\n",
       "    <tr>\n",
       "      <th>4</th>\n",
       "      <td>8bd2fe400b89</td>\n",
       "      <td>0.246829</td>\n",
       "    </tr>\n",
       "  </tbody>\n",
       "</table>\n",
       "</div>"
      ],
      "text/plain": [
       "        item_id  deal_probability\n",
       "0  6544e41a8817          0.061893\n",
       "1  65b9484d670f          0.294296\n",
       "2  8bab230b2ecd          0.214183\n",
       "3  8e348601fefc          0.143842\n",
       "4  8bd2fe400b89          0.246829"
      ]
     },
     "execution_count": 18,
     "metadata": {},
     "output_type": "execute_result"
    }
   ],
   "source": [
    "y_pred.head()"
   ]
  },
  {
   "cell_type": "code",
   "execution_count": 18,
   "metadata": {},
   "outputs": [
    {
     "data": {
      "text/html": [
       "<div>\n",
       "<style>\n",
       "    .dataframe thead tr:only-child th {\n",
       "        text-align: right;\n",
       "    }\n",
       "\n",
       "    .dataframe thead th {\n",
       "        text-align: left;\n",
       "    }\n",
       "\n",
       "    .dataframe tbody tr th {\n",
       "        vertical-align: top;\n",
       "    }\n",
       "</style>\n",
       "<table border=\"1\" class=\"dataframe\">\n",
       "  <thead>\n",
       "    <tr style=\"text-align: right;\">\n",
       "      <th></th>\n",
       "      <th>f</th>\n",
       "      <th>gain</th>\n",
       "      <th>split</th>\n",
       "    </tr>\n",
       "  </thead>\n",
       "  <tbody>\n",
       "    <tr>\n",
       "      <th>14</th>\n",
       "      <td>image_top_1</td>\n",
       "      <td>23474.255153</td>\n",
       "      <td>1130</td>\n",
       "    </tr>\n",
       "    <tr>\n",
       "      <th>5</th>\n",
       "      <td>region_city_label</td>\n",
       "      <td>5308.658703</td>\n",
       "      <td>529</td>\n",
       "    </tr>\n",
       "    <tr>\n",
       "      <th>8</th>\n",
       "      <td>param_1</td>\n",
       "      <td>42645.431335</td>\n",
       "      <td>419</td>\n",
       "    </tr>\n",
       "    <tr>\n",
       "      <th>4</th>\n",
       "      <td>price_log1</td>\n",
       "      <td>5812.561424</td>\n",
       "      <td>230</td>\n",
       "    </tr>\n",
       "    <tr>\n",
       "      <th>9</th>\n",
       "      <td>param_2</td>\n",
       "      <td>10154.363106</td>\n",
       "      <td>159</td>\n",
       "    </tr>\n",
       "    <tr>\n",
       "      <th>13</th>\n",
       "      <td>category_name</td>\n",
       "      <td>35308.752316</td>\n",
       "      <td>141</td>\n",
       "    </tr>\n",
       "    <tr>\n",
       "      <th>10</th>\n",
       "      <td>param_3</td>\n",
       "      <td>2422.239346</td>\n",
       "      <td>106</td>\n",
       "    </tr>\n",
       "    <tr>\n",
       "      <th>3</th>\n",
       "      <td>desc_len</td>\n",
       "      <td>1195.364289</td>\n",
       "      <td>55</td>\n",
       "    </tr>\n",
       "    <tr>\n",
       "      <th>15</th>\n",
       "      <td>ads_cnt_by_uid</td>\n",
       "      <td>8172.496130</td>\n",
       "      <td>50</td>\n",
       "    </tr>\n",
       "    <tr>\n",
       "      <th>33</th>\n",
       "      <td>desc_tfidf_1</td>\n",
       "      <td>1720.456072</td>\n",
       "      <td>47</td>\n",
       "    </tr>\n",
       "  </tbody>\n",
       "</table>\n",
       "</div>"
      ],
      "text/plain": [
       "                    f          gain  split\n",
       "14        image_top_1  23474.255153   1130\n",
       "5   region_city_label   5308.658703    529\n",
       "8             param_1  42645.431335    419\n",
       "4          price_log1   5812.561424    230\n",
       "9             param_2  10154.363106    159\n",
       "13      category_name  35308.752316    141\n",
       "10            param_3   2422.239346    106\n",
       "3            desc_len   1195.364289     55\n",
       "15     ads_cnt_by_uid   8172.496130     50\n",
       "33       desc_tfidf_1   1720.456072     47"
      ]
     },
     "execution_count": 18,
     "metadata": {},
     "output_type": "execute_result"
    }
   ],
   "source": [
    "feat_imp = pd.DataFrame({'f':lgb_clf.feature_name(),\n",
    "                         'split':lgb_clf.feature_importance(importance_type='split'),\n",
    "                         'gain':lgb_clf.feature_importance(importance_type='gain')}).sort_values(by='split',ascending=False)\n",
    "feat_imp.head(10)"
   ]
  },
  {
   "cell_type": "markdown",
   "metadata": {},
   "source": [
    "History \n",
    "\n",
    "- 13 local  :0.22368 (lb:0.2290)\n",
    "- 14 local : 0.22376 (lb:0.2290)\n",
    "- 14 local : 0.22387 (lb:0.2281)"
   ]
  },
  {
   "cell_type": "code",
   "execution_count": null,
   "metadata": {},
   "outputs": [],
   "source": []
  }
 ],
 "metadata": {
  "anaconda-cloud": {},
  "kernelspec": {
   "display_name": "Python [conda env:py36]",
   "language": "python",
   "name": "conda-env-py36-py"
  },
  "language_info": {
   "codemirror_mode": {
    "name": "ipython",
    "version": 3
   },
   "file_extension": ".py",
   "mimetype": "text/x-python",
   "name": "python",
   "nbconvert_exporter": "python",
   "pygments_lexer": "ipython3",
   "version": "3.6.3"
  }
 },
 "nbformat": 4,
 "nbformat_minor": 1
}
