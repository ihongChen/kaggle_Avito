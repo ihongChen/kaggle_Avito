{
 "cells": [
  {
   "cell_type": "markdown",
   "metadata": {},
   "source": [
    "from [Likelihood encoding of categorical features\n",
    "](https://www.kaggle.com/tnarik/likelihood-encoding-of-categorical-features)"
   ]
  },
  {
   "cell_type": "code",
   "execution_count": 1,
   "metadata": {
    "collapsed": true
   },
   "outputs": [],
   "source": [
    "import pandas as pd \n",
    "import numpy as np \n",
    "import matplotlib.pyplot as plt\n",
    "%matplotlib inline"
   ]
  },
  {
   "cell_type": "code",
   "execution_count": 2,
   "metadata": {
    "collapsed": true
   },
   "outputs": [],
   "source": [
    "from sklearn.model_selection import StratifiedKFold, KFold"
   ]
  },
  {
   "cell_type": "code",
   "execution_count": 3,
   "metadata": {
    "collapsed": true
   },
   "outputs": [],
   "source": [
    "df_train = pd.read_pickle('../input/feats/df_trn_feat0.pkl')\n",
    "df_test  = pd.read_pickle('../input/feats/df_test_feat0.pkl')"
   ]
  },
  {
   "cell_type": "code",
   "execution_count": 4,
   "metadata": {},
   "outputs": [],
   "source": [
    "#### params ###\n",
    "\n",
    "# np.random.seed(13)\n",
    "# target = 'deal_probability'\n",
    "# feature = 'param_1'\n",
    "# data = df_train.iloc[:10000,:].copy()\n",
    "\n",
    "#####\n",
    "def impact_coding(data, feature, target='deal_probability', seed=0):\n",
    "    ## most of the code from: https://www.kaggle.com/tnarik/likelihood-encoding-of-categorical-features\n",
    "    \n",
    "    n_folds = 5\n",
    "    n_inner_folds = 4\n",
    "    print('encode:{}\\ttarget:{}'.format(feature,target))\n",
    "    print('n_folds:{},n_inner_folds:{}'.format(n_folds,n_inner_folds))\n",
    "    impact_coded = pd.Series()\n",
    "\n",
    "    oof_default_mean = data[target].mean() # Gobal mean to use by default\n",
    "\n",
    "    kf = KFold(n_splits=n_folds, shuffle=True,random_state=seed)\n",
    "\n",
    "    oof_mean_cv = pd.DataFrame()\n",
    "    split = 0\n",
    "\n",
    "    for infold_no, (infold, oof) in enumerate(kf.split(data[feature])):\n",
    "        print('encode infold no:',infold_no)\n",
    "        impact_coded_cv = pd.Series()\n",
    "        kf_inner = KFold(n_splits=n_inner_folds, shuffle=True,random_state=seed)\n",
    "        inner_split = 0\n",
    "        infold_inner_mean_cv = pd.DataFrame() ## inner_oof_mean_cv <-> infold_inner_mean_cv\n",
    "        oof_default_inner_mean = data.iloc[infold][target].mean()\n",
    "\n",
    "        for infold_inner, oof_inner in kf_inner.split(data.iloc[infold]):\n",
    "            # The mean to apply to the inner oof split   (a 1/n_folds % based on the rest)\n",
    "            infold_inner_mean = data.iloc[infold_inner].groupby(by=feature)[target].mean()\n",
    "\n",
    "            ############# 不清楚用途???? ##################\n",
    "#             impact_coded_cv_tmp = data.iloc[infold].copy()\n",
    "#             impact_coded_cv_tmp = impact_coded_cv_tmp[feature].map(oof_mean).fillna(oof_default_inner_mean)\n",
    "#             impact_coded_cv = impact_coded_cv.append(impact_coded_cv_tmp)\n",
    "            #############################################\n",
    "\n",
    "            # Also populate mapping (this has all group -> mean for all inner CV folds)\n",
    "            infold_inner_mean_cv = infold_inner_mean_cv.join(pd.DataFrame(infold_inner_mean), rsuffix=inner_split, how='outer') ## inner_oof_mean_cv <-> infold_inner_mean_cv \n",
    "            infold_inner_mean_cv.fillna(value=oof_default_inner_mean, inplace=True) ## inner_oof_mean_cv <-> infold_inner_mean_cv  \n",
    "            inner_split += 1\n",
    "\n",
    "        # Also populate mapping\n",
    "        oof_mean_cv = oof_mean_cv.join(pd.DataFrame(infold_inner_mean_cv), rsuffix=split, how='outer')\n",
    "        oof_mean_cv.fillna(value=oof_default_mean, inplace=True)\n",
    "        split += 1\n",
    "\n",
    "        #### map to oof ##############################\n",
    "        impact_coded_tmp = data.iloc[oof].copy()\n",
    "        infold_inner_mean_cv_ = infold_inner_mean_cv.sum(axis=1) ## oof_inner_mean\n",
    "        impact_coded_tmp = impact_coded_tmp[feature].map(infold_inner_mean_cv_).fillna(oof_default_mean)        \n",
    "        impact_coded = impact_coded.append(impact_coded_tmp)\n",
    "        #############################################\n",
    "\n",
    "    return impact_coded.sort_index(), oof_mean_cv.mean(axis=1), oof_default_mean"
   ]
  },
  {
   "cell_type": "code",
   "execution_count": null,
   "metadata": {
    "collapsed": true
   },
   "outputs": [],
   "source": []
  },
  {
   "cell_type": "code",
   "execution_count": null,
   "metadata": {
    "collapsed": true
   },
   "outputs": [],
   "source": []
  },
  {
   "cell_type": "code",
   "execution_count": null,
   "metadata": {
    "collapsed": true
   },
   "outputs": [],
   "source": []
  },
  {
   "cell_type": "code",
   "execution_count": null,
   "metadata": {
    "collapsed": true
   },
   "outputs": [],
   "source": []
  },
  {
   "cell_type": "markdown",
   "metadata": {},
   "source": [
    "____\n",
    "for test purpose\n"
   ]
  },
  {
   "cell_type": "code",
   "execution_count": 45,
   "metadata": {
    "collapsed": true
   },
   "outputs": [],
   "source": [
    "#### params ###\n",
    "np.random.seed(13)\n",
    "target = 'deal_probability'\n",
    "feature = 'param_1'\n",
    "data = df_train.iloc[:10000,:].copy()\n",
    "\n",
    "\n",
    "n_folds = 5\n",
    "n_inner_folds = 4\n",
    "\n",
    "impact_coded = pd.Series()\n",
    "\n",
    "oof_default_mean = data[target].mean() # Gobal mean to use by default (you could further tune this)\n",
    "\n",
    "kf = KFold(n_splits=n_folds, shuffle=True)\n",
    "\n",
    "oof_mean_cv = pd.DataFrame()\n",
    "split = 0\n",
    "\n",
    "#####\n",
    "\n",
    "for infold, oof in kf.split(data[feature]):\n",
    "    impact_coded_cv = pd.Series()\n",
    "    kf_inner = KFold(n_splits=n_inner_folds, shuffle=True)\n",
    "    inner_split = 0\n",
    "    infold_inner_mean_cv = pd.DataFrame() ## inner_oof_mean_cv <-> infold_inner_mean_cv\n",
    "    oof_default_inner_mean = data.iloc[infold][target].mean()\n",
    "    \n",
    "    for infold_inner, oof_inner in kf_inner.split(data.iloc[infold]):\n",
    "        # The mean to apply to the inner oof split   (a 1/n_folds % based on the rest)\n",
    "        infold_inner_mean = data.iloc[infold_inner].groupby(by=feature)[target].mean()\n",
    "        \n",
    "        ############# 不清楚用途???? ##################\n",
    "        impact_coded_cv_tmp = data.iloc[infold].copy()\n",
    "        impact_coded_cv_tmp = impact_coded_cv_tmp[feature].map(oof_mean).fillna(oof_default_inner_mean)\n",
    "        impact_coded_cv = impact_coded_cv.append(impact_coded_cv_tmp)\n",
    "        #############################################\n",
    "\n",
    "        # Also populate mapping (this has all group -> mean for all inner CV folds)\n",
    "        infold_inner_mean_cv = infold_inner_mean_cv.join(pd.DataFrame(infold_inner_mean), rsuffix=inner_split, how='outer') ## inner_oof_mean_cv <-> infold_inner_mean_cv \n",
    "        infold_inner_mean_cv.fillna(value=oof_default_inner_mean, inplace=True) ## inner_oof_mean_cv <-> infold_inner_mean_cv  \n",
    "        inner_split += 1\n",
    "\n",
    "    # Also populate mapping\n",
    "    oof_mean_cv = oof_mean_cv.join(pd.DataFrame(infold_inner_mean_cv), rsuffix=split, how='outer')\n",
    "    oof_mean_cv.fillna(value=oof_default_mean, inplace=True)\n",
    "    split += 1\n",
    "    \n",
    "    ##### 不清楚用途 ###########################################\n",
    "    impact_coded_tmp = data.iloc[oof].copy()\n",
    "    infold_inner_mean_cv_ = infold_inner_mean_cv.sum(axis=1)\n",
    "    impact_coded_tmp = impact_coded_tmp[feature].map(infold_inner_mean_cv_).fillna(oof_default_mean)\n",
    "    impact_coded = impact_coded.append(impact_coded_tmp)\n",
    "    #############################################\n",
    "\n"
   ]
  }
 ],
 "metadata": {
  "anaconda-cloud": {},
  "kernelspec": {
   "display_name": "Python 3",
   "language": "python",
   "name": "python3"
  },
  "language_info": {
   "codemirror_mode": {
    "name": "ipython",
    "version": 3
   },
   "file_extension": ".py",
   "mimetype": "text/x-python",
   "name": "python",
   "nbconvert_exporter": "python",
   "pygments_lexer": "ipython3",
   "version": "3.6.3"
  }
 },
 "nbformat": 4,
 "nbformat_minor": 1
}
