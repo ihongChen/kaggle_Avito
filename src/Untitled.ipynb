{
 "cells": [
  {
   "cell_type": "code",
   "execution_count": 1,
   "metadata": {},
   "outputs": [],
   "source": [
    "import pandas as pd \n",
    "import numpy as np \n",
    "import matplotlib.pyplot as plt\n",
    "%matplotlib inline"
   ]
  },
  {
   "cell_type": "code",
   "execution_count": 2,
   "metadata": {},
   "outputs": [],
   "source": [
    "df_train = pd.read_pickle('../input/feats/df_trn_feat0.pkl')\n",
    "df_test  = pd.read_pickle('../input/feats/df_test_feat0.pkl')"
   ]
  },
  {
   "cell_type": "code",
   "execution_count": 3,
   "metadata": {},
   "outputs": [],
   "source": [
    "from sklearn.model_selection import StratifiedKFold, KFold"
   ]
  },
  {
   "cell_type": "code",
   "execution_count": 19,
   "metadata": {},
   "outputs": [],
   "source": [
    "data = df_train.iloc[:1000,:]\n",
    "target='deal_probability'\n",
    "feature ='param_1'\n",
    "nfolds = 5\n",
    "n_inner_folds=4\n",
    "\n",
    "impact_coded = pd.Series()\n",
    "df_new = data.copy()\n",
    "oof_default_mean = data[target].mean()\n",
    "kf = KFold(n_splits=nfolds, shuffle=True)\n",
    "oof_mean_cv = pd.DataFrame()\n",
    "split =0\n",
    "\n",
    "for infold, oof in kf.split(data[feature]):    \n",
    "    \n",
    "    impact_coded_cv = pd.Series()\n",
    "    kf_inner = KFold(n_splits=n_inner_folds, shuffle=True)\n",
    "    inner_split = 0\n",
    "    inner_oof_mean_cv = pd.DataFrame()\n",
    "    oof_default_inner_mean = data.iloc[infold][target].mean()\n",
    "    \n",
    "    \n",
    "    for infold_inner_no, (infold_inner, oof_inner) in enumerate(kf_inner.split(data.iloc[infold])):\n",
    "        # The mean to apply to the inner oof split (a 1/n_folds % based on the rest)\n",
    "        oof_mean = data.iloc[infold_inner].groupby(feature)[target].mean() ## oof mean comes from infold_inner\n",
    "        impact_coded_cv_tmp = data.iloc[infold].copy() ## map to \n",
    "        impact_coded_cv_tmp = impact_coded_cv_tmp[feature].map(oof_mean).fillna(oof_default_inner_mean) \n",
    "        impact_coded_cv = impact_coded_cv.append(impact_coded_cv_tmp)\n",
    "        # Also populate mapping (this has all group -> mean for all inner CV folds)        \n",
    "        \n",
    "        inner_oof_mean_cv = inner_oof_mean_cv.join(pd.DataFrame(oof_mean), rsuffix=inner_split, how='outer')\n",
    "        inner_oof_mean_cv.fillna(value=oof_default_inner_mean, inplace=True)\n",
    "        inner_split += 1\n",
    "    \n",
    "    oof_mean_cv = oof_mean_cv.join(pd.DataFrame(inner_oof_mean_cv), rsuffix=split, how='outer')\n",
    "    oof_mean_cv.fillna(value=oof_default_mean, inplace=True)\n",
    "    split += 1\n",
    "    \n",
    "    oof_mean_cv_tmp = oof_mean_cv.mean(axis=1)\n",
    "    \n",
    "    impact_coded_tmp = data.iloc[oof].copy()\n",
    "    impact_coded_tmp = impact_coded_tmp[feature].map(oof_mean_cv_tmp).fillna(oof_default_mean)\n",
    "    impact_coded = impact_coded.append(impact_coded_tmp)\n",
    "    \n",
    "#     impact_coded = impact_coded.append(data.iloc[oof].apply(\n",
    "#                 lambda x: inner_oof_mean_cv.loc[x[feature]].mean()\n",
    "#                           if x[feature] in inner_oof_mean_cv.index\n",
    "#                           else oof_default_mean\n",
    "#                 , axis=1))\n"
   ]
  },
  {
   "cell_type": "code",
   "execution_count": 20,
   "metadata": {},
   "outputs": [
    {
     "data": {
      "text/plain": [
       "(1000,)"
      ]
     },
     "execution_count": 20,
     "metadata": {},
     "output_type": "execute_result"
    }
   ],
   "source": [
    "impact_coded.shape"
   ]
  },
  {
   "cell_type": "code",
   "execution_count": 9,
   "metadata": {},
   "outputs": [
    {
     "data": {
      "text/plain": [
       "(200,)"
      ]
     },
     "execution_count": 9,
     "metadata": {},
     "output_type": "execute_result"
    }
   ],
   "source": [
    "impact_coded_tmp.shape"
   ]
  },
  {
   "cell_type": "code",
   "execution_count": 103,
   "metadata": {},
   "outputs": [
    {
     "data": {
      "text/plain": [
       "array([   0,   11,   20, ..., 9985, 9996, 9997])"
      ]
     },
     "execution_count": 103,
     "metadata": {},
     "output_type": "execute_result"
    }
   ],
   "source": [
    "oof"
   ]
  },
  {
   "cell_type": "code",
   "execution_count": 98,
   "metadata": {},
   "outputs": [
    {
     "data": {
      "text/plain": [
       "(371, 4)"
      ]
     },
     "execution_count": 98,
     "metadata": {},
     "output_type": "execute_result"
    }
   ],
   "source": [
    "inner_oof_mean_cv.shape"
   ]
  },
  {
   "cell_type": "code",
   "execution_count": 21,
   "metadata": {},
   "outputs": [],
   "source": [
    "np.random.seed(13)\n",
    "\n",
    "def impact_coding(data, feature, target='y'):\n",
    "    '''\n",
    "    In this implementation we get the values and the dictionary as two different steps.\n",
    "    This is just because initially we were ignoring the dictionary as a result variable.\n",
    "    \n",
    "    In this implementation the KFolds use shuffling. If you want reproducibility the cv \n",
    "    could be moved to a parameter.\n",
    "    '''\n",
    "    n_folds = 5\n",
    "    n_inner_folds = 4\n",
    "    impact_coded = pd.Series()\n",
    "    \n",
    "    oof_default_mean = data[target].mean() # Gobal mean to use by default (you could further tune this)\n",
    "    kf = KFold(n_splits=n_folds, shuffle=True)\n",
    "    oof_mean_cv = pd.DataFrame()\n",
    "    split = 0\n",
    "    for infold, oof in kf.split(data[feature]):\n",
    "        impact_coded_cv = pd.Series()\n",
    "        kf_inner = KFold(n_splits=n_inner_folds, shuffle=True)\n",
    "        inner_split = 0\n",
    "        inner_oof_mean_cv = pd.DataFrame()\n",
    "        oof_default_inner_mean = data.iloc[infold][target].mean()\n",
    "        for infold_inner, oof_inner in kf_inner.split(data.iloc[infold]):\n",
    "            # The mean to apply to the inner oof split (a 1/n_folds % based on the rest)\n",
    "            oof_mean = data.iloc[infold_inner].groupby(by=feature)[target].mean()\n",
    "            impact_coded_cv = impact_coded_cv.append(data.iloc[infold].apply(\n",
    "                        lambda x: oof_mean[x[feature]]\n",
    "                                  if x[feature] in oof_mean.index\n",
    "                                  else oof_default_inner_mean\n",
    "                        , axis=1))\n",
    "\n",
    "            # Also populate mapping (this has all group -> mean for all inner CV folds)\n",
    "            inner_oof_mean_cv = inner_oof_mean_cv.join(pd.DataFrame(oof_mean), rsuffix=inner_split, how='outer')\n",
    "            inner_oof_mean_cv.fillna(value=oof_default_inner_mean, inplace=True)\n",
    "            inner_split += 1\n",
    "\n",
    "        # Also populate mapping\n",
    "        oof_mean_cv = oof_mean_cv.join(pd.DataFrame(inner_oof_mean_cv), rsuffix=split, how='outer')\n",
    "        oof_mean_cv.fillna(value=oof_default_mean, inplace=True)\n",
    "        split += 1\n",
    "\n",
    "        impact_coded = impact_coded.append(data.iloc[oof].apply(\n",
    "                        lambda x: inner_oof_mean_cv.loc[x[feature]].mean()\n",
    "                                  if x[feature] in inner_oof_mean_cv.index\n",
    "                                  else oof_default_mean\n",
    "                        , axis=1))\n",
    "\n",
    "    return impact_coded, oof_mean_cv.mean(axis=1), oof_default_mean"
   ]
  },
  {
   "cell_type": "code",
   "execution_count": null,
   "metadata": {},
   "outputs": [],
   "source": [
    "def mean_cv_encode(data, feature, target='deal_probability'):\n",
    "    \n",
    "    nfolds = 5\n",
    "    n_inner_folds=4\n",
    "    \n",
    "    oof_default_mean = data[target].mean()\n",
    "    kf = KFold(n_splits=nfolds, shuffle=True)\n",
    "    oof_mean_cv = pd.DataFrame()\n",
    "    split =0\n",
    "    for infold, oof in kf.split(data[feature]):\n",
    "        impact_code_cv = pd.Series()\n",
    "        kf_inner = KFold(n_splits=n_inner_folds, shuffle=True)\n",
    "        \n",
    "        for infold_inner, oof_inner in kf_inner.split(data.iloc[infold]):\n",
    "            oof_mean = data.iloc[infold_inner].groupby(feature)[target].mean()"
   ]
  },
  {
   "cell_type": "code",
   "execution_count": 22,
   "metadata": {},
   "outputs": [],
   "source": [
    "df_small = df_train.iloc[:1000,]"
   ]
  },
  {
   "cell_type": "code",
   "execution_count": 23,
   "metadata": {},
   "outputs": [],
   "source": [
    "mean_encode = impact_coding(df_small,'param_1',target='deal_probability')"
   ]
  },
  {
   "cell_type": "code",
   "execution_count": 29,
   "metadata": {},
   "outputs": [
    {
     "data": {
      "text/plain": [
       "8      0.045802\n",
       "18     0.045802\n",
       "21     0.045802\n",
       "25     0.130216\n",
       "31     0.349227\n",
       "37     0.037077\n",
       "38     0.131021\n",
       "50     0.061277\n",
       "54     0.037077\n",
       "75     0.045802\n",
       "79     0.053280\n",
       "93     0.013161\n",
       "102    0.198277\n",
       "108    0.061277\n",
       "110    0.573325\n",
       "113    0.703348\n",
       "114    0.450597\n",
       "136    0.131021\n",
       "145    0.061277\n",
       "158    0.045802\n",
       "163    0.045802\n",
       "166    0.045802\n",
       "167    0.399621\n",
       "168    0.061485\n",
       "172    0.061485\n",
       "173    0.388086\n",
       "176    0.241406\n",
       "179    0.399621\n",
       "183    0.045802\n",
       "189    0.131021\n",
       "         ...   \n",
       "893    0.061379\n",
       "900    0.013819\n",
       "901    0.045899\n",
       "903    0.147510\n",
       "910    0.061775\n",
       "912    0.147510\n",
       "914    0.404441\n",
       "916    0.061775\n",
       "919    0.036877\n",
       "924    0.036877\n",
       "932    0.352573\n",
       "935    0.147510\n",
       "938    0.147510\n",
       "940    0.156395\n",
       "941    0.147510\n",
       "947    0.061775\n",
       "952    0.147510\n",
       "955    0.045899\n",
       "960    0.045899\n",
       "963    0.061379\n",
       "964    0.045899\n",
       "970    0.091017\n",
       "971    0.091017\n",
       "975    0.000000\n",
       "976    0.244927\n",
       "979    0.311741\n",
       "983    0.061775\n",
       "986    0.147510\n",
       "992    0.045899\n",
       "999    0.147510\n",
       "Length: 1000, dtype: float64"
      ]
     },
     "execution_count": 29,
     "metadata": {},
     "output_type": "execute_result"
    }
   ],
   "source": [
    "impact_coded"
   ]
  },
  {
   "cell_type": "code",
   "execution_count": 28,
   "metadata": {},
   "outputs": [
    {
     "data": {
      "text/plain": [
       "3      0.638682\n",
       "4      0.331139\n",
       "10     0.401652\n",
       "15     0.045890\n",
       "18     0.045890\n",
       "21     0.045890\n",
       "46     0.000000\n",
       "51     0.131141\n",
       "52     0.045890\n",
       "58     0.057404\n",
       "63     0.059728\n",
       "65     0.392483\n",
       "66     0.654167\n",
       "70     0.059728\n",
       "77     0.059728\n",
       "78     0.131141\n",
       "85     0.045890\n",
       "87     0.149985\n",
       "94     0.045890\n",
       "98     0.331139\n",
       "99     0.059728\n",
       "106    0.131141\n",
       "108    0.059728\n",
       "111    0.045890\n",
       "112    0.036260\n",
       "114    0.449780\n",
       "135    0.331139\n",
       "165    0.045890\n",
       "185    0.149985\n",
       "189    0.131141\n",
       "         ...   \n",
       "866    0.045595\n",
       "867    0.143410\n",
       "880    0.045595\n",
       "881    0.045595\n",
       "888    0.394698\n",
       "890    0.394698\n",
       "893    0.061501\n",
       "903    0.147510\n",
       "909    0.394698\n",
       "910    0.062076\n",
       "915    0.139377\n",
       "917    0.045595\n",
       "922    0.143410\n",
       "925    0.331337\n",
       "941    0.143410\n",
       "942    0.045595\n",
       "947    0.062076\n",
       "954    0.157032\n",
       "955    0.045595\n",
       "962    0.255381\n",
       "966    0.331337\n",
       "967    0.061501\n",
       "969    0.143410\n",
       "973    0.234328\n",
       "977    0.130921\n",
       "984    0.045595\n",
       "988    0.061501\n",
       "995    0.164297\n",
       "996    0.319942\n",
       "998    0.331337\n",
       "Length: 1000, dtype: float64"
      ]
     },
     "execution_count": 28,
     "metadata": {},
     "output_type": "execute_result"
    }
   ],
   "source": [
    "mean_encode[0]"
   ]
  }
 ],
 "metadata": {
  "anaconda-cloud": {},
  "kernelspec": {
   "display_name": "Python [conda env:py36]",
   "language": "python",
   "name": "conda-env-py36-py"
  },
  "language_info": {
   "codemirror_mode": {
    "name": "ipython",
    "version": 3
   },
   "file_extension": ".py",
   "mimetype": "text/x-python",
   "name": "python",
   "nbconvert_exporter": "python",
   "pygments_lexer": "ipython3",
   "version": "3.6.3"
  }
 },
 "nbformat": 4,
 "nbformat_minor": 1
}
