{
 "cells": [
  {
   "cell_type": "code",
   "execution_count": 1,
   "metadata": {},
   "outputs": [],
   "source": [
    "import pandas as pd \n",
    "import numpy as np \n",
    "import matplotlib.pyplot as plt\n",
    "%matplotlib inline"
   ]
  },
  {
   "cell_type": "code",
   "execution_count": 2,
   "metadata": {},
   "outputs": [],
   "source": [
    "df_train = pd.read_pickle('../input/feats/df_trn_feat0.pkl')\n",
    "df_test  = pd.read_pickle('../input/feats/df_test_feat0.pkl')"
   ]
  },
  {
   "cell_type": "markdown",
   "metadata": {},
   "source": [
    "how to do stratified kfold in continuous variable"
   ]
  },
  {
   "cell_type": "markdown",
   "metadata": {},
   "source": [
    "mean encode\n",
    "\n",
    "- by categorical "
   ]
  },
  {
   "cell_type": "code",
   "execution_count": 3,
   "metadata": {},
   "outputs": [],
   "source": [
    "import gc\n",
    "from sklearn.model_selection import StratifiedKFold, KFold"
   ]
  },
  {
   "cell_type": "code",
   "execution_count": null,
   "metadata": {},
   "outputs": [],
   "source": [
    "def mean_expand_train(df,cols,target='deal_probability'):\n",
    "    for col in cols:\n",
    "        cumsum = df.groupby(col)[target].cumsum() - df[col]\n",
    "        cumcnt = df"
   ]
  },
  {
   "cell_type": "code",
   "execution_count": 62,
   "metadata": {},
   "outputs": [],
   "source": [
    "def mean_LOO_train(df,cols,target='deal_probability',seed=0):\n",
    "    df_new = df.copy()\n",
    "    print('Leave one out mean encode...')\n",
    "    for col in cols:\n",
    "        print(col)\n",
    "        grouped = df_new.groupby(col)\n",
    "        n = grouped[target].transform('count')\n",
    "        mean = grouped[target].transform('mean')\n",
    "        \n",
    "        df_new[col+'_mean_target'] = (mean*n - df_new[target])/(n-1)\n",
    "    \n",
    "    prior = df[target].mean()\n",
    "    mean_target_cols = [col+'_mean_target' for col in cols]\n",
    "    df_new[mean_target_cols] = df_new[mean_target_cols].fillna(prior)\n",
    "    print('done')\n",
    "    return df_new[mean_target_cols]"
   ]
  },
  {
   "cell_type": "code",
   "execution_count": 12,
   "metadata": {},
   "outputs": [
    {
     "data": {
      "text/plain": [
       "<generator object _BaseKFold.split at 0x00000081D664D9E8>"
      ]
     },
     "execution_count": 12,
     "metadata": {},
     "output_type": "execute_result"
    }
   ],
   "source": [
    "kf = KFold(shuffle=True,random_state=0)\n",
    "kf.split(df_train)\n",
    "# for e in kf.split(df_train):\n",
    "#     print(e)"
   ]
  },
  {
   "cell_type": "code",
   "execution_count": 13,
   "metadata": {},
   "outputs": [],
   "source": [
    "def mean_encode_train(df, cols, nfolds=4, num_bucket=100, target='deal_probability',seed=0):\n",
    "    df_new = df.copy()\n",
    "    \n",
    "    \n",
    "    ## create empty col\n",
    "    for col in cols:\n",
    "        df_new[col+'_mean_target'] = 0\n",
    "    \n",
    "    nfold_indx = {}\n",
    "    y_tr = df_new[target].values\n",
    "    \n",
    "    ## stratified k fold in continus y\n",
    "    if num_bucket:\n",
    "        percentiles = np.percentile(y_tr, np.linspace(0, 100, num_bucket)) ## create percentiles \n",
    "        falls_into = np.searchsorted(percentiles,y_tr) ## fall into bucket\n",
    "\n",
    "        skf = StratifiedKFold(nfolds, random_state=seed)\n",
    "        skf.get_n_splits(df_new, falls_into)\n",
    "        skf_gen = skf.split(df_new, falls_into)\n",
    "    ## K fold     \n",
    "    else:\n",
    "        skf = KFold(nfolds,shuffle=True,random_state=seed)\n",
    "        skf_gen = skf.split(df_new)\n",
    "        \n",
    "    for fold, (tr_idx, val_idx) in enumerate(skf_gen):\n",
    "        nfold_indx[fold] = {'tr_idx':tr_idx,'val_idx':val_idx}\n",
    "        \n",
    "        X_tr ,X_val = df_new.iloc[tr_idx].copy(), df_new.iloc[val_idx].copy()\n",
    "        \n",
    "        \n",
    "        print('fold:{} mean encoding...'.format(fold),end='\\n\\t')\n",
    "        \n",
    "        for col in cols:\n",
    "            print(col,end='\\t')\n",
    "            means = X_val[col].map(X_tr.groupby(col)[target].mean()) ## map mean encoding in X_tr to X_val\n",
    "            X_val[col + '_mean_target'] = means.astype('float16')\n",
    "\n",
    "        df_new.iloc[val_idx] = X_val\n",
    "        print('')    \n",
    "        del X_tr,X_val;gc.collect()\n",
    "\n",
    "    prior = df[target].mean()\n",
    "    mean_target_cols = [col+'_mean_target' for col in cols]\n",
    "    df_new[mean_target_cols] = df_new[mean_target_cols].fillna(prior)\n",
    "    \n",
    "    print('complete')\n",
    "    return df_new[mean_target_cols],nfold_indx"
   ]
  },
  {
   "cell_type": "code",
   "execution_count": 6,
   "metadata": {},
   "outputs": [],
   "source": [
    "def mean_encode_test(df_train, df_test, cols,target='deal_probability'):\n",
    "    ''' encode df_test mean target by df_train'''\n",
    "    y_target = df_train[target]\n",
    "    \n",
    "    for col in cols:\n",
    "        print(col,end='\\t')\n",
    "        means = df_test[col].map(df_train.groupby(col)[target].mean()) ## map mean encode in train to test\n",
    "        df_test[col+'_mean_target'] = means.astype('float16')\n",
    "    print('')\n",
    "    prior = df_train[target].mean()\n",
    "    mean_target_cols = [col+'_mean_target' for col in cols]\n",
    "    \n",
    "    df_test[mean_target_cols] = df_test[mean_target_cols].fillna(prior)\n",
    "    print('complete')\n",
    "    return df_test[mean_target_cols]"
   ]
  },
  {
   "cell_type": "code",
   "execution_count": 14,
   "metadata": {},
   "outputs": [
    {
     "data": {
      "text/plain": [
       "Index(['uidx', 'iidx', 'iid', 'region_city_label', 'tit_len', 'desc_len',\n",
       "       'activation_date', 'month', 'day', 'weekday', 'param_1', 'param_2',\n",
       "       'param_3', 'user_type', 'parent_category_name', 'price',\n",
       "       'category_name', 'image_top_1', 'ads_cnt_by_uid', 'ads_cnt_by_iid',\n",
       "       'deal_probability'],\n",
       "      dtype='object')"
      ]
     },
     "execution_count": 14,
     "metadata": {},
     "output_type": "execute_result"
    }
   ],
   "source": [
    "df_train.columns"
   ]
  },
  {
   "cell_type": "code",
   "execution_count": 16,
   "metadata": {},
   "outputs": [
    {
     "name": "stdout",
     "output_type": "stream",
     "text": [
      "fold:0 mean encoding...\n",
      "\tuidx\tiidx\tregion_city_label\tparam_1\timage_top_1\tuser_type\tparent_category_name\tcategory_name\t\n",
      "fold:1 mean encoding...\n",
      "\tuidx\tiidx\tregion_city_label\tparam_1\timage_top_1\tuser_type\tparent_category_name\tcategory_name\t\n",
      "fold:2 mean encoding...\n",
      "\tuidx\tiidx\tregion_city_label\tparam_1\timage_top_1\tuser_type\tparent_category_name\tcategory_name\t\n",
      "fold:3 mean encoding...\n",
      "\tuidx\tiidx\tregion_city_label\tparam_1\timage_top_1\tuser_type\tparent_category_name\tcategory_name\t\n",
      "complete\n"
     ]
    }
   ],
   "source": [
    "encode_cols = [\n",
    "    'uidx','iidx',\n",
    "    'region_city_label',    \n",
    "    'param_1',\n",
    "#     'param_2','param_3',\n",
    "    'image_top_1',## added\n",
    "#     'month','day','weekday',\n",
    "    'user_type',\n",
    "    'parent_category_name','category_name'\n",
    "]\n",
    "df_train_mean_target, nfold_idx = mean_encode_train(df_train,cols=encode_cols,nfolds=4,num_bucket=None) ## \n",
    "# df_train_mean_LOO = mean_LOO_train(df_train,cols=encode_cols) ##"
   ]
  },
  {
   "cell_type": "code",
   "execution_count": 17,
   "metadata": {},
   "outputs": [
    {
     "data": {
      "text/html": [
       "<div>\n",
       "<style>\n",
       "    .dataframe thead tr:only-child th {\n",
       "        text-align: right;\n",
       "    }\n",
       "\n",
       "    .dataframe thead th {\n",
       "        text-align: left;\n",
       "    }\n",
       "\n",
       "    .dataframe tbody tr th {\n",
       "        vertical-align: top;\n",
       "    }\n",
       "</style>\n",
       "<table border=\"1\" class=\"dataframe\">\n",
       "  <thead>\n",
       "    <tr style=\"text-align: right;\">\n",
       "      <th></th>\n",
       "      <th>0</th>\n",
       "      <th>1</th>\n",
       "      <th>2</th>\n",
       "      <th>3</th>\n",
       "    </tr>\n",
       "  </thead>\n",
       "  <tbody>\n",
       "    <tr>\n",
       "      <th>tr_idx</th>\n",
       "      <td>[0, 1, 2, 3, 4, 5, 6, 8, 9, 10, 11, 14, 15, 16...</td>\n",
       "      <td>[0, 3, 4, 7, 8, 9, 11, 12, 13, 15, 16, 17, 19,...</td>\n",
       "      <td>[1, 2, 3, 4, 5, 6, 7, 10, 11, 12, 13, 14, 16, ...</td>\n",
       "      <td>[0, 1, 2, 5, 6, 7, 8, 9, 10, 12, 13, 14, 15, 1...</td>\n",
       "    </tr>\n",
       "    <tr>\n",
       "      <th>val_idx</th>\n",
       "      <td>[7, 12, 13, 19, 20, 24, 31, 36, 42, 43, 47, 53...</td>\n",
       "      <td>[1, 2, 5, 6, 10, 14, 18, 22, 27, 30, 37, 45, 4...</td>\n",
       "      <td>[0, 8, 9, 15, 17, 23, 25, 29, 32, 34, 41, 48, ...</td>\n",
       "      <td>[3, 4, 11, 16, 21, 26, 28, 33, 35, 38, 39, 40,...</td>\n",
       "    </tr>\n",
       "  </tbody>\n",
       "</table>\n",
       "</div>"
      ],
      "text/plain": [
       "                                                         0  \\\n",
       "tr_idx   [0, 1, 2, 3, 4, 5, 6, 8, 9, 10, 11, 14, 15, 16...   \n",
       "val_idx  [7, 12, 13, 19, 20, 24, 31, 36, 42, 43, 47, 53...   \n",
       "\n",
       "                                                         1  \\\n",
       "tr_idx   [0, 3, 4, 7, 8, 9, 11, 12, 13, 15, 16, 17, 19,...   \n",
       "val_idx  [1, 2, 5, 6, 10, 14, 18, 22, 27, 30, 37, 45, 4...   \n",
       "\n",
       "                                                         2  \\\n",
       "tr_idx   [1, 2, 3, 4, 5, 6, 7, 10, 11, 12, 13, 14, 16, ...   \n",
       "val_idx  [0, 8, 9, 15, 17, 23, 25, 29, 32, 34, 41, 48, ...   \n",
       "\n",
       "                                                         3  \n",
       "tr_idx   [0, 1, 2, 5, 6, 7, 8, 9, 10, 12, 13, 14, 15, 1...  \n",
       "val_idx  [3, 4, 11, 16, 21, 26, 28, 33, 35, 38, 39, 40,...  "
      ]
     },
     "execution_count": 17,
     "metadata": {},
     "output_type": "execute_result"
    }
   ],
   "source": [
    "df_nfold_idx = pd.DataFrame(nfold_idx)\n",
    "df_nfold_idx"
   ]
  },
  {
   "cell_type": "code",
   "execution_count": 18,
   "metadata": {},
   "outputs": [
    {
     "name": "stdout",
     "output_type": "stream",
     "text": [
      "uidx\tiidx\tregion_city_label\tparam_1\timage_top_1\tuser_type\tparent_category_name\tcategory_name\t\n",
      "complete\n"
     ]
    }
   ],
   "source": [
    "df_test_mean_target = mean_encode_test(df_train, df_test,cols=encode_cols)"
   ]
  },
  {
   "cell_type": "code",
   "execution_count": 19,
   "metadata": {},
   "outputs": [
    {
     "name": "stdout",
     "output_type": "stream",
     "text": [
      "shape of df_train_mean_target: (1503424, 8)\n",
      "shape of df_test_mean_target: (508438, 8)\n"
     ]
    }
   ],
   "source": [
    "print('shape of df_train_mean_target:',df_train_mean_target.shape)\n",
    "print('shape of df_test_mean_target:',df_test_mean_target.shape)"
   ]
  },
  {
   "cell_type": "code",
   "execution_count": 20,
   "metadata": {},
   "outputs": [
    {
     "name": "stderr",
     "output_type": "stream",
     "text": [
      "C:\\Program Files\\Anaconda3\\envs\\py36\\lib\\site-packages\\IPython\\core\\interactiveshell.py:2862: PerformanceWarning: \n",
      "your performance may suffer as PyTables will pickle object types that it cannot\n",
      "map directly to c-types [inferred_type->mixed,key->block0_values] [items->[0, 1, 2, 3]]\n",
      "\n",
      "  exec(code_obj, self.user_global_ns, self.user_ns)\n"
     ]
    }
   ],
   "source": [
    "store = pd.HDFStore('../input/feats/df_mean_target.h5') \n",
    "store['df_trn_mean_target'] = df_train_mean_target\n",
    "store['df_test_mean_target'] = df_test_mean_target\n",
    "store['df_nfold_idx'] = df_nfold_idx\n",
    "# store['df_trn_mean_LOO'] = df_train_mean_LOO\n",
    "store.close()"
   ]
  }
 ],
 "metadata": {
  "anaconda-cloud": {},
  "kernelspec": {
   "display_name": "Python [conda env:py36]",
   "language": "python",
   "name": "conda-env-py36-py"
  },
  "language_info": {
   "codemirror_mode": {
    "name": "ipython",
    "version": 3
   },
   "file_extension": ".py",
   "mimetype": "text/x-python",
   "name": "python",
   "nbconvert_exporter": "python",
   "pygments_lexer": "ipython3",
   "version": "3.6.3"
  }
 },
 "nbformat": 4,
 "nbformat_minor": 1
}
