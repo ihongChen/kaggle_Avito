{
 "cells": [
  {
   "cell_type": "markdown",
   "metadata": {},
   "source": [
    "handle text features \n",
    "\n",
    "- tfidf + tsvd \n",
    "- binarize tfidf + tsvd \n",
    "- hashing + tsvd \n",
    "- binarize + tsvd "
   ]
  },
  {
   "cell_type": "markdown",
   "metadata": {},
   "source": [
    "some notes : \n",
    "- constraint on ngram=(1,2), max_features = 10^5\n",
    "- tsvd to dim =5 "
   ]
  },
  {
   "cell_type": "code",
   "execution_count": 1,
   "metadata": {},
   "outputs": [],
   "source": [
    "import pandas as pd \n",
    "import numpy as np \n"
   ]
  },
  {
   "cell_type": "code",
   "execution_count": 2,
   "metadata": {},
   "outputs": [
    {
     "name": "stdout",
     "output_type": "stream",
     "text": [
      "Wall time: 6.78 s\n"
     ]
    }
   ],
   "source": [
    "%%time\n",
    "df_train = pd.read_pickle('../input/train.pkl')\n",
    "df_test = pd.read_pickle('../input/test.pkl')"
   ]
  },
  {
   "cell_type": "code",
   "execution_count": 3,
   "metadata": {},
   "outputs": [
    {
     "data": {
      "text/plain": [
       "Index(['item_id', 'user_id', 'region', 'city', 'parent_category_name',\n",
       "       'category_name', 'param_1', 'param_2', 'param_3', 'title',\n",
       "       'description', 'price', 'item_seq_number', 'activation_date',\n",
       "       'user_type', 'image', 'image_top_1', 'deal_probability'],\n",
       "      dtype='object')"
      ]
     },
     "execution_count": 3,
     "metadata": {},
     "output_type": "execute_result"
    }
   ],
   "source": [
    "df_train.columns"
   ]
  },
  {
   "cell_type": "code",
   "execution_count": 4,
   "metadata": {},
   "outputs": [],
   "source": [
    "title_text_raw = df_train.title.append(df_test.title)\n",
    "title_text_raw.reset_index(drop=True,inplace=True)"
   ]
  },
  {
   "cell_type": "code",
   "execution_count": 5,
   "metadata": {},
   "outputs": [
    {
     "data": {
      "text/plain": [
       "(2011862,)"
      ]
     },
     "execution_count": 5,
     "metadata": {},
     "output_type": "execute_result"
    }
   ],
   "source": [
    "title_text_raw.shape"
   ]
  },
  {
   "cell_type": "markdown",
   "metadata": {},
   "source": [
    "##### tfidf + tsvd"
   ]
  },
  {
   "cell_type": "code",
   "execution_count": 6,
   "metadata": {},
   "outputs": [],
   "source": [
    "from sklearn.feature_extraction.text import TfidfVectorizer\n",
    "from sklearn.decomposition import TruncatedSVD"
   ]
  },
  {
   "cell_type": "code",
   "execution_count": 9,
   "metadata": {},
   "outputs": [],
   "source": [
    "import matplotlib.pyplot as plt \n",
    "import seaborn as sns\n",
    "%matplotlib inline"
   ]
  },
  {
   "cell_type": "code",
   "execution_count": 41,
   "metadata": {},
   "outputs": [
    {
     "name": "stdout",
     "output_type": "stream",
     "text": [
      "shape of tfidf Vectorizer:(2011862, 100000)\n"
     ]
    }
   ],
   "source": [
    "## tfidf \n",
    "tv = TfidfVectorizer(lowercase=False,ngram_range=(1,2),max_features=100000)\n",
    "tv_feats = tv.fit_transform(title_text_raw)\n",
    "print('shape of tfidf Vectorizer:{}'.format(tv_feats.shape))"
   ]
  },
  {
   "cell_type": "code",
   "execution_count": 68,
   "metadata": {},
   "outputs": [
    {
     "name": "stdout",
     "output_type": "stream",
     "text": [
      "shape of tv_svd_feats: (2011862, 5)\n"
     ]
    }
   ],
   "source": [
    "svd = TruncatedSVD(n_components=5, random_state=0)\n",
    "tv_svd_feats = svd.fit_transform(tv_feats)\n",
    "print('shape of tv_svd_feats:',tv_svd_feats.shape)"
   ]
  },
  {
   "cell_type": "code",
   "execution_count": 69,
   "metadata": {},
   "outputs": [
    {
     "name": "stdout",
     "output_type": "stream",
     "text": [
      "[ 0.01133474  0.02288095  0.02933777  0.03516342  0.04054833]\n"
     ]
    }
   ],
   "source": [
    "# print(svd.explained_variance_ratio_)\n",
    "print(np.cumsum(svd.explained_variance_ratio_)) ## 4% variance ratio only"
   ]
  },
  {
   "cell_type": "code",
   "execution_count": 70,
   "metadata": {},
   "outputs": [
    {
     "data": {
      "text/plain": [
       "0    0.012604\n",
       "1   -0.058977\n",
       "2   -0.029999\n",
       "3   -0.039952\n",
       "4   -0.038997\n",
       "y    1.000000\n",
       "Name: y, dtype: float64"
      ]
     },
     "execution_count": 70,
     "metadata": {},
     "output_type": "execute_result"
    }
   ],
   "source": [
    "tv_svd_df = pd.DataFrame(tv_svd_feats).iloc[:df_train.shape[0]]\n",
    "tv_svd_df['y'] = df_train.deal_probability\n",
    "\n",
    "tv_svd_df.corr()['y']"
   ]
  },
  {
   "cell_type": "code",
   "execution_count": 72,
   "metadata": {},
   "outputs": [
    {
     "data": {
      "text/plain": [
       "<seaborn.axisgrid.JointGrid at 0x9f0425e240>"
      ]
     },
     "execution_count": 72,
     "metadata": {},
     "output_type": "execute_result"
    },
    {
     "data": {
      "image/png": "[encoded data removed]",
      "text/plain": [
       "<matplotlib.figure.Figure at 0x9eda478be0>"
      ]
     },
     "metadata": {},
     "output_type": "display_data"
    }
   ],
   "source": [
    "sns.jointplot(x = tv_svd_df[0].values, y=tv_svd_df['y'].values)"
   ]
  },
  {
   "cell_type": "code",
   "execution_count": 71,
   "metadata": {},
   "outputs": [
    {
     "data": {
      "text/plain": [
       "<seaborn.axisgrid.JointGrid at 0x9f0706b320>"
      ]
     },
     "execution_count": 71,
     "metadata": {},
     "output_type": "execute_result"
    },
    {
     "data": {
      "image/png": "[encoded data removed]",
      "text/plain": [
       "<matplotlib.figure.Figure at 0x9f0706b668>"
      ]
     },
     "metadata": {},
     "output_type": "display_data"
    }
   ],
   "source": [
    "sns.jointplot(x = tv_svd_df[1].values, y=tv_svd_df['y'].values)"
   ]
  },
  {
   "cell_type": "markdown",
   "metadata": {},
   "source": [
    "##### hashing + tsvd (title)"
   ]
  },
  {
   "cell_type": "code",
   "execution_count": 81,
   "metadata": {},
   "outputs": [
    {
     "name": "stdout",
     "output_type": "stream",
     "text": [
      "shape of hv features:(2011862, 1048576)\n"
     ]
    }
   ],
   "source": [
    "from sklearn.feature_extraction.text import HashingVectorizer\n",
    "\n",
    "hv = HashingVectorizer(ngram_range=(1, 2), lowercase=False)\n",
    "hv_features = hv.fit_transform(title_text_raw).tocsr()\n",
    "print('shape of hv features:{}'.format(hv_features.shape))\n",
    "\n",
    "svd = TruncatedSVD(n_components=5, random_state=0)\n",
    "hv_svd_features = svd.fit_transform(hv_features)\n"
   ]
  },
  {
   "cell_type": "code",
   "execution_count": 85,
   "metadata": {},
   "outputs": [
    {
     "data": {
      "text/plain": [
       "array([ 0.02536404,  0.03807298,  0.04976278,  0.0591476 ,  0.06888894])"
      ]
     },
     "execution_count": 85,
     "metadata": {},
     "output_type": "execute_result"
    }
   ],
   "source": [
    "np.cumsum(svd.explained_variance_ratio_) # 6.8%"
   ]
  },
  {
   "cell_type": "code",
   "execution_count": 88,
   "metadata": {},
   "outputs": [],
   "source": [
    "hv_svd_df = pd.DataFrame(hv_svd_features).iloc[:df_train.shape[0]]\n",
    "hv_svd_df['y'] = df_train.deal_probability\n"
   ]
  },
  {
   "cell_type": "code",
   "execution_count": 91,
   "metadata": {},
   "outputs": [
    {
     "data": {
      "text/plain": [
       "0    0.010472\n",
       "1   -0.071248\n",
       "2   -0.023938\n",
       "3   -0.017528\n",
       "4    0.039344\n",
       "y    1.000000\n",
       "Name: y, dtype: float64"
      ]
     },
     "execution_count": 91,
     "metadata": {},
     "output_type": "execute_result"
    }
   ],
   "source": [
    "hv_svd_df.corr().y"
   ]
  },
  {
   "cell_type": "markdown",
   "metadata": {},
   "source": [
    "______\n",
    "do the same thing in description"
   ]
  },
  {
   "cell_type": "code",
   "execution_count": 109,
   "metadata": {},
   "outputs": [],
   "source": [
    "desc_raw = df_train.description.append(df_test.description)\n",
    "desc_raw.fillna('',inplace=True)\n",
    "desc_raw.reset_index(drop=True,inplace=True)"
   ]
  },
  {
   "cell_type": "code",
   "execution_count": 112,
   "metadata": {},
   "outputs": [
    {
     "name": "stdout",
     "output_type": "stream",
     "text": [
      "shape of tfidf Vectorizer:(2011862, 100000)\n",
      "shape of tv_svd_feats: (2011862, 5)\n"
     ]
    }
   ],
   "source": [
    "## tfidf  + svd \n",
    "tv = TfidfVectorizer(lowercase=False,ngram_range=(1,2),max_features=100000)\n",
    "tv_feats = tv.fit_transform(desc_raw)\n",
    "\n",
    "print('shape of tfidf Vectorizer:{}'.format(tv_feats.shape))\n",
    "\n",
    "svd = TruncatedSVD(n_components=5, random_state=0)\n",
    "tv_svd_feats1 = svd.fit_transform(tv_feats)\n",
    "print('shape of tv_svd_feats:',tv_svd_feats.shape)"
   ]
  },
  {
   "cell_type": "code",
   "execution_count": 113,
   "metadata": {},
   "outputs": [
    {
     "data": {
      "text/plain": [
       "array([ 0.00768117,  0.00573284,  0.00265744,  0.00309605,  0.00270865])"
      ]
     },
     "execution_count": 113,
     "metadata": {},
     "output_type": "execute_result"
    }
   ],
   "source": [
    "svd.explained_variance_ratio_"
   ]
  },
  {
   "cell_type": "code",
   "execution_count": 117,
   "metadata": {},
   "outputs": [
    {
     "name": "stdout",
     "output_type": "stream",
     "text": [
      "shape of hv features:(2011862, 1048576)\n"
     ]
    }
   ],
   "source": [
    "## hashing + svd \n",
    "\n",
    "hv = HashingVectorizer(ngram_range=(1, 2), lowercase=False)\n",
    "hv_features = hv.fit_transform(desc_raw).tocsr()\n",
    "print('shape of hv features:{}'.format(hv_features.shape))\n",
    "\n",
    "svd = TruncatedSVD(n_components=5, random_state=0)\n",
    "hv_svd_features1 = svd.fit_transform(hv_features)\n"
   ]
  },
  {
   "cell_type": "code",
   "execution_count": 122,
   "metadata": {},
   "outputs": [
    {
     "data": {
      "text/plain": [
       "(2011862, 5)"
      ]
     },
     "execution_count": 122,
     "metadata": {},
     "output_type": "execute_result"
    }
   ],
   "source": [
    "hv_svd_features1.shape\n",
    "tv_svd_feats1.shape"
   ]
  },
  {
   "cell_type": "markdown",
   "metadata": {},
   "source": [
    "### save hdf5"
   ]
  },
  {
   "cell_type": "code",
   "execution_count": 128,
   "metadata": {},
   "outputs": [],
   "source": [
    "all_text_feats =  np.concatenate([tv_svd_feats,hv_svd_features,tv_svd_feats1,hv_svd_features1],axis=1)"
   ]
  },
  {
   "cell_type": "code",
   "execution_count": 131,
   "metadata": {},
   "outputs": [],
   "source": [
    "df_text_feats = pd.DataFrame(all_text_feats)\n",
    "colnames = ['title_tfidf_{}'.format(e) for e in range(5)] + ['title_hash_{}'.format(i) for i in range(5)] + \\\n",
    "            ['desc_tfidf_{}'.format(e) for e in range(5)] + ['desc_hash_{}'.format(i) for i in range(5)] \n",
    "df_text_feats.columns = colnames"
   ]
  },
  {
   "cell_type": "code",
   "execution_count": 133,
   "metadata": {},
   "outputs": [
    {
     "data": {
      "text/html": [
       "<div>\n",
       "<style>\n",
       "    .dataframe thead tr:only-child th {\n",
       "        text-align: right;\n",
       "    }\n",
       "\n",
       "    .dataframe thead th {\n",
       "        text-align: left;\n",
       "    }\n",
       "\n",
       "    .dataframe tbody tr th {\n",
       "        vertical-align: top;\n",
       "    }\n",
       "</style>\n",
       "<table border=\"1\" class=\"dataframe\">\n",
       "  <thead>\n",
       "    <tr style=\"text-align: right;\">\n",
       "      <th></th>\n",
       "      <th>0</th>\n",
       "      <th>1</th>\n",
       "      <th>2</th>\n",
       "      <th>3</th>\n",
       "      <th>4</th>\n",
       "    </tr>\n",
       "  </thead>\n",
       "  <tbody>\n",
       "    <tr>\n",
       "      <th>title_tfidf_0</th>\n",
       "      <td>0.000135</td>\n",
       "      <td>0.000157</td>\n",
       "      <td>0.000061</td>\n",
       "      <td>0.000030</td>\n",
       "      <td>0.000003</td>\n",
       "    </tr>\n",
       "    <tr>\n",
       "      <th>title_tfidf_1</th>\n",
       "      <td>0.002495</td>\n",
       "      <td>0.002864</td>\n",
       "      <td>0.000004</td>\n",
       "      <td>0.000008</td>\n",
       "      <td>-0.000003</td>\n",
       "    </tr>\n",
       "    <tr>\n",
       "      <th>title_tfidf_2</th>\n",
       "      <td>0.002115</td>\n",
       "      <td>0.002427</td>\n",
       "      <td>0.000159</td>\n",
       "      <td>0.000039</td>\n",
       "      <td>-0.000105</td>\n",
       "    </tr>\n",
       "    <tr>\n",
       "      <th>title_tfidf_3</th>\n",
       "      <td>0.006663</td>\n",
       "      <td>0.007652</td>\n",
       "      <td>0.000013</td>\n",
       "      <td>0.000018</td>\n",
       "      <td>0.000266</td>\n",
       "    </tr>\n",
       "    <tr>\n",
       "      <th>title_tfidf_4</th>\n",
       "      <td>0.007393</td>\n",
       "      <td>0.008495</td>\n",
       "      <td>0.000040</td>\n",
       "      <td>0.000020</td>\n",
       "      <td>-0.000409</td>\n",
       "    </tr>\n",
       "    <tr>\n",
       "      <th>title_hash_0</th>\n",
       "      <td>0.000401</td>\n",
       "      <td>0.000474</td>\n",
       "      <td>0.000010</td>\n",
       "      <td>0.000012</td>\n",
       "      <td>0.000002</td>\n",
       "    </tr>\n",
       "    <tr>\n",
       "      <th>title_hash_1</th>\n",
       "      <td>0.038004</td>\n",
       "      <td>0.044983</td>\n",
       "      <td>0.000046</td>\n",
       "      <td>0.000034</td>\n",
       "      <td>0.000006</td>\n",
       "    </tr>\n",
       "    <tr>\n",
       "      <th>title_hash_2</th>\n",
       "      <td>0.023695</td>\n",
       "      <td>0.028033</td>\n",
       "      <td>0.000127</td>\n",
       "      <td>0.000051</td>\n",
       "      <td>0.000022</td>\n",
       "    </tr>\n",
       "    <tr>\n",
       "      <th>title_hash_3</th>\n",
       "      <td>0.255297</td>\n",
       "      <td>0.302206</td>\n",
       "      <td>0.000369</td>\n",
       "      <td>0.000231</td>\n",
       "      <td>-0.000041</td>\n",
       "    </tr>\n",
       "    <tr>\n",
       "      <th>title_hash_4</th>\n",
       "      <td>-0.237912</td>\n",
       "      <td>-0.281707</td>\n",
       "      <td>-0.000005</td>\n",
       "      <td>-0.000100</td>\n",
       "      <td>-0.000028</td>\n",
       "    </tr>\n",
       "    <tr>\n",
       "      <th>desc_tfidf_0</th>\n",
       "      <td>0.013989</td>\n",
       "      <td>0.009723</td>\n",
       "      <td>0.180049</td>\n",
       "      <td>0.024701</td>\n",
       "      <td>0.055676</td>\n",
       "    </tr>\n",
       "    <tr>\n",
       "      <th>desc_tfidf_1</th>\n",
       "      <td>0.006677</td>\n",
       "      <td>0.004546</td>\n",
       "      <td>-0.113953</td>\n",
       "      <td>0.006266</td>\n",
       "      <td>0.018292</td>\n",
       "    </tr>\n",
       "    <tr>\n",
       "      <th>desc_tfidf_2</th>\n",
       "      <td>0.040549</td>\n",
       "      <td>0.034293</td>\n",
       "      <td>-0.011388</td>\n",
       "      <td>0.049656</td>\n",
       "      <td>0.217004</td>\n",
       "    </tr>\n",
       "    <tr>\n",
       "      <th>desc_tfidf_3</th>\n",
       "      <td>-0.004785</td>\n",
       "      <td>-0.010553</td>\n",
       "      <td>0.002334</td>\n",
       "      <td>0.013594</td>\n",
       "      <td>-0.416484</td>\n",
       "    </tr>\n",
       "    <tr>\n",
       "      <th>desc_tfidf_4</th>\n",
       "      <td>-0.023923</td>\n",
       "      <td>-0.020123</td>\n",
       "      <td>-0.001595</td>\n",
       "      <td>-0.053386</td>\n",
       "      <td>0.703959</td>\n",
       "    </tr>\n",
       "    <tr>\n",
       "      <th>desc_hash_0</th>\n",
       "      <td>0.041019</td>\n",
       "      <td>0.047099</td>\n",
       "      <td>0.239169</td>\n",
       "      <td>0.077900</td>\n",
       "      <td>0.094604</td>\n",
       "    </tr>\n",
       "    <tr>\n",
       "      <th>desc_hash_1</th>\n",
       "      <td>0.041654</td>\n",
       "      <td>0.053050</td>\n",
       "      <td>-0.164245</td>\n",
       "      <td>0.030130</td>\n",
       "      <td>0.104458</td>\n",
       "    </tr>\n",
       "    <tr>\n",
       "      <th>desc_hash_2</th>\n",
       "      <td>0.002355</td>\n",
       "      <td>0.000950</td>\n",
       "      <td>-0.165849</td>\n",
       "      <td>0.002717</td>\n",
       "      <td>-0.012561</td>\n",
       "    </tr>\n",
       "    <tr>\n",
       "      <th>desc_hash_3</th>\n",
       "      <td>0.070900</td>\n",
       "      <td>0.084033</td>\n",
       "      <td>-0.029143</td>\n",
       "      <td>0.279213</td>\n",
       "      <td>0.175273</td>\n",
       "    </tr>\n",
       "    <tr>\n",
       "      <th>desc_hash_4</th>\n",
       "      <td>-0.073205</td>\n",
       "      <td>-0.093642</td>\n",
       "      <td>-0.013482</td>\n",
       "      <td>0.212571</td>\n",
       "      <td>-0.432004</td>\n",
       "    </tr>\n",
       "  </tbody>\n",
       "</table>\n",
       "</div>"
      ],
      "text/plain": [
       "                      0         1         2         3         4\n",
       "title_tfidf_0  0.000135  0.000157  0.000061  0.000030  0.000003\n",
       "title_tfidf_1  0.002495  0.002864  0.000004  0.000008 -0.000003\n",
       "title_tfidf_2  0.002115  0.002427  0.000159  0.000039 -0.000105\n",
       "title_tfidf_3  0.006663  0.007652  0.000013  0.000018  0.000266\n",
       "title_tfidf_4  0.007393  0.008495  0.000040  0.000020 -0.000409\n",
       "title_hash_0   0.000401  0.000474  0.000010  0.000012  0.000002\n",
       "title_hash_1   0.038004  0.044983  0.000046  0.000034  0.000006\n",
       "title_hash_2   0.023695  0.028033  0.000127  0.000051  0.000022\n",
       "title_hash_3   0.255297  0.302206  0.000369  0.000231 -0.000041\n",
       "title_hash_4  -0.237912 -0.281707 -0.000005 -0.000100 -0.000028\n",
       "desc_tfidf_0   0.013989  0.009723  0.180049  0.024701  0.055676\n",
       "desc_tfidf_1   0.006677  0.004546 -0.113953  0.006266  0.018292\n",
       "desc_tfidf_2   0.040549  0.034293 -0.011388  0.049656  0.217004\n",
       "desc_tfidf_3  -0.004785 -0.010553  0.002334  0.013594 -0.416484\n",
       "desc_tfidf_4  -0.023923 -0.020123 -0.001595 -0.053386  0.703959\n",
       "desc_hash_0    0.041019  0.047099  0.239169  0.077900  0.094604\n",
       "desc_hash_1    0.041654  0.053050 -0.164245  0.030130  0.104458\n",
       "desc_hash_2    0.002355  0.000950 -0.165849  0.002717 -0.012561\n",
       "desc_hash_3    0.070900  0.084033 -0.029143  0.279213  0.175273\n",
       "desc_hash_4   -0.073205 -0.093642 -0.013482  0.212571 -0.432004"
      ]
     },
     "execution_count": 133,
     "metadata": {},
     "output_type": "execute_result"
    }
   ],
   "source": [
    "df_text_feats.head().T"
   ]
  },
  {
   "cell_type": "code",
   "execution_count": 143,
   "metadata": {},
   "outputs": [
    {
     "data": {
      "text/plain": [
       "True"
      ]
     },
     "execution_count": 143,
     "metadata": {},
     "output_type": "execute_result"
    }
   ],
   "source": [
    "df_text_feats.iloc[:100,1].dtype =='float64'"
   ]
  },
  {
   "cell_type": "code",
   "execution_count": 144,
   "metadata": {},
   "outputs": [],
   "source": [
    "def downcast(df):\n",
    "    for idx, col in enumerate(df):\n",
    "        if df.iloc[:,idx].dtypes == 'float64':\n",
    "            df[col] = df[col].astype('float32')\n",
    "        else:\n",
    "            pass    "
   ]
  },
  {
   "cell_type": "code",
   "execution_count": 145,
   "metadata": {},
   "outputs": [],
   "source": [
    "downcast(df_text_feats)"
   ]
  },
  {
   "cell_type": "code",
   "execution_count": 151,
   "metadata": {},
   "outputs": [
    {
     "name": "stdout",
     "output_type": "stream",
     "text": [
      "<class 'pandas.core.frame.DataFrame'>\n",
      "RangeIndex: 2011862 entries, 0 to 2011861\n",
      "Data columns (total 20 columns):\n",
      "title_tfidf_0    float32\n",
      "title_tfidf_1    float32\n",
      "title_tfidf_2    float32\n",
      "title_tfidf_3    float32\n",
      "title_tfidf_4    float32\n",
      "title_hash_0     float32\n",
      "title_hash_1     float32\n",
      "title_hash_2     float32\n",
      "title_hash_3     float32\n",
      "title_hash_4     float32\n",
      "desc_tfidf_0     float32\n",
      "desc_tfidf_1     float32\n",
      "desc_tfidf_2     float32\n",
      "desc_tfidf_3     float32\n",
      "desc_tfidf_4     float32\n",
      "desc_hash_0      float32\n",
      "desc_hash_1      float32\n",
      "desc_hash_2      float32\n",
      "desc_hash_3      float32\n",
      "desc_hash_4      float32\n",
      "dtypes: float32(20)\n",
      "memory usage: 153.5 MB\n"
     ]
    }
   ],
   "source": [
    "df_text_feats.info()"
   ]
  },
  {
   "cell_type": "code",
   "execution_count": 152,
   "metadata": {},
   "outputs": [
    {
     "data": {
      "text/plain": [
       "(2011862, 20)"
      ]
     },
     "execution_count": 152,
     "metadata": {},
     "output_type": "execute_result"
    }
   ],
   "source": [
    "df_text_feats.shape"
   ]
  },
  {
   "cell_type": "code",
   "execution_count": 154,
   "metadata": {},
   "outputs": [],
   "source": [
    "len_trn = df_train.shape[0]"
   ]
  },
  {
   "cell_type": "code",
   "execution_count": 155,
   "metadata": {},
   "outputs": [],
   "source": [
    "store = pd.HDFStore('../input/feats/txt_td_tfidf_hash5.h5')\n",
    "store['df_trn_text_feat'] = df_text_feats.iloc[:len_trn,:]\n",
    "store['df_test_text_feat'] = df_text_feats.iloc[len_trn:,:]\n",
    "store.close()"
   ]
  }
 ],
 "metadata": {
  "anaconda-cloud": {},
  "kernelspec": {
   "display_name": "Python [conda env:py36]",
   "language": "python",
   "name": "conda-env-py36-py"
  },
  "language_info": {
   "codemirror_mode": {
    "name": "ipython",
    "version": 3
   },
   "file_extension": ".py",
   "mimetype": "text/x-python",
   "name": "python",
   "nbconvert_exporter": "python",
   "pygments_lexer": "ipython3",
   "version": "3.6.3"
  }
 },
 "nbformat": 4,
 "nbformat_minor": 1
}
