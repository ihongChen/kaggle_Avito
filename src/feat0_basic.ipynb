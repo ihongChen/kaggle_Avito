{
 "cells": [
  {
   "cell_type": "markdown",
   "metadata": {},
   "source": [
    "# Feat0 \n",
    "Basic features\n",
    "\n",
    "- try to store encode useful features, and doing basic preprocessing\n",
    "- ignore text data"
   ]
  },
  {
   "cell_type": "code",
   "execution_count": 1,
   "metadata": {},
   "outputs": [],
   "source": [
    "import pandas as pd \n",
    "import numpy as np \n",
    "import gc"
   ]
  },
  {
   "cell_type": "code",
   "execution_count": 2,
   "metadata": {},
   "outputs": [
    {
     "name": "stdout",
     "output_type": "stream",
     "text": [
      "Wall time: 5.13 s\n"
     ]
    }
   ],
   "source": [
    "%%time \n",
    "df_train = pd.read_pickle('../input/train.pkl')"
   ]
  },
  {
   "cell_type": "code",
   "execution_count": 3,
   "metadata": {},
   "outputs": [
    {
     "name": "stdout",
     "output_type": "stream",
     "text": [
      "Wall time: 1.86 s\n"
     ]
    }
   ],
   "source": [
    "%%time\n",
    "df_test = pd.read_pickle('../input/test.pkl')"
   ]
  },
  {
   "cell_type": "code",
   "execution_count": 4,
   "metadata": {},
   "outputs": [
    {
     "data": {
      "text/plain": [
       "(508438, 17)"
      ]
     },
     "execution_count": 4,
     "metadata": {},
     "output_type": "execute_result"
    }
   ],
   "source": [
    "df_test.shape"
   ]
  },
  {
   "cell_type": "code",
   "execution_count": 5,
   "metadata": {},
   "outputs": [
    {
     "data": {
      "text/plain": [
       "(1503424, 18)"
      ]
     },
     "execution_count": 5,
     "metadata": {},
     "output_type": "execute_result"
    }
   ],
   "source": [
    "df_train.shape"
   ]
  },
  {
   "cell_type": "markdown",
   "metadata": {},
   "source": [
    "preprocessing\n",
    "1. `uidx`, `iidx` : re-encode user_id, item_seq_number (replace item_seq_number, user_id to these features) -- some useful info\n",
    "2. `iid` :　index of item_id (pkey)  --- memory downcast\n",
    "3. `region_city_label` : encode region_city combination into numerics (encode cnt >50) \n",
    "4. `titile length` / `desc length` : length of title, desc (and dont use text data)\n",
    "5. `weekday`, `day`,`month` : extract from `activation_date`\n",
    "6. `param_1` --> to category\n",
    "7. `ads_cnt_by_uid`,`ads_cnt_by_iid`"
   ]
  },
  {
   "cell_type": "code",
   "execution_count": 6,
   "metadata": {},
   "outputs": [
    {
     "data": {
      "text/plain": [
       "item_id                         object\n",
       "user_id                         object\n",
       "region                        category\n",
       "city                          category\n",
       "parent_category_name          category\n",
       "category_name                 category\n",
       "param_1                       category\n",
       "param_2                       category\n",
       "param_3                       category\n",
       "title                           object\n",
       "description                     object\n",
       "price                          float32\n",
       "item_seq_number                 uint16\n",
       "activation_date         datetime64[ns]\n",
       "user_type                     category\n",
       "image                           object\n",
       "image_top_1                    float32\n",
       "deal_probability               float64\n",
       "dtype: object"
      ]
     },
     "execution_count": 6,
     "metadata": {},
     "output_type": "execute_result"
    }
   ],
   "source": [
    "df_train.dtypes"
   ]
  },
  {
   "cell_type": "code",
   "execution_count": 7,
   "metadata": {},
   "outputs": [
    {
     "name": "stdout",
     "output_type": "stream",
     "text": [
      "length of train 1503424\n"
     ]
    }
   ],
   "source": [
    "len_trn = df_train.shape[0]\n",
    "print('length of train',len_trn)"
   ]
  },
  {
   "cell_type": "code",
   "execution_count": 8,
   "metadata": {},
   "outputs": [
    {
     "name": "stdout",
     "output_type": "stream",
     "text": [
      "length of agg train+test 2011862\n"
     ]
    }
   ],
   "source": [
    "df_train = df_train.append(df_test)\n",
    "print('length of agg train+test',df_train.shape[0])"
   ]
  },
  {
   "cell_type": "markdown",
   "metadata": {},
   "source": [
    "downcast "
   ]
  },
  {
   "cell_type": "code",
   "execution_count": 9,
   "metadata": {},
   "outputs": [],
   "source": [
    "df_train['param_1'] = df_train.param_1.astype('category')\n",
    "df_train['param_2'] = df_train.param_2.astype('category')\n",
    "df_train['param_3'] = df_train.param_3.astype('category')"
   ]
  },
  {
   "cell_type": "code",
   "execution_count": 10,
   "metadata": {},
   "outputs": [
    {
     "data": {
      "text/plain": [
       "activation_date         datetime64[ns]\n",
       "category_name                 category\n",
       "city                            object\n",
       "deal_probability               float64\n",
       "description                     object\n",
       "image                           object\n",
       "image_top_1                    float32\n",
       "item_id                         object\n",
       "item_seq_number                 uint16\n",
       "param_1                       category\n",
       "param_2                       category\n",
       "param_3                       category\n",
       "parent_category_name          category\n",
       "price                          float32\n",
       "region                        category\n",
       "title                           object\n",
       "user_id                         object\n",
       "user_type                     category\n",
       "dtype: object"
      ]
     },
     "execution_count": 10,
     "metadata": {},
     "output_type": "execute_result"
    }
   ],
   "source": [
    "df_train.dtypes"
   ]
  },
  {
   "cell_type": "markdown",
   "metadata": {},
   "source": [
    "###### uidx, iidx, iid"
   ]
  },
  {
   "cell_type": "code",
   "execution_count": 11,
   "metadata": {},
   "outputs": [],
   "source": [
    "def get_df_matrix_mappings(df, row_name, col_name):\n",
    "    # Create mappings\n",
    "    rid_to_idx = {}\n",
    "    idx_to_rid = {}\n",
    "    for (idx, rid) in enumerate(df[row_name].unique().tolist()):\n",
    "        rid_to_idx[rid] = idx\n",
    "        idx_to_rid[idx] = rid\n",
    "\n",
    "\n",
    "    cid_to_idx = {}\n",
    "    idx_to_cid = {}\n",
    "    for (idx, cid) in enumerate(df[col_name].unique().tolist()):\n",
    "        cid_to_idx[cid] = idx\n",
    "        idx_to_cid[idx] = cid\n",
    "\n",
    "\n",
    "    return rid_to_idx, idx_to_rid, cid_to_idx, idx_to_cid"
   ]
  },
  {
   "cell_type": "code",
   "execution_count": 12,
   "metadata": {},
   "outputs": [],
   "source": [
    "rid_to_idx, idx_to_rid, cid_to_idx, idx_to_cid = get_df_matrix_mappings(df_train,'user_id','item_seq_number')\n",
    "df_trn_uidx = pd.DataFrame()\n",
    "df_trn_uidx['uidx']= df_train.user_id.map(rid_to_idx)\n",
    "df_trn_uidx['iidx']= df_train.item_seq_number.map(cid_to_idx)\n",
    "df_trn_uidx['uid'] = df_train.user_id\n",
    "df_trn_uidx['iid'] = df_train.item_seq_number\n",
    "\n",
    "df_train['iidx'] = df_train.item_seq_number.map(cid_to_idx).astype('uint16')\n",
    "df_train['uidx'] = df_train.user_id.map(rid_to_idx).astype('uint32')"
   ]
  },
  {
   "cell_type": "code",
   "execution_count": 13,
   "metadata": {},
   "outputs": [],
   "source": [
    "df_train['iid'] = range(df_train.shape[0])"
   ]
  },
  {
   "cell_type": "markdown",
   "metadata": {},
   "source": [
    "###### title length, description length"
   ]
  },
  {
   "cell_type": "code",
   "execution_count": 14,
   "metadata": {},
   "outputs": [],
   "source": [
    "df_train['title'] = df_train.title.fillna(\" \")\n",
    "df_train['tit_len'] = df_train.title.apply(lambda x:len(x.split())).astype('uint8')\n",
    "\n",
    "df_train['description'] = df_train.description.fillna(\" \")\n",
    "df_train['desc_len'] = df_train.description.apply(lambda x:len(x.split())).astype('uint16')"
   ]
  },
  {
   "cell_type": "markdown",
   "metadata": {},
   "source": [
    "##### activation date \n",
    "- weekday, \n",
    "- day\n",
    "- month"
   ]
  },
  {
   "cell_type": "code",
   "execution_count": 15,
   "metadata": {},
   "outputs": [],
   "source": [
    "df_train['weekday'] = df_train.activation_date.dt.weekday.astype('uint8')\n",
    "df_train['day'] = df_train.activation_date.dt.day.astype('uint8')\n",
    "df_train['month'] = df_train.activation_date.dt.month.astype('uint8')"
   ]
  },
  {
   "cell_type": "markdown",
   "metadata": {},
   "source": [
    "#####  ads_cnt_by_uid"
   ]
  },
  {
   "cell_type": "code",
   "execution_count": 16,
   "metadata": {},
   "outputs": [
    {
     "name": "stdout",
     "output_type": "stream",
     "text": [
      "doing add cnt by user_id...\n",
      "doing add cnt by iidx(item_seq_number)...\n",
      "done\n"
     ]
    },
    {
     "data": {
      "text/plain": [
       "49"
      ]
     },
     "execution_count": 16,
     "metadata": {},
     "output_type": "execute_result"
    }
   ],
   "source": [
    "print('doing add cnt by user_id...')\n",
    "tmp = df_train.groupby('uidx').size().to_frame().reset_index().rename(columns={0:'ads_cnt_by_uid'})\n",
    "tmp['ads_cnt_by_uid'] = tmp.ads_cnt_by_uid.astype('uint32')\n",
    "df_train = df_train.merge(tmp,how='left' ,on='uidx')\n",
    "\n",
    "print('doing add cnt by iidx(item_seq_number)...')\n",
    "tmp = df_train.groupby('iidx').size().to_frame().reset_index().rename(columns={0:'ads_cnt_by_iid'})\n",
    "tmp['ads_cnt_by_iid'] = tmp.ads_cnt_by_iid.astype('uint32')\n",
    "df_train =  df_train.merge(tmp,how='left' ,on='iidx')\n",
    "print('done')\n",
    "del tmp; gc.collect()"
   ]
  },
  {
   "cell_type": "markdown",
   "metadata": {},
   "source": [
    "###### region_city_label\n",
    "label encoder"
   ]
  },
  {
   "cell_type": "code",
   "execution_count": 17,
   "metadata": {},
   "outputs": [],
   "source": [
    "from sklearn.preprocessing import LabelEncoder"
   ]
  },
  {
   "cell_type": "code",
   "execution_count": 18,
   "metadata": {},
   "outputs": [],
   "source": [
    "def downcast(df):\n",
    "    for col in df:\n",
    "        if df[col].dtypes in ['float32','float64'] :\n",
    "            if df[col].max() <  np.finfo(np.float16).max:\n",
    "                df[col] = df[col].astype('float16')\n",
    "            else:\n",
    "                df[col] = df[col].astype('float32')\n",
    "        elif df[col].dtypes=='int64':            \n",
    "            if df[col].max() < np.iinfo(np.int16).max:\n",
    "                df[col] = df[col].astype('int16')\n",
    "            if df[col].max() > np.iinfo(np.int16).max:\n",
    "                df[col] = df[col].astype('int32')"
   ]
  },
  {
   "cell_type": "code",
   "execution_count": 19,
   "metadata": {},
   "outputs": [],
   "source": [
    "def create_label_encoding_with_min_count(df, column, min_count=50):\n",
    "    df[column] = df[column].astype('str')\n",
    "    column_counts = df.groupby([column])[column].transform(\"count\").astype(int)\n",
    "    column_values = np.where(column_counts >= min_count, df[column], \"\")\n",
    "    df[column+\"_label\"] = LabelEncoder().fit_transform(column_values)\n",
    "    \n",
    "    return df[column+\"_label\"]"
   ]
  },
  {
   "cell_type": "code",
   "execution_count": 20,
   "metadata": {},
   "outputs": [
    {
     "name": "stdout",
     "output_type": "stream",
     "text": [
      "param_1_label...\n",
      "param_2_label...\n",
      "param_3_label...\n",
      "user_type_label...\n",
      "day_label...\n",
      "weekday_label...\n",
      "category_name_label...\n",
      "parent_category_name_label...\n",
      "image_top_1_label...\n",
      "region_city_label...\n"
     ]
    }
   ],
   "source": [
    "df_train['region_city'] = df_train.groupby(['region','city'])['region'].transform(lambda x:np.random.random()) ## faster and encode it correctly!!\n",
    "\n",
    "label_cols = [\n",
    "    'param_1',\n",
    "    'param_2',\n",
    "    'param_3',\n",
    "    'user_type',\n",
    "    'day','weekday',\n",
    "    'category_name','parent_category_name',\n",
    "    'image_top_1','region_city'\n",
    "]\n",
    "\n",
    "for col in label_cols:\n",
    "    print(col+'_label...')\n",
    "    df_train[col+'_label'] = create_label_encoding_with_min_count(df_train,col, min_count=10)    \n",
    "    \n",
    "downcast(df_train)\n"
   ]
  },
  {
   "cell_type": "code",
   "execution_count": 21,
   "metadata": {},
   "outputs": [
    {
     "data": {
      "text/plain": [
       "(2011862, 39)"
      ]
     },
     "execution_count": 21,
     "metadata": {},
     "output_type": "execute_result"
    }
   ],
   "source": [
    "df_train.shape"
   ]
  },
  {
   "cell_type": "code",
   "execution_count": 22,
   "metadata": {},
   "outputs": [],
   "source": [
    "cat_list = [\n",
    "    'category_name','city','image_top_1','param_1','param_2','param_3',\n",
    "    'parent_category_name','region','user_type','weekday','day','region_city'\n",
    "]\n",
    "for cat in cat_list :\n",
    "    df_train[cat] = df_train[cat].astype('category')"
   ]
  },
  {
   "cell_type": "code",
   "execution_count": 23,
   "metadata": {},
   "outputs": [
    {
     "data": {
      "text/plain": [
       "activation_date               datetime64[ns]\n",
       "category_name                       category\n",
       "city                                category\n",
       "deal_probability                     float16\n",
       "description                           object\n",
       "image                                 object\n",
       "image_top_1                         category\n",
       "item_id                               object\n",
       "item_seq_number                       uint16\n",
       "param_1                             category\n",
       "param_2                             category\n",
       "param_3                             category\n",
       "parent_category_name                category\n",
       "price                                float32\n",
       "region                              category\n",
       "title                                 object\n",
       "user_id                               object\n",
       "user_type                           category\n",
       "iidx                                  uint16\n",
       "uidx                                  uint32\n",
       "iid                                    int32\n",
       "tit_len                                uint8\n",
       "desc_len                              uint16\n",
       "weekday                             category\n",
       "day                                 category\n",
       "month                                  uint8\n",
       "ads_cnt_by_uid                        uint32\n",
       "ads_cnt_by_iid                        uint32\n",
       "region_city                         category\n",
       "param_1_label                          int16\n",
       "param_2_label                          int16\n",
       "param_3_label                          int16\n",
       "user_type_label                        int16\n",
       "day_label                              int16\n",
       "weekday_label                          int16\n",
       "category_name_label                    int16\n",
       "parent_category_name_label             int16\n",
       "image_top_1_label                      int16\n",
       "region_city_label                      int16\n",
       "dtype: object"
      ]
     },
     "execution_count": 23,
     "metadata": {},
     "output_type": "execute_result"
    }
   ],
   "source": [
    "df_train.dtypes"
   ]
  },
  {
   "cell_type": "markdown",
   "metadata": {},
   "source": [
    "###### save to pickle"
   ]
  },
  {
   "cell_type": "code",
   "execution_count": 24,
   "metadata": {},
   "outputs": [],
   "source": [
    "df_test = df_train.iloc[len_trn:,].copy()"
   ]
  },
  {
   "cell_type": "code",
   "execution_count": 25,
   "metadata": {},
   "outputs": [
    {
     "data": {
      "text/plain": [
       "(508438, 39)"
      ]
     },
     "execution_count": 25,
     "metadata": {},
     "output_type": "execute_result"
    }
   ],
   "source": [
    "df_test.shape"
   ]
  },
  {
   "cell_type": "code",
   "execution_count": 26,
   "metadata": {},
   "outputs": [],
   "source": [
    "df_train = df_train.iloc[:len_trn,]"
   ]
  },
  {
   "cell_type": "code",
   "execution_count": 27,
   "metadata": {},
   "outputs": [
    {
     "data": {
      "text/plain": [
       "(1503424, 39)"
      ]
     },
     "execution_count": 27,
     "metadata": {},
     "output_type": "execute_result"
    }
   ],
   "source": [
    "df_train.shape"
   ]
  },
  {
   "cell_type": "code",
   "execution_count": 28,
   "metadata": {},
   "outputs": [
    {
     "data": {
      "text/plain": [
       "Index(['activation_date', 'category_name', 'city', 'deal_probability',\n",
       "       'description', 'image', 'image_top_1', 'item_id', 'item_seq_number',\n",
       "       'param_1', 'param_2', 'param_3', 'parent_category_name', 'price',\n",
       "       'region', 'title', 'user_id', 'user_type', 'iidx', 'uidx', 'iid',\n",
       "       'tit_len', 'desc_len', 'weekday', 'day', 'month', 'ads_cnt_by_uid',\n",
       "       'ads_cnt_by_iid', 'region_city', 'param_1_label', 'param_2_label',\n",
       "       'param_3_label', 'user_type_label', 'day_label', 'weekday_label',\n",
       "       'category_name_label', 'parent_category_name_label',\n",
       "       'image_top_1_label', 'region_city_label'],\n",
       "      dtype='object')"
      ]
     },
     "execution_count": 28,
     "metadata": {},
     "output_type": "execute_result"
    }
   ],
   "source": [
    "df_train.columns"
   ]
  },
  {
   "cell_type": "code",
   "execution_count": 29,
   "metadata": {},
   "outputs": [
    {
     "data": {
      "text/plain": [
       "Index                          11.470215\n",
       "activation_date                11.470215\n",
       "category_name                   1.441661\n",
       "city                            3.145476\n",
       "deal_probability                2.867554\n",
       "description                   630.896501\n",
       "image                         163.930866\n",
       "image_top_1                     3.128709\n",
       "item_id                        98.930603\n",
       "item_seq_number                 2.867554\n",
       "param_1                         2.923248\n",
       "param_2                         2.906304\n",
       "param_3                         2.990663\n",
       "parent_category_name            1.435184\n",
       "price                           5.735107\n",
       "region                          1.438120\n",
       "title                         174.760880\n",
       "user_id                        98.930603\n",
       "user_type                       1.434033\n",
       "iidx                            2.867554\n",
       "uidx                            5.735107\n",
       "iid                             5.735107\n",
       "tit_len                         1.433777\n",
       "desc_len                        2.867554\n",
       "weekday                         1.434469\n",
       "day                             1.435734\n",
       "month                           1.433777\n",
       "ads_cnt_by_uid                  5.735107\n",
       "ads_cnt_by_iid                  5.735107\n",
       "region_city                     3.069203\n",
       "param_1_label                   2.867554\n",
       "param_2_label                   2.867554\n",
       "param_3_label                   2.867554\n",
       "user_type_label                 2.867554\n",
       "day_label                       2.867554\n",
       "weekday_label                   2.867554\n",
       "category_name_label             2.867554\n",
       "parent_category_name_label      2.867554\n",
       "image_top_1_label               2.867554\n",
       "region_city_label               2.867554\n",
       "dtype: float64"
      ]
     },
     "execution_count": 29,
     "metadata": {},
     "output_type": "execute_result"
    }
   ],
   "source": [
    "df_train.memory_usage(deep=True) /(1024*1024)"
   ]
  },
  {
   "cell_type": "code",
   "execution_count": 37,
   "metadata": {},
   "outputs": [
    {
     "data": {
      "text/plain": [
       "uidx                                  uint32\n",
       "iidx                                  uint16\n",
       "region_city_label                      int16\n",
       "tit_len                                uint8\n",
       "desc_len                              uint16\n",
       "activation_date               datetime64[ns]\n",
       "month                                  uint8\n",
       "day                                 category\n",
       "weekday                             category\n",
       "param_1                             category\n",
       "param_2                             category\n",
       "param_3                             category\n",
       "user_type                           category\n",
       "parent_category_name                category\n",
       "price                                float32\n",
       "category_name                       category\n",
       "image_top_1                         category\n",
       "ads_cnt_by_uid                        uint32\n",
       "ads_cnt_by_iid                        uint32\n",
       "param_1_label                          int16\n",
       "param_2_label                          int16\n",
       "param_3_label                          int16\n",
       "user_type_label                        int16\n",
       "day_label                              int16\n",
       "weekday_label                          int16\n",
       "category_name_label                    int16\n",
       "parent_category_name_label             int16\n",
       "image_top_1_label                      int16\n",
       "region_city_label                      int16\n",
       "dtype: object"
      ]
     },
     "execution_count": 37,
     "metadata": {},
     "output_type": "execute_result"
    }
   ],
   "source": [
    "selcols = [    \n",
    "    'uidx','iidx','region_city_label', ## added encoded col --\n",
    "    'tit_len','desc_len', ## len of desc, title\n",
    "    'activation_date', ## act time\n",
    "    'month','day','weekday', ## date \n",
    "    'param_1','param_2','param_3', ## model_params\n",
    "    'user_type', # user\n",
    "    'parent_category_name','price','category_name','image_top_1', ## items info\n",
    "    'ads_cnt_by_uid', 'ads_cnt_by_iid' ## group by count\n",
    "    '',\n",
    "#     'deal_probability'  # y_target\n",
    "] \n",
    "label_cols_lst = [col +'_label' for col in label_cols]\n",
    "selcols += label_cols_lst\n",
    "df_train[selcols].dtypes"
   ]
  },
  {
   "cell_type": "code",
   "execution_count": 40,
   "metadata": {},
   "outputs": [],
   "source": [
    "y_cols = ['deal_probability']\n",
    "# df_train[selcols + y_cols].head().T\n",
    "df_trn_feat0 = df_train[selcols+y_cols].copy()\n",
    "df_test_feat0 = df_test[selcols].copy()"
   ]
  },
  {
   "cell_type": "code",
   "execution_count": 41,
   "metadata": {},
   "outputs": [
    {
     "name": "stdout",
     "output_type": "stream",
     "text": [
      "trn  shape (1503424, 30)\n",
      "test shape (508438, 29)\n"
     ]
    }
   ],
   "source": [
    "print('trn  shape',df_trn_feat0.shape)\n",
    "print('test shape',df_test_feat0.shape)"
   ]
  },
  {
   "cell_type": "code",
   "execution_count": 42,
   "metadata": {},
   "outputs": [],
   "source": [
    "df_trn_feat0.to_pickle('../input/feats/df_trn_feat0.pkl')\n",
    "df_test_feat0.to_pickle('../input/feats/df_test_feat0.pkl')"
   ]
  }
 ],
 "metadata": {
  "anaconda-cloud": {},
  "kernelspec": {
   "display_name": "Python [default]",
   "language": "python",
   "name": "python3"
  },
  "language_info": {
   "codemirror_mode": {
    "name": "ipython",
    "version": 3
   },
   "file_extension": ".py",
   "mimetype": "text/x-python",
   "name": "python",
   "nbconvert_exporter": "python",
   "pygments_lexer": "ipython3",
   "version": "3.5.2"
  }
 },
 "nbformat": 4,
 "nbformat_minor": 1
}
