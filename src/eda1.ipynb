{
 "cells": [
  {
   "cell_type": "markdown",
   "metadata": {},
   "source": [
    "# explore data"
   ]
  },
  {
   "cell_type": "code",
   "execution_count": 1,
   "metadata": {
    "collapsed": true
   },
   "outputs": [],
   "source": [
    "import pandas as pd \n",
    "import numpy as np \n",
    "import matplotlib.pyplot as plt\n",
    "import os \n",
    "import seaborn as sns\n",
    "%matplotlib inline"
   ]
  },
  {
   "cell_type": "code",
   "execution_count": 2,
   "metadata": {},
   "outputs": [
    {
     "name": "stdout",
     "output_type": "stream",
     "text": [
      "CPU times: user 1min 21s, sys: 2.38 s, total: 1min 23s\n",
      "Wall time: 1min 23s\n"
     ]
    }
   ],
   "source": [
    "%%time\n",
    "dtypes={\n",
    "    'price': 'float32',\n",
    "    'item_seq_number': 'uint16',\n",
    "    'image_top_1':'float32',\n",
    "    'deal_probabilty':'float32'\n",
    "}\n",
    "## train \n",
    "df_train = pd.read_csv('../input/train.csv.zip',compression='zip',parse_dates=['activation_date'],dtype=dtypes)\n",
    "## periods train -- Supplemental data showing the dates when the ads from train_active.csv were activated and when they where displayed.\n",
    "df_per_train = pd.read_csv('../input/periods_train.csv.zip',compression='zip',parse_dates=['activation_date','date_from','date_to'])\n",
    "## train  active\n",
    "df_test = pd.read_csv('../input/test.csv.zip',compression='zip',dtype=dtypes,parse_dates=['activation_date'])"
   ]
  },
  {
   "cell_type": "code",
   "execution_count": 3,
   "metadata": {},
   "outputs": [
    {
     "name": "stdout",
     "output_type": "stream",
     "text": [
      "CPU times: user 2min 3s, sys: 2.66 s, total: 2min 5s\n",
      "Wall time: 2min 7s\n"
     ]
    }
   ],
   "source": [
    "%%time\n",
    "dtypes1 = {\n",
    "    'item_seq_number':'float16',\n",
    "    'price':'float32'\n",
    "}\n",
    "# from_rows= 10000\n",
    "# to_rows = 20000\n",
    "# nrows = to_rows -from_rows \n",
    "# nrows = 10000\n",
    "df_act_trn = pd.read_csv('../input/train_active.csv.zip',compression='zip',dtype=dtypes1,parse_dates=['activation_date'],\n",
    "                         usecols=['item_id','user_id','city','activation_date']\n",
    "                        )"
   ]
  },
  {
   "cell_type": "markdown",
   "metadata": {},
   "source": [
    "# preprocess trick"
   ]
  },
  {
   "cell_type": "markdown",
   "metadata": {},
   "source": [
    "memory handle and increase the overall workflow speed from loading data to creating numerical features.\n",
    "\n",
    "most of them copy from [here](https://www.kaggle.com/frankherfert/tips-tricks-for-working-with-large-datasets/code)"
   ]
  },
  {
   "cell_type": "code",
   "execution_count": 4,
   "metadata": {},
   "outputs": [
    {
     "name": "stdout",
     "output_type": "stream",
     "text": [
      "<class 'pandas.core.frame.DataFrame'>\n",
      "RangeIndex: 1503424 entries, 0 to 1503423\n",
      "Data columns (total 18 columns):\n",
      "item_id                 1503424 non-null object\n",
      "user_id                 1503424 non-null object\n",
      "region                  1503424 non-null object\n",
      "city                    1503424 non-null object\n",
      "parent_category_name    1503424 non-null object\n",
      "category_name           1503424 non-null object\n",
      "param_1                 1441848 non-null object\n",
      "param_2                 848882 non-null object\n",
      "param_3                 640859 non-null object\n",
      "title                   1503424 non-null object\n",
      "description             1387148 non-null object\n",
      "price                   1418062 non-null float32\n",
      "item_seq_number         1503424 non-null uint16\n",
      "activation_date         1503424 non-null datetime64[ns]\n",
      "user_type               1503424 non-null object\n",
      "image                   1390836 non-null object\n",
      "image_top_1             1390836 non-null float32\n",
      "deal_probability        1503424 non-null float64\n",
      "dtypes: datetime64[ns](1), float32(2), float64(1), object(13), uint16(1)\n",
      "memory usage: 186.4+ MB\n"
     ]
    }
   ],
   "source": [
    "df_train.info()"
   ]
  },
  {
   "cell_type": "code",
   "execution_count": 6,
   "metadata": {},
   "outputs": [
    {
     "data": {
      "text/plain": [
       "Index                     0.000080\n",
       "item_id                 103.736256\n",
       "user_id                 103.736256\n",
       "region                  175.523224\n",
       "city                    149.200882\n",
       "parent_category_name    159.927206\n",
       "category_name           180.110126\n",
       "param_1                 154.299798\n",
       "param_2                 105.593229\n",
       "param_3                  85.584612\n",
       "title                   183.250065\n",
       "description             658.519753\n",
       "price                     6.013696\n",
       "item_seq_number           3.006848\n",
       "activation_date          12.027392\n",
       "user_type                95.977729\n",
       "image                   171.893972\n",
       "image_top_1               6.013696\n",
       "deal_probability         12.027392\n",
       "dtype: float64"
      ]
     },
     "execution_count": 6,
     "metadata": {},
     "output_type": "execute_result"
    }
   ],
   "source": [
    "df_train.memory_usage(deep=True)*1e-6"
   ]
  },
  {
   "cell_type": "markdown",
   "metadata": {},
   "source": [
    "use category instead of Object"
   ]
  },
  {
   "cell_type": "code",
   "execution_count": 4,
   "metadata": {
    "collapsed": true
   },
   "outputs": [],
   "source": [
    "def convert_columns_to_catg(df, column_list):\n",
    "    for col in column_list:\n",
    "        print(\"converting\", col.ljust(30), \"size: \", round(df[col].memory_usage(deep=True)*1e-6,2), end=\"\\t\")\n",
    "        df[col] = df[col].astype(\"category\")\n",
    "        print(\"->\\t\", round(df[col].memory_usage(deep=True)*1e-6,2))"
   ]
  },
  {
   "cell_type": "code",
   "execution_count": 5,
   "metadata": {},
   "outputs": [
    {
     "name": "stdout",
     "output_type": "stream",
     "text": [
      "converting city                           size:  149.2\t->\t 3.3\n",
      "converting region                         size:  175.52\t->\t 1.51\n",
      "converting param_1                        size:  154.3\t->\t 3.06\n",
      "converting param_2                        size:  105.84\t->\t 3.04\n",
      "converting param_3                        size:  85.66\t->\t 3.13\n",
      "converting parent_category_name           size:  159.93\t->\t 1.5\n",
      "converting category_name                  size:  180.11\t->\t 1.51\n",
      "converting user_type                      size:  95.98\t->\t 1.5\n"
     ]
    }
   ],
   "source": [
    "convert_columns_to_catg(df_train, ['city','region',\"param_1\",\"param_2\",\"param_3\",\"parent_category_name\",\"category_name\", \"user_type\"])"
   ]
  },
  {
   "cell_type": "code",
   "execution_count": 6,
   "metadata": {},
   "outputs": [
    {
     "data": {
      "text/plain": [
       "Index                     0.000076\n",
       "item_id                  98.930603\n",
       "user_id                  98.930603\n",
       "region                    1.439054\n",
       "city                      3.143326\n",
       "parent_category_name      1.435184\n",
       "category_name             1.441661\n",
       "param_1                   2.914475\n",
       "param_2                   2.901285\n",
       "param_3                   2.984812\n",
       "title                   174.760999\n",
       "description             628.012864\n",
       "price                     5.735107\n",
       "item_seq_number           2.867554\n",
       "activation_date          11.470215\n",
       "user_type                 1.434033\n",
       "image                   163.930866\n",
       "image_top_1               5.735107\n",
       "deal_probability         11.470215\n",
       "dtype: float64"
      ]
     },
     "execution_count": 6,
     "metadata": {},
     "output_type": "execute_result"
    }
   ],
   "source": [
    "df_train.memory_usage(deep=True)/(2**20) # MB"
   ]
  },
  {
   "cell_type": "code",
   "execution_count": 7,
   "metadata": {},
   "outputs": [
    {
     "name": "stdout",
     "output_type": "stream",
     "text": [
      "converting city                           size:  50.43\t->\t 1.3\n",
      "converting region                         size:  59.26\t->\t 0.51\n",
      "converting param_1                        size:  51.94\t->\t 1.07\n",
      "converting param_2                        size:  34.82\t->\t 1.05\n",
      "converting param_3                        size:  27.86\t->\t 1.12\n",
      "converting parent_category_name           size:  54.09\t->\t 0.51\n",
      "converting category_name                  size:  60.6\t->\t 0.52\n",
      "converting user_type                      size:  32.45\t->\t 0.51\n"
     ]
    }
   ],
   "source": [
    "cat_cols=['city','region',\"param_1\",\"param_2\",\"param_3\",\"parent_category_name\",\"category_name\", \"user_type\"]\n",
    "convert_columns_to_catg(df_test,cat_cols)"
   ]
  },
  {
   "cell_type": "markdown",
   "metadata": {},
   "source": [
    "pickle it "
   ]
  },
  {
   "cell_type": "code",
   "execution_count": 8,
   "metadata": {},
   "outputs": [
    {
     "name": "stdout",
     "output_type": "stream",
     "text": [
      "train.csv.zip: 322.55268\n",
      "train.pkl: 719.444979\n",
      "test.csv.zip: 112.37416999999999\n",
      "test.pkl: 250.91228099999998\n"
     ]
    }
   ],
   "source": [
    "df_train.to_pickle('../input/train.pkl')\n",
    "df_test.to_pickle('../input/test.pkl')\n",
    "# size is shown in bytes again and needs to be converted to megabytes\n",
    "print(\"train.csv.zip:\", os.stat('../input/train.csv.zip').st_size * 1e-6)\n",
    "print(\"train.pkl:\", os.stat('../input/train.pkl').st_size * 1e-6)\n",
    "\n",
    "print(\"test.csv.zip:\", os.stat('../input/test.csv.zip').st_size * 1e-6)\n",
    "print(\"test.pkl:\", os.stat('../input/test.pkl').st_size * 1e-6)"
   ]
  },
  {
   "cell_type": "markdown",
   "metadata": {},
   "source": [
    "load"
   ]
  },
  {
   "cell_type": "code",
   "execution_count": 2,
   "metadata": {},
   "outputs": [
    {
     "name": "stdout",
     "output_type": "stream",
     "text": [
      "CPU times: user 3.08 s, sys: 784 ms, total: 3.86 s\n",
      "Wall time: 4.24 s\n"
     ]
    }
   ],
   "source": [
    "%%time \n",
    "df_train = pd.read_pickle('../input/train.pkl')"
   ]
  },
  {
   "cell_type": "markdown",
   "metadata": {},
   "source": [
    "___"
   ]
  },
  {
   "cell_type": "markdown",
   "metadata": {},
   "source": [
    "# Label encoding"
   ]
  },
  {
   "cell_type": "code",
   "execution_count": 44,
   "metadata": {},
   "outputs": [
    {
     "data": {
      "text/plain": [
       "Белгородская область    28868\n",
       "Ханты-Мансийский АО     28709\n",
       "Удмуртия                28537\n",
       "Владимирская область    26741\n",
       "Тульская область        25733\n",
       "Name: region, dtype: int64"
      ]
     },
     "execution_count": 44,
     "metadata": {},
     "output_type": "execute_result"
    }
   ],
   "source": [
    "df_train.region.value_counts().tail()"
   ]
  },
  {
   "cell_type": "code",
   "execution_count": 45,
   "metadata": {},
   "outputs": [
    {
     "data": {
      "text/plain": [
       "7135b1db86a6    1\n",
       "ee807c843259    1\n",
       "968fae4fbda3    1\n",
       "bf26da052da7    1\n",
       "4c8b0bb81e6f    1\n",
       "Name: user_id, dtype: int64"
      ]
     },
     "execution_count": 45,
     "metadata": {},
     "output_type": "execute_result"
    }
   ],
   "source": [
    "df_train.user_id.value_counts().tail()"
   ]
  },
  {
   "cell_type": "markdown",
   "metadata": {},
   "source": [
    "we need create count threshold for user_id "
   ]
  },
  {
   "cell_type": "code",
   "execution_count": 52,
   "metadata": {
    "collapsed": true
   },
   "outputs": [],
   "source": [
    "from sklearn.preprocessing import LabelEncoder"
   ]
  },
  {
   "cell_type": "code",
   "execution_count": 64,
   "metadata": {
    "collapsed": true
   },
   "outputs": [],
   "source": [
    "def create_label_encoding_with_min_count(df, column, min_count=50):\n",
    "    column_counts = df.groupby([column])[column].transform(\"count\").astype(int)\n",
    "    column_values = np.where(column_counts >= min_count, df[column], \"\")\n",
    "    df[column+\"_label\"] = LabelEncoder().fit_transform(column_values)\n",
    "    \n",
    "    return df[column+\"_label\"]"
   ]
  },
  {
   "cell_type": "code",
   "execution_count": 70,
   "metadata": {},
   "outputs": [
    {
     "name": "stdout",
     "output_type": "stream",
     "text": [
      "number of unique users      : 771769\n",
      "number of unique user labels: 562\n"
     ]
    }
   ],
   "source": [
    "print(\"number of unique users      :\", len(df_train[\"user_id\"].unique()))\n",
    "print(\"number of unique user labels:\", len(df_train[\"user_id_label\"].unique()))"
   ]
  },
  {
   "cell_type": "markdown",
   "metadata": {},
   "source": [
    "multi_column encoding"
   ]
  },
  {
   "cell_type": "code",
   "execution_count": 72,
   "metadata": {},
   "outputs": [
    {
     "data": {
      "text/plain": [
       "Калининградская область    179\n",
       "Саратовская область         36\n",
       "Оренбургская область         5\n",
       "Ярославская область          0\n",
       "Новосибирская область        0\n",
       "Name: region, dtype: int64"
      ]
     },
     "execution_count": 72,
     "metadata": {},
     "output_type": "execute_result"
    }
   ],
   "source": [
    "df_train.loc[df_train[\"city\"]==\"Светлый\", \"region\"].value_counts().head()"
   ]
  },
  {
   "cell_type": "code",
   "execution_count": 76,
   "metadata": {
    "collapsed": true
   },
   "outputs": [],
   "source": [
    "df_train['region_city'] = df_train.loc[:,['region','city']].apply(lambda s: ' '.join(s),axis=1)"
   ]
  },
  {
   "cell_type": "code",
   "execution_count": 77,
   "metadata": {},
   "outputs": [
    {
     "name": "stdout",
     "output_type": "stream",
     "text": [
      "unique: 1804\n",
      "size:   284.043633\n"
     ]
    }
   ],
   "source": [
    "print(\"unique:\", len(df_train[\"region_city\"].unique()))\n",
    "print(\"size:  \", df_train[\"region_city\"].memory_usage(deep=True)*1e-6) ## not only time cost, but memory used a lot,"
   ]
  },
  {
   "cell_type": "code",
   "execution_count": 81,
   "metadata": {},
   "outputs": [
    {
     "data": {
      "text/plain": [
       "0.822676    63638\n",
       "0.025276    63602\n",
       "0.670610    56929\n",
       "0.781169    52323\n",
       "0.530917    52010\n",
       "Name: region_city2, dtype: int64"
      ]
     },
     "execution_count": 81,
     "metadata": {},
     "output_type": "execute_result"
    }
   ],
   "source": [
    "df_train['region_city2'] = df_train.groupby(['region','city'])['region'].transform(lambda x:np.random.random()) ## faster and encode it correctly!!\n",
    "df_train.region_city2.value_counts().head()"
   ]
  },
  {
   "cell_type": "code",
   "execution_count": 83,
   "metadata": {},
   "outputs": [
    {
     "name": "stdout",
     "output_type": "stream",
     "text": [
      "unique: 1804\n",
      "size:   12.027472\n"
     ]
    }
   ],
   "source": [
    "print(\"unique:\", len(df_train[\"region_city2\"].unique()))\n",
    "print(\"size:  \", df_train[\"region_city2\"].memory_usage(deep=True)*1e-6)"
   ]
  },
  {
   "cell_type": "code",
   "execution_count": 84,
   "metadata": {
    "collapsed": true
   },
   "outputs": [],
   "source": [
    "df_train['region_city2_label']=create_label_encoding_with_min_count(df_train,'region_city2',min_count=50)"
   ]
  },
  {
   "cell_type": "code",
   "execution_count": 86,
   "metadata": {},
   "outputs": [
    {
     "data": {
      "text/plain": [
       "Index(['item_id', 'user_id', 'region', 'city', 'parent_category_name',\n",
       "       'category_name', 'param_1', 'param_2', 'param_3', 'title',\n",
       "       'description', 'price', 'item_seq_number', 'activation_date',\n",
       "       'user_type', 'image', 'image_top_1', 'deal_probability',\n",
       "       'user_id_label', 'region_city', 'region_city2', 'region_city2_label'],\n",
       "      dtype='object')"
      ]
     },
     "execution_count": 86,
     "metadata": {},
     "output_type": "execute_result"
    }
   ],
   "source": [
    "df_train.columns"
   ]
  },
  {
   "cell_type": "code",
   "execution_count": 85,
   "metadata": {},
   "outputs": [
    {
     "data": {
      "text/plain": [
       "2137"
      ]
     },
     "execution_count": 85,
     "metadata": {},
     "output_type": "execute_result"
    }
   ],
   "source": [
    "gc.collect()"
   ]
  },
  {
   "cell_type": "markdown",
   "metadata": {},
   "source": [
    "#### description, title words numbers"
   ]
  },
  {
   "cell_type": "code",
   "execution_count": 91,
   "metadata": {
    "collapsed": true
   },
   "outputs": [],
   "source": [
    "df_train['title'] = df_train.title.fillna(\" \")\n",
    "df_train['title_len'] = df_train.title.apply(lambda x:len(x.split())).astype('uint8')\n",
    "df_train['title_char'] = df_train.title.apply(len).astype('uint8')"
   ]
  },
  {
   "cell_type": "code",
   "execution_count": 92,
   "metadata": {},
   "outputs": [
    {
     "data": {
      "text/plain": [
       "<matplotlib.axes._subplots.AxesSubplot at 0x69c50efba8>"
      ]
     },
     "execution_count": 92,
     "metadata": {},
     "output_type": "execute_result"
    },
    {
     "data": {
      "image/png": "[encoded data removed]",
      "text/plain": [
       "<matplotlib.figure.Figure at 0x69c142cfd0>"
      ]
     },
     "metadata": {},
     "output_type": "display_data"
    }
   ],
   "source": [
    "df_train.title_len.value_counts(sort=False).plot(kind='bar')"
   ]
  },
  {
   "cell_type": "code",
   "execution_count": 93,
   "metadata": {},
   "outputs": [
    {
     "data": {
      "text/plain": [
       "<matplotlib.axes._subplots.AxesSubplot at 0x69c1419ba8>"
      ]
     },
     "execution_count": 93,
     "metadata": {},
     "output_type": "execute_result"
    },
    {
     "data": {
      "image/png": "[encoded data removed]",
      "text/plain": [
       "<matplotlib.figure.Figure at 0x69c4e34940>"
      ]
     },
     "metadata": {},
     "output_type": "display_data"
    }
   ],
   "source": [
    "df_train.title_char.value_counts(sort=False).plot(kind='bar')"
   ]
  },
  {
   "cell_type": "markdown",
   "metadata": {},
   "source": [
    "description "
   ]
  },
  {
   "cell_type": "code",
   "execution_count": 94,
   "metadata": {
    "collapsed": true
   },
   "outputs": [],
   "source": [
    "df_train['description'] = df_train.description.fillna(\" \")\n",
    "df_train['description_len'] = df_train.description.apply(lambda x:len(x.split())).astype('uint16')\n",
    "df_train['description_char'] = df_train.description.apply(len).astype('uint16')"
   ]
  },
  {
   "cell_type": "code",
   "execution_count": 95,
   "metadata": {},
   "outputs": [
    {
     "data": {
      "image/png": "[encoded data removed]",
      "text/plain": [
       "<matplotlib.figure.Figure at 0x69c4e8bb00>"
      ]
     },
     "metadata": {},
     "output_type": "display_data"
    }
   ],
   "source": [
    "ax = df_train.description_len.value_counts(sort=False).plot(kind='bar',log=True)\n",
    "# ax.axis('off')\n",
    "ax.get_xaxis().set_visible(False)"
   ]
  },
  {
   "cell_type": "code",
   "execution_count": 96,
   "metadata": {},
   "outputs": [
    {
     "data": {
      "text/plain": [
       "1     116616\n",
       "19     10376\n",
       "20      9823\n",
       "44      9497\n",
       "37      9484\n",
       "Name: description_char, dtype: int64"
      ]
     },
     "execution_count": 96,
     "metadata": {},
     "output_type": "execute_result"
    }
   ],
   "source": [
    "df_train.description_char.value_counts().head()#.plot(kind='bar',log=True)\n"
   ]
  },
  {
   "cell_type": "code",
   "execution_count": 99,
   "metadata": {},
   "outputs": [
    {
     "data": {
      "text/html": [
       "<div>\n",
       "<style>\n",
       "    .dataframe thead tr:only-child th {\n",
       "        text-align: right;\n",
       "    }\n",
       "\n",
       "    .dataframe thead th {\n",
       "        text-align: left;\n",
       "    }\n",
       "\n",
       "    .dataframe tbody tr th {\n",
       "        vertical-align: top;\n",
       "    }\n",
       "</style>\n",
       "<table border=\"1\" class=\"dataframe\">\n",
       "  <thead>\n",
       "    <tr style=\"text-align: right;\">\n",
       "      <th></th>\n",
       "      <th>price</th>\n",
       "      <th>item_seq_number</th>\n",
       "      <th>image_top_1</th>\n",
       "      <th>deal_probability</th>\n",
       "      <th>user_id_label</th>\n",
       "      <th>region_city2</th>\n",
       "      <th>region_city2_label</th>\n",
       "      <th>title_len</th>\n",
       "      <th>title_char</th>\n",
       "      <th>description_len</th>\n",
       "      <th>description_char</th>\n",
       "    </tr>\n",
       "  </thead>\n",
       "  <tbody>\n",
       "    <tr>\n",
       "      <th>price</th>\n",
       "      <td>1.000000</td>\n",
       "      <td>0.005330</td>\n",
       "      <td>0.034404</td>\n",
       "      <td>-0.001097</td>\n",
       "      <td>0.002833</td>\n",
       "      <td>0.000187</td>\n",
       "      <td>0.000157</td>\n",
       "      <td>0.004445</td>\n",
       "      <td>0.002057</td>\n",
       "      <td>0.003331</td>\n",
       "      <td>0.003407</td>\n",
       "    </tr>\n",
       "    <tr>\n",
       "      <th>item_seq_number</th>\n",
       "      <td>0.005330</td>\n",
       "      <td>1.000000</td>\n",
       "      <td>0.100856</td>\n",
       "      <td>-0.042210</td>\n",
       "      <td>0.480811</td>\n",
       "      <td>0.058882</td>\n",
       "      <td>0.059850</td>\n",
       "      <td>0.154716</td>\n",
       "      <td>0.110947</td>\n",
       "      <td>0.146994</td>\n",
       "      <td>0.153766</td>\n",
       "    </tr>\n",
       "    <tr>\n",
       "      <th>image_top_1</th>\n",
       "      <td>0.034404</td>\n",
       "      <td>0.100856</td>\n",
       "      <td>1.000000</td>\n",
       "      <td>0.189979</td>\n",
       "      <td>0.114632</td>\n",
       "      <td>0.025886</td>\n",
       "      <td>0.021184</td>\n",
       "      <td>0.246651</td>\n",
       "      <td>0.181581</td>\n",
       "      <td>0.186783</td>\n",
       "      <td>0.189068</td>\n",
       "    </tr>\n",
       "    <tr>\n",
       "      <th>deal_probability</th>\n",
       "      <td>-0.001097</td>\n",
       "      <td>-0.042210</td>\n",
       "      <td>0.189979</td>\n",
       "      <td>1.000000</td>\n",
       "      <td>-0.070740</td>\n",
       "      <td>0.001743</td>\n",
       "      <td>0.001783</td>\n",
       "      <td>0.016143</td>\n",
       "      <td>0.014537</td>\n",
       "      <td>-0.000968</td>\n",
       "      <td>0.002225</td>\n",
       "    </tr>\n",
       "    <tr>\n",
       "      <th>user_id_label</th>\n",
       "      <td>0.002833</td>\n",
       "      <td>0.480811</td>\n",
       "      <td>0.114632</td>\n",
       "      <td>-0.070740</td>\n",
       "      <td>1.000000</td>\n",
       "      <td>0.039893</td>\n",
       "      <td>0.042487</td>\n",
       "      <td>0.185151</td>\n",
       "      <td>0.169411</td>\n",
       "      <td>0.254417</td>\n",
       "      <td>0.258256</td>\n",
       "    </tr>\n",
       "    <tr>\n",
       "      <th>region_city2</th>\n",
       "      <td>0.000187</td>\n",
       "      <td>0.058882</td>\n",
       "      <td>0.025886</td>\n",
       "      <td>0.001743</td>\n",
       "      <td>0.039893</td>\n",
       "      <td>1.000000</td>\n",
       "      <td>0.977572</td>\n",
       "      <td>0.027970</td>\n",
       "      <td>0.018207</td>\n",
       "      <td>0.017674</td>\n",
       "      <td>0.018524</td>\n",
       "    </tr>\n",
       "    <tr>\n",
       "      <th>region_city2_label</th>\n",
       "      <td>0.000157</td>\n",
       "      <td>0.059850</td>\n",
       "      <td>0.021184</td>\n",
       "      <td>0.001783</td>\n",
       "      <td>0.042487</td>\n",
       "      <td>0.977572</td>\n",
       "      <td>1.000000</td>\n",
       "      <td>0.022780</td>\n",
       "      <td>0.018290</td>\n",
       "      <td>0.018905</td>\n",
       "      <td>0.019547</td>\n",
       "    </tr>\n",
       "    <tr>\n",
       "      <th>title_len</th>\n",
       "      <td>0.004445</td>\n",
       "      <td>0.154716</td>\n",
       "      <td>0.246651</td>\n",
       "      <td>0.016143</td>\n",
       "      <td>0.185151</td>\n",
       "      <td>0.027970</td>\n",
       "      <td>0.022780</td>\n",
       "      <td>1.000000</td>\n",
       "      <td>0.855498</td>\n",
       "      <td>0.311825</td>\n",
       "      <td>0.312124</td>\n",
       "    </tr>\n",
       "    <tr>\n",
       "      <th>title_char</th>\n",
       "      <td>0.002057</td>\n",
       "      <td>0.110947</td>\n",
       "      <td>0.181581</td>\n",
       "      <td>0.014537</td>\n",
       "      <td>0.169411</td>\n",
       "      <td>0.018207</td>\n",
       "      <td>0.018290</td>\n",
       "      <td>0.855498</td>\n",
       "      <td>1.000000</td>\n",
       "      <td>0.312667</td>\n",
       "      <td>0.315814</td>\n",
       "    </tr>\n",
       "    <tr>\n",
       "      <th>description_len</th>\n",
       "      <td>0.003331</td>\n",
       "      <td>0.146994</td>\n",
       "      <td>0.186783</td>\n",
       "      <td>-0.000968</td>\n",
       "      <td>0.254417</td>\n",
       "      <td>0.017674</td>\n",
       "      <td>0.018905</td>\n",
       "      <td>0.311825</td>\n",
       "      <td>0.312667</td>\n",
       "      <td>1.000000</td>\n",
       "      <td>0.989991</td>\n",
       "    </tr>\n",
       "    <tr>\n",
       "      <th>description_char</th>\n",
       "      <td>0.003407</td>\n",
       "      <td>0.153766</td>\n",
       "      <td>0.189068</td>\n",
       "      <td>0.002225</td>\n",
       "      <td>0.258256</td>\n",
       "      <td>0.018524</td>\n",
       "      <td>0.019547</td>\n",
       "      <td>0.312124</td>\n",
       "      <td>0.315814</td>\n",
       "      <td>0.989991</td>\n",
       "      <td>1.000000</td>\n",
       "    </tr>\n",
       "  </tbody>\n",
       "</table>\n",
       "</div>"
      ],
      "text/plain": [
       "                       price  item_seq_number  image_top_1  deal_probability  \\\n",
       "price               1.000000         0.005330     0.034404         -0.001097   \n",
       "item_seq_number     0.005330         1.000000     0.100856         -0.042210   \n",
       "image_top_1         0.034404         0.100856     1.000000          0.189979   \n",
       "deal_probability   -0.001097        -0.042210     0.189979          1.000000   \n",
       "user_id_label       0.002833         0.480811     0.114632         -0.070740   \n",
       "region_city2        0.000187         0.058882     0.025886          0.001743   \n",
       "region_city2_label  0.000157         0.059850     0.021184          0.001783   \n",
       "title_len           0.004445         0.154716     0.246651          0.016143   \n",
       "title_char          0.002057         0.110947     0.181581          0.014537   \n",
       "description_len     0.003331         0.146994     0.186783         -0.000968   \n",
       "description_char    0.003407         0.153766     0.189068          0.002225   \n",
       "\n",
       "                    user_id_label  region_city2  region_city2_label  \\\n",
       "price                    0.002833      0.000187            0.000157   \n",
       "item_seq_number          0.480811      0.058882            0.059850   \n",
       "image_top_1              0.114632      0.025886            0.021184   \n",
       "deal_probability        -0.070740      0.001743            0.001783   \n",
       "user_id_label            1.000000      0.039893            0.042487   \n",
       "region_city2             0.039893      1.000000            0.977572   \n",
       "region_city2_label       0.042487      0.977572            1.000000   \n",
       "title_len                0.185151      0.027970            0.022780   \n",
       "title_char               0.169411      0.018207            0.018290   \n",
       "description_len          0.254417      0.017674            0.018905   \n",
       "description_char         0.258256      0.018524            0.019547   \n",
       "\n",
       "                    title_len  title_char  description_len  description_char  \n",
       "price                0.004445    0.002057         0.003331          0.003407  \n",
       "item_seq_number      0.154716    0.110947         0.146994          0.153766  \n",
       "image_top_1          0.246651    0.181581         0.186783          0.189068  \n",
       "deal_probability     0.016143    0.014537        -0.000968          0.002225  \n",
       "user_id_label        0.185151    0.169411         0.254417          0.258256  \n",
       "region_city2         0.027970    0.018207         0.017674          0.018524  \n",
       "region_city2_label   0.022780    0.018290         0.018905          0.019547  \n",
       "title_len            1.000000    0.855498         0.311825          0.312124  \n",
       "title_char           0.855498    1.000000         0.312667          0.315814  \n",
       "description_len      0.311825    0.312667         1.000000          0.989991  \n",
       "description_char     0.312124    0.315814         0.989991          1.000000  "
      ]
     },
     "execution_count": 99,
     "metadata": {},
     "output_type": "execute_result"
    }
   ],
   "source": [
    "df_train.corr()"
   ]
  },
  {
   "cell_type": "code",
   "execution_count": 100,
   "metadata": {},
   "outputs": [
    {
     "data": {
      "image/png": "[encoded data removed]",
      "text/plain": [
       "<matplotlib.figure.Figure at 0x69c7210160>"
      ]
     },
     "metadata": {},
     "output_type": "display_data"
    }
   ],
   "source": [
    "corr = df_train.corr()\n",
    "mask = np.zeros_like(corr, dtype=np.bool)\n",
    "mask[np.triu_indices_from(mask)] = True\n",
    "sns.set(style=\"white\")\n",
    "\n",
    "cmap = sns.diverging_palette(30,10,as_cmap=True)\n",
    "sns.heatmap(corr,cmap=cmap,center=0,square=True,vmax=.3,linewidths=.1, cbar_kws={\"shrink\": .5});"
   ]
  },
  {
   "cell_type": "markdown",
   "metadata": {},
   "source": [
    "____"
   ]
  },
  {
   "cell_type": "markdown",
   "metadata": {},
   "source": [
    "encode `user_id`, `item_seq_numbers` with `uidx`, `iidx`"
   ]
  },
  {
   "cell_type": "code",
   "execution_count": 103,
   "metadata": {
    "collapsed": true
   },
   "outputs": [],
   "source": [
    "import scipy.sparse as sp"
   ]
  },
  {
   "cell_type": "code",
   "execution_count": 102,
   "metadata": {
    "collapsed": true
   },
   "outputs": [],
   "source": [
    "def get_df_matrix_mappings(df, row_name, col_name):\n",
    "    # Create mappings\n",
    "    rid_to_idx = {}\n",
    "    idx_to_rid = {}\n",
    "    for (idx, rid) in enumerate(df[row_name].unique().tolist()):\n",
    "        rid_to_idx[rid] = idx\n",
    "        idx_to_rid[idx] = rid\n",
    "\n",
    "\n",
    "    cid_to_idx = {}\n",
    "    idx_to_cid = {}\n",
    "    for (idx, cid) in enumerate(df[col_name].unique().tolist()):\n",
    "        cid_to_idx[cid] = idx\n",
    "        idx_to_cid[idx] = cid\n",
    "\n",
    "\n",
    "    return rid_to_idx, idx_to_rid, cid_to_idx, idx_to_cid"
   ]
  },
  {
   "cell_type": "code",
   "execution_count": 104,
   "metadata": {
    "collapsed": true
   },
   "outputs": [],
   "source": [
    "rid_to_idx, idx_to_rid, cid_to_idx, idx_to_cid = get_df_matrix_mappings(df_train,'user_id','item_seq_number')"
   ]
  },
  {
   "cell_type": "code",
   "execution_count": 105,
   "metadata": {
    "collapsed": true
   },
   "outputs": [],
   "source": [
    "df_trn_uidx = pd.DataFrame()\n",
    "df_trn_uidx['uidx']= df_train.user_id.map(rid_to_idx)\n",
    "df_trn_uidx['iidx']= df_train.item_seq_number.map(cid_to_idx)\n",
    "df_trn_uidx['uid'] = df_train.user_id\n",
    "df_trn_uidx['iid'] = df_train.item_seq_number"
   ]
  },
  {
   "cell_type": "code",
   "execution_count": 106,
   "metadata": {},
   "outputs": [
    {
     "data": {
      "text/html": [
       "<div>\n",
       "<style>\n",
       "    .dataframe thead tr:only-child th {\n",
       "        text-align: right;\n",
       "    }\n",
       "\n",
       "    .dataframe thead th {\n",
       "        text-align: left;\n",
       "    }\n",
       "\n",
       "    .dataframe tbody tr th {\n",
       "        vertical-align: top;\n",
       "    }\n",
       "</style>\n",
       "<table border=\"1\" class=\"dataframe\">\n",
       "  <thead>\n",
       "    <tr style=\"text-align: right;\">\n",
       "      <th></th>\n",
       "      <th>uidx</th>\n",
       "      <th>iidx</th>\n",
       "      <th>uid</th>\n",
       "      <th>iid</th>\n",
       "    </tr>\n",
       "  </thead>\n",
       "  <tbody>\n",
       "    <tr>\n",
       "      <th>0</th>\n",
       "      <td>0</td>\n",
       "      <td>0</td>\n",
       "      <td>e00f8ff2eaf9</td>\n",
       "      <td>2</td>\n",
       "    </tr>\n",
       "    <tr>\n",
       "      <th>1</th>\n",
       "      <td>1</td>\n",
       "      <td>1</td>\n",
       "      <td>39aeb48f0017</td>\n",
       "      <td>19</td>\n",
       "    </tr>\n",
       "    <tr>\n",
       "      <th>2</th>\n",
       "      <td>2</td>\n",
       "      <td>2</td>\n",
       "      <td>91e2f88dd6e3</td>\n",
       "      <td>9</td>\n",
       "    </tr>\n",
       "    <tr>\n",
       "      <th>3</th>\n",
       "      <td>3</td>\n",
       "      <td>3</td>\n",
       "      <td>bf5cccea572d</td>\n",
       "      <td>286</td>\n",
       "    </tr>\n",
       "    <tr>\n",
       "      <th>4</th>\n",
       "      <td>4</td>\n",
       "      <td>4</td>\n",
       "      <td>ef50846afc0b</td>\n",
       "      <td>3</td>\n",
       "    </tr>\n",
       "  </tbody>\n",
       "</table>\n",
       "</div>"
      ],
      "text/plain": [
       "   uidx  iidx           uid  iid\n",
       "0     0     0  e00f8ff2eaf9    2\n",
       "1     1     1  39aeb48f0017   19\n",
       "2     2     2  91e2f88dd6e3    9\n",
       "3     3     3  bf5cccea572d  286\n",
       "4     4     4  ef50846afc0b    3"
      ]
     },
     "execution_count": 106,
     "metadata": {},
     "output_type": "execute_result"
    }
   ],
   "source": [
    "df_trn_uidx.head()"
   ]
  },
  {
   "cell_type": "code",
   "execution_count": 58,
   "metadata": {
    "collapsed": true
   },
   "outputs": [],
   "source": [
    "# df_train[['user_id','item_id']].drop_duplicates().shape # no duplicated u-i combiniation"
   ]
  },
  {
   "cell_type": "code",
   "execution_count": 107,
   "metadata": {
    "collapsed": true
   },
   "outputs": [],
   "source": [
    "I = df_trn_uidx.uidx.as_matrix()\n",
    "J = df_trn_uidx.iidx.as_matrix()\n",
    "V = np.ones(df_trn_uidx.shape[0])\n",
    "\n",
    "ui_trn_sp = sp.coo_matrix((V,(I,J)),dtype='uint8')"
   ]
  },
  {
   "cell_type": "code",
   "execution_count": 108,
   "metadata": {},
   "outputs": [
    {
     "data": {
      "text/plain": [
       "(771769, 26079)"
      ]
     },
     "execution_count": 108,
     "metadata": {},
     "output_type": "execute_result"
    }
   ],
   "source": [
    "ui_trn_sp.shape ## "
   ]
  },
  {
   "cell_type": "code",
   "execution_count": 109,
   "metadata": {
    "collapsed": true
   },
   "outputs": [],
   "source": [
    "ui_trn_csr =ui_trn_sp.tocsr()"
   ]
  },
  {
   "cell_type": "code",
   "execution_count": 112,
   "metadata": {},
   "outputs": [
    {
     "data": {
      "text/plain": [
       "<matplotlib.lines.Line2D at 0x69ccd18e10>"
      ]
     },
     "execution_count": 112,
     "metadata": {},
     "output_type": "execute_result"
    },
    {
     "data": {
      "image/png": "[encoded data removed]",
      "text/plain": [
       "<matplotlib.figure.Figure at 0x69ccc739b0>"
      ]
     },
     "metadata": {},
     "output_type": "display_data"
    }
   ],
   "source": [
    "plt.spy(ui_trn_csr,markersize=0.5,aspect='auto')"
   ]
  },
  {
   "cell_type": "code",
   "execution_count": 113,
   "metadata": {},
   "outputs": [
    {
     "data": {
      "text/plain": [
       "[<matplotlib.lines.Line2D at 0x69c5148e10>]"
      ]
     },
     "execution_count": 113,
     "metadata": {},
     "output_type": "execute_result"
    },
    {
     "data": {
      "image/png": "[encoded data removed]",
      "text/plain": [
       "<matplotlib.figure.Figure at 0x69ccd35588>"
      ]
     },
     "metadata": {},
     "output_type": "display_data"
    }
   ],
   "source": [
    "plt.plot(np.array(ui_trn_csr.sum(axis=1)).flatten()) ## smaller uidx --> larger # of item ad displayed"
   ]
  },
  {
   "cell_type": "markdown",
   "metadata": {},
   "source": [
    "smaller uidx --> more # of items ad displayed !!"
   ]
  },
  {
   "cell_type": "code",
   "execution_count": 129,
   "metadata": {
    "collapsed": true
   },
   "outputs": [],
   "source": [
    "df_train['iidx'] = df_train.item_seq_number.map(cid_to_idx).astype('uint16')\n",
    "df_train['uidx'] = df_train.user_id.map(rid_to_idx).astype('uint32')"
   ]
  },
  {
   "cell_type": "code",
   "execution_count": 135,
   "metadata": {},
   "outputs": [
    {
     "data": {
      "text/plain": [
       "1    1503424\n",
       "dtype: int64"
      ]
     },
     "execution_count": 135,
     "metadata": {},
     "output_type": "execute_result"
    }
   ],
   "source": [
    "df_train.groupby(['uidx','iidx']).size().value_counts() ##  uidx-iidx is unique"
   ]
  },
  {
   "cell_type": "code",
   "execution_count": 140,
   "metadata": {},
   "outputs": [
    {
     "data": {
      "text/plain": [
       "Index(['item_id', 'user_id', 'region', 'city', 'parent_category_name',\n",
       "       'category_name', 'param_1', 'param_2', 'param_3', 'title',\n",
       "       'description', 'price', 'item_seq_number', 'activation_date',\n",
       "       'user_type', 'image', 'image_top_1', 'deal_probability',\n",
       "       'user_id_label', 'region_city', 'region_city2', 'region_city2_label',\n",
       "       'title_len', 'title_char', 'description_len', 'description_char',\n",
       "       'iidx', 'uidx'],\n",
       "      dtype='object')"
      ]
     },
     "execution_count": 140,
     "metadata": {},
     "output_type": "execute_result"
    }
   ],
   "source": [
    "df_train.columns"
   ]
  },
  {
   "cell_type": "code",
   "execution_count": 141,
   "metadata": {
    "collapsed": true
   },
   "outputs": [],
   "source": [
    "df_trn_uidx = df_trn_uidx.merge(df_train[['uidx','iidx','deal_probability']] , how ='left',on=['uidx','iidx'])"
   ]
  },
  {
   "cell_type": "code",
   "execution_count": 144,
   "metadata": {
    "collapsed": true
   },
   "outputs": [],
   "source": [
    "I = df_trn_uidx.uidx.as_matrix()\n",
    "J = df_trn_uidx.iidx.as_matrix()\n",
    "Vp = df_trn_uidx.deal_probability\n",
    "ui_trn_deal = sp.coo_matrix((Vp,(I,J)),dtype='float32')"
   ]
  },
  {
   "cell_type": "code",
   "execution_count": 146,
   "metadata": {},
   "outputs": [
    {
     "data": {
      "text/plain": [
       "<matplotlib.lines.Line2D at 0x69e4882898>"
      ]
     },
     "execution_count": 146,
     "metadata": {},
     "output_type": "execute_result"
    },
    {
     "data": {
      "image/png": "[encoded data removed]",
      "text/plain": [
       "<matplotlib.figure.Figure at 0x69c6c9b550>"
      ]
     },
     "metadata": {},
     "output_type": "display_data"
    }
   ],
   "source": [
    "# plt.spy(ui_trn_deal,markersize=0.5,aspect='auto')\n"
   ]
  },
  {
   "cell_type": "code",
   "execution_count": 229,
   "metadata": {},
   "outputs": [
    {
     "data": {
      "text/plain": [
       "<matplotlib.image.AxesImage at 0x69cb4ff470>"
      ]
     },
     "execution_count": 229,
     "metadata": {},
     "output_type": "execute_result"
    },
    {
     "data": {
      "image/png": "[encoded data removed]",
      "text/plain": [
       "<matplotlib.figure.Figure at 0x69e4931400>"
      ]
     },
     "metadata": {},
     "output_type": "display_data"
    }
   ],
   "source": [
    "## heatmat \n",
    "## from stackoverflow https://stackoverflow.com/questions/42210594/plot-heatmap-of-sparse-matrix?rq=1\n",
    "data = ui_trn_deal.tocsc()       # sparse operations are more efficient on csc\n",
    "N, M = data.shape\n",
    "s, t = 100, 1000           # decimation factors for y and x directions\n",
    "T = sp.csc_matrix((np.ones((M,)), np.arange(M), np.r_[np.arange(0, M, t), M]), (M, (M-1) // t + 1))\n",
    "S = sp.csr_matrix((np.ones((N,)), np.arange(N), np.r_[np.arange(0, N, s), N]), ((N-1) // s + 1, N))\n",
    "result = S @ data @ T     # downsample by binning into s x t rectangles\n",
    "result = result.todense() # ready for plotting\n",
    "plt.imshow(result,cmap='gray_r',aspect='auto') ## "
   ]
  },
  {
   "cell_type": "code",
   "execution_count": 267,
   "metadata": {},
   "outputs": [
    {
     "data": {
      "text/plain": [
       "<matplotlib.axes._subplots.AxesSubplot at 0x6b4e141d68>"
      ]
     },
     "execution_count": 267,
     "metadata": {},
     "output_type": "execute_result"
    },
    {
     "data": {
      "image/png": "[encoded data removed]",
      "text/plain": [
       "<matplotlib.figure.Figure at 0x6b4e11a3c8>"
      ]
     },
     "metadata": {},
     "output_type": "display_data"
    }
   ],
   "source": [
    "df_train.groupby('uidx')['deal_probability'].mean().rolling(1000).mean().plot() "
   ]
  },
  {
   "cell_type": "markdown",
   "metadata": {},
   "source": [
    "uidx in some way sort ad_cnt_by_user, this cnt numbers affect deal prob"
   ]
  },
  {
   "cell_type": "code",
   "execution_count": 276,
   "metadata": {
    "collapsed": true
   },
   "outputs": [],
   "source": [
    "tmp = df_train.groupby('uidx').size().to_frame().reset_index().rename(columns={0:'ads_cnt_by_uid'})"
   ]
  },
  {
   "cell_type": "code",
   "execution_count": 277,
   "metadata": {},
   "outputs": [
    {
     "data": {
      "text/html": [
       "<div>\n",
       "<style>\n",
       "    .dataframe thead tr:only-child th {\n",
       "        text-align: right;\n",
       "    }\n",
       "\n",
       "    .dataframe thead th {\n",
       "        text-align: left;\n",
       "    }\n",
       "\n",
       "    .dataframe tbody tr th {\n",
       "        vertical-align: top;\n",
       "    }\n",
       "</style>\n",
       "<table border=\"1\" class=\"dataframe\">\n",
       "  <thead>\n",
       "    <tr style=\"text-align: right;\">\n",
       "      <th></th>\n",
       "      <th>uidx</th>\n",
       "      <th>ads_cnt_by_uid</th>\n",
       "    </tr>\n",
       "  </thead>\n",
       "  <tbody>\n",
       "    <tr>\n",
       "      <th>0</th>\n",
       "      <td>0</td>\n",
       "      <td>1</td>\n",
       "    </tr>\n",
       "    <tr>\n",
       "      <th>1</th>\n",
       "      <td>1</td>\n",
       "      <td>1</td>\n",
       "    </tr>\n",
       "    <tr>\n",
       "      <th>2</th>\n",
       "      <td>2</td>\n",
       "      <td>2</td>\n",
       "    </tr>\n",
       "    <tr>\n",
       "      <th>3</th>\n",
       "      <td>3</td>\n",
       "      <td>1</td>\n",
       "    </tr>\n",
       "    <tr>\n",
       "      <th>4</th>\n",
       "      <td>4</td>\n",
       "      <td>1</td>\n",
       "    </tr>\n",
       "  </tbody>\n",
       "</table>\n",
       "</div>"
      ],
      "text/plain": [
       "   uidx  ads_cnt_by_uid\n",
       "0     0               1\n",
       "1     1               1\n",
       "2     2               2\n",
       "3     3               1\n",
       "4     4               1"
      ]
     },
     "execution_count": 277,
     "metadata": {},
     "output_type": "execute_result"
    }
   ],
   "source": [
    "tmp."
   ]
  },
  {
   "cell_type": "code",
   "execution_count": 278,
   "metadata": {},
   "outputs": [
    {
     "name": "stdout",
     "output_type": "stream",
     "text": [
      "doing add cnt by user_id...\n",
      "doing add cnt by iidx(item_seq_number)...\n",
      "done\n"
     ]
    },
    {
     "data": {
      "text/plain": [
       "127"
      ]
     },
     "execution_count": 278,
     "metadata": {},
     "output_type": "execute_result"
    }
   ],
   "source": [
    "print('doing add cnt by user_id...')\n",
    "tmp = df_train.groupby('uidx').size().to_frame().reset_index().rename(columns={0:'ads_cnt_by_uid'})\n",
    "tmp['ads_cnt_by_uid'] = tmp.ads_cnt_by_uid.astype('uint32')\n",
    "df_train = df_train.merge(tmp,how='left' ,on='uidx')\n",
    "\n",
    "print('doing add cnt by iidx(item_seq_number)...')\n",
    "tmp = df_train.groupby('iidx').size().to_frame().reset_index().rename(columns={0:'ads_cnt_by_iid'})\n",
    "tmp['ads_cnt_by_iid'] = tmp.ads_cnt_by_iid.astype('uint32')\n",
    "df_train =  df_train.merge(tmp,how='left' ,on='iidx')\n",
    "print('done')\n",
    "del tmp; gc.collect()"
   ]
  },
  {
   "cell_type": "code",
   "execution_count": 281,
   "metadata": {},
   "outputs": [
    {
     "data": {
      "image/png": "[encoded data removed]",
      "text/plain": [
       "<matplotlib.figure.Figure at 0x6b4e1728d0>"
      ]
     },
     "metadata": {},
     "output_type": "display_data"
    }
   ],
   "source": [
    "usecols = ['uidx','iidx','ads_cnt_by_uid','ads_cnt_by_iid','image_top_1','deal_probability']\n",
    "\n",
    "corr = df_train[usecols].corr()\n",
    "mask = np.zeros_like(corr, dtype=np.bool)\n",
    "mask[np.triu_indices_from(mask)] = True\n",
    "sns.set(style=\"white\")\n",
    "\n",
    "cmap = sns.diverging_palette(30,10,as_cmap=True)\n",
    "sns.heatmap(corr,cmap=cmap,center=0,square=True,vmax=.3,linewidths=.1, cbar_kws={\"shrink\": .5});"
   ]
  },
  {
   "cell_type": "code",
   "execution_count": 314,
   "metadata": {},
   "outputs": [
    {
     "data": {
      "text/plain": [
       "<matplotlib.axes._subplots.AxesSubplot at 0x69d68de6d8>"
      ]
     },
     "execution_count": 314,
     "metadata": {},
     "output_type": "execute_result"
    },
    {
     "data": {
      "image/png": "[encoded data removed]",
      "text/plain": [
       "<matplotlib.figure.Figure at 0x69d72d6400>"
      ]
     },
     "metadata": {},
     "output_type": "display_data"
    }
   ],
   "source": [
    "df_train.groupby('ads_cnt_by_iid')['deal_probability'].mean().plot()"
   ]
  },
  {
   "cell_type": "code",
   "execution_count": 315,
   "metadata": {},
   "outputs": [
    {
     "data": {
      "text/plain": [
       "<matplotlib.axes._subplots.AxesSubplot at 0x69d6fdce48>"
      ]
     },
     "execution_count": 315,
     "metadata": {},
     "output_type": "execute_result"
    },
    {
     "data": {
      "image/png": "[encoded data removed]",
      "text/plain": [
       "<matplotlib.figure.Figure at 0x69d6e51390>"
      ]
     },
     "metadata": {},
     "output_type": "display_data"
    }
   ],
   "source": [
    "df_train.groupby('iidx')['deal_probability'].mean().rolling(100).mean().plot()"
   ]
  },
  {
   "cell_type": "markdown",
   "metadata": {},
   "source": [
    "____"
   ]
  },
  {
   "cell_type": "markdown",
   "metadata": {},
   "source": [
    "- number of unique uid"
   ]
  },
  {
   "cell_type": "code",
   "execution_count": 16,
   "metadata": {},
   "outputs": [
    {
     "data": {
      "text/plain": [
       "771769"
      ]
     },
     "execution_count": 16,
     "metadata": {},
     "output_type": "execute_result"
    }
   ],
   "source": [
    "df_train.user_id.nunique() # 771,769 out of 1,503,424 "
   ]
  },
  {
   "cell_type": "code",
   "execution_count": 18,
   "metadata": {},
   "outputs": [
    {
     "data": {
      "text/plain": [
       "306069"
      ]
     },
     "execution_count": 18,
     "metadata": {},
     "output_type": "execute_result"
    }
   ],
   "source": [
    "df_test.user_id.nunique() # 306,069 "
   ]
  },
  {
   "cell_type": "code",
   "execution_count": 86,
   "metadata": {},
   "outputs": [
    {
     "data": {
      "text/plain": [
       "67929"
      ]
     },
     "execution_count": 86,
     "metadata": {},
     "output_type": "execute_result"
    }
   ],
   "source": [
    "uid_in_trn_test = np.intersect1d(df_test.user_id,df_train.user_id) # overlap # of user 67,929\n",
    "pd.Series(uid_in_trn_test).nunique()"
   ]
  },
  {
   "cell_type": "code",
   "execution_count": 32,
   "metadata": {
    "collapsed": true
   },
   "outputs": [],
   "source": [
    "test_uid = df_test.user_id.unique()\n",
    "train_uid = df_train.user_id.unique()"
   ]
  },
  {
   "cell_type": "markdown",
   "metadata": {},
   "source": [
    "- number of unique itemid"
   ]
  },
  {
   "cell_type": "code",
   "execution_count": 40,
   "metadata": {
    "collapsed": true
   },
   "outputs": [],
   "source": [
    "train_itemid = df_train.item_id.unique()\n",
    "test_itemid = df_test.item_id.unique()"
   ]
  },
  {
   "cell_type": "code",
   "execution_count": 41,
   "metadata": {},
   "outputs": [
    {
     "data": {
      "text/plain": [
       "1503424"
      ]
     },
     "execution_count": 41,
     "metadata": {},
     "output_type": "execute_result"
    }
   ],
   "source": [
    "train_itemid.size  # equal to # of df_train"
   ]
  },
  {
   "cell_type": "code",
   "execution_count": 42,
   "metadata": {},
   "outputs": [
    {
     "data": {
      "text/plain": [
       "508438"
      ]
     },
     "execution_count": 42,
     "metadata": {},
     "output_type": "execute_result"
    }
   ],
   "source": [
    "test_itemid.size"
   ]
  },
  {
   "cell_type": "code",
   "execution_count": 43,
   "metadata": {
    "collapsed": true
   },
   "outputs": [],
   "source": [
    "itmid_in_trn_test = np.intersect1d(train_itemid,test_itemid)"
   ]
  },
  {
   "cell_type": "code",
   "execution_count": 61,
   "metadata": {},
   "outputs": [
    {
     "data": {
      "text/plain": [
       "0"
      ]
     },
     "execution_count": 61,
     "metadata": {},
     "output_type": "execute_result"
    }
   ],
   "source": [
    "itmid_in_trn_test.size"
   ]
  },
  {
   "cell_type": "markdown",
   "metadata": {},
   "source": [
    "**itemid** is pkey in train/test sets"
   ]
  },
  {
   "cell_type": "code",
   "execution_count": 203,
   "metadata": {},
   "outputs": [
    {
     "data": {
      "text/plain": [
       "1    531750\n",
       "2    116739\n",
       "3     47878\n",
       "4     24779\n",
       "5     14792\n",
       "dtype: int64"
      ]
     },
     "execution_count": 203,
     "metadata": {},
     "output_type": "execute_result"
    }
   ],
   "source": [
    "num_items_by_user = np.array(ui_trn_csr.sum(axis=1).flatten())[0]\n",
    "pd.Series(num_items_by_user).value_counts().head() ## \n"
   ]
  },
  {
   "cell_type": "code",
   "execution_count": 204,
   "metadata": {},
   "outputs": [
    {
     "data": {
      "text/plain": [
       "1    0.689002\n",
       "2    0.151262\n",
       "3    0.062037\n",
       "4    0.032107\n",
       "5    0.019166\n",
       "dtype: float64"
      ]
     },
     "execution_count": 204,
     "metadata": {},
     "output_type": "execute_result"
    }
   ],
   "source": [
    "pd.Series(sum_iid_by_user).value_counts(normalize=True).head()"
   ]
  },
  {
   "cell_type": "markdown",
   "metadata": {},
   "source": [
    "most of user only have 1 itemid (68.9%) in training sets"
   ]
  },
  {
   "cell_type": "markdown",
   "metadata": {},
   "source": [
    "- date range ? "
   ]
  },
  {
   "cell_type": "code",
   "execution_count": 5,
   "metadata": {},
   "outputs": [
    {
     "name": "stdout",
     "output_type": "stream",
     "text": [
      "max of df_train.activation_date 2017-04-07 00:00:00\n",
      "min of df_train.activation_date 2017-03-15 00:00:00\n"
     ]
    }
   ],
   "source": [
    "print('max of df_train.activation_date',df_train.activation_date.max())\n",
    "print('min of df_train.activation_date',df_train.activation_date.min())"
   ]
  },
  {
   "cell_type": "code",
   "execution_count": 11,
   "metadata": {},
   "outputs": [
    {
     "data": {
      "text/plain": [
       "2017-03-20    115190\n",
       "2017-03-27    114863\n",
       "2017-03-19    114416\n",
       "2017-03-26    113513\n",
       "2017-03-28    112885\n",
       "2017-03-21    110535\n",
       "2017-03-22    109813\n",
       "2017-03-15    108615\n",
       "2017-03-23    106544\n",
       "2017-03-16    106168\n",
       "2017-03-17     98773\n",
       "2017-03-18     97554\n",
       "2017-03-24     97351\n",
       "2017-03-25     97104\n",
       "2017-03-29        87\n",
       "2017-04-01         3\n",
       "2017-03-30         3\n",
       "2017-04-02         3\n",
       "2017-04-03         2\n",
       "2017-04-07         1\n",
       "2017-03-31         1\n",
       "Name: activation_date, dtype: int64"
      ]
     },
     "execution_count": 11,
     "metadata": {},
     "output_type": "execute_result"
    }
   ],
   "source": [
    "df_train.activation_date.value_counts()"
   ]
  },
  {
   "cell_type": "code",
   "execution_count": 6,
   "metadata": {},
   "outputs": [
    {
     "name": "stdout",
     "output_type": "stream",
     "text": [
      "max of df_per_train.activation_date 2017-03-28 00:00:00\n",
      "min of df_per_train.activation_date 2017-01-01 00:00:00\n",
      "max of df_per_train.date_from 2017-03-28 00:00:00\n",
      "min of df_per_train.date_from 2017-03-15 00:00:00\n",
      "max of df_per_train.date_to 2017-03-28 00:00:00\n",
      "min of df_per_train.date_to 2017-03-15 00:00:00\n"
     ]
    }
   ],
   "source": [
    "print('max of df_per_train.activation_date',df_per_train.activation_date.max())\n",
    "print('min of df_per_train.activation_date',df_per_train.activation_date.min())\n",
    "\n",
    "print('max of df_per_train.date_from',df_per_train.date_from.max())\n",
    "print('min of df_per_train.date_from',df_per_train.date_from.min())\n",
    "\n",
    "print('max of df_per_train.date_to',df_per_train.date_to.max())\n",
    "print('min of df_per_train.date_to',df_per_train.date_to.min())"
   ]
  },
  {
   "cell_type": "code",
   "execution_count": 13,
   "metadata": {},
   "outputs": [
    {
     "data": {
      "text/plain": [
       "2017-03-15    12246008\n",
       "2017-03-16      206064\n",
       "2017-03-17      171405\n",
       "2017-03-20      162183\n",
       "2017-03-19      159018\n",
       "2017-03-18      151699\n",
       "2017-03-21      148612\n",
       "2017-03-22      146814\n",
       "2017-03-23      131640\n",
       "2017-03-27      128207\n",
       "2017-03-26      122839\n",
       "2017-03-24      118500\n",
       "2017-03-25      112509\n",
       "Name: activation_date, dtype: int64"
      ]
     },
     "execution_count": 13,
     "metadata": {},
     "output_type": "execute_result"
    }
   ],
   "source": [
    "df_act_trn.activation_date.value_counts() ## 3/15 - 3/27 "
   ]
  },
  {
   "cell_type": "code",
   "execution_count": 15,
   "metadata": {},
   "outputs": [
    {
     "data": {
      "text/plain": [
       "(16687412, 4)"
      ]
     },
     "execution_count": 15,
     "metadata": {},
     "output_type": "execute_result"
    }
   ],
   "source": [
    "df_per_train.shape"
   ]
  },
  {
   "cell_type": "code",
   "execution_count": 16,
   "metadata": {},
   "outputs": [
    {
     "data": {
      "text/plain": [
       "(14129821, 4)"
      ]
     },
     "execution_count": 16,
     "metadata": {},
     "output_type": "execute_result"
    }
   ],
   "source": [
    "df_act_trn.shape"
   ]
  },
  {
   "cell_type": "code",
   "execution_count": 22,
   "metadata": {
    "collapsed": true
   },
   "outputs": [],
   "source": [
    "# df_per_train.activation_date.value_counts()"
   ]
  },
  {
   "cell_type": "code",
   "execution_count": 18,
   "metadata": {},
   "outputs": [
    {
     "data": {
      "text/plain": [
       "2017-03-15    12070638\n",
       "2017-03-20      414531\n",
       "2017-03-22      396834\n",
       "2017-03-27      391854\n",
       "2017-03-21      378197\n",
       "2017-03-23      372507\n",
       "2017-03-16      367473\n",
       "2017-03-19      357980\n",
       "2017-03-17      353858\n",
       "2017-03-24      351372\n",
       "2017-03-26      345656\n",
       "2017-03-18      323756\n",
       "2017-03-25      313923\n",
       "2017-03-28      248833\n",
       "Name: date_from, dtype: int64"
      ]
     },
     "execution_count": 18,
     "metadata": {},
     "output_type": "execute_result"
    }
   ],
   "source": [
    "df_per_train.date_from.value_counts()"
   ]
  },
  {
   "cell_type": "markdown",
   "metadata": {},
   "source": [
    "`train_active`: Supplemental data from ads that were displayed during the same period as train.csv. Same schema as the train data minus deal_probability, image, and image_top_1.\n",
    "\n",
    "`periods_train`:Supplemental data showing the dates when the ads from train_active.csv were activated and when they where displayed.\n",
    "    - item_id         :  map to \n",
    "    - activation_date :　date ad was placed\n",
    "    - date_from       :  first date ad was displayed\n",
    "    - date_to         :  last date ad was displayed"
   ]
  },
  {
   "cell_type": "markdown",
   "metadata": {},
   "source": [
    "train_active sampling .... very large (2.3G)"
   ]
  },
  {
   "cell_type": "code",
   "execution_count": 21,
   "metadata": {},
   "outputs": [
    {
     "name": "stdout",
     "output_type": "stream",
     "text": [
      "# of item_id : train active  9919\n",
      "# of item_id : periods train 13812546\n"
     ]
    }
   ],
   "source": [
    "print('# of item_id : train active ',df_act_trn.item_id.nunique()) ## 10,000 rows, nunique:9,919\n",
    "print('# of item_id : periods train', df_per_train.item_id.nunique()) ## 16,687,412 rows, nunique:: 13,812,546"
   ]
  },
  {
   "cell_type": "code",
   "execution_count": 23,
   "metadata": {},
   "outputs": [
    {
     "name": "stdout",
     "output_type": "stream",
     "text": [
      "# of item_id: train  1503424\n"
     ]
    }
   ],
   "source": [
    "print('# of item_id: train ',df_train.item_id.nunique()) ## 1,503,424 rows, nunique: 1,503,424 ---> pkey"
   ]
  },
  {
   "cell_type": "code",
   "execution_count": 27,
   "metadata": {},
   "outputs": [
    {
     "data": {
      "text/html": [
       "<div>\n",
       "<style>\n",
       "    .dataframe thead tr:only-child th {\n",
       "        text-align: right;\n",
       "    }\n",
       "\n",
       "    .dataframe thead th {\n",
       "        text-align: left;\n",
       "    }\n",
       "\n",
       "    .dataframe tbody tr th {\n",
       "        vertical-align: top;\n",
       "    }\n",
       "</style>\n",
       "<table border=\"1\" class=\"dataframe\">\n",
       "  <thead>\n",
       "    <tr style=\"text-align: right;\">\n",
       "      <th></th>\n",
       "      <th>item_id</th>\n",
       "      <th>activation_date</th>\n",
       "      <th>date_from</th>\n",
       "      <th>date_to</th>\n",
       "    </tr>\n",
       "  </thead>\n",
       "  <tbody>\n",
       "    <tr>\n",
       "      <th>0</th>\n",
       "      <td>8f5caef7afb0</td>\n",
       "      <td>2017-02-14</td>\n",
       "      <td>2017-03-15</td>\n",
       "      <td>2017-03-16</td>\n",
       "    </tr>\n",
       "    <tr>\n",
       "      <th>1</th>\n",
       "      <td>66218ff526d1</td>\n",
       "      <td>2017-02-16</td>\n",
       "      <td>2017-03-15</td>\n",
       "      <td>2017-03-18</td>\n",
       "    </tr>\n",
       "    <tr>\n",
       "      <th>2</th>\n",
       "      <td>b237d9539b21</td>\n",
       "      <td>2017-03-01</td>\n",
       "      <td>2017-03-15</td>\n",
       "      <td>2017-03-28</td>\n",
       "    </tr>\n",
       "    <tr>\n",
       "      <th>3</th>\n",
       "      <td>80bf58082ad3</td>\n",
       "      <td>2017-03-19</td>\n",
       "      <td>2017-03-19</td>\n",
       "      <td>2017-03-28</td>\n",
       "    </tr>\n",
       "    <tr>\n",
       "      <th>4</th>\n",
       "      <td>67a9944a7373</td>\n",
       "      <td>2017-03-14</td>\n",
       "      <td>2017-03-15</td>\n",
       "      <td>2017-03-28</td>\n",
       "    </tr>\n",
       "  </tbody>\n",
       "</table>\n",
       "</div>"
      ],
      "text/plain": [
       "        item_id activation_date  date_from    date_to\n",
       "0  8f5caef7afb0      2017-02-14 2017-03-15 2017-03-16\n",
       "1  66218ff526d1      2017-02-16 2017-03-15 2017-03-18\n",
       "2  b237d9539b21      2017-03-01 2017-03-15 2017-03-28\n",
       "3  80bf58082ad3      2017-03-19 2017-03-19 2017-03-28\n",
       "4  67a9944a7373      2017-03-14 2017-03-15 2017-03-28"
      ]
     },
     "execution_count": 27,
     "metadata": {},
     "output_type": "execute_result"
    }
   ],
   "source": [
    "df_per_train.head()"
   ]
  },
  {
   "cell_type": "code",
   "execution_count": 6,
   "metadata": {},
   "outputs": [
    {
     "data": {
      "text/html": [
       "<div>\n",
       "<style>\n",
       "    .dataframe thead tr:only-child th {\n",
       "        text-align: right;\n",
       "    }\n",
       "\n",
       "    .dataframe thead th {\n",
       "        text-align: left;\n",
       "    }\n",
       "\n",
       "    .dataframe tbody tr th {\n",
       "        vertical-align: top;\n",
       "    }\n",
       "</style>\n",
       "<table border=\"1\" class=\"dataframe\">\n",
       "  <thead>\n",
       "    <tr style=\"text-align: right;\">\n",
       "      <th></th>\n",
       "      <th>item_id</th>\n",
       "      <th>user_id</th>\n",
       "      <th>city</th>\n",
       "      <th>activation_date</th>\n",
       "    </tr>\n",
       "  </thead>\n",
       "  <tbody>\n",
       "    <tr>\n",
       "      <th>0</th>\n",
       "      <td>70d6342079ef</td>\n",
       "      <td>11d4c04d8c51</td>\n",
       "      <td>Нижний Новгород</td>\n",
       "      <td>2017-03-15</td>\n",
       "    </tr>\n",
       "    <tr>\n",
       "      <th>1</th>\n",
       "      <td>97cf505710e1</td>\n",
       "      <td>d7068c60b2c6</td>\n",
       "      <td>Воронеж</td>\n",
       "      <td>2017-03-27</td>\n",
       "    </tr>\n",
       "    <tr>\n",
       "      <th>2</th>\n",
       "      <td>6a93a31a945d</td>\n",
       "      <td>755c88999bc7</td>\n",
       "      <td>Нижний Новгород</td>\n",
       "      <td>2017-03-15</td>\n",
       "    </tr>\n",
       "    <tr>\n",
       "      <th>3</th>\n",
       "      <td>050cade37667</td>\n",
       "      <td>3d7fb2abdbbc</td>\n",
       "      <td>Стерлитамак</td>\n",
       "      <td>2017-03-15</td>\n",
       "    </tr>\n",
       "    <tr>\n",
       "      <th>4</th>\n",
       "      <td>2935e85aa40b</td>\n",
       "      <td>fc1be1a809d1</td>\n",
       "      <td>Казань</td>\n",
       "      <td>2017-03-15</td>\n",
       "    </tr>\n",
       "  </tbody>\n",
       "</table>\n",
       "</div>"
      ],
      "text/plain": [
       "        item_id       user_id             city activation_date\n",
       "0  70d6342079ef  11d4c04d8c51  Нижний Новгород      2017-03-15\n",
       "1  97cf505710e1  d7068c60b2c6          Воронеж      2017-03-27\n",
       "2  6a93a31a945d  755c88999bc7  Нижний Новгород      2017-03-15\n",
       "3  050cade37667  3d7fb2abdbbc      Стерлитамак      2017-03-15\n",
       "4  2935e85aa40b  fc1be1a809d1           Казань      2017-03-15"
      ]
     },
     "execution_count": 6,
     "metadata": {},
     "output_type": "execute_result"
    }
   ],
   "source": [
    "df_act_trn.head()"
   ]
  },
  {
   "cell_type": "markdown",
   "metadata": {},
   "source": [
    "* itemid in train not shown in summplement (active, periods )?\n",
    "    - itemid do not overlap in train & supplement (active, periods)"
   ]
  },
  {
   "cell_type": "code",
   "execution_count": 31,
   "metadata": {
    "collapsed": true
   },
   "outputs": [],
   "source": [
    "# (df_train.item_id.head(5))\n",
    "# df_per_train[df_per_train.item_id.isin(df_train.item_id.tail(20))]"
   ]
  },
  {
   "cell_type": "code",
   "execution_count": 30,
   "metadata": {},
   "outputs": [
    {
     "data": {
      "text/html": [
       "<div>\n",
       "<style>\n",
       "    .dataframe thead tr:only-child th {\n",
       "        text-align: right;\n",
       "    }\n",
       "\n",
       "    .dataframe thead th {\n",
       "        text-align: left;\n",
       "    }\n",
       "\n",
       "    .dataframe tbody tr th {\n",
       "        vertical-align: top;\n",
       "    }\n",
       "</style>\n",
       "<table border=\"1\" class=\"dataframe\">\n",
       "  <thead>\n",
       "    <tr style=\"text-align: right;\">\n",
       "      <th></th>\n",
       "      <th>item_id</th>\n",
       "      <th>user_id</th>\n",
       "      <th>region</th>\n",
       "      <th>city</th>\n",
       "      <th>parent_category_name</th>\n",
       "      <th>category_name</th>\n",
       "      <th>param_1</th>\n",
       "      <th>param_2</th>\n",
       "      <th>param_3</th>\n",
       "      <th>title</th>\n",
       "      <th>...</th>\n",
       "      <th>price</th>\n",
       "      <th>item_seq_number</th>\n",
       "      <th>activation_date_x</th>\n",
       "      <th>user_type</th>\n",
       "      <th>image</th>\n",
       "      <th>image_top_1</th>\n",
       "      <th>deal_probability</th>\n",
       "      <th>activation_date_y</th>\n",
       "      <th>date_from</th>\n",
       "      <th>date_to</th>\n",
       "    </tr>\n",
       "  </thead>\n",
       "  <tbody>\n",
       "  </tbody>\n",
       "</table>\n",
       "<p>0 rows × 21 columns</p>\n",
       "</div>"
      ],
      "text/plain": [
       "Empty DataFrame\n",
       "Columns: [item_id, user_id, region, city, parent_category_name, category_name, param_1, param_2, param_3, title, description, price, item_seq_number, activation_date_x, user_type, image, image_top_1, deal_probability, activation_date_y, date_from, date_to]\n",
       "Index: []\n",
       "\n",
       "[0 rows x 21 columns]"
      ]
     },
     "execution_count": 30,
     "metadata": {},
     "output_type": "execute_result"
    }
   ],
   "source": [
    "df_train.merge(df_per_train,how='inner',on=['item_id'])"
   ]
  },
  {
   "cell_type": "markdown",
   "metadata": {},
   "source": [
    "- user in trn & active"
   ]
  },
  {
   "cell_type": "code",
   "execution_count": 41,
   "metadata": {},
   "outputs": [
    {
     "data": {
      "text/html": [
       "<div>\n",
       "<style>\n",
       "    .dataframe thead tr:only-child th {\n",
       "        text-align: right;\n",
       "    }\n",
       "\n",
       "    .dataframe thead th {\n",
       "        text-align: left;\n",
       "    }\n",
       "\n",
       "    .dataframe tbody tr th {\n",
       "        vertical-align: top;\n",
       "    }\n",
       "</style>\n",
       "<table border=\"1\" class=\"dataframe\">\n",
       "  <thead>\n",
       "    <tr style=\"text-align: right;\">\n",
       "      <th></th>\n",
       "      <th>item_id</th>\n",
       "      <th>user_id</th>\n",
       "      <th>region</th>\n",
       "      <th>city</th>\n",
       "      <th>parent_category_name</th>\n",
       "      <th>category_name</th>\n",
       "      <th>param_1</th>\n",
       "      <th>param_2</th>\n",
       "      <th>param_3</th>\n",
       "      <th>title</th>\n",
       "      <th>description</th>\n",
       "      <th>price</th>\n",
       "      <th>item_seq_number</th>\n",
       "      <th>activation_date</th>\n",
       "      <th>user_type</th>\n",
       "      <th>image</th>\n",
       "      <th>image_top_1</th>\n",
       "      <th>deal_probability</th>\n",
       "    </tr>\n",
       "  </thead>\n",
       "  <tbody>\n",
       "    <tr>\n",
       "      <th>1186888</th>\n",
       "      <td>8e45b14e41bf</td>\n",
       "      <td>3d7fb2abdbbc</td>\n",
       "      <td>Башкортостан</td>\n",
       "      <td>Стерлитамак</td>\n",
       "      <td>Бытовая электроника</td>\n",
       "      <td>Телефоны</td>\n",
       "      <td>Аксессуары</td>\n",
       "      <td>Запчасти</td>\n",
       "      <td>NaN</td>\n",
       "      <td>Дисплей 5c</td>\n",
       "      <td>Продается ДисплейныйМодуль  на айфон 5С(Ц) /\\n...</td>\n",
       "      <td>2400.0</td>\n",
       "      <td>163</td>\n",
       "      <td>2017-03-19</td>\n",
       "      <td>Company</td>\n",
       "      <td>af5ee8e87a06ad3d88f84eaac1a75a7869d8e63b8a855c...</td>\n",
       "      <td>3033.0</td>\n",
       "      <td>0.00000</td>\n",
       "    </tr>\n",
       "    <tr>\n",
       "      <th>1285299</th>\n",
       "      <td>0e079b32a889</td>\n",
       "      <td>755c88999bc7</td>\n",
       "      <td>Нижегородская область</td>\n",
       "      <td>Нижний Новгород</td>\n",
       "      <td>Недвижимость</td>\n",
       "      <td>Коммерческая недвижимость</td>\n",
       "      <td>Сдам</td>\n",
       "      <td>Торговое помещение</td>\n",
       "      <td>NaN</td>\n",
       "      <td>Торговое помещение, 100 м²</td>\n",
       "      <td>Сдам торговое помещение с высокой проходимость...</td>\n",
       "      <td>200000.0</td>\n",
       "      <td>5</td>\n",
       "      <td>2017-03-22</td>\n",
       "      <td>Private</td>\n",
       "      <td>af83fbd67cb54a9639507935b714fc44594099d5967b52...</td>\n",
       "      <td>1177.0</td>\n",
       "      <td>0.31598</td>\n",
       "    </tr>\n",
       "  </tbody>\n",
       "</table>\n",
       "</div>"
      ],
      "text/plain": [
       "              item_id       user_id                 region             city  \\\n",
       "1186888  8e45b14e41bf  3d7fb2abdbbc           Башкортостан      Стерлитамак   \n",
       "1285299  0e079b32a889  755c88999bc7  Нижегородская область  Нижний Новгород   \n",
       "\n",
       "        parent_category_name              category_name     param_1  \\\n",
       "1186888  Бытовая электроника                   Телефоны  Аксессуары   \n",
       "1285299         Недвижимость  Коммерческая недвижимость        Сдам   \n",
       "\n",
       "                    param_2 param_3                       title  \\\n",
       "1186888            Запчасти     NaN                  Дисплей 5c   \n",
       "1285299  Торговое помещение     NaN  Торговое помещение, 100 м²   \n",
       "\n",
       "                                               description     price  \\\n",
       "1186888  Продается ДисплейныйМодуль  на айфон 5С(Ц) /\\n...    2400.0   \n",
       "1285299  Сдам торговое помещение с высокой проходимость...  200000.0   \n",
       "\n",
       "         item_seq_number activation_date user_type  \\\n",
       "1186888              163      2017-03-19   Company   \n",
       "1285299                5      2017-03-22   Private   \n",
       "\n",
       "                                                     image  image_top_1  \\\n",
       "1186888  af5ee8e87a06ad3d88f84eaac1a75a7869d8e63b8a855c...       3033.0   \n",
       "1285299  af83fbd67cb54a9639507935b714fc44594099d5967b52...       1177.0   \n",
       "\n",
       "         deal_probability  \n",
       "1186888           0.00000  \n",
       "1285299           0.31598  "
      ]
     },
     "execution_count": 41,
     "metadata": {},
     "output_type": "execute_result"
    }
   ],
   "source": [
    "df_train[df_train.user_id.isin(df_act_trn.user_id.head())]"
   ]
  },
  {
   "cell_type": "markdown",
   "metadata": {},
   "source": [
    "* supplement : active , periods train --> foreign id \n",
    "    - `item_id  `\n",
    "    - `periods.date_from = active.activation_date`\n",
    "     "
   ]
  },
  {
   "cell_type": "code",
   "execution_count": 25,
   "metadata": {},
   "outputs": [
    {
     "data": {
      "text/html": [
       "<div>\n",
       "<style>\n",
       "    .dataframe thead tr:only-child th {\n",
       "        text-align: right;\n",
       "    }\n",
       "\n",
       "    .dataframe thead th {\n",
       "        text-align: left;\n",
       "    }\n",
       "\n",
       "    .dataframe tbody tr th {\n",
       "        vertical-align: top;\n",
       "    }\n",
       "</style>\n",
       "<table border=\"1\" class=\"dataframe\">\n",
       "  <thead>\n",
       "    <tr style=\"text-align: right;\">\n",
       "      <th></th>\n",
       "      <th>item_id</th>\n",
       "      <th>activation_date</th>\n",
       "      <th>date_from</th>\n",
       "      <th>date_to</th>\n",
       "    </tr>\n",
       "  </thead>\n",
       "  <tbody>\n",
       "    <tr>\n",
       "      <th>469028</th>\n",
       "      <td>050cade37667</td>\n",
       "      <td>2017-03-01</td>\n",
       "      <td>2017-03-15</td>\n",
       "      <td>2017-03-28</td>\n",
       "    </tr>\n",
       "    <tr>\n",
       "      <th>6537692</th>\n",
       "      <td>4b1edf5131ea</td>\n",
       "      <td>2017-03-02</td>\n",
       "      <td>2017-03-15</td>\n",
       "      <td>2017-03-28</td>\n",
       "    </tr>\n",
       "    <tr>\n",
       "      <th>10670109</th>\n",
       "      <td>58eaf7ee876b</td>\n",
       "      <td>2017-02-14</td>\n",
       "      <td>2017-03-15</td>\n",
       "      <td>2017-03-16</td>\n",
       "    </tr>\n",
       "    <tr>\n",
       "      <th>10817424</th>\n",
       "      <td>97cf505710e1</td>\n",
       "      <td>2017-03-27</td>\n",
       "      <td>2017-03-27</td>\n",
       "      <td>2017-03-28</td>\n",
       "    </tr>\n",
       "    <tr>\n",
       "      <th>11137492</th>\n",
       "      <td>6a93a31a945d</td>\n",
       "      <td>2017-02-14</td>\n",
       "      <td>2017-03-15</td>\n",
       "      <td>2017-03-16</td>\n",
       "    </tr>\n",
       "    <tr>\n",
       "      <th>11159745</th>\n",
       "      <td>70d6342079ef</td>\n",
       "      <td>2017-03-14</td>\n",
       "      <td>2017-03-15</td>\n",
       "      <td>2017-03-28</td>\n",
       "    </tr>\n",
       "    <tr>\n",
       "      <th>11581735</th>\n",
       "      <td>2935e85aa40b</td>\n",
       "      <td>2017-03-13</td>\n",
       "      <td>2017-03-15</td>\n",
       "      <td>2017-03-28</td>\n",
       "    </tr>\n",
       "    <tr>\n",
       "      <th>13386480</th>\n",
       "      <td>deb7355cbd7e</td>\n",
       "      <td>2017-02-18</td>\n",
       "      <td>2017-03-15</td>\n",
       "      <td>2017-03-19</td>\n",
       "    </tr>\n",
       "    <tr>\n",
       "      <th>13869542</th>\n",
       "      <td>c301c65863e0</td>\n",
       "      <td>2017-02-23</td>\n",
       "      <td>2017-03-15</td>\n",
       "      <td>2017-03-23</td>\n",
       "    </tr>\n",
       "    <tr>\n",
       "      <th>14471669</th>\n",
       "      <td>4df800b9dbb5</td>\n",
       "      <td>2017-02-20</td>\n",
       "      <td>2017-03-15</td>\n",
       "      <td>2017-03-19</td>\n",
       "    </tr>\n",
       "    <tr>\n",
       "      <th>15115119</th>\n",
       "      <td>deb7355cbd7e</td>\n",
       "      <td>2017-03-20</td>\n",
       "      <td>2017-03-20</td>\n",
       "      <td>2017-03-28</td>\n",
       "    </tr>\n",
       "  </tbody>\n",
       "</table>\n",
       "</div>"
      ],
      "text/plain": [
       "               item_id activation_date  date_from    date_to\n",
       "469028    050cade37667      2017-03-01 2017-03-15 2017-03-28\n",
       "6537692   4b1edf5131ea      2017-03-02 2017-03-15 2017-03-28\n",
       "10670109  58eaf7ee876b      2017-02-14 2017-03-15 2017-03-16\n",
       "10817424  97cf505710e1      2017-03-27 2017-03-27 2017-03-28\n",
       "11137492  6a93a31a945d      2017-02-14 2017-03-15 2017-03-16\n",
       "11159745  70d6342079ef      2017-03-14 2017-03-15 2017-03-28\n",
       "11581735  2935e85aa40b      2017-03-13 2017-03-15 2017-03-28\n",
       "13386480  deb7355cbd7e      2017-02-18 2017-03-15 2017-03-19\n",
       "13869542  c301c65863e0      2017-02-23 2017-03-15 2017-03-23\n",
       "14471669  4df800b9dbb5      2017-02-20 2017-03-15 2017-03-19\n",
       "15115119  deb7355cbd7e      2017-03-20 2017-03-20 2017-03-28"
      ]
     },
     "execution_count": 25,
     "metadata": {},
     "output_type": "execute_result"
    }
   ],
   "source": [
    "# act_trn_itemid= ['97cf505710e1','70d6342079ef','6a93a31a945d','2935e85aa40b'] ## head 5 itemid in active train\n",
    "act_trn_itemid = df_act_trn.item_id.head(10)\n",
    "df_per_train[df_per_train.item_id.isin(act_trn_itemid)]"
   ]
  },
  {
   "cell_type": "code",
   "execution_count": 39,
   "metadata": {},
   "outputs": [
    {
     "data": {
      "text/html": [
       "<div>\n",
       "<style>\n",
       "    .dataframe thead tr:only-child th {\n",
       "        text-align: right;\n",
       "    }\n",
       "\n",
       "    .dataframe thead th {\n",
       "        text-align: left;\n",
       "    }\n",
       "\n",
       "    .dataframe tbody tr th {\n",
       "        vertical-align: top;\n",
       "    }\n",
       "</style>\n",
       "<table border=\"1\" class=\"dataframe\">\n",
       "  <thead>\n",
       "    <tr style=\"text-align: right;\">\n",
       "      <th></th>\n",
       "      <th>item_id</th>\n",
       "      <th>user_id</th>\n",
       "      <th>region</th>\n",
       "      <th>city</th>\n",
       "      <th>parent_category_name</th>\n",
       "      <th>category_name</th>\n",
       "      <th>param_1</th>\n",
       "      <th>param_2</th>\n",
       "      <th>param_3</th>\n",
       "      <th>title</th>\n",
       "      <th>description</th>\n",
       "      <th>price</th>\n",
       "      <th>item_seq_number</th>\n",
       "      <th>activation_date_x</th>\n",
       "      <th>user_type</th>\n",
       "      <th>activation_date_y</th>\n",
       "      <th>date_from</th>\n",
       "      <th>date_to</th>\n",
       "    </tr>\n",
       "  </thead>\n",
       "  <tbody>\n",
       "    <tr>\n",
       "      <th>0</th>\n",
       "      <td>70d6342079ef</td>\n",
       "      <td>11d4c04d8c51</td>\n",
       "      <td>Нижегородская область</td>\n",
       "      <td>Нижний Новгород</td>\n",
       "      <td>Хобби и отдых</td>\n",
       "      <td>Книги и журналы</td>\n",
       "      <td>Книги</td>\n",
       "      <td>NaN</td>\n",
       "      <td>NaN</td>\n",
       "      <td>Детская знциклопедия</td>\n",
       "      <td>детская энциклопедия,10 томов, в книге 630 стр...</td>\n",
       "      <td>200.0</td>\n",
       "      <td>20.0</td>\n",
       "      <td>2017-03-15</td>\n",
       "      <td>Private</td>\n",
       "      <td>2017-03-14</td>\n",
       "      <td>2017-03-15</td>\n",
       "      <td>2017-03-28</td>\n",
       "    </tr>\n",
       "    <tr>\n",
       "      <th>1</th>\n",
       "      <td>97cf505710e1</td>\n",
       "      <td>d7068c60b2c6</td>\n",
       "      <td>Воронежская область</td>\n",
       "      <td>Воронеж</td>\n",
       "      <td>Недвижимость</td>\n",
       "      <td>Гаражи и машиноместа</td>\n",
       "      <td>Продам</td>\n",
       "      <td>Гараж</td>\n",
       "      <td>Кирпичный</td>\n",
       "      <td>Гараж, &gt; 30 м²</td>\n",
       "      <td>Продается ГАРАЖ в ПГСК Алмаз/\\nУдобный въезд, ...</td>\n",
       "      <td>590000.0</td>\n",
       "      <td>23.0</td>\n",
       "      <td>2017-03-27</td>\n",
       "      <td>Private</td>\n",
       "      <td>2017-03-27</td>\n",
       "      <td>2017-03-27</td>\n",
       "      <td>2017-03-28</td>\n",
       "    </tr>\n",
       "    <tr>\n",
       "      <th>2</th>\n",
       "      <td>6a93a31a945d</td>\n",
       "      <td>755c88999bc7</td>\n",
       "      <td>Нижегородская область</td>\n",
       "      <td>Нижний Новгород</td>\n",
       "      <td>Недвижимость</td>\n",
       "      <td>Коммерческая недвижимость</td>\n",
       "      <td>Сдам</td>\n",
       "      <td>Торговое помещение</td>\n",
       "      <td>NaN</td>\n",
       "      <td>Торговое помещение, 50-5000 м²</td>\n",
       "      <td>Сдаем в аренду лучшие торговые помещения Н.Нов...</td>\n",
       "      <td>100000.0</td>\n",
       "      <td>4.0</td>\n",
       "      <td>2017-03-15</td>\n",
       "      <td>Private</td>\n",
       "      <td>2017-02-14</td>\n",
       "      <td>2017-03-15</td>\n",
       "      <td>2017-03-16</td>\n",
       "    </tr>\n",
       "    <tr>\n",
       "      <th>3</th>\n",
       "      <td>050cade37667</td>\n",
       "      <td>3d7fb2abdbbc</td>\n",
       "      <td>Башкортостан</td>\n",
       "      <td>Стерлитамак</td>\n",
       "      <td>Бытовая электроника</td>\n",
       "      <td>Телефоны</td>\n",
       "      <td>Аксессуары</td>\n",
       "      <td>Аккумуляторы</td>\n",
       "      <td>NaN</td>\n",
       "      <td>Аккумулятор на 5s / 5c</td>\n",
       "      <td>продам  батарею на iphone 5s , 5с</td>\n",
       "      <td>750.0</td>\n",
       "      <td>157.0</td>\n",
       "      <td>2017-03-15</td>\n",
       "      <td>Company</td>\n",
       "      <td>2017-03-01</td>\n",
       "      <td>2017-03-15</td>\n",
       "      <td>2017-03-28</td>\n",
       "    </tr>\n",
       "    <tr>\n",
       "      <th>4</th>\n",
       "      <td>2935e85aa40b</td>\n",
       "      <td>fc1be1a809d1</td>\n",
       "      <td>Татарстан</td>\n",
       "      <td>Казань</td>\n",
       "      <td>Для дома и дачи</td>\n",
       "      <td>Ремонт и строительство</td>\n",
       "      <td>Камины и обогреватели</td>\n",
       "      <td>NaN</td>\n",
       "      <td>NaN</td>\n",
       "      <td>Заглушки, дверцы, плита</td>\n",
       "      <td>Всё для печи: плита, заглушка, дверцы- всё нов...</td>\n",
       "      <td>3900.0</td>\n",
       "      <td>27.0</td>\n",
       "      <td>2017-03-15</td>\n",
       "      <td>Private</td>\n",
       "      <td>2017-03-13</td>\n",
       "      <td>2017-03-15</td>\n",
       "      <td>2017-03-28</td>\n",
       "    </tr>\n",
       "    <tr>\n",
       "      <th>5</th>\n",
       "      <td>deb7355cbd7e</td>\n",
       "      <td>7fe1e284ccff</td>\n",
       "      <td>Саратовская область</td>\n",
       "      <td>Вольск</td>\n",
       "      <td>Для дома и дачи</td>\n",
       "      <td>Ремонт и строительство</td>\n",
       "      <td>Инструменты</td>\n",
       "      <td>NaN</td>\n",
       "      <td>NaN</td>\n",
       "      <td>Советская дрель</td>\n",
       "      <td>Продам советскую дрель в хорошем состоянии . П...</td>\n",
       "      <td>1000.0</td>\n",
       "      <td>44.0</td>\n",
       "      <td>2017-03-15</td>\n",
       "      <td>Private</td>\n",
       "      <td>2017-02-18</td>\n",
       "      <td>2017-03-15</td>\n",
       "      <td>2017-03-19</td>\n",
       "    </tr>\n",
       "    <tr>\n",
       "      <th>6</th>\n",
       "      <td>c301c65863e0</td>\n",
       "      <td>d9b66fb7c34a</td>\n",
       "      <td>Удмуртия</td>\n",
       "      <td>Ижевск</td>\n",
       "      <td>Личные вещи</td>\n",
       "      <td>Товары для детей и игрушки</td>\n",
       "      <td>Детская мебель</td>\n",
       "      <td>NaN</td>\n",
       "      <td>NaN</td>\n",
       "      <td>Двух-ярусная кровать</td>\n",
       "      <td>Продам двух-ярусную кровать, длина180 см,полно...</td>\n",
       "      <td>4500.0</td>\n",
       "      <td>46.0</td>\n",
       "      <td>2017-03-15</td>\n",
       "      <td>Private</td>\n",
       "      <td>2017-02-23</td>\n",
       "      <td>2017-03-15</td>\n",
       "      <td>2017-03-23</td>\n",
       "    </tr>\n",
       "    <tr>\n",
       "      <th>7</th>\n",
       "      <td>4df800b9dbb5</td>\n",
       "      <td>316092fe1dca</td>\n",
       "      <td>Ростовская область</td>\n",
       "      <td>Ростов-на-Дону</td>\n",
       "      <td>Личные вещи</td>\n",
       "      <td>Одежда, обувь, аксессуары</td>\n",
       "      <td>Женская одежда</td>\n",
       "      <td>Нижнее бельё</td>\n",
       "      <td>42–44 (S)</td>\n",
       "      <td>Пояс под чулки Италия</td>\n",
       "      <td>два пояса, новых, цена дешевле магазинной</td>\n",
       "      <td>600.0</td>\n",
       "      <td>69.0</td>\n",
       "      <td>2017-03-15</td>\n",
       "      <td>Shop</td>\n",
       "      <td>2017-02-20</td>\n",
       "      <td>2017-03-15</td>\n",
       "      <td>2017-03-19</td>\n",
       "    </tr>\n",
       "    <tr>\n",
       "      <th>8</th>\n",
       "      <td>58eaf7ee876b</td>\n",
       "      <td>e1b372a5db8f</td>\n",
       "      <td>Краснодарский край</td>\n",
       "      <td>Краснодар</td>\n",
       "      <td>Хобби и отдых</td>\n",
       "      <td>Книги и журналы</td>\n",
       "      <td>Книги</td>\n",
       "      <td>NaN</td>\n",
       "      <td>NaN</td>\n",
       "      <td>Луис Ламур</td>\n",
       "      <td>Неполное собрание книг от писателя Луис Ламур....</td>\n",
       "      <td>1000.0</td>\n",
       "      <td>13.0</td>\n",
       "      <td>2017-03-15</td>\n",
       "      <td>Private</td>\n",
       "      <td>2017-02-14</td>\n",
       "      <td>2017-03-15</td>\n",
       "      <td>2017-03-16</td>\n",
       "    </tr>\n",
       "    <tr>\n",
       "      <th>9</th>\n",
       "      <td>4b1edf5131ea</td>\n",
       "      <td>d4c280d0fbd9</td>\n",
       "      <td>Челябинская область</td>\n",
       "      <td>Челябинск</td>\n",
       "      <td>Личные вещи</td>\n",
       "      <td>Детская одежда и обувь</td>\n",
       "      <td>Для девочек</td>\n",
       "      <td>Обувь</td>\n",
       "      <td>29</td>\n",
       "      <td>Ботинки\"котофей\"</td>\n",
       "      <td>Ботинки\"котофей\" внутри шерсть,29р по стельке ...</td>\n",
       "      <td>650.0</td>\n",
       "      <td>142.0</td>\n",
       "      <td>2017-03-15</td>\n",
       "      <td>Company</td>\n",
       "      <td>2017-03-02</td>\n",
       "      <td>2017-03-15</td>\n",
       "      <td>2017-03-28</td>\n",
       "    </tr>\n",
       "    <tr>\n",
       "      <th>10</th>\n",
       "      <td>bf7d35957718</td>\n",
       "      <td>6adce84ed6df</td>\n",
       "      <td>Воронежская область</td>\n",
       "      <td>Воронеж</td>\n",
       "      <td>Личные вещи</td>\n",
       "      <td>Одежда, обувь, аксессуары</td>\n",
       "      <td>Женская одежда</td>\n",
       "      <td>Платья и юбки</td>\n",
       "      <td>40–42 (XS)</td>\n",
       "      <td>Платье Zolla</td>\n",
       "      <td>Продам платье, немного б/у,размер xs. В отличн...</td>\n",
       "      <td>500.0</td>\n",
       "      <td>12.0</td>\n",
       "      <td>2017-03-15</td>\n",
       "      <td>Private</td>\n",
       "      <td>2017-03-09</td>\n",
       "      <td>2017-03-15</td>\n",
       "      <td>2017-03-28</td>\n",
       "    </tr>\n",
       "    <tr>\n",
       "      <th>11</th>\n",
       "      <td>1e77cbff6697</td>\n",
       "      <td>919fadbb65c2</td>\n",
       "      <td>Воронежская область</td>\n",
       "      <td>Воронеж</td>\n",
       "      <td>Бытовая электроника</td>\n",
       "      <td>Телефоны</td>\n",
       "      <td>Аксессуары</td>\n",
       "      <td>Аккумуляторы</td>\n",
       "      <td>NaN</td>\n",
       "      <td>Mobile Power Bank 5600 мАч</td>\n",
       "      <td>Продаю карманный, удобный PowerBank. Можно бра...</td>\n",
       "      <td>500.0</td>\n",
       "      <td>24.0</td>\n",
       "      <td>2017-03-15</td>\n",
       "      <td>Company</td>\n",
       "      <td>2017-03-09</td>\n",
       "      <td>2017-03-15</td>\n",
       "      <td>2017-03-28</td>\n",
       "    </tr>\n",
       "    <tr>\n",
       "      <th>12</th>\n",
       "      <td>9c5510e4d899</td>\n",
       "      <td>8cdd88c2ab72</td>\n",
       "      <td>Нижегородская область</td>\n",
       "      <td>Нижний Новгород</td>\n",
       "      <td>Личные вещи</td>\n",
       "      <td>Часы и украшения</td>\n",
       "      <td>Часы</td>\n",
       "      <td>NaN</td>\n",
       "      <td>NaN</td>\n",
       "      <td>Casio EFA-132PB-1A (новые гарантия 2г в упаковке)</td>\n",
       "      <td>Стильные часы абсолютно новые документы чеки г...</td>\n",
       "      <td>4390.0</td>\n",
       "      <td>2756.0</td>\n",
       "      <td>2017-03-15</td>\n",
       "      <td>Company</td>\n",
       "      <td>2017-02-25</td>\n",
       "      <td>2017-03-15</td>\n",
       "      <td>2017-03-26</td>\n",
       "    </tr>\n",
       "    <tr>\n",
       "      <th>13</th>\n",
       "      <td>026e2c136902</td>\n",
       "      <td>bf1acd92ed81</td>\n",
       "      <td>Красноярский край</td>\n",
       "      <td>Красноярск</td>\n",
       "      <td>Личные вещи</td>\n",
       "      <td>Одежда, обувь, аксессуары</td>\n",
       "      <td>Женская одежда</td>\n",
       "      <td>Обувь</td>\n",
       "      <td>39</td>\n",
       "      <td>Сапоги\" зимние\"</td>\n",
       "      <td>Продам сапоги зимние Carlabei, европейка. Нату...</td>\n",
       "      <td>5000.0</td>\n",
       "      <td>5.0</td>\n",
       "      <td>2017-03-15</td>\n",
       "      <td>Private</td>\n",
       "      <td>2017-03-06</td>\n",
       "      <td>2017-03-15</td>\n",
       "      <td>2017-03-28</td>\n",
       "    </tr>\n",
       "    <tr>\n",
       "      <th>14</th>\n",
       "      <td>a0d27c3b99d8</td>\n",
       "      <td>2299a8424894</td>\n",
       "      <td>Ростовская область</td>\n",
       "      <td>Новочеркасск</td>\n",
       "      <td>Хобби и отдых</td>\n",
       "      <td>Спорт и отдых</td>\n",
       "      <td>Другое</td>\n",
       "      <td>NaN</td>\n",
       "      <td>NaN</td>\n",
       "      <td>Пастель художественная мягкая профессиональная</td>\n",
       "      <td>Пастель новая,была использована один раз/\\nСтр...</td>\n",
       "      <td>800.0</td>\n",
       "      <td>1.0</td>\n",
       "      <td>2017-03-27</td>\n",
       "      <td>Private</td>\n",
       "      <td>2017-03-27</td>\n",
       "      <td>2017-03-27</td>\n",
       "      <td>2017-03-28</td>\n",
       "    </tr>\n",
       "    <tr>\n",
       "      <th>15</th>\n",
       "      <td>955020d2f399</td>\n",
       "      <td>0830a05f2ad3</td>\n",
       "      <td>Свердловская область</td>\n",
       "      <td>Екатеринбург</td>\n",
       "      <td>Личные вещи</td>\n",
       "      <td>Одежда, обувь, аксессуары</td>\n",
       "      <td>Мужская одежда</td>\n",
       "      <td>Другое</td>\n",
       "      <td>NaN</td>\n",
       "      <td>Носки с картинами</td>\n",
       "      <td>Носки с картинами великих художников - настоящ...</td>\n",
       "      <td>300.0</td>\n",
       "      <td>171.0</td>\n",
       "      <td>2017-03-15</td>\n",
       "      <td>Company</td>\n",
       "      <td>2017-02-21</td>\n",
       "      <td>2017-03-15</td>\n",
       "      <td>2017-03-23</td>\n",
       "    </tr>\n",
       "    <tr>\n",
       "      <th>16</th>\n",
       "      <td>11404186c180</td>\n",
       "      <td>d0f566c07c05</td>\n",
       "      <td>Красноярский край</td>\n",
       "      <td>Красноярск</td>\n",
       "      <td>Личные вещи</td>\n",
       "      <td>Одежда, обувь, аксессуары</td>\n",
       "      <td>Аксессуары</td>\n",
       "      <td>NaN</td>\n",
       "      <td>NaN</td>\n",
       "      <td>Визитница tukzar Tz-3464</td>\n",
       "      <td>Новая, красивая, стильная и компактная визитни...</td>\n",
       "      <td>100.0</td>\n",
       "      <td>8.0</td>\n",
       "      <td>2017-03-15</td>\n",
       "      <td>Private</td>\n",
       "      <td>2017-03-04</td>\n",
       "      <td>2017-03-15</td>\n",
       "      <td>2017-03-28</td>\n",
       "    </tr>\n",
       "    <tr>\n",
       "      <th>17</th>\n",
       "      <td>0b70eb7e4f1a</td>\n",
       "      <td>504767d92abc</td>\n",
       "      <td>Челябинская область</td>\n",
       "      <td>Миасс</td>\n",
       "      <td>Бытовая электроника</td>\n",
       "      <td>Телефоны</td>\n",
       "      <td>iPhone</td>\n",
       "      <td>NaN</td>\n",
       "      <td>NaN</td>\n",
       "      <td>iPhone 5 Black 16GB</td>\n",
       "      <td>Продаю айфошу. Состояние хорошее, есть незначи...</td>\n",
       "      <td>9000.0</td>\n",
       "      <td>22.0</td>\n",
       "      <td>2017-03-15</td>\n",
       "      <td>Private</td>\n",
       "      <td>2017-03-14</td>\n",
       "      <td>2017-03-15</td>\n",
       "      <td>2017-03-26</td>\n",
       "    </tr>\n",
       "    <tr>\n",
       "      <th>18</th>\n",
       "      <td>23666a5e4ccb</td>\n",
       "      <td>614587f07e21</td>\n",
       "      <td>Воронежская область</td>\n",
       "      <td>Воронеж</td>\n",
       "      <td>Для дома и дачи</td>\n",
       "      <td>Ремонт и строительство</td>\n",
       "      <td>Сантехника и сауна</td>\n",
       "      <td>NaN</td>\n",
       "      <td>NaN</td>\n",
       "      <td>Кран шаровой приварной нерж. DN20.25.32.50</td>\n",
       "      <td>Новые краны/\\nцена по закупке, в связи с закры...</td>\n",
       "      <td>1100.0</td>\n",
       "      <td>182.0</td>\n",
       "      <td>2017-03-15</td>\n",
       "      <td>Company</td>\n",
       "      <td>2017-02-23</td>\n",
       "      <td>2017-03-15</td>\n",
       "      <td>2017-03-24</td>\n",
       "    </tr>\n",
       "    <tr>\n",
       "      <th>19</th>\n",
       "      <td>a10a980e5ea3</td>\n",
       "      <td>3a11a82c09b3</td>\n",
       "      <td>Свердловская область</td>\n",
       "      <td>Екатеринбург</td>\n",
       "      <td>Личные вещи</td>\n",
       "      <td>Одежда, обувь, аксессуары</td>\n",
       "      <td>Женская одежда</td>\n",
       "      <td>Верхняя одежда</td>\n",
       "      <td>40–42 (XS)</td>\n",
       "      <td>Арт. 978979 шубка из меха лисы новая</td>\n",
       "      <td>Торгово-скупочный центр /\\n-------------------...</td>\n",
       "      <td>25000.0</td>\n",
       "      <td>3264.0</td>\n",
       "      <td>2017-03-15</td>\n",
       "      <td>Company</td>\n",
       "      <td>2017-02-22</td>\n",
       "      <td>2017-03-15</td>\n",
       "      <td>2017-03-23</td>\n",
       "    </tr>\n",
       "  </tbody>\n",
       "</table>\n",
       "</div>"
      ],
      "text/plain": [
       "         item_id       user_id                 region             city  \\\n",
       "0   70d6342079ef  11d4c04d8c51  Нижегородская область  Нижний Новгород   \n",
       "1   97cf505710e1  d7068c60b2c6    Воронежская область          Воронеж   \n",
       "2   6a93a31a945d  755c88999bc7  Нижегородская область  Нижний Новгород   \n",
       "3   050cade37667  3d7fb2abdbbc           Башкортостан      Стерлитамак   \n",
       "4   2935e85aa40b  fc1be1a809d1              Татарстан           Казань   \n",
       "5   deb7355cbd7e  7fe1e284ccff    Саратовская область           Вольск   \n",
       "6   c301c65863e0  d9b66fb7c34a               Удмуртия           Ижевск   \n",
       "7   4df800b9dbb5  316092fe1dca     Ростовская область   Ростов-на-Дону   \n",
       "8   58eaf7ee876b  e1b372a5db8f     Краснодарский край        Краснодар   \n",
       "9   4b1edf5131ea  d4c280d0fbd9    Челябинская область        Челябинск   \n",
       "10  bf7d35957718  6adce84ed6df    Воронежская область          Воронеж   \n",
       "11  1e77cbff6697  919fadbb65c2    Воронежская область          Воронеж   \n",
       "12  9c5510e4d899  8cdd88c2ab72  Нижегородская область  Нижний Новгород   \n",
       "13  026e2c136902  bf1acd92ed81      Красноярский край       Красноярск   \n",
       "14  a0d27c3b99d8  2299a8424894     Ростовская область     Новочеркасск   \n",
       "15  955020d2f399  0830a05f2ad3   Свердловская область     Екатеринбург   \n",
       "16  11404186c180  d0f566c07c05      Красноярский край       Красноярск   \n",
       "17  0b70eb7e4f1a  504767d92abc    Челябинская область            Миасс   \n",
       "18  23666a5e4ccb  614587f07e21    Воронежская область          Воронеж   \n",
       "19  a10a980e5ea3  3a11a82c09b3   Свердловская область     Екатеринбург   \n",
       "\n",
       "   parent_category_name               category_name                param_1  \\\n",
       "0         Хобби и отдых             Книги и журналы                  Книги   \n",
       "1          Недвижимость        Гаражи и машиноместа                 Продам   \n",
       "2          Недвижимость   Коммерческая недвижимость                   Сдам   \n",
       "3   Бытовая электроника                    Телефоны             Аксессуары   \n",
       "4       Для дома и дачи      Ремонт и строительство  Камины и обогреватели   \n",
       "5       Для дома и дачи      Ремонт и строительство            Инструменты   \n",
       "6           Личные вещи  Товары для детей и игрушки         Детская мебель   \n",
       "7           Личные вещи   Одежда, обувь, аксессуары         Женская одежда   \n",
       "8         Хобби и отдых             Книги и журналы                  Книги   \n",
       "9           Личные вещи      Детская одежда и обувь            Для девочек   \n",
       "10          Личные вещи   Одежда, обувь, аксессуары         Женская одежда   \n",
       "11  Бытовая электроника                    Телефоны             Аксессуары   \n",
       "12          Личные вещи            Часы и украшения                   Часы   \n",
       "13          Личные вещи   Одежда, обувь, аксессуары         Женская одежда   \n",
       "14        Хобби и отдых               Спорт и отдых                 Другое   \n",
       "15          Личные вещи   Одежда, обувь, аксессуары         Мужская одежда   \n",
       "16          Личные вещи   Одежда, обувь, аксессуары             Аксессуары   \n",
       "17  Бытовая электроника                    Телефоны                 iPhone   \n",
       "18      Для дома и дачи      Ремонт и строительство     Сантехника и сауна   \n",
       "19          Личные вещи   Одежда, обувь, аксессуары         Женская одежда   \n",
       "\n",
       "               param_2     param_3  \\\n",
       "0                  NaN         NaN   \n",
       "1                Гараж   Кирпичный   \n",
       "2   Торговое помещение         NaN   \n",
       "3         Аккумуляторы         NaN   \n",
       "4                  NaN         NaN   \n",
       "5                  NaN         NaN   \n",
       "6                  NaN         NaN   \n",
       "7         Нижнее бельё   42–44 (S)   \n",
       "8                  NaN         NaN   \n",
       "9                Обувь          29   \n",
       "10       Платья и юбки  40–42 (XS)   \n",
       "11        Аккумуляторы         NaN   \n",
       "12                 NaN         NaN   \n",
       "13               Обувь          39   \n",
       "14                 NaN         NaN   \n",
       "15              Другое         NaN   \n",
       "16                 NaN         NaN   \n",
       "17                 NaN         NaN   \n",
       "18                 NaN         NaN   \n",
       "19      Верхняя одежда  40–42 (XS)   \n",
       "\n",
       "                                                title  \\\n",
       "0                                Детская знциклопедия   \n",
       "1                                      Гараж, > 30 м²   \n",
       "2                      Торговое помещение, 50-5000 м²   \n",
       "3                              Аккумулятор на 5s / 5c   \n",
       "4                             Заглушки, дверцы, плита   \n",
       "5                                     Советская дрель   \n",
       "6                                Двух-ярусная кровать   \n",
       "7                               Пояс под чулки Италия   \n",
       "8                                          Луис Ламур   \n",
       "9                                    Ботинки\"котофей\"   \n",
       "10                                       Платье Zolla   \n",
       "11                         Mobile Power Bank 5600 мАч   \n",
       "12  Casio EFA-132PB-1A (новые гарантия 2г в упаковке)   \n",
       "13                                    Сапоги\" зимние\"   \n",
       "14     Пастель художественная мягкая профессиональная   \n",
       "15                                  Носки с картинами   \n",
       "16                           Визитница tukzar Tz-3464   \n",
       "17                                iPhone 5 Black 16GB   \n",
       "18         Кран шаровой приварной нерж. DN20.25.32.50   \n",
       "19               Арт. 978979 шубка из меха лисы новая   \n",
       "\n",
       "                                          description     price  \\\n",
       "0   детская энциклопедия,10 томов, в книге 630 стр...     200.0   \n",
       "1   Продается ГАРАЖ в ПГСК Алмаз/\\nУдобный въезд, ...  590000.0   \n",
       "2   Сдаем в аренду лучшие торговые помещения Н.Нов...  100000.0   \n",
       "3                   продам  батарею на iphone 5s , 5с     750.0   \n",
       "4   Всё для печи: плита, заглушка, дверцы- всё нов...    3900.0   \n",
       "5   Продам советскую дрель в хорошем состоянии . П...    1000.0   \n",
       "6   Продам двух-ярусную кровать, длина180 см,полно...    4500.0   \n",
       "7           два пояса, новых, цена дешевле магазинной     600.0   \n",
       "8   Неполное собрание книг от писателя Луис Ламур....    1000.0   \n",
       "9   Ботинки\"котофей\" внутри шерсть,29р по стельке ...     650.0   \n",
       "10  Продам платье, немного б/у,размер xs. В отличн...     500.0   \n",
       "11  Продаю карманный, удобный PowerBank. Можно бра...     500.0   \n",
       "12  Стильные часы абсолютно новые документы чеки г...    4390.0   \n",
       "13  Продам сапоги зимние Carlabei, европейка. Нату...    5000.0   \n",
       "14  Пастель новая,была использована один раз/\\nСтр...     800.0   \n",
       "15  Носки с картинами великих художников - настоящ...     300.0   \n",
       "16  Новая, красивая, стильная и компактная визитни...     100.0   \n",
       "17  Продаю айфошу. Состояние хорошее, есть незначи...    9000.0   \n",
       "18  Новые краны/\\nцена по закупке, в связи с закры...    1100.0   \n",
       "19  Торгово-скупочный центр /\\n-------------------...   25000.0   \n",
       "\n",
       "    item_seq_number activation_date_x user_type activation_date_y  date_from  \\\n",
       "0              20.0        2017-03-15   Private        2017-03-14 2017-03-15   \n",
       "1              23.0        2017-03-27   Private        2017-03-27 2017-03-27   \n",
       "2               4.0        2017-03-15   Private        2017-02-14 2017-03-15   \n",
       "3             157.0        2017-03-15   Company        2017-03-01 2017-03-15   \n",
       "4              27.0        2017-03-15   Private        2017-03-13 2017-03-15   \n",
       "5              44.0        2017-03-15   Private        2017-02-18 2017-03-15   \n",
       "6              46.0        2017-03-15   Private        2017-02-23 2017-03-15   \n",
       "7              69.0        2017-03-15      Shop        2017-02-20 2017-03-15   \n",
       "8              13.0        2017-03-15   Private        2017-02-14 2017-03-15   \n",
       "9             142.0        2017-03-15   Company        2017-03-02 2017-03-15   \n",
       "10             12.0        2017-03-15   Private        2017-03-09 2017-03-15   \n",
       "11             24.0        2017-03-15   Company        2017-03-09 2017-03-15   \n",
       "12           2756.0        2017-03-15   Company        2017-02-25 2017-03-15   \n",
       "13              5.0        2017-03-15   Private        2017-03-06 2017-03-15   \n",
       "14              1.0        2017-03-27   Private        2017-03-27 2017-03-27   \n",
       "15            171.0        2017-03-15   Company        2017-02-21 2017-03-15   \n",
       "16              8.0        2017-03-15   Private        2017-03-04 2017-03-15   \n",
       "17             22.0        2017-03-15   Private        2017-03-14 2017-03-15   \n",
       "18            182.0        2017-03-15   Company        2017-02-23 2017-03-15   \n",
       "19           3264.0        2017-03-15   Company        2017-02-22 2017-03-15   \n",
       "\n",
       "      date_to  \n",
       "0  2017-03-28  \n",
       "1  2017-03-28  \n",
       "2  2017-03-16  \n",
       "3  2017-03-28  \n",
       "4  2017-03-28  \n",
       "5  2017-03-19  \n",
       "6  2017-03-23  \n",
       "7  2017-03-19  \n",
       "8  2017-03-16  \n",
       "9  2017-03-28  \n",
       "10 2017-03-28  \n",
       "11 2017-03-28  \n",
       "12 2017-03-26  \n",
       "13 2017-03-28  \n",
       "14 2017-03-28  \n",
       "15 2017-03-23  \n",
       "16 2017-03-28  \n",
       "17 2017-03-26  \n",
       "18 2017-03-24  \n",
       "19 2017-03-23  "
      ]
     },
     "execution_count": 39,
     "metadata": {},
     "output_type": "execute_result"
    }
   ],
   "source": [
    "df_act_trn.head(20).merge(df_per_train,left_on=['item_id','activation_date'],right_on=['item_id','date_from'],how='inner')"
   ]
  },
  {
   "cell_type": "code",
   "execution_count": 33,
   "metadata": {},
   "outputs": [
    {
     "data": {
      "text/html": [
       "<div>\n",
       "<style>\n",
       "    .dataframe thead tr:only-child th {\n",
       "        text-align: right;\n",
       "    }\n",
       "\n",
       "    .dataframe thead th {\n",
       "        text-align: left;\n",
       "    }\n",
       "\n",
       "    .dataframe tbody tr th {\n",
       "        vertical-align: top;\n",
       "    }\n",
       "</style>\n",
       "<table border=\"1\" class=\"dataframe\">\n",
       "  <thead>\n",
       "    <tr style=\"text-align: right;\">\n",
       "      <th></th>\n",
       "      <th>item_id</th>\n",
       "      <th>activation_date_x</th>\n",
       "      <th>date_from</th>\n",
       "      <th>date_to</th>\n",
       "      <th>user_id</th>\n",
       "      <th>region</th>\n",
       "      <th>city</th>\n",
       "      <th>parent_category_name</th>\n",
       "      <th>category_name</th>\n",
       "      <th>param_1</th>\n",
       "      <th>param_2</th>\n",
       "      <th>param_3</th>\n",
       "      <th>title</th>\n",
       "      <th>description</th>\n",
       "      <th>price</th>\n",
       "      <th>item_seq_number</th>\n",
       "      <th>activation_date_y</th>\n",
       "      <th>user_type</th>\n",
       "    </tr>\n",
       "  </thead>\n",
       "  <tbody>\n",
       "  </tbody>\n",
       "</table>\n",
       "</div>"
      ],
      "text/plain": [
       "Empty DataFrame\n",
       "Columns: [item_id, activation_date_x, date_from, date_to, user_id, region, city, parent_category_name, category_name, param_1, param_2, param_3, title, description, price, item_seq_number, activation_date_y, user_type]\n",
       "Index: []"
      ]
     },
     "execution_count": 33,
     "metadata": {},
     "output_type": "execute_result"
    }
   ],
   "source": [
    "# df_per_train.head(10).merge(df_act_trn,on='item_id',how='inner')"
   ]
  },
  {
   "cell_type": "code",
   "execution_count": 23,
   "metadata": {},
   "outputs": [
    {
     "data": {
      "text/plain": [
       "Index(['item_id', 'activation_date', 'date_from', 'date_to'], dtype='object')"
      ]
     },
     "execution_count": 23,
     "metadata": {},
     "output_type": "execute_result"
    }
   ],
   "source": [
    "df_per_train.columns"
   ]
  },
  {
   "cell_type": "code",
   "execution_count": 25,
   "metadata": {},
   "outputs": [
    {
     "data": {
      "text/plain": [
       "Index(['item_id', 'user_id', 'city', 'activation_date'], dtype='object')"
      ]
     },
     "execution_count": 25,
     "metadata": {},
     "output_type": "execute_result"
    }
   ],
   "source": [
    "df_act_trn.columns"
   ]
  },
  {
   "cell_type": "code",
   "execution_count": 26,
   "metadata": {
    "collapsed": true
   },
   "outputs": [],
   "source": [
    "merged_trn_sup = df_act_trn[['item_id','activation_date','user_id']].merge(df_per_train,\n",
    "                                                                                           how='inner',\n",
    "                                                                                           left_on=['item_id','activation_date'],\n",
    "                                                                                           right_on=['item_id','date_from'])"
   ]
  },
  {
   "cell_type": "code",
   "execution_count": 28,
   "metadata": {},
   "outputs": [
    {
     "data": {
      "text/plain": [
       "(14129821, 4)"
      ]
     },
     "execution_count": 28,
     "metadata": {},
     "output_type": "execute_result"
    }
   ],
   "source": [
    "df_act_trn.shape"
   ]
  },
  {
   "cell_type": "code",
   "execution_count": 30,
   "metadata": {},
   "outputs": [
    {
     "data": {
      "text/plain": [
       "(14005453, 6)"
      ]
     },
     "execution_count": 30,
     "metadata": {},
     "output_type": "execute_result"
    }
   ],
   "source": [
    "merged_trn_sup.shape"
   ]
  },
  {
   "cell_type": "code",
   "execution_count": 31,
   "metadata": {},
   "outputs": [
    {
     "data": {
      "text/html": [
       "<div>\n",
       "<style>\n",
       "    .dataframe thead tr:only-child th {\n",
       "        text-align: right;\n",
       "    }\n",
       "\n",
       "    .dataframe thead th {\n",
       "        text-align: left;\n",
       "    }\n",
       "\n",
       "    .dataframe tbody tr th {\n",
       "        vertical-align: top;\n",
       "    }\n",
       "</style>\n",
       "<table border=\"1\" class=\"dataframe\">\n",
       "  <thead>\n",
       "    <tr style=\"text-align: right;\">\n",
       "      <th></th>\n",
       "      <th>item_id</th>\n",
       "      <th>activation_date_x</th>\n",
       "      <th>user_id</th>\n",
       "      <th>activation_date_y</th>\n",
       "      <th>date_from</th>\n",
       "      <th>date_to</th>\n",
       "    </tr>\n",
       "  </thead>\n",
       "  <tbody>\n",
       "    <tr>\n",
       "      <th>0</th>\n",
       "      <td>70d6342079ef</td>\n",
       "      <td>2017-03-15</td>\n",
       "      <td>11d4c04d8c51</td>\n",
       "      <td>2017-03-14</td>\n",
       "      <td>2017-03-15</td>\n",
       "      <td>2017-03-28</td>\n",
       "    </tr>\n",
       "    <tr>\n",
       "      <th>1</th>\n",
       "      <td>97cf505710e1</td>\n",
       "      <td>2017-03-27</td>\n",
       "      <td>d7068c60b2c6</td>\n",
       "      <td>2017-03-27</td>\n",
       "      <td>2017-03-27</td>\n",
       "      <td>2017-03-28</td>\n",
       "    </tr>\n",
       "    <tr>\n",
       "      <th>2</th>\n",
       "      <td>6a93a31a945d</td>\n",
       "      <td>2017-03-15</td>\n",
       "      <td>755c88999bc7</td>\n",
       "      <td>2017-02-14</td>\n",
       "      <td>2017-03-15</td>\n",
       "      <td>2017-03-16</td>\n",
       "    </tr>\n",
       "    <tr>\n",
       "      <th>3</th>\n",
       "      <td>050cade37667</td>\n",
       "      <td>2017-03-15</td>\n",
       "      <td>3d7fb2abdbbc</td>\n",
       "      <td>2017-03-01</td>\n",
       "      <td>2017-03-15</td>\n",
       "      <td>2017-03-28</td>\n",
       "    </tr>\n",
       "    <tr>\n",
       "      <th>4</th>\n",
       "      <td>2935e85aa40b</td>\n",
       "      <td>2017-03-15</td>\n",
       "      <td>fc1be1a809d1</td>\n",
       "      <td>2017-03-13</td>\n",
       "      <td>2017-03-15</td>\n",
       "      <td>2017-03-28</td>\n",
       "    </tr>\n",
       "  </tbody>\n",
       "</table>\n",
       "</div>"
      ],
      "text/plain": [
       "        item_id activation_date_x       user_id activation_date_y  date_from  \\\n",
       "0  70d6342079ef        2017-03-15  11d4c04d8c51        2017-03-14 2017-03-15   \n",
       "1  97cf505710e1        2017-03-27  d7068c60b2c6        2017-03-27 2017-03-27   \n",
       "2  6a93a31a945d        2017-03-15  755c88999bc7        2017-02-14 2017-03-15   \n",
       "3  050cade37667        2017-03-15  3d7fb2abdbbc        2017-03-01 2017-03-15   \n",
       "4  2935e85aa40b        2017-03-15  fc1be1a809d1        2017-03-13 2017-03-15   \n",
       "\n",
       "     date_to  \n",
       "0 2017-03-28  \n",
       "1 2017-03-28  \n",
       "2 2017-03-16  \n",
       "3 2017-03-28  \n",
       "4 2017-03-28  "
      ]
     },
     "execution_count": 31,
     "metadata": {},
     "output_type": "execute_result"
    }
   ],
   "source": [
    "merged_trn_sup.head()"
   ]
  },
  {
   "cell_type": "code",
   "execution_count": 37,
   "metadata": {},
   "outputs": [
    {
     "data": {
      "text/plain": [
       "Timestamp('2017-03-27 00:00:00')"
      ]
     },
     "execution_count": 37,
     "metadata": {},
     "output_type": "execute_result"
    }
   ],
   "source": [
    "merged_trn_sup.date_from.max()"
   ]
  },
  {
   "cell_type": "markdown",
   "metadata": {},
   "source": [
    "loss some data `periods train` in `train_active` "
   ]
  },
  {
   "cell_type": "markdown",
   "metadata": {},
   "source": [
    "____"
   ]
  },
  {
   "cell_type": "markdown",
   "metadata": {},
   "source": [
    "`df_train` clean ??? \n",
    "- date range of activation  \n",
    "- display ** 3/15 - 3/27 **"
   ]
  },
  {
   "cell_type": "code",
   "execution_count": 42,
   "metadata": {},
   "outputs": [
    {
     "data": {
      "text/plain": [
       "2017-03-20    115190\n",
       "2017-03-27    114863\n",
       "2017-03-19    114416\n",
       "2017-03-26    113513\n",
       "2017-03-28    112885\n",
       "2017-03-21    110535\n",
       "2017-03-22    109813\n",
       "2017-03-15    108615\n",
       "2017-03-23    106544\n",
       "2017-03-16    106168\n",
       "2017-03-17     98773\n",
       "2017-03-18     97554\n",
       "2017-03-24     97351\n",
       "2017-03-25     97104\n",
       "2017-03-29        87\n",
       "2017-04-01         3\n",
       "2017-03-30         3\n",
       "2017-04-02         3\n",
       "2017-04-03         2\n",
       "2017-04-07         1\n",
       "2017-03-31         1\n",
       "Name: activation_date, dtype: int64"
      ]
     },
     "execution_count": 42,
     "metadata": {},
     "output_type": "execute_result"
    }
   ],
   "source": [
    "df_train.activation_date.value_counts()"
   ]
  },
  {
   "cell_type": "code",
   "execution_count": 47,
   "metadata": {},
   "outputs": [
    {
     "data": {
      "text/plain": [
       "2017-03-15    12246008\n",
       "2017-03-16      206064\n",
       "2017-03-17      171405\n",
       "2017-03-20      162183\n",
       "2017-03-19      159018\n",
       "2017-03-18      151699\n",
       "2017-03-21      148612\n",
       "2017-03-22      146814\n",
       "2017-03-23      131640\n",
       "2017-03-27      128207\n",
       "2017-03-26      122839\n",
       "2017-03-24      118500\n",
       "2017-03-25      112509\n",
       "Name: activation_date, dtype: int64"
      ]
     },
     "execution_count": 47,
     "metadata": {},
     "output_type": "execute_result"
    }
   ],
   "source": [
    "df_act_trn.activation_date.value_counts() # 3/15-3/27 ## ad activation date "
   ]
  },
  {
   "cell_type": "code",
   "execution_count": 45,
   "metadata": {},
   "outputs": [
    {
     "data": {
      "text/plain": [
       "Timestamp('2017-03-28 00:00:00')"
      ]
     },
     "execution_count": 45,
     "metadata": {},
     "output_type": "execute_result"
    }
   ],
   "source": [
    "merged_trn_sup.date_to.value_counts() # 3/15-3/28  ad display to_date "
   ]
  },
  {
   "cell_type": "markdown",
   "metadata": {},
   "source": [
    "?? should we cut of activatino date >　'3/28'"
   ]
  },
  {
   "cell_type": "markdown",
   "metadata": {},
   "source": [
    "____"
   ]
  },
  {
   "cell_type": "code",
   "execution_count": 143,
   "metadata": {},
   "outputs": [
    {
     "data": {
      "text/plain": [
       "Index(['item_id', 'user_id', 'region', 'city', 'parent_category_name',\n",
       "       'category_name', 'param_1', 'param_2', 'param_3', 'title',\n",
       "       'description', 'price', 'item_seq_number', 'activation_date',\n",
       "       'user_type', 'image', 'image_top_1', 'deal_probability'],\n",
       "      dtype='object')"
      ]
     },
     "execution_count": 143,
     "metadata": {},
     "output_type": "execute_result"
    }
   ],
   "source": [
    "df_train.columns"
   ]
  },
  {
   "cell_type": "code",
   "execution_count": 195,
   "metadata": {
    "collapsed": true
   },
   "outputs": [
    {
     "data": {
      "text/plain": [
       "Платье                                         15550\n",
       "Туфли                                           6334\n",
       "Куртка                                          6331\n",
       "Пальто                                          5251\n",
       "Джинсы                                          4758\n",
       "Комбинезон                                      4506\n",
       "Кроссовки                                       3196\n",
       "Костюм                                          2916\n",
       "Ботинки                                         2876\n",
       "Босоножки                                       2760\n",
       "Юбка                                            2722\n",
       "Кофта                                           2721\n",
       "Ветровка                                        2432\n",
       "Сниму 1-к квартиру                              2379\n",
       "Сапоги                                          2191\n",
       "Свадебное платье                                2183\n",
       "Рубашка                                         1903\n",
       "Сумка                                           1869\n",
       "Коляска                                         1738\n",
       "Блузка                                          1673\n",
       "Сандали                                         1667\n",
       "Диван                                           1637\n",
       "Брюки                                           1623\n",
       "Плащ                                            1563\n",
       "Ботильоны                                       1523\n",
       "Велосипед                                       1496\n",
       "Участок 10 сот. (ИЖС)                           1489\n",
       "Кеды                                            1403\n",
       "Куртка демисезонная                             1350\n",
       "Сниму дом                                       1339\n",
       "                                               ...  \n",
       "Проекционный экранн                                1\n",
       "Копии мамы и папы                                  1\n",
       "Prestigio pap4300 duo                              1\n",
       "iPhone 5s 32GB полный комплект                     1\n",
       "Philips w 356 9                                    1\n",
       "Пальто Оstin                                       1\n",
       "Скутер Балт-Мотерс                                 1\n",
       "Сапоги юфтевые летние                              1\n",
       "Скорая помощь в доме                               1\n",
       "2-к квартира, 65 м², 7/20 эт.                      1\n",
       "Алекс Карвилл Тачки                                1\n",
       "Кофемашина Nuovo Simonelli musica 1Gr              1\n",
       "Часы Ракета позолоченные СССР                      1\n",
       "Строительные работы на Даче                        1\n",
       "Металлический наклонный прилавок пв-1-С б/у        1\n",
       "Британские шорты desert dp                         1\n",
       "Продаю платье миди                                 1\n",
       "iPad 3 wifi 3G                                     1\n",
       "Костюмы р-ры 42, 44                                1\n",
       "Ботиночки для девочки размер 21                    1\n",
       "Колье, Krikos                                      1\n",
       "Продажа Dark Souls 3, xcom 2                       1\n",
       "Dell 4 ядра с i3 для любых задач                   1\n",
       "Кружка \"Дедпул\"                                    1\n",
       "Картина художника Г.А. Гончарова                   1\n",
       "25 м²/Зорге/Привоз/Фасад/Торговое помещение        1\n",
       "Новая беспроводная мышь                            1\n",
       "Велосипедные покрышки                              1\n",
       "Fly iq 239                                         1\n",
       "Кукла Весна                                        1\n",
       "Name: title, Length: 788377, dtype: int64"
      ]
     },
     "execution_count": 195,
     "metadata": {},
     "output_type": "execute_result"
    }
   ],
   "source": [
    "df_train.title.value_counts()"
   ]
  },
  {
   "cell_type": "code",
   "execution_count": 187,
   "metadata": {},
   "outputs": [
    {
     "data": {
      "text/plain": [
       "0.139130575778883"
      ]
     },
     "execution_count": 187,
     "metadata": {},
     "output_type": "execute_result"
    }
   ],
   "source": [
    "df_train.deal_probability.mean()"
   ]
  },
  {
   "cell_type": "code",
   "execution_count": 182,
   "metadata": {},
   "outputs": [
    {
     "data": {
      "text/plain": [
       "Private    1075706\n",
       "Company     347249\n",
       "Shop         80469\n",
       "Name: user_type, dtype: int64"
      ]
     },
     "execution_count": 182,
     "metadata": {},
     "output_type": "execute_result"
    }
   ],
   "source": [
    "df_train.user_type.value_counts()"
   ]
  },
  {
   "cell_type": "code",
   "execution_count": 201,
   "metadata": {},
   "outputs": [
    {
     "data": {
      "text/plain": [
       "Личные вещи            697623\n",
       "Для дома и дачи        178823\n",
       "Бытовая электроника    173008\n",
       "Недвижимость           153190\n",
       "Хобби и отдых           86011\n",
       "Транспорт               79839\n",
       "Услуги                  64385\n",
       "Животные                52470\n",
       "Для бизнеса             18075\n",
       "Name: parent_category_name, dtype: int64"
      ]
     },
     "execution_count": 201,
     "metadata": {},
     "output_type": "execute_result"
    }
   ],
   "source": [
    "df_train.parent_category_name.value_counts() ## 9 class"
   ]
  },
  {
   "cell_type": "code",
   "execution_count": 202,
   "metadata": {},
   "outputs": [
    {
     "data": {
      "text/plain": [
       "parent_category_name\n",
       "Бытовая электроника    0.175421\n",
       "Для бизнеса            0.111026\n",
       "Для дома и дачи        0.179633\n",
       "Животные               0.235957\n",
       "Личные вещи            0.075876\n",
       "Недвижимость           0.142051\n",
       "Транспорт              0.263336\n",
       "Услуги                 0.403123\n",
       "Хобби и отдых          0.123703\n",
       "Name: deal_probability, dtype: float64"
      ]
     },
     "execution_count": 202,
     "metadata": {},
     "output_type": "execute_result"
    }
   ],
   "source": [
    "df_train.groupby('parent_category_name').deal_probability.mean()"
   ]
  },
  {
   "cell_type": "code",
   "execution_count": 186,
   "metadata": {
    "collapsed": true
   },
   "outputs": [
    {
     "data": {
      "text/plain": [
       "category_name\n",
       "Автомобили                      0.278427\n",
       "Аквариум                        0.183616\n",
       "Аудио и видео                   0.171572\n",
       "Билеты и путешествия            0.122712\n",
       "Бытовая техника                 0.252776\n",
       "Велосипеды                      0.247573\n",
       "Водный транспорт                0.229866\n",
       "Гаражи и машиноместа            0.119438\n",
       "Готовый бизнес                  0.099905\n",
       "Грузовики и спецтехника         0.178480\n",
       "Детская одежда и обувь          0.060834\n",
       "Дома, дачи, коттеджи            0.124862\n",
       "Другие животные                 0.264051\n",
       "Земельные участки               0.088676\n",
       "Игры, приставки и программы     0.202623\n",
       "Квартиры                        0.158154\n",
       "Книги и журналы                 0.040673\n",
       "Коллекционирование              0.063719\n",
       "Коммерческая недвижимость       0.121215\n",
       "Комнаты                         0.184329\n",
       "Кошки                           0.297259\n",
       "Красота и здоровье              0.092382\n",
       "Мебель и интерьер               0.191848\n",
       "Мотоциклы и мототехника         0.250694\n",
       "Музыкальные инструменты         0.190657\n",
       "Настольные компьютеры           0.180099\n",
       "Недвижимость за рубежом         0.053534\n",
       "Ноутбуки                        0.202596\n",
       "Оборудование для бизнеса        0.112431\n",
       "Одежда, обувь, аксессуары       0.046447\n",
       "Оргтехника и расходники         0.133757\n",
       "Охота и рыбалка                 0.147584\n",
       "Планшеты и электронные книги    0.151340\n",
       "Посуда и товары для кухни       0.103222\n",
       "Предложение услуг               0.403123\n",
       "Продукты питания                0.135809\n",
       "Птицы                           0.238340\n",
       "Растения                        0.131480\n",
       "Ремонт и строительство          0.146212\n",
       "Собаки                          0.252812\n",
       "Спорт и отдых                   0.146643\n",
       "Телефоны                        0.186176\n",
       "Товары для детей и игрушки      0.198445\n",
       "Товары для животных             0.133637\n",
       "Товары для компьютера           0.162863\n",
       "Фототехника                     0.132135\n",
       "Часы и украшения                0.055316\n",
       "Name: deal_probability, dtype: float64"
      ]
     },
     "execution_count": 186,
     "metadata": {},
     "output_type": "execute_result"
    }
   ],
   "source": [
    "df_train.groupby('category_name').deal_probability.mean()"
   ]
  },
  {
   "cell_type": "code",
   "execution_count": 184,
   "metadata": {},
   "outputs": [
    {
     "data": {
      "text/plain": [
       "True"
      ]
     },
     "execution_count": 184,
     "metadata": {},
     "output_type": "execute_result"
    }
   ],
   "source": [
    "df_train.shape[0] == np.sum(df_train.user_type.value_counts())"
   ]
  },
  {
   "cell_type": "code",
   "execution_count": 177,
   "metadata": {},
   "outputs": [
    {
     "data": {
      "text/plain": [
       "user_type\n",
       "Company    0.124513\n",
       "Private    0.149557\n",
       "Shop       0.062829\n",
       "Name: deal_probability, dtype: float64"
      ]
     },
     "execution_count": 177,
     "metadata": {},
     "output_type": "execute_result"
    }
   ],
   "source": [
    "df_train.groupby('user_type').deal_probability.mean()"
   ]
  },
  {
   "cell_type": "code",
   "execution_count": 199,
   "metadata": {},
   "outputs": [
    {
     "data": {
      "text/plain": [
       "user_id\n",
       "45ba3f23bf25    1080\n",
       "ee74bccca74f     980\n",
       "60dfed1efb6e     907\n",
       "b239811ad530     840\n",
       "abcdd1ca1a5c     807\n",
       "dtype: int64"
      ]
     },
     "execution_count": 199,
     "metadata": {},
     "output_type": "execute_result"
    }
   ],
   "source": [
    "df_train.groupby('user_id').size().sort_values(ascending=False).head()"
   ]
  },
  {
   "cell_type": "code",
   "execution_count": 190,
   "metadata": {
    "collapsed": true
   },
   "outputs": [],
   "source": [
    "# df_train.groupby('user_id').deal_probability.mean()"
   ]
  },
  {
   "cell_type": "code",
   "execution_count": 191,
   "metadata": {
    "collapsed": true
   },
   "outputs": [
    {
     "data": {
      "text/plain": [
       "image_top_1\n",
       "0.0       0.023969\n",
       "1.0       0.034206\n",
       "2.0       0.029602\n",
       "3.0       0.030007\n",
       "4.0       0.029184\n",
       "5.0       0.022440\n",
       "6.0       0.017368\n",
       "7.0       0.044422\n",
       "8.0       0.017421\n",
       "9.0       0.073602\n",
       "10.0      0.024278\n",
       "11.0      0.049316\n",
       "12.0      0.048041\n",
       "13.0      0.039280\n",
       "14.0      0.091320\n",
       "15.0      0.066808\n",
       "16.0      0.063129\n",
       "17.0      0.029407\n",
       "18.0      0.022320\n",
       "19.0      0.053134\n",
       "20.0      0.044429\n",
       "21.0      0.029694\n",
       "22.0      0.041498\n",
       "23.0      0.034111\n",
       "24.0      0.055227\n",
       "25.0      0.058485\n",
       "26.0      0.068767\n",
       "27.0      0.022773\n",
       "28.0      0.056141\n",
       "29.0      0.109423\n",
       "            ...   \n",
       "3037.0    0.240448\n",
       "3038.0    0.117748\n",
       "3039.0    0.127565\n",
       "3040.0    0.130358\n",
       "3041.0    0.192390\n",
       "3042.0    0.111080\n",
       "3043.0    0.156434\n",
       "3044.0    0.175006\n",
       "3045.0    0.073765\n",
       "3046.0    0.087772\n",
       "3047.0    0.179011\n",
       "3048.0    0.114167\n",
       "3049.0    0.062604\n",
       "3050.0    0.139856\n",
       "3051.0    0.034878\n",
       "3052.0    0.083666\n",
       "3053.0    0.148952\n",
       "3054.0    0.110512\n",
       "3055.0    0.095520\n",
       "3056.0    0.348821\n",
       "3057.0    0.267446\n",
       "3058.0    0.130549\n",
       "3059.0    0.170551\n",
       "3060.0    0.206864\n",
       "3061.0    0.195186\n",
       "3062.0    0.099812\n",
       "3063.0    0.139036\n",
       "3064.0    0.097194\n",
       "3065.0    0.130559\n",
       "3066.0    0.137994\n",
       "Name: deal_probability, Length: 3062, dtype: float64"
      ]
     },
     "execution_count": 191,
     "metadata": {},
     "output_type": "execute_result"
    }
   ],
   "source": [
    "df_train.groupby('image_top_1').deal_probability.mean()"
   ]
  },
  {
   "cell_type": "code",
   "execution_count": 192,
   "metadata": {
    "collapsed": true
   },
   "outputs": [
    {
     "data": {
      "text/plain": [
       "category_name\n",
       "Автомобили                      0.278427\n",
       "Аквариум                        0.183616\n",
       "Аудио и видео                   0.171572\n",
       "Билеты и путешествия            0.122712\n",
       "Бытовая техника                 0.252776\n",
       "Велосипеды                      0.247573\n",
       "Водный транспорт                0.229866\n",
       "Гаражи и машиноместа            0.119438\n",
       "Готовый бизнес                  0.099905\n",
       "Грузовики и спецтехника         0.178480\n",
       "Детская одежда и обувь          0.060834\n",
       "Дома, дачи, коттеджи            0.124862\n",
       "Другие животные                 0.264051\n",
       "Земельные участки               0.088676\n",
       "Игры, приставки и программы     0.202623\n",
       "Квартиры                        0.158154\n",
       "Книги и журналы                 0.040673\n",
       "Коллекционирование              0.063719\n",
       "Коммерческая недвижимость       0.121215\n",
       "Комнаты                         0.184329\n",
       "Кошки                           0.297259\n",
       "Красота и здоровье              0.092382\n",
       "Мебель и интерьер               0.191848\n",
       "Мотоциклы и мототехника         0.250694\n",
       "Музыкальные инструменты         0.190657\n",
       "Настольные компьютеры           0.180099\n",
       "Недвижимость за рубежом         0.053534\n",
       "Ноутбуки                        0.202596\n",
       "Оборудование для бизнеса        0.112431\n",
       "Одежда, обувь, аксессуары       0.046447\n",
       "Оргтехника и расходники         0.133757\n",
       "Охота и рыбалка                 0.147584\n",
       "Планшеты и электронные книги    0.151340\n",
       "Посуда и товары для кухни       0.103222\n",
       "Предложение услуг               0.403123\n",
       "Продукты питания                0.135809\n",
       "Птицы                           0.238340\n",
       "Растения                        0.131480\n",
       "Ремонт и строительство          0.146212\n",
       "Собаки                          0.252812\n",
       "Спорт и отдых                   0.146643\n",
       "Телефоны                        0.186176\n",
       "Товары для детей и игрушки      0.198445\n",
       "Товары для животных             0.133637\n",
       "Товары для компьютера           0.162863\n",
       "Фототехника                     0.132135\n",
       "Часы и украшения                0.055316\n",
       "Name: deal_probability, dtype: float64"
      ]
     },
     "execution_count": 192,
     "metadata": {},
     "output_type": "execute_result"
    }
   ],
   "source": [
    "df_train.groupby('category_name').deal_probability.mean()"
   ]
  },
  {
   "cell_type": "code",
   "execution_count": 181,
   "metadata": {
    "collapsed": true
   },
   "outputs": [
    {
     "data": {
      "text/plain": [
       "item_seq_number\n",
       "1        0.218456\n",
       "2        0.188129\n",
       "3        0.178914\n",
       "4        0.172087\n",
       "5        0.166569\n",
       "6        0.164468\n",
       "7        0.164529\n",
       "8        0.162316\n",
       "9        0.160342\n",
       "10       0.155823\n",
       "11       0.154839\n",
       "12       0.154972\n",
       "13       0.154737\n",
       "14       0.149326\n",
       "15       0.150600\n",
       "16       0.148302\n",
       "17       0.148645\n",
       "18       0.145027\n",
       "19       0.145971\n",
       "20       0.142601\n",
       "21       0.138779\n",
       "22       0.142265\n",
       "23       0.145485\n",
       "24       0.140080\n",
       "25       0.137574\n",
       "26       0.137682\n",
       "27       0.137578\n",
       "28       0.136017\n",
       "29       0.135766\n",
       "30       0.134026\n",
       "           ...   \n",
       "64200    0.051930\n",
       "64201    0.099630\n",
       "64202    0.126300\n",
       "64203    0.386150\n",
       "64204    0.051930\n",
       "64205    0.032270\n",
       "64207    0.032270\n",
       "64208    0.099630\n",
       "64209    0.074980\n",
       "64211    0.032270\n",
       "64212    0.126300\n",
       "64213    0.051930\n",
       "64214    0.051930\n",
       "64215    0.032270\n",
       "64216    0.032270\n",
       "64217    0.032270\n",
       "64218    0.099630\n",
       "64219    0.016350\n",
       "64220    0.032270\n",
       "64221    0.202470\n",
       "64222    0.051930\n",
       "64223    0.032270\n",
       "64224    0.051930\n",
       "64225    0.051930\n",
       "64226    0.126300\n",
       "64227    0.051930\n",
       "64229    0.051930\n",
       "64230    0.016350\n",
       "64231    0.152520\n",
       "64232    0.032270\n",
       "Name: deal_probability, Length: 26079, dtype: float64"
      ]
     },
     "execution_count": 181,
     "metadata": {},
     "output_type": "execute_result"
    }
   ],
   "source": [
    "df_train.groupby('item_seq_number').deal_probability.mean()"
   ]
  },
  {
   "cell_type": "markdown",
   "metadata": {},
   "source": [
    "___"
   ]
  }
 ],
 "metadata": {
  "anaconda-cloud": {},
  "kernelspec": {
   "display_name": "Python [default]",
   "language": "python",
   "name": "python3"
  },
  "language_info": {
   "codemirror_mode": {
    "name": "ipython",
    "version": 3
   },
   "file_extension": ".py",
   "mimetype": "text/x-python",
   "name": "python",
   "nbconvert_exporter": "python",
   "pygments_lexer": "ipython3",
   "version": "3.5.2"
  }
 },
 "nbformat": 4,
 "nbformat_minor": 1
}
