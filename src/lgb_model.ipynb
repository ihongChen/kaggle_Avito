{
 "cells": [
  {
   "cell_type": "code",
   "execution_count": 1,
   "metadata": {},
   "outputs": [],
   "source": [
    "import pandas as pd \n",
    "import numpy as np \n",
    "import gc \n",
    "import lightgbm as lgb"
   ]
  },
  {
   "cell_type": "code",
   "execution_count": 2,
   "metadata": {},
   "outputs": [],
   "source": [
    "import matplotlib.pyplot as plt \n",
    "%matplotlib inline"
   ]
  },
  {
   "cell_type": "markdown",
   "metadata": {},
   "source": [
    "load basic features "
   ]
  },
  {
   "cell_type": "code",
   "execution_count": 3,
   "metadata": {},
   "outputs": [
    {
     "name": "stdout",
     "output_type": "stream",
     "text": [
      "Wall time: 130 ms\n"
     ]
    }
   ],
   "source": [
    "%%time \n",
    "df_train = pd.read_pickle('../input/feats/df_trn_feat0.pkl')\n",
    "# df_test = pd.read_pickle('../input/feats/df_test_feat0.pkl')"
   ]
  },
  {
   "cell_type": "code",
   "execution_count": 4,
   "metadata": {},
   "outputs": [],
   "source": [
    "df_train['price_log1'] = df_train.price.apply(np.log1p)"
   ]
  },
  {
   "cell_type": "markdown",
   "metadata": {},
   "source": [
    "load text features"
   ]
  },
  {
   "cell_type": "code",
   "execution_count": 5,
   "metadata": {},
   "outputs": [
    {
     "name": "stdout",
     "output_type": "stream",
     "text": [
      "['/df_test_text_feat', '/df_trn_text_feat']\n",
      "Wall time: 320 ms\n"
     ]
    }
   ],
   "source": [
    "%%time \n",
    "with pd.HDFStore('../input/feats/txt_td_tfidf_hash5.h5') as store:\n",
    "    print(store.keys())\n",
    "    df_trn_text_feat  = store['df_trn_text_feat']\n",
    "    df_test_text_feat = store['df_test_text_feat']"
   ]
  },
  {
   "cell_type": "markdown",
   "metadata": {},
   "source": [
    "load fm features "
   ]
  },
  {
   "cell_type": "code",
   "execution_count": 5,
   "metadata": {},
   "outputs": [],
   "source": [
    "# %%time \n",
    "# with pd.HDFStore('../input/feats/fm_uidx_rc_cnt_lat2.h5') as store:\n",
    "#     print(store.keys())\n",
    "#     df_fm_uidx_rc_cnt_lat2 = store['fm_uidx_rc_cnt_lat2']"
   ]
  },
  {
   "cell_type": "code",
   "execution_count": 12,
   "metadata": {
    "collapsed": true
   },
   "outputs": [],
   "source": [
    "# df_fm_uidx_rc_cnt_lat2.head().T"
   ]
  },
  {
   "cell_type": "code",
   "execution_count": 5,
   "metadata": {
    "collapsed": true
   },
   "outputs": [],
   "source": [
    "# df_train = df_train.merge(df_fm_uidx_rc_cnt_lat2,how='left',on=['uidx','region_city_label'])\n",
    "# df_test = df_test.merge(df_fm_uidx_rc_cnt_lat2,how='left',on=['uidx','region_city_label'])"
   ]
  },
  {
   "cell_type": "code",
   "execution_count": 24,
   "metadata": {
    "collapsed": true
   },
   "outputs": [],
   "source": [
    "# df_train['cnt_by_uidx_rc'] = df_train['cnt'].astype('float16')\n",
    "# df_train.drop('cnt',axis=1,inplace=True)"
   ]
  },
  {
   "cell_type": "markdown",
   "metadata": {},
   "source": [
    "load interaction tsvd features"
   ]
  },
  {
   "cell_type": "code",
   "execution_count": 6,
   "metadata": {},
   "outputs": [],
   "source": [
    "# %%time \n",
    "# with pd.HDFStore('../input/feats/feat2_trn_inter_svd.h5') as store:\n",
    "#     print(store.keys())\n",
    "#     df_trn_inter_svd = store['df_trn_inter_svd']\n",
    "#     df_test_inter_svd = store['df_test_inter_svd']"
   ]
  },
  {
   "cell_type": "markdown",
   "metadata": {},
   "source": [
    "load zero prediction"
   ]
  },
  {
   "cell_type": "code",
   "execution_count": 30,
   "metadata": {},
   "outputs": [
    {
     "name": "stdout",
     "output_type": "stream",
     "text": [
      "Wall time: 11 ms\n"
     ]
    }
   ],
   "source": [
    "%%time \n",
    "cut_off = 0.8\n",
    "meta_zero_pred = np.load('../input/feats/meta_zero_deal.npy')\n",
    "df_zero_pred = pd.DataFrame({'pred_zero':meta_zero_pred})\n",
    "\n",
    "df_zero_pred['pred_zero'] = df_zero_pred.pred_zero > cut_off"
   ]
  },
  {
   "cell_type": "markdown",
   "metadata": {},
   "source": [
    "cnt by uidx param1"
   ]
  },
  {
   "cell_type": "code",
   "execution_count": 4,
   "metadata": {},
   "outputs": [],
   "source": [
    "# df_cnt_uidx_param1 = df_train.groupby(['uidx','param_1']).size().astype('uint16').reset_index().rename(columns={0:'cnt_by_uidx_param1'})\n",
    "# df_train = df_train.merge(df_cnt_uidx_param1,how='left',on=['uidx','param_1'])\n",
    "# df_train['cnt_by_uidx_param1'] = df_train.cnt_by_uidx_param1.fillna(0).astype('uint16')"
   ]
  },
  {
   "cell_type": "markdown",
   "metadata": {},
   "source": [
    "cnt by uidx category name"
   ]
  },
  {
   "cell_type": "code",
   "execution_count": 10,
   "metadata": {
    "collapsed": true
   },
   "outputs": [],
   "source": [
    "# df_cnt_uidx_cat = df_train.groupby(['uidx','category_name']).size().astype('uint16').reset_index().rename(columns={0:'cnt_by_uidx_cat'})\n",
    "# df_train = df_train.merge(df_cnt_uidx_cat,how='left',on=['uidx','category_name'])\n",
    "# df_train['cnt_by_uidx_cat'] = df_train.cnt_by_uidx_cat.fillna(0).astype('uint16')"
   ]
  },
  {
   "cell_type": "code",
   "execution_count": 7,
   "metadata": {},
   "outputs": [],
   "source": [
    "# df_train.cnt_by_uidx_cat.head()"
   ]
  },
  {
   "cell_type": "markdown",
   "metadata": {},
   "source": [
    "combine features"
   ]
  },
  {
   "cell_type": "code",
   "execution_count": 33,
   "metadata": {},
   "outputs": [
    {
     "name": "stdout",
     "output_type": "stream",
     "text": [
      "Wall time: 86.1 ms\n"
     ]
    }
   ],
   "source": [
    "%%time\n",
    "# df_train = pd.concat([df_train, df_trn_text_feat ],axis=1)\n",
    "# df_train = pd.concat([df_train,df_trn_text_feat,df_trn_inter_svd], axis=1)\n",
    "df_train = pd.concat([df_train, df_zero_pred],axis=1)"
   ]
  },
  {
   "cell_type": "code",
   "execution_count": 34,
   "metadata": {},
   "outputs": [],
   "source": [
    "selcols = list(df_train.columns)\n",
    "drop_cols = ['deal_probability','activation_date','iid','price']\n",
    "#              'param_2','param_3']\n",
    "# drop_cols += ['title_tfidf_{}'.format(e) for e in range(2,5)] + \\\n",
    "#             ['title_hash_{}'.format(e) for e in [0]] +\\\n",
    "#             ['desc_tfidf_{}'.format(e) for e in [1,4]] + \\\n",
    "#             ['desc_hash_{}'.format(e) for e in [1,3,4]] \n",
    "\n",
    "selcols = [col for col in selcols if col not in drop_cols]\n",
    "\n",
    "\n",
    "categorical = ['month','day','weekday',\n",
    "               'param_1',\n",
    "               'param_2','param_3',\n",
    "               'category_name','parent_category_name',\n",
    "               'region_city_label', 'pred_zero',\n",
    "               'user_type']\n",
    "\n",
    "X_train = df_train[selcols].copy()\n",
    "y_train = df_train['deal_probability']\n",
    "\n"
   ]
  },
  {
   "cell_type": "code",
   "execution_count": 35,
   "metadata": {},
   "outputs": [
    {
     "data": {
      "text/plain": [
       "uidx                 0.138035\n",
       "iidx                -0.060865\n",
       "region_city_label    0.004327\n",
       "tit_len              0.016143\n",
       "desc_len            -0.000968\n",
       "month                0.003555\n",
       "day                 -0.002379\n",
       "weekday              0.002096\n",
       "image_top_1          0.189979\n",
       "ads_cnt_by_uid      -0.062903\n",
       "ads_cnt_by_iid       0.121960\n",
       "price_log1           0.045754\n",
       "pred_zero           -0.312128\n",
       "deal_probability     1.000000\n",
       "Name: deal_probability, dtype: float64"
      ]
     },
     "execution_count": 35,
     "metadata": {},
     "output_type": "execute_result"
    }
   ],
   "source": [
    "df_train[selcols+['deal_probability']].corr().deal_probability"
   ]
  },
  {
   "cell_type": "code",
   "execution_count": 36,
   "metadata": {},
   "outputs": [
    {
     "name": "stdout",
     "output_type": "stream",
     "text": [
      "shape of X_train: (1503424, 19)\n"
     ]
    }
   ],
   "source": [
    "print('shape of X_train:',X_train.shape)"
   ]
  },
  {
   "cell_type": "code",
   "execution_count": 37,
   "metadata": {},
   "outputs": [
    {
     "data": {
      "text/plain": [
       "Index(['uidx', 'iidx', 'region_city_label', 'tit_len', 'desc_len', 'month',\n",
       "       'day', 'weekday', 'param_1', 'param_2', 'param_3', 'user_type',\n",
       "       'parent_category_name', 'category_name', 'image_top_1',\n",
       "       'ads_cnt_by_uid', 'ads_cnt_by_iid', 'price_log1', 'pred_zero'],\n",
       "      dtype='object')"
      ]
     },
     "execution_count": 37,
     "metadata": {},
     "output_type": "execute_result"
    }
   ],
   "source": [
    "X_train.columns"
   ]
  },
  {
   "cell_type": "markdown",
   "metadata": {},
   "source": [
    "##### KFold"
   ]
  },
  {
   "cell_type": "markdown",
   "metadata": {},
   "source": [
    "use built-in `lgb.cv`"
   ]
  },
  {
   "cell_type": "code",
   "execution_count": 39,
   "metadata": {},
   "outputs": [
    {
     "name": "stderr",
     "output_type": "stream",
     "text": [
      "C:\\Program Files\\Anaconda3\\envs\\py36\\lib\\site-packages\\lightgbm\\basic.py:1036: UserWarning: Using categorical_feature in Dataset.\n",
      "  warnings.warn('Using categorical_feature in Dataset.')\n"
     ]
    },
    {
     "name": "stdout",
     "output_type": "stream",
     "text": [
      "[100]\tcv_agg's rmse: 0.227517 + 0.000287054\n",
      "[200]\tcv_agg's rmse: 0.22658 + 0.000239953\n",
      "[300]\tcv_agg's rmse: 0.226181 + 0.00026135\n",
      "[400]\tcv_agg's rmse: 0.225916 + 0.000279732\n",
      "[500]\tcv_agg's rmse: 0.225735 + 0.000304168\n",
      "[600]\tcv_agg's rmse: 0.225648 + 0.000308691\n",
      "[700]\tcv_agg's rmse: 0.225566 + 0.000314014\n",
      "done\n"
     ]
    }
   ],
   "source": [
    "lgbm_params =  {\n",
    "    'task': 'train',\n",
    "    'boosting_type': 'gbdt',\n",
    "    'objective': 'regression',\n",
    "    'metric': 'rmse',    \n",
    "    'max_depth': -1,\n",
    "    'num_leaves': 33,\n",
    "    'feature_fraction': 0.7,\n",
    "    'bagging_fraction': 0.8,\n",
    "    # 'bagging_freq': 5,\n",
    "    'learning_rate': 0.1\n",
    "}  \n",
    "\n",
    "predictors = list(X_train.columns)\n",
    "\n",
    "\n",
    "\n",
    "dtrain = lgb.Dataset(X_train, label=y_train, feature_name=predictors, categorical_feature=categorical)\n",
    "cv_results = lgb.cv(lgbm_params, dtrain, \n",
    "                    num_boost_round=10000, \n",
    "                    nfold=4,\n",
    "                    stratified=False,\n",
    "                    early_stopping_rounds=10,\n",
    "                    verbose_eval= 100)\n",
    "print('done')"
   ]
  },
  {
   "cell_type": "markdown",
   "metadata": {},
   "source": [
    "____"
   ]
  },
  {
   "cell_type": "code",
   "execution_count": 31,
   "metadata": {},
   "outputs": [],
   "source": [
    "from sklearn.model_selection import KFold\n",
    "from sklearn.metrics import mean_squared_error"
   ]
  },
  {
   "cell_type": "code",
   "execution_count": 58,
   "metadata": {},
   "outputs": [
    {
     "data": {
      "text/plain": [
       "4"
      ]
     },
     "execution_count": 58,
     "metadata": {},
     "output_type": "execute_result"
    }
   ],
   "source": [
    "kf.n_splits"
   ]
  },
  {
   "cell_type": "code",
   "execution_count": 49,
   "metadata": {},
   "outputs": [
    {
     "name": "stderr",
     "output_type": "stream",
     "text": [
      "C:\\Program Files\\Anaconda3\\envs\\py36\\lib\\site-packages\\lightgbm\\basic.py:1036: UserWarning: Using categorical_feature in Dataset.\n",
      "  warnings.warn('Using categorical_feature in Dataset.')\n",
      "C:\\Program Files\\Anaconda3\\envs\\py36\\lib\\site-packages\\lightgbm\\basic.py:681: UserWarning: categorical_feature in param dict is overrided.\n",
      "  warnings.warn('categorical_feature in param dict is overrided.')\n"
     ]
    },
    {
     "name": "stdout",
     "output_type": "stream",
     "text": [
      "fold:0,\trmse:\t0.2240\n",
      "fold:1,\trmse:\t0.2240\n",
      "fold:2,\trmse:\t0.2235\n",
      "fold:3,\trmse:\t0.2244\n"
     ]
    }
   ],
   "source": [
    "NFOLDS = 4\n",
    "kf = KFold(n_splits=NFOLDS,random_state=0)\n",
    "rmse_results = []\n",
    "# def oof:\n",
    "for nfold,(trn_idx, val_idx) in enumerate(kf.split(X_train)):\n",
    "    x_trn, y_trn = X_train.iloc[trn_idx], y_train.iloc[trn_idx]\n",
    "    x_val, y_val = X_train.iloc[val_idx], y_train.iloc[val_idx]\n",
    "    \n",
    "    dtrain = lgb.Dataset(x_trn,y_trn, feature_name=predictors, categorical_feature=categorical)\n",
    "    dval   = lgb.Dataset(x_val,y_val, feature_name=predictors, categorical_feature=categorical)\n",
    "    \n",
    "    lgb_clf = lgb.train(lgbm_params,num_boost_round = 10000,\n",
    "                        train_set = dtrain,\n",
    "                        valid_sets = [dtrain, dval] ,                        \n",
    "                        early_stopping_rounds=10,\n",
    "                        verbose_eval= 0)                    \n",
    "    y_pred = lgb_clf.predict(x_val)\n",
    "    rmse = (mean_squared_error(y_pred,y_val))**0.5\n",
    "    print('fold:{},\\trmse:\\t{:.4f}'.format(nfold,rmse))\n",
    "    rmse_results.append(rmse)\n",
    "print('mean rmse : \\t{:.4f}'.format(np.mean(rmse_results) ))"
   ]
  },
  {
   "cell_type": "code",
   "execution_count": 51,
   "metadata": {},
   "outputs": [
    {
     "data": {
      "text/plain": [
       "<matplotlib.axes._subplots.AxesSubplot at 0x648085e4a8>"
      ]
     },
     "execution_count": 51,
     "metadata": {},
     "output_type": "execute_result"
    },
    {
     "data": {
      "image/png": "[encoded data removed]",
      "text/plain": [
       "<matplotlib.figure.Figure at 0x6480859be0>"
      ]
     },
     "metadata": {},
     "output_type": "display_data"
    }
   ],
   "source": [
    "# feat_names = lgb_clf.feature_name()\n",
    "f, ax = plt.subplots(figsize=[7,10])\n",
    "lgb.plot_importance(lgb_clf,max_num_features=50, ax=ax)\n",
    "# pd.DataFrame({'feat_idx':range(len(feat_names))})"
   ]
  },
  {
   "cell_type": "code",
   "execution_count": 40,
   "metadata": {},
   "outputs": [],
   "source": [
    "feat_imp = pd.DataFrame({'f':lgb_clf.feature_name(),\n",
    "                         'split':lgb_clf.feature_importance(importance_type='split'),\n",
    "                         'gain':lgb_clf.feature_importance(importance_type='gain')}).sort_values(by='split',ascending=False)"
   ]
  },
  {
   "cell_type": "code",
   "execution_count": 43,
   "metadata": {},
   "outputs": [
    {
     "data": {
      "text/html": [
       "<div>\n",
       "<style>\n",
       "    .dataframe thead tr:only-child th {\n",
       "        text-align: right;\n",
       "    }\n",
       "\n",
       "    .dataframe thead th {\n",
       "        text-align: left;\n",
       "    }\n",
       "\n",
       "    .dataframe tbody tr th {\n",
       "        vertical-align: top;\n",
       "    }\n",
       "</style>\n",
       "<table border=\"1\" class=\"dataframe\">\n",
       "  <thead>\n",
       "    <tr style=\"text-align: right;\">\n",
       "      <th></th>\n",
       "      <th>f</th>\n",
       "      <th>gain</th>\n",
       "      <th>split</th>\n",
       "    </tr>\n",
       "  </thead>\n",
       "  <tbody>\n",
       "    <tr>\n",
       "      <th>2</th>\n",
       "      <td>region_city_label</td>\n",
       "      <td>15100.792241</td>\n",
       "      <td>5988</td>\n",
       "    </tr>\n",
       "    <tr>\n",
       "      <th>8</th>\n",
       "      <td>param_1</td>\n",
       "      <td>35224.964765</td>\n",
       "      <td>3267</td>\n",
       "    </tr>\n",
       "    <tr>\n",
       "      <th>9</th>\n",
       "      <td>param_2</td>\n",
       "      <td>8581.022626</td>\n",
       "      <td>1205</td>\n",
       "    </tr>\n",
       "    <tr>\n",
       "      <th>10</th>\n",
       "      <td>param_3</td>\n",
       "      <td>3694.306379</td>\n",
       "      <td>1203</td>\n",
       "    </tr>\n",
       "    <tr>\n",
       "      <th>17</th>\n",
       "      <td>price_log1</td>\n",
       "      <td>5572.762249</td>\n",
       "      <td>1196</td>\n",
       "    </tr>\n",
       "    <tr>\n",
       "      <th>13</th>\n",
       "      <td>category_name</td>\n",
       "      <td>26133.717461</td>\n",
       "      <td>972</td>\n",
       "    </tr>\n",
       "    <tr>\n",
       "      <th>6</th>\n",
       "      <td>day</td>\n",
       "      <td>776.373718</td>\n",
       "      <td>828</td>\n",
       "    </tr>\n",
       "    <tr>\n",
       "      <th>14</th>\n",
       "      <td>image_top_1</td>\n",
       "      <td>3572.760681</td>\n",
       "      <td>659</td>\n",
       "    </tr>\n",
       "    <tr>\n",
       "      <th>16</th>\n",
       "      <td>ads_cnt_by_iid</td>\n",
       "      <td>2079.301587</td>\n",
       "      <td>414</td>\n",
       "    </tr>\n",
       "    <tr>\n",
       "      <th>27</th>\n",
       "      <td>title_hash_4</td>\n",
       "      <td>1430.029037</td>\n",
       "      <td>400</td>\n",
       "    </tr>\n",
       "    <tr>\n",
       "      <th>4</th>\n",
       "      <td>desc_len</td>\n",
       "      <td>918.036468</td>\n",
       "      <td>393</td>\n",
       "    </tr>\n",
       "    <tr>\n",
       "      <th>19</th>\n",
       "      <td>title_tfidf_1</td>\n",
       "      <td>1080.800780</td>\n",
       "      <td>388</td>\n",
       "    </tr>\n",
       "    <tr>\n",
       "      <th>22</th>\n",
       "      <td>title_tfidf_4</td>\n",
       "      <td>821.801923</td>\n",
       "      <td>385</td>\n",
       "    </tr>\n",
       "    <tr>\n",
       "      <th>21</th>\n",
       "      <td>title_tfidf_3</td>\n",
       "      <td>650.305581</td>\n",
       "      <td>367</td>\n",
       "    </tr>\n",
       "    <tr>\n",
       "      <th>0</th>\n",
       "      <td>uidx</td>\n",
       "      <td>460.020046</td>\n",
       "      <td>364</td>\n",
       "    </tr>\n",
       "    <tr>\n",
       "      <th>20</th>\n",
       "      <td>title_tfidf_2</td>\n",
       "      <td>468.933519</td>\n",
       "      <td>358</td>\n",
       "    </tr>\n",
       "    <tr>\n",
       "      <th>29</th>\n",
       "      <td>desc_tfidf_1</td>\n",
       "      <td>1415.663143</td>\n",
       "      <td>351</td>\n",
       "    </tr>\n",
       "    <tr>\n",
       "      <th>32</th>\n",
       "      <td>desc_tfidf_4</td>\n",
       "      <td>482.991210</td>\n",
       "      <td>341</td>\n",
       "    </tr>\n",
       "    <tr>\n",
       "      <th>15</th>\n",
       "      <td>ads_cnt_by_uid</td>\n",
       "      <td>4348.241808</td>\n",
       "      <td>322</td>\n",
       "    </tr>\n",
       "    <tr>\n",
       "      <th>18</th>\n",
       "      <td>title_tfidf_0</td>\n",
       "      <td>419.834258</td>\n",
       "      <td>315</td>\n",
       "    </tr>\n",
       "  </tbody>\n",
       "</table>\n",
       "</div>"
      ],
      "text/plain": [
       "                    f          gain  split\n",
       "2   region_city_label  15100.792241   5988\n",
       "8             param_1  35224.964765   3267\n",
       "9             param_2   8581.022626   1205\n",
       "10            param_3   3694.306379   1203\n",
       "17         price_log1   5572.762249   1196\n",
       "13      category_name  26133.717461    972\n",
       "6                 day    776.373718    828\n",
       "14        image_top_1   3572.760681    659\n",
       "16     ads_cnt_by_iid   2079.301587    414\n",
       "27       title_hash_4   1430.029037    400\n",
       "4            desc_len    918.036468    393\n",
       "19      title_tfidf_1   1080.800780    388\n",
       "22      title_tfidf_4    821.801923    385\n",
       "21      title_tfidf_3    650.305581    367\n",
       "0                uidx    460.020046    364\n",
       "20      title_tfidf_2    468.933519    358\n",
       "29       desc_tfidf_1   1415.663143    351\n",
       "32       desc_tfidf_4    482.991210    341\n",
       "15     ads_cnt_by_uid   4348.241808    322\n",
       "18      title_tfidf_0    419.834258    315"
      ]
     },
     "execution_count": 43,
     "metadata": {},
     "output_type": "execute_result"
    }
   ],
   "source": [
    "feat_imp.head(20)"
   ]
  },
  {
   "cell_type": "code",
   "execution_count": 42,
   "metadata": {},
   "outputs": [
    {
     "data": {
      "text/html": [
       "<div>\n",
       "<style>\n",
       "    .dataframe thead tr:only-child th {\n",
       "        text-align: right;\n",
       "    }\n",
       "\n",
       "    .dataframe thead th {\n",
       "        text-align: left;\n",
       "    }\n",
       "\n",
       "    .dataframe tbody tr th {\n",
       "        vertical-align: top;\n",
       "    }\n",
       "</style>\n",
       "<table border=\"1\" class=\"dataframe\">\n",
       "  <thead>\n",
       "    <tr style=\"text-align: right;\">\n",
       "      <th></th>\n",
       "      <th>f</th>\n",
       "      <th>gain</th>\n",
       "      <th>split</th>\n",
       "    </tr>\n",
       "  </thead>\n",
       "  <tbody>\n",
       "    <tr>\n",
       "      <th>8</th>\n",
       "      <td>param_1</td>\n",
       "      <td>35224.964765</td>\n",
       "      <td>3267</td>\n",
       "    </tr>\n",
       "    <tr>\n",
       "      <th>13</th>\n",
       "      <td>category_name</td>\n",
       "      <td>26133.717461</td>\n",
       "      <td>972</td>\n",
       "    </tr>\n",
       "    <tr>\n",
       "      <th>2</th>\n",
       "      <td>region_city_label</td>\n",
       "      <td>15100.792241</td>\n",
       "      <td>5988</td>\n",
       "    </tr>\n",
       "    <tr>\n",
       "      <th>9</th>\n",
       "      <td>param_2</td>\n",
       "      <td>8581.022626</td>\n",
       "      <td>1205</td>\n",
       "    </tr>\n",
       "    <tr>\n",
       "      <th>17</th>\n",
       "      <td>price_log1</td>\n",
       "      <td>5572.762249</td>\n",
       "      <td>1196</td>\n",
       "    </tr>\n",
       "    <tr>\n",
       "      <th>15</th>\n",
       "      <td>ads_cnt_by_uid</td>\n",
       "      <td>4348.241808</td>\n",
       "      <td>322</td>\n",
       "    </tr>\n",
       "    <tr>\n",
       "      <th>10</th>\n",
       "      <td>param_3</td>\n",
       "      <td>3694.306379</td>\n",
       "      <td>1203</td>\n",
       "    </tr>\n",
       "    <tr>\n",
       "      <th>14</th>\n",
       "      <td>image_top_1</td>\n",
       "      <td>3572.760681</td>\n",
       "      <td>659</td>\n",
       "    </tr>\n",
       "    <tr>\n",
       "      <th>16</th>\n",
       "      <td>ads_cnt_by_iid</td>\n",
       "      <td>2079.301587</td>\n",
       "      <td>414</td>\n",
       "    </tr>\n",
       "    <tr>\n",
       "      <th>27</th>\n",
       "      <td>title_hash_4</td>\n",
       "      <td>1430.029037</td>\n",
       "      <td>400</td>\n",
       "    </tr>\n",
       "    <tr>\n",
       "      <th>29</th>\n",
       "      <td>desc_tfidf_1</td>\n",
       "      <td>1415.663143</td>\n",
       "      <td>351</td>\n",
       "    </tr>\n",
       "    <tr>\n",
       "      <th>11</th>\n",
       "      <td>user_type</td>\n",
       "      <td>1331.205807</td>\n",
       "      <td>92</td>\n",
       "    </tr>\n",
       "    <tr>\n",
       "      <th>19</th>\n",
       "      <td>title_tfidf_1</td>\n",
       "      <td>1080.800780</td>\n",
       "      <td>388</td>\n",
       "    </tr>\n",
       "    <tr>\n",
       "      <th>4</th>\n",
       "      <td>desc_len</td>\n",
       "      <td>918.036468</td>\n",
       "      <td>393</td>\n",
       "    </tr>\n",
       "    <tr>\n",
       "      <th>22</th>\n",
       "      <td>title_tfidf_4</td>\n",
       "      <td>821.801923</td>\n",
       "      <td>385</td>\n",
       "    </tr>\n",
       "    <tr>\n",
       "      <th>6</th>\n",
       "      <td>day</td>\n",
       "      <td>776.373718</td>\n",
       "      <td>828</td>\n",
       "    </tr>\n",
       "    <tr>\n",
       "      <th>21</th>\n",
       "      <td>title_tfidf_3</td>\n",
       "      <td>650.305581</td>\n",
       "      <td>367</td>\n",
       "    </tr>\n",
       "    <tr>\n",
       "      <th>12</th>\n",
       "      <td>parent_category_name</td>\n",
       "      <td>640.326597</td>\n",
       "      <td>88</td>\n",
       "    </tr>\n",
       "    <tr>\n",
       "      <th>32</th>\n",
       "      <td>desc_tfidf_4</td>\n",
       "      <td>482.991210</td>\n",
       "      <td>341</td>\n",
       "    </tr>\n",
       "    <tr>\n",
       "      <th>20</th>\n",
       "      <td>title_tfidf_2</td>\n",
       "      <td>468.933519</td>\n",
       "      <td>358</td>\n",
       "    </tr>\n",
       "    <tr>\n",
       "      <th>0</th>\n",
       "      <td>uidx</td>\n",
       "      <td>460.020046</td>\n",
       "      <td>364</td>\n",
       "    </tr>\n",
       "    <tr>\n",
       "      <th>18</th>\n",
       "      <td>title_tfidf_0</td>\n",
       "      <td>419.834258</td>\n",
       "      <td>315</td>\n",
       "    </tr>\n",
       "    <tr>\n",
       "      <th>26</th>\n",
       "      <td>title_hash_3</td>\n",
       "      <td>388.100478</td>\n",
       "      <td>240</td>\n",
       "    </tr>\n",
       "    <tr>\n",
       "      <th>23</th>\n",
       "      <td>title_hash_0</td>\n",
       "      <td>372.081678</td>\n",
       "      <td>306</td>\n",
       "    </tr>\n",
       "    <tr>\n",
       "      <th>35</th>\n",
       "      <td>desc_hash_2</td>\n",
       "      <td>370.223130</td>\n",
       "      <td>272</td>\n",
       "    </tr>\n",
       "    <tr>\n",
       "      <th>25</th>\n",
       "      <td>title_hash_2</td>\n",
       "      <td>357.484483</td>\n",
       "      <td>260</td>\n",
       "    </tr>\n",
       "    <tr>\n",
       "      <th>36</th>\n",
       "      <td>desc_hash_3</td>\n",
       "      <td>350.139694</td>\n",
       "      <td>293</td>\n",
       "    </tr>\n",
       "    <tr>\n",
       "      <th>28</th>\n",
       "      <td>desc_tfidf_0</td>\n",
       "      <td>311.472309</td>\n",
       "      <td>299</td>\n",
       "    </tr>\n",
       "    <tr>\n",
       "      <th>24</th>\n",
       "      <td>title_hash_1</td>\n",
       "      <td>305.190618</td>\n",
       "      <td>234</td>\n",
       "    </tr>\n",
       "    <tr>\n",
       "      <th>31</th>\n",
       "      <td>desc_tfidf_3</td>\n",
       "      <td>266.173745</td>\n",
       "      <td>254</td>\n",
       "    </tr>\n",
       "    <tr>\n",
       "      <th>33</th>\n",
       "      <td>desc_hash_0</td>\n",
       "      <td>257.837410</td>\n",
       "      <td>278</td>\n",
       "    </tr>\n",
       "    <tr>\n",
       "      <th>37</th>\n",
       "      <td>desc_hash_4</td>\n",
       "      <td>252.145520</td>\n",
       "      <td>289</td>\n",
       "    </tr>\n",
       "    <tr>\n",
       "      <th>34</th>\n",
       "      <td>desc_hash_1</td>\n",
       "      <td>249.979650</td>\n",
       "      <td>215</td>\n",
       "    </tr>\n",
       "    <tr>\n",
       "      <th>3</th>\n",
       "      <td>tit_len</td>\n",
       "      <td>224.669932</td>\n",
       "      <td>131</td>\n",
       "    </tr>\n",
       "    <tr>\n",
       "      <th>1</th>\n",
       "      <td>iidx</td>\n",
       "      <td>223.901459</td>\n",
       "      <td>288</td>\n",
       "    </tr>\n",
       "    <tr>\n",
       "      <th>30</th>\n",
       "      <td>desc_tfidf_2</td>\n",
       "      <td>220.103119</td>\n",
       "      <td>251</td>\n",
       "    </tr>\n",
       "    <tr>\n",
       "      <th>7</th>\n",
       "      <td>weekday</td>\n",
       "      <td>39.011904</td>\n",
       "      <td>46</td>\n",
       "    </tr>\n",
       "    <tr>\n",
       "      <th>5</th>\n",
       "      <td>month</td>\n",
       "      <td>0.000000</td>\n",
       "      <td>0</td>\n",
       "    </tr>\n",
       "  </tbody>\n",
       "</table>\n",
       "</div>"
      ],
      "text/plain": [
       "                       f          gain  split\n",
       "8                param_1  35224.964765   3267\n",
       "13         category_name  26133.717461    972\n",
       "2      region_city_label  15100.792241   5988\n",
       "9                param_2   8581.022626   1205\n",
       "17            price_log1   5572.762249   1196\n",
       "15        ads_cnt_by_uid   4348.241808    322\n",
       "10               param_3   3694.306379   1203\n",
       "14           image_top_1   3572.760681    659\n",
       "16        ads_cnt_by_iid   2079.301587    414\n",
       "27          title_hash_4   1430.029037    400\n",
       "29          desc_tfidf_1   1415.663143    351\n",
       "11             user_type   1331.205807     92\n",
       "19         title_tfidf_1   1080.800780    388\n",
       "4               desc_len    918.036468    393\n",
       "22         title_tfidf_4    821.801923    385\n",
       "6                    day    776.373718    828\n",
       "21         title_tfidf_3    650.305581    367\n",
       "12  parent_category_name    640.326597     88\n",
       "32          desc_tfidf_4    482.991210    341\n",
       "20         title_tfidf_2    468.933519    358\n",
       "0                   uidx    460.020046    364\n",
       "18         title_tfidf_0    419.834258    315\n",
       "26          title_hash_3    388.100478    240\n",
       "23          title_hash_0    372.081678    306\n",
       "35           desc_hash_2    370.223130    272\n",
       "25          title_hash_2    357.484483    260\n",
       "36           desc_hash_3    350.139694    293\n",
       "28          desc_tfidf_0    311.472309    299\n",
       "24          title_hash_1    305.190618    234\n",
       "31          desc_tfidf_3    266.173745    254\n",
       "33           desc_hash_0    257.837410    278\n",
       "37           desc_hash_4    252.145520    289\n",
       "34           desc_hash_1    249.979650    215\n",
       "3                tit_len    224.669932    131\n",
       "1                   iidx    223.901459    288\n",
       "30          desc_tfidf_2    220.103119    251\n",
       "7                weekday     39.011904     46\n",
       "5                  month      0.000000      0"
      ]
     },
     "execution_count": 42,
     "metadata": {},
     "output_type": "execute_result"
    }
   ],
   "source": [
    "feat_imp.sort_values(by='gain',ascending=False).head(20)"
   ]
  },
  {
   "cell_type": "markdown",
   "metadata": {},
   "source": [
    "____"
   ]
  },
  {
   "cell_type": "code",
   "execution_count": 54,
   "metadata": {},
   "outputs": [
    {
     "data": {
      "text/html": [
       "<div>\n",
       "<style>\n",
       "    .dataframe thead tr:only-child th {\n",
       "        text-align: right;\n",
       "    }\n",
       "\n",
       "    .dataframe thead th {\n",
       "        text-align: left;\n",
       "    }\n",
       "\n",
       "    .dataframe tbody tr th {\n",
       "        vertical-align: top;\n",
       "    }\n",
       "</style>\n",
       "<table border=\"1\" class=\"dataframe\">\n",
       "  <thead>\n",
       "    <tr style=\"text-align: right;\">\n",
       "      <th></th>\n",
       "      <th>uidx</th>\n",
       "      <th>iidx</th>\n",
       "      <th>iid</th>\n",
       "      <th>region_city_label</th>\n",
       "      <th>tit_len</th>\n",
       "      <th>desc_len</th>\n",
       "      <th>activation_date</th>\n",
       "      <th>month</th>\n",
       "      <th>day</th>\n",
       "      <th>weekday</th>\n",
       "      <th>...</th>\n",
       "      <th>desc_tfidf_0</th>\n",
       "      <th>desc_tfidf_1</th>\n",
       "      <th>desc_tfidf_2</th>\n",
       "      <th>desc_tfidf_3</th>\n",
       "      <th>desc_tfidf_4</th>\n",
       "      <th>desc_hash_0</th>\n",
       "      <th>desc_hash_1</th>\n",
       "      <th>desc_hash_2</th>\n",
       "      <th>desc_hash_3</th>\n",
       "      <th>desc_hash_4</th>\n",
       "    </tr>\n",
       "  </thead>\n",
       "  <tbody>\n",
       "    <tr>\n",
       "      <th>0</th>\n",
       "      <td>0</td>\n",
       "      <td>0</td>\n",
       "      <td>0</td>\n",
       "      <td>378</td>\n",
       "      <td>3</td>\n",
       "      <td>7</td>\n",
       "      <td>2017-03-28</td>\n",
       "      <td>3</td>\n",
       "      <td>28</td>\n",
       "      <td>1</td>\n",
       "      <td>...</td>\n",
       "      <td>1.505374e-07</td>\n",
       "      <td>0.008898</td>\n",
       "      <td>0.004794</td>\n",
       "      <td>0.016728</td>\n",
       "      <td>-0.013758</td>\n",
       "      <td>0.000001</td>\n",
       "      <td>0.051250</td>\n",
       "      <td>-0.031008</td>\n",
       "      <td>0.027714</td>\n",
       "      <td>0.004058</td>\n",
       "    </tr>\n",
       "    <tr>\n",
       "      <th>1</th>\n",
       "      <td>1</td>\n",
       "      <td>1</td>\n",
       "      <td>1</td>\n",
       "      <td>454</td>\n",
       "      <td>3</td>\n",
       "      <td>7</td>\n",
       "      <td>2017-03-26</td>\n",
       "      <td>3</td>\n",
       "      <td>26</td>\n",
       "      <td>6</td>\n",
       "      <td>...</td>\n",
       "      <td>6.169196e-08</td>\n",
       "      <td>0.001450</td>\n",
       "      <td>0.000644</td>\n",
       "      <td>0.002841</td>\n",
       "      <td>-0.002896</td>\n",
       "      <td>0.000001</td>\n",
       "      <td>0.055052</td>\n",
       "      <td>-0.038306</td>\n",
       "      <td>0.024452</td>\n",
       "      <td>0.002072</td>\n",
       "    </tr>\n",
       "    <tr>\n",
       "      <th>2</th>\n",
       "      <td>2</td>\n",
       "      <td>2</td>\n",
       "      <td>2</td>\n",
       "      <td>930</td>\n",
       "      <td>2</td>\n",
       "      <td>17</td>\n",
       "      <td>2017-03-20</td>\n",
       "      <td>3</td>\n",
       "      <td>20</td>\n",
       "      <td>0</td>\n",
       "      <td>...</td>\n",
       "      <td>2.690877e-07</td>\n",
       "      <td>0.163068</td>\n",
       "      <td>-0.102873</td>\n",
       "      <td>-0.002684</td>\n",
       "      <td>0.003413</td>\n",
       "      <td>0.000002</td>\n",
       "      <td>0.203219</td>\n",
       "      <td>0.212567</td>\n",
       "      <td>-0.014307</td>\n",
       "      <td>-0.169487</td>\n",
       "    </tr>\n",
       "    <tr>\n",
       "      <th>3</th>\n",
       "      <td>3</td>\n",
       "      <td>3</td>\n",
       "      <td>3</td>\n",
       "      <td>319</td>\n",
       "      <td>1</td>\n",
       "      <td>3</td>\n",
       "      <td>2017-03-25</td>\n",
       "      <td>3</td>\n",
       "      <td>25</td>\n",
       "      <td>5</td>\n",
       "      <td>...</td>\n",
       "      <td>2.309691e-07</td>\n",
       "      <td>0.025086</td>\n",
       "      <td>0.008745</td>\n",
       "      <td>0.047072</td>\n",
       "      <td>-0.059101</td>\n",
       "      <td>0.000001</td>\n",
       "      <td>0.110025</td>\n",
       "      <td>-0.029761</td>\n",
       "      <td>0.172299</td>\n",
       "      <td>0.006020</td>\n",
       "    </tr>\n",
       "    <tr>\n",
       "      <th>4</th>\n",
       "      <td>4</td>\n",
       "      <td>4</td>\n",
       "      <td>4</td>\n",
       "      <td>977</td>\n",
       "      <td>3</td>\n",
       "      <td>4</td>\n",
       "      <td>2017-03-16</td>\n",
       "      <td>3</td>\n",
       "      <td>16</td>\n",
       "      <td>3</td>\n",
       "      <td>...</td>\n",
       "      <td>1.658187e-07</td>\n",
       "      <td>0.032382</td>\n",
       "      <td>0.005093</td>\n",
       "      <td>0.052635</td>\n",
       "      <td>-0.066682</td>\n",
       "      <td>0.000003</td>\n",
       "      <td>0.143173</td>\n",
       "      <td>-0.095125</td>\n",
       "      <td>0.056822</td>\n",
       "      <td>-0.016192</td>\n",
       "    </tr>\n",
       "  </tbody>\n",
       "</table>\n",
       "<p>5 rows × 42 columns</p>\n",
       "</div>"
      ],
      "text/plain": [
       "   uidx  iidx  iid  region_city_label  tit_len  desc_len activation_date  \\\n",
       "0     0     0    0                378        3         7      2017-03-28   \n",
       "1     1     1    1                454        3         7      2017-03-26   \n",
       "2     2     2    2                930        2        17      2017-03-20   \n",
       "3     3     3    3                319        1         3      2017-03-25   \n",
       "4     4     4    4                977        3         4      2017-03-16   \n",
       "\n",
       "   month  day  weekday     ...       desc_tfidf_0 desc_tfidf_1 desc_tfidf_2  \\\n",
       "0      3   28        1     ...       1.505374e-07     0.008898     0.004794   \n",
       "1      3   26        6     ...       6.169196e-08     0.001450     0.000644   \n",
       "2      3   20        0     ...       2.690877e-07     0.163068    -0.102873   \n",
       "3      3   25        5     ...       2.309691e-07     0.025086     0.008745   \n",
       "4      3   16        3     ...       1.658187e-07     0.032382     0.005093   \n",
       "\n",
       "  desc_tfidf_3 desc_tfidf_4  desc_hash_0 desc_hash_1  desc_hash_2  \\\n",
       "0     0.016728    -0.013758     0.000001    0.051250    -0.031008   \n",
       "1     0.002841    -0.002896     0.000001    0.055052    -0.038306   \n",
       "2    -0.002684     0.003413     0.000002    0.203219     0.212567   \n",
       "3     0.047072    -0.059101     0.000001    0.110025    -0.029761   \n",
       "4     0.052635    -0.066682     0.000003    0.143173    -0.095125   \n",
       "\n",
       "   desc_hash_3  desc_hash_4  \n",
       "0     0.027714     0.004058  \n",
       "1     0.024452     0.002072  \n",
       "2    -0.014307    -0.169487  \n",
       "3     0.172299     0.006020  \n",
       "4     0.056822    -0.016192  \n",
       "\n",
       "[5 rows x 42 columns]"
      ]
     },
     "execution_count": 54,
     "metadata": {},
     "output_type": "execute_result"
    }
   ],
   "source": [
    "df_train.head()"
   ]
  }
 ],
 "metadata": {
  "anaconda-cloud": {},
  "kernelspec": {
   "display_name": "Python [conda env:py36]",
   "language": "python",
   "name": "conda-env-py36-py"
  },
  "language_info": {
   "codemirror_mode": {
    "name": "ipython",
    "version": 3
   },
   "file_extension": ".py",
   "mimetype": "text/x-python",
   "name": "python",
   "nbconvert_exporter": "python",
   "pygments_lexer": "ipython3",
   "version": "3.6.3"
  }
 },
 "nbformat": 4,
 "nbformat_minor": 1
}
