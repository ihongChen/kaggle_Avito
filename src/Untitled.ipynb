{
 "cells": [
  {
   "cell_type": "code",
   "execution_count": 1,
   "metadata": {},
   "outputs": [],
   "source": [
    "import pandas as pd \n",
    "import numpy as np \n"
   ]
  },
  {
   "cell_type": "code",
   "execution_count": 2,
   "metadata": {},
   "outputs": [
    {
     "name": "stdout",
     "output_type": "stream",
     "text": [
      "Wall time: 162 ms\n"
     ]
    }
   ],
   "source": [
    "%%time \n",
    "df_train = pd.read_pickle('../input/feats/df_trn_feat0.pkl')\n",
    "df_test = pd.read_pickle('../input/feats/df_test_feat0.pkl')"
   ]
  },
  {
   "cell_type": "markdown",
   "metadata": {},
   "source": [
    "train/ test split for a known answers datasets"
   ]
  },
  {
   "cell_type": "code",
   "execution_count": 9,
   "metadata": {},
   "outputs": [],
   "source": [
    "from sklearn.model_selection import train_test_split, StratifiedKFold"
   ]
  },
  {
   "cell_type": "code",
   "execution_count": 27,
   "metadata": {},
   "outputs": [],
   "source": [
    "num_bucket=100\n",
    "seed = 0\n",
    "y_train = df_train.deal_probability\n",
    "nfolds = 10 ## 1/nfolds  for testing used\n",
    "\n",
    "percentiles = np.percentile(y_train, np.linspace(0, 100, num_bucket)) ## create percentiles \n",
    "falls_into = np.searchsorted(percentiles,y_train) ## fall into bucket\n",
    "\n",
    "skf = StratifiedKFold(nfolds, random_state=seed) ## random state\n",
    "skf.get_n_splits(df_train, falls_into)\n",
    "\n",
    "trn_idx, te_idx = next(skf.split(df_train,falls_into))\n",
    "\n",
    "df_te = df_train.iloc[te_idx].copy()\n",
    "df_tr = df_train.iloc[trn_idx].copy()\n"
   ]
  },
  {
   "cell_type": "markdown",
   "metadata": {},
   "source": [
    "model and validate on `df_tr`"
   ]
  },
  {
   "cell_type": "code",
   "execution_count": null,
   "metadata": {},
   "outputs": [],
   "source": []
  }
 ],
 "metadata": {
  "anaconda-cloud": {},
  "kernelspec": {
   "display_name": "Python [conda env:py36]",
   "language": "python",
   "name": "conda-env-py36-py"
  },
  "language_info": {
   "codemirror_mode": {
    "name": "ipython",
    "version": 3
   },
   "file_extension": ".py",
   "mimetype": "text/x-python",
   "name": "python",
   "nbconvert_exporter": "python",
   "pygments_lexer": "ipython3",
   "version": "3.6.3"
  }
 },
 "nbformat": 4,
 "nbformat_minor": 1
}
