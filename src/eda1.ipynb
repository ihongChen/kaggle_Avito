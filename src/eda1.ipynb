{
 "cells": [
  {
   "cell_type": "markdown",
   "metadata": {},
   "source": [
    "explore data"
   ]
  },
  {
   "cell_type": "code",
   "execution_count": 1,
   "metadata": {},
   "outputs": [],
   "source": [
    "import pandas as pd \n",
    "import numpy as np \n",
    "import matplotlib.pyplot as plt\n",
    "%matplotlib inline"
   ]
  },
  {
   "cell_type": "code",
   "execution_count": 7,
   "metadata": {},
   "outputs": [],
   "source": [
    "df_train = pd.read_csv('../input/train.csv.zip',compression='zip')\n",
    "df_per_train = pd.read_csv('../input/periods_train.csv.zip',compression='zip')\n"
   ]
  },
  {
   "cell_type": "code",
   "execution_count": 13,
   "metadata": {},
   "outputs": [],
   "source": [
    "df_test = pd.read_csv('../input/test.csv.zip',compression='zip')"
   ]
  },
  {
   "cell_type": "markdown",
   "metadata": {},
   "source": [
    "size "
   ]
  },
  {
   "cell_type": "code",
   "execution_count": 8,
   "metadata": {},
   "outputs": [
    {
     "data": {
      "text/plain": [
       "(1503424, 18)"
      ]
     },
     "execution_count": 8,
     "metadata": {},
     "output_type": "execute_result"
    }
   ],
   "source": [
    "df_train.shape"
   ]
  },
  {
   "cell_type": "code",
   "execution_count": 10,
   "metadata": {},
   "outputs": [
    {
     "data": {
      "text/plain": [
       "(16687412, 4)"
      ]
     },
     "execution_count": 10,
     "metadata": {},
     "output_type": "execute_result"
    }
   ],
   "source": [
    "df_per_train.shape"
   ]
  },
  {
   "cell_type": "code",
   "execution_count": 15,
   "metadata": {},
   "outputs": [
    {
     "data": {
      "text/plain": [
       "(508438, 17)"
      ]
     },
     "execution_count": 15,
     "metadata": {},
     "output_type": "execute_result"
    }
   ],
   "source": [
    "df_test.shape"
   ]
  },
  {
   "cell_type": "code",
   "execution_count": 12,
   "metadata": {},
   "outputs": [
    {
     "data": {
      "text/html": [
       "<div>\n",
       "<style>\n",
       "    .dataframe thead tr:only-child th {\n",
       "        text-align: right;\n",
       "    }\n",
       "\n",
       "    .dataframe thead th {\n",
       "        text-align: left;\n",
       "    }\n",
       "\n",
       "    .dataframe tbody tr th {\n",
       "        vertical-align: top;\n",
       "    }\n",
       "</style>\n",
       "<table border=\"1\" class=\"dataframe\">\n",
       "  <thead>\n",
       "    <tr style=\"text-align: right;\">\n",
       "      <th></th>\n",
       "      <th>0</th>\n",
       "      <th>1</th>\n",
       "      <th>2</th>\n",
       "      <th>3</th>\n",
       "      <th>4</th>\n",
       "    </tr>\n",
       "  </thead>\n",
       "  <tbody>\n",
       "    <tr>\n",
       "      <th>item_id</th>\n",
       "      <td>b912c3c6a6ad</td>\n",
       "      <td>2dac0150717d</td>\n",
       "      <td>ba83aefab5dc</td>\n",
       "      <td>02996f1dd2ea</td>\n",
       "      <td>7c90be56d2ab</td>\n",
       "    </tr>\n",
       "    <tr>\n",
       "      <th>user_id</th>\n",
       "      <td>e00f8ff2eaf9</td>\n",
       "      <td>39aeb48f0017</td>\n",
       "      <td>91e2f88dd6e3</td>\n",
       "      <td>bf5cccea572d</td>\n",
       "      <td>ef50846afc0b</td>\n",
       "    </tr>\n",
       "    <tr>\n",
       "      <th>region</th>\n",
       "      <td>Свердловская область</td>\n",
       "      <td>Самарская область</td>\n",
       "      <td>Ростовская область</td>\n",
       "      <td>Татарстан</td>\n",
       "      <td>Волгоградская область</td>\n",
       "    </tr>\n",
       "    <tr>\n",
       "      <th>city</th>\n",
       "      <td>Екатеринбург</td>\n",
       "      <td>Самара</td>\n",
       "      <td>Ростов-на-Дону</td>\n",
       "      <td>Набережные Челны</td>\n",
       "      <td>Волгоград</td>\n",
       "    </tr>\n",
       "    <tr>\n",
       "      <th>parent_category_name</th>\n",
       "      <td>Личные вещи</td>\n",
       "      <td>Для дома и дачи</td>\n",
       "      <td>Бытовая электроника</td>\n",
       "      <td>Личные вещи</td>\n",
       "      <td>Транспорт</td>\n",
       "    </tr>\n",
       "    <tr>\n",
       "      <th>category_name</th>\n",
       "      <td>Товары для детей и игрушки</td>\n",
       "      <td>Мебель и интерьер</td>\n",
       "      <td>Аудио и видео</td>\n",
       "      <td>Товары для детей и игрушки</td>\n",
       "      <td>Автомобили</td>\n",
       "    </tr>\n",
       "    <tr>\n",
       "      <th>param_1</th>\n",
       "      <td>Постельные принадлежности</td>\n",
       "      <td>Другое</td>\n",
       "      <td>Видео, DVD и Blu-ray плееры</td>\n",
       "      <td>Автомобильные кресла</td>\n",
       "      <td>С пробегом</td>\n",
       "    </tr>\n",
       "    <tr>\n",
       "      <th>param_2</th>\n",
       "      <td>NaN</td>\n",
       "      <td>NaN</td>\n",
       "      <td>NaN</td>\n",
       "      <td>NaN</td>\n",
       "      <td>ВАЗ (LADA)</td>\n",
       "    </tr>\n",
       "    <tr>\n",
       "      <th>param_3</th>\n",
       "      <td>NaN</td>\n",
       "      <td>NaN</td>\n",
       "      <td>NaN</td>\n",
       "      <td>NaN</td>\n",
       "      <td>2110</td>\n",
       "    </tr>\n",
       "    <tr>\n",
       "      <th>title</th>\n",
       "      <td>Кокоби(кокон для сна)</td>\n",
       "      <td>Стойка для Одежды</td>\n",
       "      <td>Philips bluray</td>\n",
       "      <td>Автокресло</td>\n",
       "      <td>ВАЗ 2110, 2003</td>\n",
       "    </tr>\n",
       "    <tr>\n",
       "      <th>description</th>\n",
       "      <td>Кокон для сна малыша,пользовались меньше месяц...</td>\n",
       "      <td>Стойка для одежды, под вешалки. С бутика.</td>\n",
       "      <td>В хорошем состоянии, домашний кинотеатр с blu ...</td>\n",
       "      <td>Продам кресло от0-25кг</td>\n",
       "      <td>Все вопросы по телефону.</td>\n",
       "    </tr>\n",
       "    <tr>\n",
       "      <th>price</th>\n",
       "      <td>400</td>\n",
       "      <td>3000</td>\n",
       "      <td>4000</td>\n",
       "      <td>2200</td>\n",
       "      <td>40000</td>\n",
       "    </tr>\n",
       "    <tr>\n",
       "      <th>item_seq_number</th>\n",
       "      <td>2</td>\n",
       "      <td>19</td>\n",
       "      <td>9</td>\n",
       "      <td>286</td>\n",
       "      <td>3</td>\n",
       "    </tr>\n",
       "    <tr>\n",
       "      <th>activation_date</th>\n",
       "      <td>2017-03-28</td>\n",
       "      <td>2017-03-26</td>\n",
       "      <td>2017-03-20</td>\n",
       "      <td>2017-03-25</td>\n",
       "      <td>2017-03-16</td>\n",
       "    </tr>\n",
       "    <tr>\n",
       "      <th>user_type</th>\n",
       "      <td>Private</td>\n",
       "      <td>Private</td>\n",
       "      <td>Private</td>\n",
       "      <td>Company</td>\n",
       "      <td>Private</td>\n",
       "    </tr>\n",
       "    <tr>\n",
       "      <th>image</th>\n",
       "      <td>d10c7e016e03247a3bf2d13348fe959fe6f436c1caf64c...</td>\n",
       "      <td>79c9392cc51a9c81c6eb91eceb8e552171db39d7142700...</td>\n",
       "      <td>b7f250ee3f39e1fedd77c141f273703f4a9be59db4b48a...</td>\n",
       "      <td>e6ef97e0725637ea84e3d203e82dadb43ed3cc0a1c8413...</td>\n",
       "      <td>54a687a3a0fc1d68aed99bdaaf551c5c70b761b16fd0a2...</td>\n",
       "    </tr>\n",
       "    <tr>\n",
       "      <th>image_top_1</th>\n",
       "      <td>1008</td>\n",
       "      <td>692</td>\n",
       "      <td>3032</td>\n",
       "      <td>796</td>\n",
       "      <td>2264</td>\n",
       "    </tr>\n",
       "    <tr>\n",
       "      <th>deal_probability</th>\n",
       "      <td>0.12789</td>\n",
       "      <td>0</td>\n",
       "      <td>0.43177</td>\n",
       "      <td>0.80323</td>\n",
       "      <td>0.20797</td>\n",
       "    </tr>\n",
       "  </tbody>\n",
       "</table>\n",
       "</div>"
      ],
      "text/plain": [
       "                                                                      0  \\\n",
       "item_id                                                    b912c3c6a6ad   \n",
       "user_id                                                    e00f8ff2eaf9   \n",
       "region                                             Свердловская область   \n",
       "city                                                       Екатеринбург   \n",
       "parent_category_name                                        Личные вещи   \n",
       "category_name                                Товары для детей и игрушки   \n",
       "param_1                                       Постельные принадлежности   \n",
       "param_2                                                             NaN   \n",
       "param_3                                                             NaN   \n",
       "title                                             Кокоби(кокон для сна)   \n",
       "description           Кокон для сна малыша,пользовались меньше месяц...   \n",
       "price                                                               400   \n",
       "item_seq_number                                                       2   \n",
       "activation_date                                              2017-03-28   \n",
       "user_type                                                       Private   \n",
       "image                 d10c7e016e03247a3bf2d13348fe959fe6f436c1caf64c...   \n",
       "image_top_1                                                        1008   \n",
       "deal_probability                                                0.12789   \n",
       "\n",
       "                                                                      1  \\\n",
       "item_id                                                    2dac0150717d   \n",
       "user_id                                                    39aeb48f0017   \n",
       "region                                                Самарская область   \n",
       "city                                                             Самара   \n",
       "parent_category_name                                    Для дома и дачи   \n",
       "category_name                                         Мебель и интерьер   \n",
       "param_1                                                          Другое   \n",
       "param_2                                                             NaN   \n",
       "param_3                                                             NaN   \n",
       "title                                                 Стойка для Одежды   \n",
       "description                   Стойка для одежды, под вешалки. С бутика.   \n",
       "price                                                              3000   \n",
       "item_seq_number                                                      19   \n",
       "activation_date                                              2017-03-26   \n",
       "user_type                                                       Private   \n",
       "image                 79c9392cc51a9c81c6eb91eceb8e552171db39d7142700...   \n",
       "image_top_1                                                         692   \n",
       "deal_probability                                                      0   \n",
       "\n",
       "                                                                      2  \\\n",
       "item_id                                                    ba83aefab5dc   \n",
       "user_id                                                    91e2f88dd6e3   \n",
       "region                                               Ростовская область   \n",
       "city                                                     Ростов-на-Дону   \n",
       "parent_category_name                                Бытовая электроника   \n",
       "category_name                                             Аудио и видео   \n",
       "param_1                                     Видео, DVD и Blu-ray плееры   \n",
       "param_2                                                             NaN   \n",
       "param_3                                                             NaN   \n",
       "title                                                    Philips bluray   \n",
       "description           В хорошем состоянии, домашний кинотеатр с blu ...   \n",
       "price                                                              4000   \n",
       "item_seq_number                                                       9   \n",
       "activation_date                                              2017-03-20   \n",
       "user_type                                                       Private   \n",
       "image                 b7f250ee3f39e1fedd77c141f273703f4a9be59db4b48a...   \n",
       "image_top_1                                                        3032   \n",
       "deal_probability                                                0.43177   \n",
       "\n",
       "                                                                      3  \\\n",
       "item_id                                                    02996f1dd2ea   \n",
       "user_id                                                    bf5cccea572d   \n",
       "region                                                        Татарстан   \n",
       "city                                                   Набережные Челны   \n",
       "parent_category_name                                        Личные вещи   \n",
       "category_name                                Товары для детей и игрушки   \n",
       "param_1                                            Автомобильные кресла   \n",
       "param_2                                                             NaN   \n",
       "param_3                                                             NaN   \n",
       "title                                                        Автокресло   \n",
       "description                                      Продам кресло от0-25кг   \n",
       "price                                                              2200   \n",
       "item_seq_number                                                     286   \n",
       "activation_date                                              2017-03-25   \n",
       "user_type                                                       Company   \n",
       "image                 e6ef97e0725637ea84e3d203e82dadb43ed3cc0a1c8413...   \n",
       "image_top_1                                                         796   \n",
       "deal_probability                                                0.80323   \n",
       "\n",
       "                                                                      4  \n",
       "item_id                                                    7c90be56d2ab  \n",
       "user_id                                                    ef50846afc0b  \n",
       "region                                            Волгоградская область  \n",
       "city                                                          Волгоград  \n",
       "parent_category_name                                          Транспорт  \n",
       "category_name                                                Автомобили  \n",
       "param_1                                                      С пробегом  \n",
       "param_2                                                      ВАЗ (LADA)  \n",
       "param_3                                                            2110  \n",
       "title                                                    ВАЗ 2110, 2003  \n",
       "description                                    Все вопросы по телефону.  \n",
       "price                                                             40000  \n",
       "item_seq_number                                                       3  \n",
       "activation_date                                              2017-03-16  \n",
       "user_type                                                       Private  \n",
       "image                 54a687a3a0fc1d68aed99bdaaf551c5c70b761b16fd0a2...  \n",
       "image_top_1                                                        2264  \n",
       "deal_probability                                                0.20797  "
      ]
     },
     "execution_count": 12,
     "metadata": {},
     "output_type": "execute_result"
    }
   ],
   "source": [
    "df_train.head().T"
   ]
  },
  {
   "cell_type": "markdown",
   "metadata": {},
   "source": [
    "- number of unique uid"
   ]
  },
  {
   "cell_type": "code",
   "execution_count": 16,
   "metadata": {},
   "outputs": [
    {
     "data": {
      "text/plain": [
       "771769"
      ]
     },
     "execution_count": 16,
     "metadata": {},
     "output_type": "execute_result"
    }
   ],
   "source": [
    "df_train.user_id.nunique() # 771,769 out of 1,503,424 "
   ]
  },
  {
   "cell_type": "code",
   "execution_count": 18,
   "metadata": {},
   "outputs": [
    {
     "data": {
      "text/plain": [
       "306069"
      ]
     },
     "execution_count": 18,
     "metadata": {},
     "output_type": "execute_result"
    }
   ],
   "source": [
    "df_test.user_id.nunique() # 306,069 "
   ]
  },
  {
   "cell_type": "code",
   "execution_count": 28,
   "metadata": {},
   "outputs": [],
   "source": [
    "uid_in_trn_test = np.intersect1d(df_test.user_id,df_train.user_id) # 67,929"
   ]
  },
  {
   "cell_type": "code",
   "execution_count": 31,
   "metadata": {},
   "outputs": [
    {
     "data": {
      "text/plain": [
       "67929"
      ]
     },
     "execution_count": 31,
     "metadata": {},
     "output_type": "execute_result"
    }
   ],
   "source": [
    "pd.Series(uid_in_trn_test).nunique()"
   ]
  },
  {
   "cell_type": "code",
   "execution_count": 32,
   "metadata": {},
   "outputs": [],
   "source": [
    "test_uid = df_test.user_id.unique()\n",
    "train_uid = df_train.user_id.unique()"
   ]
  },
  {
   "cell_type": "code",
   "execution_count": 36,
   "metadata": {},
   "outputs": [
    {
     "data": {
      "text/plain": [
       "703840"
      ]
     },
     "execution_count": 36,
     "metadata": {},
     "output_type": "execute_result"
    }
   ],
   "source": [
    "771769- 67929"
   ]
  },
  {
   "cell_type": "code",
   "execution_count": 37,
   "metadata": {},
   "outputs": [
    {
     "data": {
      "text/plain": [
       "238140"
      ]
     },
     "execution_count": 37,
     "metadata": {},
     "output_type": "execute_result"
    }
   ],
   "source": [
    "306069 - 67929"
   ]
  },
  {
   "cell_type": "markdown",
   "metadata": {},
   "source": [
    "- number of unique itemid"
   ]
  },
  {
   "cell_type": "code",
   "execution_count": 40,
   "metadata": {},
   "outputs": [],
   "source": [
    "train_itemid = df_train.item_id.unique()\n",
    "test_itemid = df_test.item_id.unique()"
   ]
  },
  {
   "cell_type": "code",
   "execution_count": 41,
   "metadata": {},
   "outputs": [
    {
     "data": {
      "text/plain": [
       "1503424"
      ]
     },
     "execution_count": 41,
     "metadata": {},
     "output_type": "execute_result"
    }
   ],
   "source": [
    "train_itemid.size"
   ]
  },
  {
   "cell_type": "code",
   "execution_count": 42,
   "metadata": {},
   "outputs": [
    {
     "data": {
      "text/plain": [
       "508438"
      ]
     },
     "execution_count": 42,
     "metadata": {},
     "output_type": "execute_result"
    }
   ],
   "source": [
    "test_itemid.size"
   ]
  },
  {
   "cell_type": "code",
   "execution_count": 43,
   "metadata": {},
   "outputs": [],
   "source": [
    "itmid_in_trn_test = np.intersect1d(train_itemid,test_itemid)"
   ]
  },
  {
   "cell_type": "code",
   "execution_count": 44,
   "metadata": {},
   "outputs": [
    {
     "data": {
      "text/plain": [
       "0"
      ]
     },
     "execution_count": 44,
     "metadata": {},
     "output_type": "execute_result"
    }
   ],
   "source": [
    "itmid_in_trn_test.size"
   ]
  },
  {
   "cell_type": "markdown",
   "metadata": {},
   "source": [
    "**itemid** is pkey in table "
   ]
  }
 ],
 "metadata": {
  "anaconda-cloud": {},
  "kernelspec": {
   "display_name": "Python [conda env:py36]",
   "language": "python",
   "name": "conda-env-py36-py"
  },
  "language_info": {
   "codemirror_mode": {
    "name": "ipython",
    "version": 3
   },
   "file_extension": ".py",
   "mimetype": "text/x-python",
   "name": "python",
   "nbconvert_exporter": "python",
   "pygments_lexer": "ipython3",
   "version": "3.6.3"
  }
 },
 "nbformat": 4,
 "nbformat_minor": 1
}
