{
 "cells": [
  {
   "cell_type": "code",
   "execution_count": 1,
   "metadata": {
    "collapsed": true
   },
   "outputs": [],
   "source": [
    "import pandas as pd \n",
    "import numpy as np \n",
    "import gc \n",
    "import lightgbm as lgb"
   ]
  },
  {
   "cell_type": "code",
   "execution_count": 2,
   "metadata": {
    "collapsed": true
   },
   "outputs": [],
   "source": [
    "import matplotlib.pyplot as plt \n",
    "%matplotlib inline"
   ]
  },
  {
   "cell_type": "markdown",
   "metadata": {},
   "source": [
    "load basic features "
   ]
  },
  {
   "cell_type": "code",
   "execution_count": 3,
   "metadata": {},
   "outputs": [
    {
     "name": "stdout",
     "output_type": "stream",
     "text": [
      "CPU times: user 44 ms, sys: 200 ms, total: 244 ms\n",
      "Wall time: 720 ms\n"
     ]
    }
   ],
   "source": [
    "%%time \n",
    "df_train = pd.read_pickle('../input/feats/df_trn_feat0.pkl')\n",
    "df_test = pd.read_pickle('../input/feats/df_test_feat0.pkl')"
   ]
  },
  {
   "cell_type": "code",
   "execution_count": 4,
   "metadata": {
    "collapsed": true
   },
   "outputs": [],
   "source": [
    "df_train['price_log1'] = df_train.price.apply(np.log1p)\n",
    "df_test['price_log1'] = df_test.price.apply(np.log1p)"
   ]
  },
  {
   "cell_type": "markdown",
   "metadata": {},
   "source": [
    "load text features"
   ]
  },
  {
   "cell_type": "code",
   "execution_count": 5,
   "metadata": {},
   "outputs": [
    {
     "name": "stdout",
     "output_type": "stream",
     "text": [
      "['/df_test_text_feat', '/df_trn_text_feat']\n",
      "CPU times: user 76 ms, sys: 196 ms, total: 272 ms\n",
      "Wall time: 866 ms\n"
     ]
    }
   ],
   "source": [
    "%%time \n",
    "with pd.HDFStore('../input/feats/txt_td_tfidf_hash5.h5') as store:\n",
    "    print(store.keys())\n",
    "    df_trn_text_feat  = store['df_trn_text_feat']\n",
    "    df_test_text_feat = store['df_test_text_feat']"
   ]
  },
  {
   "cell_type": "markdown",
   "metadata": {},
   "source": [
    "load text features2"
   ]
  },
  {
   "cell_type": "code",
   "execution_count": 6,
   "metadata": {},
   "outputs": [
    {
     "name": "stdout",
     "output_type": "stream",
     "text": [
      "['/df_test_text_feats', '/df_trn_text_feats']\n",
      "Wall time: 75.1 ms\n"
     ]
    }
   ],
   "source": [
    "# %%time \n",
    "# with pd.HDFStore('../input/feats/txt_svd_feat2.h5') as store:\n",
    "#     print(store.keys())\n",
    "#     df_trn_text_feat  = store['df_trn_text_feats']\n",
    "#     df_test_text_feat = store['df_test_text_feats']"
   ]
  },
  {
   "cell_type": "markdown",
   "metadata": {},
   "source": [
    "load fm features "
   ]
  },
  {
   "cell_type": "code",
   "execution_count": 6,
   "metadata": {
    "collapsed": true
   },
   "outputs": [],
   "source": [
    "# %%time \n",
    "# with pd.HDFStore('../input/feats/fm_uidx_rc_cnt_lat2.h5') as store:\n",
    "#     print(store.keys())\n",
    "#     df_fm_uidx_rc_cnt_lat2 = store['fm_uidx_rc_cnt_lat2']"
   ]
  },
  {
   "cell_type": "code",
   "execution_count": 7,
   "metadata": {
    "collapsed": true
   },
   "outputs": [],
   "source": [
    "# df_fm_uidx_rc_cnt_lat2.head().T"
   ]
  },
  {
   "cell_type": "code",
   "execution_count": 8,
   "metadata": {
    "collapsed": true
   },
   "outputs": [],
   "source": [
    "# df_train = df_train.merge(df_fm_uidx_rc_cnt_lat2,how='left',on=['uidx','region_city_label'])\n",
    "# df_test = df_test.merge(df_fm_uidx_rc_cnt_lat2,how='left',on=['uidx','region_city_label'])"
   ]
  },
  {
   "cell_type": "code",
   "execution_count": 9,
   "metadata": {
    "collapsed": true
   },
   "outputs": [],
   "source": [
    "# df_train['cnt_by_uidx_rc'] = df_train['cnt'].astype('float16')\n",
    "# df_train.drop('cnt',axis=1,inplace=True)"
   ]
  },
  {
   "cell_type": "markdown",
   "metadata": {},
   "source": [
    "load interaction tsvd features"
   ]
  },
  {
   "cell_type": "code",
   "execution_count": 10,
   "metadata": {
    "collapsed": true
   },
   "outputs": [],
   "source": [
    "# %%time \n",
    "# with pd.HDFStore('../input/feats/feat2_trn_inter_svd.h5') as store:\n",
    "#     print(store.keys())\n",
    "#     df_trn_inter_svd = store['df_trn_inter_svd']\n",
    "#     df_test_inter_svd = store['df_test_inter_svd']"
   ]
  },
  {
   "cell_type": "markdown",
   "metadata": {},
   "source": [
    "load zero prediction"
   ]
  },
  {
   "cell_type": "code",
   "execution_count": 11,
   "metadata": {
    "collapsed": true
   },
   "outputs": [],
   "source": [
    "# %%time \n",
    "# cut_off = 0.8\n",
    "# meta_zero_pred = np.load('../input/feats/meta_zero_deal.npy')\n",
    "# df_zero_pred = pd.DataFrame({'pred_zero':meta_zero_pred})\n",
    "\n",
    "# df_zero_pred['pred_zero'] = df_zero_pred.pred_zero > cut_off"
   ]
  },
  {
   "cell_type": "markdown",
   "metadata": {},
   "source": [
    "cnt by uidx param1"
   ]
  },
  {
   "cell_type": "code",
   "execution_count": 12,
   "metadata": {
    "collapsed": true
   },
   "outputs": [],
   "source": [
    "# df_cnt_uidx_param1 = df_train.groupby(['uidx','param_1']).size().astype('uint16').reset_index().rename(columns={0:'cnt_by_uidx_param1'})\n",
    "# df_train = df_train.merge(df_cnt_uidx_param1,how='left',on=['uidx','param_1'])\n",
    "# df_train['cnt_by_uidx_param1'] = df_train.cnt_by_uidx_param1.fillna(0).astype('uint16')"
   ]
  },
  {
   "cell_type": "markdown",
   "metadata": {},
   "source": [
    "cnt by uidx category name"
   ]
  },
  {
   "cell_type": "code",
   "execution_count": 13,
   "metadata": {
    "collapsed": true
   },
   "outputs": [],
   "source": [
    "# df_cnt_uidx_cat = df_train.groupby(['uidx','category_name']).size().astype('uint16').reset_index().rename(columns={0:'cnt_by_uidx_cat'})\n",
    "# df_train = df_train.merge(df_cnt_uidx_cat,how='left',on=['uidx','category_name'])\n",
    "# df_train['cnt_by_uidx_cat'] = df_train.cnt_by_uidx_cat.fillna(0).astype('uint16')"
   ]
  },
  {
   "cell_type": "code",
   "execution_count": 14,
   "metadata": {
    "collapsed": true
   },
   "outputs": [],
   "source": [
    "# df_train.cnt_by_uidx_cat.head()"
   ]
  },
  {
   "cell_type": "markdown",
   "metadata": {},
   "source": [
    "mean encode category features"
   ]
  },
  {
   "cell_type": "code",
   "execution_count": 6,
   "metadata": {},
   "outputs": [
    {
     "name": "stdout",
     "output_type": "stream",
     "text": [
      "['/df_nfold_idx', '/df_test_mean_target', '/df_trn_mean_target']\n",
      "Wall time: 175 ms\n"
     ]
    }
   ],
   "source": [
    "# %%time \n",
    "# with pd.HDFStore('../input/feats/df_mean_target.h5') as store:\n",
    "#     print(store.keys())\n",
    "#     df_trn_mean_target = store['df_trn_mean_target']\n",
    "# #     df_trn_mean_target = store['df_trn_mean_LOO'] ### LOO mean ## serious overfit !!!\n",
    "#     df_test_mean_target = store['df_test_mean_target']\n",
    "#     df_nfold_idx = store['df_nfold_idx']"
   ]
  },
  {
   "cell_type": "code",
   "execution_count": 7,
   "metadata": {
    "collapsed": true
   },
   "outputs": [],
   "source": [
    "# nfold_idx = df_nfold_idx.to_dict()"
   ]
  },
  {
   "cell_type": "code",
   "execution_count": 6,
   "metadata": {},
   "outputs": [
    {
     "name": "stdout",
     "output_type": "stream",
     "text": [
      "['/df_test_encoded', '/df_trn_encoded']\n",
      "CPU times: user 32 ms, sys: 56 ms, total: 88 ms\n",
      "Wall time: 285 ms\n"
     ]
    }
   ],
   "source": [
    "%%time \n",
    "with pd.HDFStore('../input/feats/df_mean_target_cv2.h5') as store:\n",
    "    print(store.keys())\n",
    "    df_trn_mean_target = store['df_trn_encoded']\n",
    "    df_test_mean_target = store['df_test_encoded']    "
   ]
  },
  {
   "cell_type": "markdown",
   "metadata": {},
   "source": [
    "combine features"
   ]
  },
  {
   "cell_type": "code",
   "execution_count": 7,
   "metadata": {},
   "outputs": [
    {
     "name": "stdout",
     "output_type": "stream",
     "text": [
      "CPU times: user 344 ms, sys: 116 ms, total: 460 ms\n",
      "Wall time: 458 ms\n"
     ]
    }
   ],
   "source": [
    "%%time\n",
    "# df_train = pd.concat([df_train, df_trn_text_feat ],axis=1)\n",
    "# df_test = pd.concat([df_test,df_test_text_feat],axis=1)\n",
    "# df_train = pd.concat([df_train,df_trn_text_feat,df_trn_inter_svd], axis=1)\n",
    "# df_train = pd.concat([df_train, df_zero_pred],axis=1)\n",
    "# df_train = pd.concat([df_train,df_trn_mean_target],axis=1)\n",
    "\n",
    "df_train = pd.concat([df_train, df_trn_text_feat, df_trn_mean_target],axis=1)\n",
    "df_test = pd.concat([df_test,df_test_text_feat, df_test_mean_target],axis=1)"
   ]
  },
  {
   "cell_type": "code",
   "execution_count": 8,
   "metadata": {},
   "outputs": [
    {
     "data": {
      "text/plain": [
       "Index(['uidx', 'iidx', 'iid', 'region_city_label', 'tit_len', 'desc_len',\n",
       "       'activation_date', 'month', 'day', 'weekday', 'param_1', 'param_2',\n",
       "       'param_3', 'user_type', 'parent_category_name', 'price',\n",
       "       'category_name', 'image_top_1', 'ads_cnt_by_uid', 'ads_cnt_by_iid',\n",
       "       'deal_probability', 'price_log1', 'title_tfidf_0', 'title_tfidf_1',\n",
       "       'title_tfidf_2', 'title_tfidf_3', 'title_tfidf_4', 'title_hash_0',\n",
       "       'title_hash_1', 'title_hash_2', 'title_hash_3', 'title_hash_4',\n",
       "       'desc_tfidf_0', 'desc_tfidf_1', 'desc_tfidf_2', 'desc_tfidf_3',\n",
       "       'desc_tfidf_4', 'desc_hash_0', 'desc_hash_1', 'desc_hash_2',\n",
       "       'desc_hash_3', 'desc_hash_4', 'mean_uidx', 'mean_iidx',\n",
       "       'mean_region_city_label', 'mean_param_1', 'mean_param_2',\n",
       "       'mean_param_3', 'mean_user_type', 'mean_parent_category_name',\n",
       "       'mean_category_name', 'mean_image_top_1'],\n",
       "      dtype='object')"
      ]
     },
     "execution_count": 8,
     "metadata": {},
     "output_type": "execute_result"
    }
   ],
   "source": [
    "df_train.columns"
   ]
  },
  {
   "cell_type": "code",
   "execution_count": 9,
   "metadata": {
    "collapsed": true
   },
   "outputs": [
    {
     "data": {
      "text/plain": [
       "Index(['uidx', 'iidx', 'iid', 'region_city_label', 'tit_len', 'desc_len',\n",
       "       'activation_date', 'month', 'day', 'weekday', 'param_1', 'param_2',\n",
       "       'param_3', 'user_type', 'parent_category_name', 'price',\n",
       "       'category_name', 'image_top_1', 'ads_cnt_by_uid', 'ads_cnt_by_iid',\n",
       "       'price_log1', 'title_tfidf_0', 'title_tfidf_1', 'title_tfidf_2',\n",
       "       'title_tfidf_3', 'title_tfidf_4', 'title_hash_0', 'title_hash_1',\n",
       "       'title_hash_2', 'title_hash_3', 'title_hash_4', 'desc_tfidf_0',\n",
       "       'desc_tfidf_1', 'desc_tfidf_2', 'desc_tfidf_3', 'desc_tfidf_4',\n",
       "       'desc_hash_0', 'desc_hash_1', 'desc_hash_2', 'desc_hash_3',\n",
       "       'desc_hash_4', 'mean_uidx', 'mean_iidx', 'mean_region_city_label',\n",
       "       'mean_param_1', 'mean_param_2', 'mean_param_3', 'mean_user_type',\n",
       "       'mean_parent_category_name', 'mean_category_name', 'mean_image_top_1'],\n",
       "      dtype='object')"
      ]
     },
     "execution_count": 9,
     "metadata": {},
     "output_type": "execute_result"
    }
   ],
   "source": [
    "# df_test.columnsns"
   ]
  },
  {
   "cell_type": "code",
   "execution_count": 25,
   "metadata": {},
   "outputs": [],
   "source": [
    "selcols = [\n",
    "    'uidx','iidx',\n",
    "    'tit_len','desc_len',\n",
    "    'mean_region_city_label',\n",
    "    'month','day','weekday',\n",
    "    'mean_param_1','mean_param_2','mean_param_3',\n",
    "    'mean_user_type','mean_parent_category_name','mean_category_name',\n",
    "#     'mean_iidx',\n",
    "#     'user_type','parent_category_name','category_name',\n",
    "    'mean_image_top_1',\n",
    "    'ads_cnt_by_uid','ads_cnt_by_iid',    \n",
    "    'price_log1'\n",
    "]\n",
    "\n",
    "text_cols = ['title_tfidf_{}'.format(e) for e in range(5)] + \\\n",
    "['title_hash_{}'.format(e) for e in range(5)] + \\\n",
    "['desc_tfidf_{}'.format(e) for e in range(5)] + \\\n",
    "['desc_hash_{}'.format(e) for e in range(5)]            \n",
    "\n",
    "selcols += text_cols"
   ]
  },
  {
   "cell_type": "code",
   "execution_count": 26,
   "metadata": {},
   "outputs": [],
   "source": [
    "# selcols = list(df_train.columns)\n",
    "\n",
    "# drop_cols = [\n",
    "#                 'deal_probability','activation_date','iid','price'\n",
    "#                 'uidx','iidx',\n",
    "#                 'region_city_label',\n",
    "#                 'month','day','weekday',\n",
    "#                 'param_1',\n",
    "#                 'param_2',\n",
    "#                 'param_3',\n",
    "#                 'image_top_1',\n",
    "#                 'user_type','parent_category_name','category_name',\n",
    "                \n",
    "#                 'mean_param_2','mean_param_3'\n",
    "#             ]\n",
    "#                 'mean_uidx','mean_iidx',\n",
    "#                 'mean_param_1',\n",
    "#                 'mean_user_type','mean_parent_category_name','mean_category_name','mean_image_top_1'\n",
    "            \n",
    "# drop_cols += ['title_tfidf_{}'.format(e) for e in range(2,5)] + \\\n",
    "#             ['title_hash_{}'.format(e) for e in [0]] +\\\n",
    "#             ['desc_tfidf_{}'.format(e) for e in [1,4]] + \\\n",
    "#             ['desc_hash_{}'.format(e) for e in [1,3,4]] \n",
    "\n",
    "# selcols = [col for col in selcols if col not in drop_cols]\n",
    "\n",
    "X_train = df_train[selcols].copy()\n",
    "y_train = df_train['deal_probability']\n",
    "X_test  = df_test[selcols].copy()\n",
    "\n"
   ]
  },
  {
   "cell_type": "code",
   "execution_count": 27,
   "metadata": {},
   "outputs": [
    {
     "name": "stdout",
     "output_type": "stream",
     "text": [
      "shape of X_train: (1503424, 38)\n",
      "shape of X_test : (508438, 38)\n"
     ]
    }
   ],
   "source": [
    "print('shape of X_train:',X_train.shape)\n",
    "print('shape of X_test :',X_test.shape)"
   ]
  },
  {
   "cell_type": "code",
   "execution_count": 28,
   "metadata": {},
   "outputs": [
    {
     "data": {
      "text/plain": [
       "Index(['uidx', 'iidx', 'tit_len', 'desc_len', 'mean_region_city_label',\n",
       "       'month', 'day', 'weekday', 'mean_param_1', 'mean_param_2',\n",
       "       'mean_param_3', 'mean_user_type', 'mean_parent_category_name',\n",
       "       'mean_category_name', 'mean_image_top_1', 'ads_cnt_by_uid',\n",
       "       'ads_cnt_by_iid', 'price_log1', 'title_tfidf_0', 'title_tfidf_1',\n",
       "       'title_tfidf_2', 'title_tfidf_3', 'title_tfidf_4', 'title_hash_0',\n",
       "       'title_hash_1', 'title_hash_2', 'title_hash_3', 'title_hash_4',\n",
       "       'desc_tfidf_0', 'desc_tfidf_1', 'desc_tfidf_2', 'desc_tfidf_3',\n",
       "       'desc_tfidf_4', 'desc_hash_0', 'desc_hash_1', 'desc_hash_2',\n",
       "       'desc_hash_3', 'desc_hash_4'],\n",
       "      dtype='object')"
      ]
     },
     "execution_count": 28,
     "metadata": {},
     "output_type": "execute_result"
    }
   ],
   "source": [
    "X_train.columns"
   ]
  },
  {
   "cell_type": "markdown",
   "metadata": {},
   "source": [
    "##### KFold"
   ]
  },
  {
   "cell_type": "markdown",
   "metadata": {},
   "source": [
    "use built-in `lgb.cv`"
   ]
  },
  {
   "cell_type": "code",
   "execution_count": 29,
   "metadata": {},
   "outputs": [
    {
     "name": "stderr",
     "output_type": "stream",
     "text": [
      "/home/ihong/anaconda3/lib/python3.6/site-packages/lightgbm/basic.py:1005: UserWarning: Using categorical_feature in Dataset.\n",
      "  warnings.warn('Using categorical_feature in Dataset.')\n"
     ]
    },
    {
     "name": "stdout",
     "output_type": "stream",
     "text": [
      "[100]\tcv_agg's rmse: 0.22571 + 0.000191692\n",
      "[200]\tcv_agg's rmse: 0.224805 + 0.000172649\n",
      "[300]\tcv_agg's rmse: 0.224311 + 0.000176002\n",
      "[400]\tcv_agg's rmse: 0.224028 + 0.000205623\n",
      "[500]\tcv_agg's rmse: 0.223806 + 0.000202142\n",
      "[600]\tcv_agg's rmse: 0.223614 + 0.000227949\n",
      "[700]\tcv_agg's rmse: 0.223473 + 0.000216093\n",
      "[800]\tcv_agg's rmse: 0.223354 + 0.000209432\n",
      "[900]\tcv_agg's rmse: 0.223247 + 0.000209819\n",
      "[1000]\tcv_agg's rmse: 0.223165 + 0.000216286\n",
      "[1100]\tcv_agg's rmse: 0.223093 + 0.000218658\n",
      "[1200]\tcv_agg's rmse: 0.223033 + 0.000195838\n",
      "[1300]\tcv_agg's rmse: 0.222974 + 0.000197513\n",
      "[1400]\tcv_agg's rmse: 0.222935 + 0.000197164\n",
      "[1500]\tcv_agg's rmse: 0.222902 + 0.000189589\n",
      "[1600]\tcv_agg's rmse: 0.222878 + 0.000192099\n",
      "[1700]\tcv_agg's rmse: 0.222852 + 0.000192903\n",
      "[1800]\tcv_agg's rmse: 0.222826 + 0.00020772\n",
      "done\n"
     ]
    }
   ],
   "source": [
    "# categorical = None\n",
    "categorical = ['month','day','weekday'\n",
    "#                'param_1','param_2','param_3',\n",
    "#                'region_city_label', \n",
    "#                'image_top_1',\n",
    "#                'user_type','category_name','parent_category_name'\n",
    "              ]\n",
    "\n",
    "lgbm_params =  {\n",
    "    'task': 'train',\n",
    "    'boosting_type': 'gbdt',\n",
    "    'objective': 'regression',\n",
    "    'metric': 'rmse',     \n",
    "    'max_depth': 15,\n",
    "    'num_leaves': 33,\n",
    "    'feature_fraction': 0.7,\n",
    "    'bagging_fraction': 0.8,    \n",
    "    'learning_rate': 0.1        \n",
    "}  \n",
    "\n",
    "predictors = list(X_train.columns)\n",
    "\n",
    "\n",
    "\n",
    "dtrain = lgb.Dataset(X_train, label=y_train, feature_name=predictors, categorical_feature=categorical)\n",
    "cv_results = lgb.cv(lgbm_params, dtrain,                     \n",
    "                    nfold=4,\n",
    "                    stratified=False,\n",
    "                    num_boost_round=10000,\n",
    "                    early_stopping_rounds=20,                    \n",
    "                    verbose_eval=100)\n",
    "print('done')"
   ]
  },
  {
   "cell_type": "code",
   "execution_count": 30,
   "metadata": {},
   "outputs": [
    {
     "name": "stdout",
     "output_type": "stream",
     "text": [
      "bst_iter:1875\tcv:0.2228\n"
     ]
    }
   ],
   "source": [
    "bst_iter = np.argmin(cv_results['rmse-mean']) \n",
    "bst_cv   = np.min(cv_results['rmse-mean'])\n",
    "print('bst_iter:{}\\tcv:{:.4}'.format(bst_iter,bst_cv))"
   ]
  },
  {
   "cell_type": "markdown",
   "metadata": {},
   "source": [
    "___"
   ]
  },
  {
   "cell_type": "markdown",
   "metadata": {},
   "source": [
    "simple train/test split "
   ]
  },
  {
   "cell_type": "code",
   "execution_count": 31,
   "metadata": {
    "collapsed": true
   },
   "outputs": [],
   "source": [
    "from sklearn.model_selection import train_test_split\n",
    "from sklearn.metrics import mean_squared_error"
   ]
  },
  {
   "cell_type": "code",
   "execution_count": 32,
   "metadata": {},
   "outputs": [
    {
     "name": "stderr",
     "output_type": "stream",
     "text": [
      "/home/ihong/anaconda3/lib/python3.6/site-packages/lightgbm/engine.py:98: UserWarning: Found `num_boost_round` in params. Will use it instead of argument\n",
      "  warnings.warn(\"Found `{}` in params. Will use it instead of argument\".format(alias))\n",
      "/home/ihong/anaconda3/lib/python3.6/site-packages/lightgbm/basic.py:1005: UserWarning: Using categorical_feature in Dataset.\n",
      "  warnings.warn('Using categorical_feature in Dataset.')\n"
     ]
    },
    {
     "name": "stdout",
     "output_type": "stream",
     "text": [
      "Training until validation scores don't improve for 50 rounds.\n",
      "[100]\ttrain's rmse: 0.225002\tvalid's rmse: 0.22592\n",
      "[200]\ttrain's rmse: 0.223299\tvalid's rmse: 0.224981\n",
      "[300]\ttrain's rmse: 0.222095\tvalid's rmse: 0.224504\n",
      "[400]\ttrain's rmse: 0.220915\tvalid's rmse: 0.224082\n",
      "[500]\ttrain's rmse: 0.219898\tvalid's rmse: 0.223772\n",
      "[600]\ttrain's rmse: 0.219009\tvalid's rmse: 0.223593\n",
      "[700]\ttrain's rmse: 0.218206\tvalid's rmse: 0.223472\n",
      "[800]\ttrain's rmse: 0.217414\tvalid's rmse: 0.223366\n",
      "[900]\ttrain's rmse: 0.216635\tvalid's rmse: 0.223256\n",
      "[1000]\ttrain's rmse: 0.215888\tvalid's rmse: 0.223193\n",
      "[1100]\ttrain's rmse: 0.215196\tvalid's rmse: 0.22312\n",
      "[1200]\ttrain's rmse: 0.214493\tvalid's rmse: 0.223056\n",
      "[1300]\ttrain's rmse: 0.213778\tvalid's rmse: 0.222994\n",
      "[1400]\ttrain's rmse: 0.213098\tvalid's rmse: 0.222929\n",
      "[1500]\ttrain's rmse: 0.212437\tvalid's rmse: 0.22289\n",
      "[1600]\ttrain's rmse: 0.211811\tvalid's rmse: 0.22286\n",
      "[1700]\ttrain's rmse: 0.211159\tvalid's rmse: 0.222817\n",
      "[1800]\ttrain's rmse: 0.2105\tvalid's rmse: 0.222796\n",
      "[1900]\ttrain's rmse: 0.209888\tvalid's rmse: 0.222773\n",
      "Early stopping, best iteration is:\n",
      "[1900]\ttrain's rmse: 0.209888\tvalid's rmse: 0.222773\n",
      "Model Evaluation Stage\n",
      "RMSE: 0.222773056011\n"
     ]
    }
   ],
   "source": [
    "X_trn, X_val, y_trn, y_val = train_test_split(X_train,y_train,test_size=0.2, random_state=1)\n",
    "\n",
    "lgtrain = lgb.Dataset(X_trn, y_trn,                    \n",
    "                    categorical_feature = categorical)\n",
    "lgvalid = lgb.Dataset(X_val, y_val,                \n",
    "                categorical_feature = categorical)\n",
    "\n",
    "lgbm_params =  {\n",
    "    'task': 'train',\n",
    "    'boosting_type': 'gbdt',\n",
    "    'objective': 'regression',\n",
    "    'metric': 'rmse',     \n",
    "    'max_depth': 15,\n",
    "    'num_leaves': 33,\n",
    "    'feature_fraction': 0.7,\n",
    "    'bagging_fraction': 0.8,    \n",
    "    'learning_rate': 0.1,\n",
    "    'num_boost_round': 10000, \n",
    "    'categorical':categorical\n",
    "}  \n",
    "\n",
    "# Go Go Go\n",
    "lgb_clf = lgb.train(\n",
    "    lgbm_params,\n",
    "    lgtrain,\n",
    "#     num_boost_round=n_rounds,\n",
    "    valid_sets=[lgtrain, lgvalid],\n",
    "    valid_names=['train','valid'],\n",
    "    early_stopping_rounds=50,\n",
    "    verbose_eval=100\n",
    ")\n",
    "print(\"Model Evaluation Stage\")\n",
    "print('RMSE:', np.sqrt(mean_squared_error(y_val, lgb_clf.predict(X_val))))\n",
    "\n"
   ]
  },
  {
   "cell_type": "code",
   "execution_count": 44,
   "metadata": {},
   "outputs": [
    {
     "data": {
      "text/plain": [
       "1701"
      ]
     },
     "execution_count": 44,
     "metadata": {},
     "output_type": "execute_result"
    }
   ],
   "source": [
    "lgb_clf.best_iteration"
   ]
  },
  {
   "cell_type": "code",
   "execution_count": null,
   "metadata": {
    "collapsed": true
   },
   "outputs": [],
   "source": []
  },
  {
   "cell_type": "code",
   "execution_count": null,
   "metadata": {
    "collapsed": true
   },
   "outputs": [],
   "source": []
  },
  {
   "cell_type": "markdown",
   "metadata": {},
   "source": [
    "_____"
   ]
  },
  {
   "cell_type": "code",
   "execution_count": 33,
   "metadata": {
    "collapsed": true
   },
   "outputs": [],
   "source": [
    "import gc\n",
    "from sklearn.model_selection import StratifiedKFold\n",
    "from sklearn.metrics import mean_squared_error"
   ]
  },
  {
   "cell_type": "code",
   "execution_count": 34,
   "metadata": {
    "collapsed": true
   },
   "outputs": [],
   "source": [
    "class LgbWrapper:\n",
    "    ## copy from https://www.kaggle.com/mmueller/stacking-starter\n",
    "    def __init__(self, params=None):\n",
    "        \n",
    "        self.num_boost_round = params.pop('num_boost_round', 100)\n",
    "        self.categorical = params.pop('categorical',None)\n",
    "#         self.verbose_eval = params.pop('verbose_eval', False)\n",
    "        self.params = params\n",
    "        \n",
    "    def train(self, x_train, y_train):\n",
    "        dtrain = lgb.Dataset(x_train, label=y_train, feature_name=list(x_train.columns), categorical_feature=self.categorical)\n",
    "        self.gbdt = lgb.train(self.params,\n",
    "                              dtrain, self.num_boost_round\n",
    "                              )\n",
    "    def predict(self, x):\n",
    "        return self.gbdt.predict(x)\n",
    "                "
   ]
  },
  {
   "cell_type": "code",
   "execution_count": 35,
   "metadata": {
    "collapsed": true
   },
   "outputs": [],
   "source": [
    "def get_oof(x_train, y_train, x_test, clf, nfolds=4, num_bucket=100, seed=0):\n",
    "    ## modify from https://www.kaggle.com/mmueller/stacking-starter\n",
    "    ntrain = x_train.shape[0]\n",
    "    ntest = x_test.shape[0]\n",
    "    \n",
    "    ## continuous stratified kfold\n",
    "    percentiles = np.percentile(y_train, np.linspace(0, 100, num_bucket)) ## create percentiles \n",
    "    falls_into = np.searchsorted(percentiles,y_train) ## fall into bucket\n",
    "    \n",
    "    skf = StratifiedKFold(nfolds, random_state=seed) ## random state\n",
    "    skf.get_n_splits(x_train, falls_into)\n",
    "        \n",
    "    oof_train = np.zeros((ntrain,))\n",
    "    oof_test = np.zeros((ntest,))\n",
    "    oof_test_skf = np.empty((nfolds, ntest))\n",
    "\n",
    "    for i, (train_index, test_index) in enumerate(skf.split(x_train, falls_into)):\n",
    "        x_tr = x_train.iloc[train_index,:].copy()\n",
    "        y_tr = y_train[train_index]\n",
    "        x_te = x_train.iloc[test_index,:].copy()\n",
    "\n",
    "        clf.train(x_tr, y_tr) ## x_tr must be dataframe\n",
    "\n",
    "        oof_train[test_index] = clf.predict(x_te)\n",
    "        oof_test_skf[i, :] = clf.predict(x_test)\n",
    "\n",
    "    oof_test[:] = oof_test_skf.mean(axis=0)\n",
    "    return oof_train.reshape(-1, 1), oof_test.reshape(-1, 1)"
   ]
  },
  {
   "cell_type": "code",
   "execution_count": 18,
   "metadata": {
    "collapsed": true
   },
   "outputs": [],
   "source": [
    "# def get_oof2(x_train,y_train, x_test,clf, nfold_idx):\n",
    "    \n",
    "#     ## modify from https://www.kaggle.com/mmueller/stacking-starter\n",
    "#     ntrain = x_train.shape[0]\n",
    "#     ntest = x_test.shape[0]\n",
    "    \n",
    "#     nfolds = len(nfold_idx)\n",
    "    \n",
    "    \n",
    "#     oof_train = np.zeros((ntrain,))\n",
    "#     oof_test = np.zeros((ntest,))\n",
    "#     oof_test_skf = np.empty((nfolds, ntest))\n",
    "\n",
    "#     for i in nfold_idx:\n",
    "#         trn_idx = nfold_idx[i]['tr_idx']\n",
    "#         val_idx = nfold_idx[i]['val_idx']\n",
    "                \n",
    "#         x_tr = x_train.iloc[trn_idx,:].copy()\n",
    "#         y_tr = y_train[trn_idx]\n",
    "#         x_te = x_train.iloc[val_idx,:].copy()\n",
    "\n",
    "#         clf.train(x_tr, y_tr) ## x_tr must be dataframe\n",
    "\n",
    "#         oof_train[val_idx] = clf.predict(x_te)\n",
    "#         oof_test_skf[i, :] = clf.predict(x_test)\n",
    "\n",
    "#     oof_test[:] = oof_test_skf.mean(axis=0)\n",
    "#     return oof_train.reshape(-1, 1), oof_test.reshape(-1, 1)"
   ]
  },
  {
   "cell_type": "code",
   "execution_count": 36,
   "metadata": {},
   "outputs": [
    {
     "name": "stderr",
     "output_type": "stream",
     "text": [
      "/home/ihong/anaconda3/lib/python3.6/site-packages/lightgbm/basic.py:1005: UserWarning: Using categorical_feature in Dataset.\n",
      "  warnings.warn('Using categorical_feature in Dataset.')\n"
     ]
    },
    {
     "name": "stdout",
     "output_type": "stream",
     "text": [
      "oof train rmse:0.2229\n"
     ]
    }
   ],
   "source": [
    "lgbm_params =  {\n",
    "    'task': 'train',\n",
    "    'boosting_type': 'gbdt',\n",
    "    'objective': 'regression',\n",
    "    'metric': 'rmse',     \n",
    "    'max_depth': 15,\n",
    "    'num_leaves': 33,\n",
    "    'feature_fraction': 0.7,\n",
    "    'bagging_fraction': 0.8,    \n",
    "    'learning_rate': 0.1,\n",
    "    'num_boost_round': bst_iter, \n",
    "    'categorical':categorical\n",
    "}  \n",
    "\n",
    "\n",
    "lgb_clf = LgbWrapper(params=lgbm_params)\n",
    "\n",
    "lgb_oof_train, lgb_oof_test = get_oof(X_train, y_train, X_test,lgb_clf)\n",
    "# lgb_oof_train, lgb_oof_test = get_oof2(X_train, y_train, X_test, lgb_clf, nfold_idx)\n",
    "print('oof train rmse:{:.4f}'.format(mean_squared_error(lgb_oof_train,y_train)**0.5)) ### rmse \n"
   ]
  },
  {
   "cell_type": "code",
   "execution_count": 37,
   "metadata": {},
   "outputs": [
    {
     "data": {
      "text/html": [
       "<div>\n",
       "<style>\n",
       "    .dataframe thead tr:only-child th {\n",
       "        text-align: right;\n",
       "    }\n",
       "\n",
       "    .dataframe thead th {\n",
       "        text-align: left;\n",
       "    }\n",
       "\n",
       "    .dataframe tbody tr th {\n",
       "        vertical-align: top;\n",
       "    }\n",
       "</style>\n",
       "<table border=\"1\" class=\"dataframe\">\n",
       "  <thead>\n",
       "    <tr style=\"text-align: right;\">\n",
       "      <th></th>\n",
       "      <th>name</th>\n",
       "      <th>split</th>\n",
       "    </tr>\n",
       "  </thead>\n",
       "  <tbody>\n",
       "    <tr>\n",
       "      <th>17</th>\n",
       "      <td>price_log1</td>\n",
       "      <td>3851</td>\n",
       "    </tr>\n",
       "    <tr>\n",
       "      <th>14</th>\n",
       "      <td>mean_image_top_1</td>\n",
       "      <td>3143</td>\n",
       "    </tr>\n",
       "    <tr>\n",
       "      <th>4</th>\n",
       "      <td>mean_region_city_label</td>\n",
       "      <td>2931</td>\n",
       "    </tr>\n",
       "    <tr>\n",
       "      <th>6</th>\n",
       "      <td>day</td>\n",
       "      <td>2814</td>\n",
       "    </tr>\n",
       "    <tr>\n",
       "      <th>0</th>\n",
       "      <td>uidx</td>\n",
       "      <td>2373</td>\n",
       "    </tr>\n",
       "    <tr>\n",
       "      <th>8</th>\n",
       "      <td>mean_param_1</td>\n",
       "      <td>2337</td>\n",
       "    </tr>\n",
       "    <tr>\n",
       "      <th>16</th>\n",
       "      <td>ads_cnt_by_iid</td>\n",
       "      <td>1957</td>\n",
       "    </tr>\n",
       "    <tr>\n",
       "      <th>22</th>\n",
       "      <td>title_tfidf_4</td>\n",
       "      <td>1936</td>\n",
       "    </tr>\n",
       "    <tr>\n",
       "      <th>3</th>\n",
       "      <td>desc_len</td>\n",
       "      <td>1809</td>\n",
       "    </tr>\n",
       "    <tr>\n",
       "      <th>36</th>\n",
       "      <td>desc_hash_3</td>\n",
       "      <td>1757</td>\n",
       "    </tr>\n",
       "    <tr>\n",
       "      <th>19</th>\n",
       "      <td>title_tfidf_1</td>\n",
       "      <td>1746</td>\n",
       "    </tr>\n",
       "    <tr>\n",
       "      <th>27</th>\n",
       "      <td>title_hash_4</td>\n",
       "      <td>1736</td>\n",
       "    </tr>\n",
       "    <tr>\n",
       "      <th>28</th>\n",
       "      <td>desc_tfidf_0</td>\n",
       "      <td>1692</td>\n",
       "    </tr>\n",
       "    <tr>\n",
       "      <th>29</th>\n",
       "      <td>desc_tfidf_1</td>\n",
       "      <td>1682</td>\n",
       "    </tr>\n",
       "    <tr>\n",
       "      <th>20</th>\n",
       "      <td>title_tfidf_2</td>\n",
       "      <td>1672</td>\n",
       "    </tr>\n",
       "    <tr>\n",
       "      <th>32</th>\n",
       "      <td>desc_tfidf_4</td>\n",
       "      <td>1649</td>\n",
       "    </tr>\n",
       "    <tr>\n",
       "      <th>21</th>\n",
       "      <td>title_tfidf_3</td>\n",
       "      <td>1621</td>\n",
       "    </tr>\n",
       "    <tr>\n",
       "      <th>37</th>\n",
       "      <td>desc_hash_4</td>\n",
       "      <td>1564</td>\n",
       "    </tr>\n",
       "    <tr>\n",
       "      <th>1</th>\n",
       "      <td>iidx</td>\n",
       "      <td>1541</td>\n",
       "    </tr>\n",
       "    <tr>\n",
       "      <th>18</th>\n",
       "      <td>title_tfidf_0</td>\n",
       "      <td>1525</td>\n",
       "    </tr>\n",
       "    <tr>\n",
       "      <th>35</th>\n",
       "      <td>desc_hash_2</td>\n",
       "      <td>1525</td>\n",
       "    </tr>\n",
       "    <tr>\n",
       "      <th>33</th>\n",
       "      <td>desc_hash_0</td>\n",
       "      <td>1500</td>\n",
       "    </tr>\n",
       "    <tr>\n",
       "      <th>23</th>\n",
       "      <td>title_hash_0</td>\n",
       "      <td>1450</td>\n",
       "    </tr>\n",
       "    <tr>\n",
       "      <th>30</th>\n",
       "      <td>desc_tfidf_2</td>\n",
       "      <td>1407</td>\n",
       "    </tr>\n",
       "    <tr>\n",
       "      <th>31</th>\n",
       "      <td>desc_tfidf_3</td>\n",
       "      <td>1402</td>\n",
       "    </tr>\n",
       "    <tr>\n",
       "      <th>34</th>\n",
       "      <td>desc_hash_1</td>\n",
       "      <td>1346</td>\n",
       "    </tr>\n",
       "    <tr>\n",
       "      <th>26</th>\n",
       "      <td>title_hash_3</td>\n",
       "      <td>1302</td>\n",
       "    </tr>\n",
       "    <tr>\n",
       "      <th>25</th>\n",
       "      <td>title_hash_2</td>\n",
       "      <td>1251</td>\n",
       "    </tr>\n",
       "    <tr>\n",
       "      <th>13</th>\n",
       "      <td>mean_category_name</td>\n",
       "      <td>1229</td>\n",
       "    </tr>\n",
       "    <tr>\n",
       "      <th>9</th>\n",
       "      <td>mean_param_2</td>\n",
       "      <td>1215</td>\n",
       "    </tr>\n",
       "    <tr>\n",
       "      <th>15</th>\n",
       "      <td>ads_cnt_by_uid</td>\n",
       "      <td>1195</td>\n",
       "    </tr>\n",
       "    <tr>\n",
       "      <th>24</th>\n",
       "      <td>title_hash_1</td>\n",
       "      <td>1149</td>\n",
       "    </tr>\n",
       "    <tr>\n",
       "      <th>10</th>\n",
       "      <td>mean_param_3</td>\n",
       "      <td>808</td>\n",
       "    </tr>\n",
       "    <tr>\n",
       "      <th>12</th>\n",
       "      <td>mean_parent_category_name</td>\n",
       "      <td>763</td>\n",
       "    </tr>\n",
       "    <tr>\n",
       "      <th>2</th>\n",
       "      <td>tit_len</td>\n",
       "      <td>576</td>\n",
       "    </tr>\n",
       "    <tr>\n",
       "      <th>11</th>\n",
       "      <td>mean_user_type</td>\n",
       "      <td>280</td>\n",
       "    </tr>\n",
       "    <tr>\n",
       "      <th>7</th>\n",
       "      <td>weekday</td>\n",
       "      <td>266</td>\n",
       "    </tr>\n",
       "    <tr>\n",
       "      <th>5</th>\n",
       "      <td>month</td>\n",
       "      <td>0</td>\n",
       "    </tr>\n",
       "  </tbody>\n",
       "</table>\n",
       "</div>"
      ],
      "text/plain": [
       "                         name  split\n",
       "17                 price_log1   3851\n",
       "14           mean_image_top_1   3143\n",
       "4      mean_region_city_label   2931\n",
       "6                         day   2814\n",
       "0                        uidx   2373\n",
       "8                mean_param_1   2337\n",
       "16             ads_cnt_by_iid   1957\n",
       "22              title_tfidf_4   1936\n",
       "3                    desc_len   1809\n",
       "36                desc_hash_3   1757\n",
       "19              title_tfidf_1   1746\n",
       "27               title_hash_4   1736\n",
       "28               desc_tfidf_0   1692\n",
       "29               desc_tfidf_1   1682\n",
       "20              title_tfidf_2   1672\n",
       "32               desc_tfidf_4   1649\n",
       "21              title_tfidf_3   1621\n",
       "37                desc_hash_4   1564\n",
       "1                        iidx   1541\n",
       "18              title_tfidf_0   1525\n",
       "35                desc_hash_2   1525\n",
       "33                desc_hash_0   1500\n",
       "23               title_hash_0   1450\n",
       "30               desc_tfidf_2   1407\n",
       "31               desc_tfidf_3   1402\n",
       "34                desc_hash_1   1346\n",
       "26               title_hash_3   1302\n",
       "25               title_hash_2   1251\n",
       "13         mean_category_name   1229\n",
       "9                mean_param_2   1215\n",
       "15             ads_cnt_by_uid   1195\n",
       "24               title_hash_1   1149\n",
       "10               mean_param_3    808\n",
       "12  mean_parent_category_name    763\n",
       "2                     tit_len    576\n",
       "11             mean_user_type    280\n",
       "7                     weekday    266\n",
       "5                       month      0"
      ]
     },
     "execution_count": 37,
     "metadata": {},
     "output_type": "execute_result"
    }
   ],
   "source": [
    "pd.DataFrame({'name':lgb_clf.gbdt.feature_name(),'split':lgb_clf.gbdt.feature_importance()}).sort_values(by='split',ascending=False)"
   ]
  },
  {
   "cell_type": "markdown",
   "metadata": {},
   "source": [
    "# submission"
   ]
  },
  {
   "cell_type": "markdown",
   "metadata": {},
   "source": [
    "##### history\n",
    "1. local cv:  0.2216 (lb: 0.2276 overfit?)\n",
    "    - text(20) + mean_target + basic\n",
    "2. local cv:  0.2238 (lb: 0.2272)\n",
    "    - text + basic\n",
    "3. local cv:  0.223 (lb: 0.2264) v\n",
    "    - modify image_top_1 to cat\n",
    "4. local cv:  0.2178 (lb: 0.2268 overfit)\n",
    "    - (text+basic) + mean (nfolds=100)\n",
    "5. local cv:  0.2201 (lb: 0.2273 overfit...)\n",
    "    - modify mean with same out of fold idx\n",
    "6. local cv:  0.2213 (lb: 0.2280 overfit)\n",
    "    - mean without strified kfolds (use only kfold=4)\n",
    "7. local cv:  0.2231 (lb: 0.2274 )\n",
    "    - mean encode cv2 (only used)\n",
    "        - 'mean_region_city_label',\n",
    "        - 'mean_user_type', \n",
    "        - 'mean_parent_category_name', \n",
    "        - 'mean_category_name',\n",
    "        - 'mean_image_top_1\n",
    "8. local cv: 0.1647 (lb: 0.2383)\n",
    "9. local cv: 0.2233 (lb: 0.2275)\n",
    "10. local cv: 0.2228 (lb: 0.2275)\n",
    "11. local cv: 0.2226 (lb: 0.2278)\n",
    "12 local cv :0.2229 (lb:)"
   ]
  },
  {
   "cell_type": "code",
   "execution_count": 38,
   "metadata": {
    "collapsed": true
   },
   "outputs": [],
   "source": [
    "df_test2 = pd.read_pickle('../input/test.pkl')\n",
    "itemid = df_test2.item_id "
   ]
  },
  {
   "cell_type": "code",
   "execution_count": 39,
   "metadata": {
    "collapsed": true
   },
   "outputs": [],
   "source": [
    "y_pred = pd.DataFrame()\n",
    "y_pred['item_id'] = itemid\n",
    "y_pred['deal_probability'] = lgb_oof_test.ravel().clip(0,1)"
   ]
  },
  {
   "cell_type": "code",
   "execution_count": 40,
   "metadata": {},
   "outputs": [
    {
     "data": {
      "text/html": [
       "<div>\n",
       "<style>\n",
       "    .dataframe thead tr:only-child th {\n",
       "        text-align: right;\n",
       "    }\n",
       "\n",
       "    .dataframe thead th {\n",
       "        text-align: left;\n",
       "    }\n",
       "\n",
       "    .dataframe tbody tr th {\n",
       "        vertical-align: top;\n",
       "    }\n",
       "</style>\n",
       "<table border=\"1\" class=\"dataframe\">\n",
       "  <thead>\n",
       "    <tr style=\"text-align: right;\">\n",
       "      <th></th>\n",
       "      <th>item_id</th>\n",
       "      <th>deal_probability</th>\n",
       "    </tr>\n",
       "  </thead>\n",
       "  <tbody>\n",
       "    <tr>\n",
       "      <th>0</th>\n",
       "      <td>6544e41a8817</td>\n",
       "      <td>0.065426</td>\n",
       "    </tr>\n",
       "    <tr>\n",
       "      <th>1</th>\n",
       "      <td>65b9484d670f</td>\n",
       "      <td>0.202836</td>\n",
       "    </tr>\n",
       "    <tr>\n",
       "      <th>2</th>\n",
       "      <td>8bab230b2ecd</td>\n",
       "      <td>0.169748</td>\n",
       "    </tr>\n",
       "    <tr>\n",
       "      <th>3</th>\n",
       "      <td>8e348601fefc</td>\n",
       "      <td>0.158123</td>\n",
       "    </tr>\n",
       "    <tr>\n",
       "      <th>4</th>\n",
       "      <td>8bd2fe400b89</td>\n",
       "      <td>0.160662</td>\n",
       "    </tr>\n",
       "  </tbody>\n",
       "</table>\n",
       "</div>"
      ],
      "text/plain": [
       "        item_id  deal_probability\n",
       "0  6544e41a8817          0.065426\n",
       "1  65b9484d670f          0.202836\n",
       "2  8bab230b2ecd          0.169748\n",
       "3  8e348601fefc          0.158123\n",
       "4  8bd2fe400b89          0.160662"
      ]
     },
     "execution_count": 40,
     "metadata": {},
     "output_type": "execute_result"
    }
   ],
   "source": [
    "y_pred.head()"
   ]
  },
  {
   "cell_type": "code",
   "execution_count": 41,
   "metadata": {
    "collapsed": true
   },
   "outputs": [],
   "source": [
    "fileno = 12\n",
    "y_pred.to_csv('../output/sub/sub_{}.csv'.format(fileno),index=False)"
   ]
  },
  {
   "cell_type": "markdown",
   "metadata": {},
   "source": [
    "____"
   ]
  },
  {
   "cell_type": "code",
   "execution_count": 14,
   "metadata": {
    "collapsed": true
   },
   "outputs": [],
   "source": [
    "from sklearn.model_selection import KFold\n",
    "from sklearn.metrics import mean_squared_error"
   ]
  },
  {
   "cell_type": "code",
   "execution_count": 15,
   "metadata": {},
   "outputs": [
    {
     "name": "stdout",
     "output_type": "stream",
     "text": [
      "fold:0,\trmse:\t0.2239\n",
      "fold:1,\trmse:\t0.2239\n",
      "fold:2,\trmse:\t0.2248\n",
      "fold:3,\trmse:\t0.2259\n",
      "mean rmse : \t0.2246\n"
     ]
    }
   ],
   "source": [
    "NFOLDS = 4\n",
    "kf = KFold(n_splits=NFOLDS,random_state=0)\n",
    "rmse_results = []\n",
    "# def oof:\n",
    "for nfold,(trn_idx, val_idx) in enumerate(kf.split(X_train)):\n",
    "    x_trn, y_trn = X_train.iloc[trn_idx], y_train.iloc[trn_idx]\n",
    "    x_val, y_val = X_train.iloc[val_idx], y_train.iloc[val_idx]\n",
    "    \n",
    "    dtrain = lgb.Dataset(x_trn,y_trn, feature_name=predictors, categorical_feature=categorical)\n",
    "    dval   = lgb.Dataset(x_val,y_val, feature_name=predictors, categorical_feature=categorical)\n",
    "    \n",
    "    lgb_clf = lgb.train(lgbm_params,num_boost_round = 10000,\n",
    "                        train_set = dtrain,\n",
    "                        valid_sets = [dtrain, dval] ,                        \n",
    "                        early_stopping_rounds=10,\n",
    "                        verbose_eval= 0)\n",
    "    y_pred = lgb_clf.predict(x_val)\n",
    "    rmse = (mean_squared_error(y_pred,y_val))**0.5\n",
    "    print('fold:{},\\trmse:\\t{:.4f}'.format(nfold,rmse))\n",
    "    rmse_results.append(rmse)\n",
    "print('mean rmse : \\t{:.4f}'.format(np.mean(rmse_results) ))"
   ]
  },
  {
   "cell_type": "code",
   "execution_count": 16,
   "metadata": {},
   "outputs": [
    {
     "data": {
      "text/plain": [
       "<matplotlib.axes._subplots.AxesSubplot at 0xcf023024e0>"
      ]
     },
     "execution_count": 16,
     "metadata": {},
     "output_type": "execute_result"
    },
    {
     "data": {
      "image/png": "[encoded data removed]",
      "text/plain": [
       "<matplotlib.figure.Figure at 0xcf02304e10>"
      ]
     },
     "metadata": {},
     "output_type": "display_data"
    }
   ],
   "source": [
    "# feat_names = lgb_clf.feature_name()\n",
    "f, ax = plt.subplots(figsize=[7,10])\n",
    "lgb.plot_importance(lgb_clf,max_num_features=50, ax=ax)\n",
    "# pd.DataFrame({'feat_idx':range(len(feat_names))})"
   ]
  },
  {
   "cell_type": "code",
   "execution_count": 40,
   "metadata": {
    "collapsed": true
   },
   "outputs": [],
   "source": [
    "feat_imp = pd.DataFrame({'f':lgb_clf.feature_name(),\n",
    "                         'split':lgb_clf.feature_importance(importance_type='split'),\n",
    "                         'gain':lgb_clf.feature_importance(importance_type='gain')}).sort_values(by='split',ascending=False)"
   ]
  },
  {
   "cell_type": "code",
   "execution_count": 43,
   "metadata": {},
   "outputs": [
    {
     "data": {
      "text/html": [
       "<div>\n",
       "<style>\n",
       "    .dataframe thead tr:only-child th {\n",
       "        text-align: right;\n",
       "    }\n",
       "\n",
       "    .dataframe thead th {\n",
       "        text-align: left;\n",
       "    }\n",
       "\n",
       "    .dataframe tbody tr th {\n",
       "        vertical-align: top;\n",
       "    }\n",
       "</style>\n",
       "<table border=\"1\" class=\"dataframe\">\n",
       "  <thead>\n",
       "    <tr style=\"text-align: right;\">\n",
       "      <th></th>\n",
       "      <th>f</th>\n",
       "      <th>gain</th>\n",
       "      <th>split</th>\n",
       "    </tr>\n",
       "  </thead>\n",
       "  <tbody>\n",
       "    <tr>\n",
       "      <th>2</th>\n",
       "      <td>region_city_label</td>\n",
       "      <td>15100.792241</td>\n",
       "      <td>5988</td>\n",
       "    </tr>\n",
       "    <tr>\n",
       "      <th>8</th>\n",
       "      <td>param_1</td>\n",
       "      <td>35224.964765</td>\n",
       "      <td>3267</td>\n",
       "    </tr>\n",
       "    <tr>\n",
       "      <th>9</th>\n",
       "      <td>param_2</td>\n",
       "      <td>8581.022626</td>\n",
       "      <td>1205</td>\n",
       "    </tr>\n",
       "    <tr>\n",
       "      <th>10</th>\n",
       "      <td>param_3</td>\n",
       "      <td>3694.306379</td>\n",
       "      <td>1203</td>\n",
       "    </tr>\n",
       "    <tr>\n",
       "      <th>17</th>\n",
       "      <td>price_log1</td>\n",
       "      <td>5572.762249</td>\n",
       "      <td>1196</td>\n",
       "    </tr>\n",
       "    <tr>\n",
       "      <th>13</th>\n",
       "      <td>category_name</td>\n",
       "      <td>26133.717461</td>\n",
       "      <td>972</td>\n",
       "    </tr>\n",
       "    <tr>\n",
       "      <th>6</th>\n",
       "      <td>day</td>\n",
       "      <td>776.373718</td>\n",
       "      <td>828</td>\n",
       "    </tr>\n",
       "    <tr>\n",
       "      <th>14</th>\n",
       "      <td>image_top_1</td>\n",
       "      <td>3572.760681</td>\n",
       "      <td>659</td>\n",
       "    </tr>\n",
       "    <tr>\n",
       "      <th>16</th>\n",
       "      <td>ads_cnt_by_iid</td>\n",
       "      <td>2079.301587</td>\n",
       "      <td>414</td>\n",
       "    </tr>\n",
       "    <tr>\n",
       "      <th>27</th>\n",
       "      <td>title_hash_4</td>\n",
       "      <td>1430.029037</td>\n",
       "      <td>400</td>\n",
       "    </tr>\n",
       "    <tr>\n",
       "      <th>4</th>\n",
       "      <td>desc_len</td>\n",
       "      <td>918.036468</td>\n",
       "      <td>393</td>\n",
       "    </tr>\n",
       "    <tr>\n",
       "      <th>19</th>\n",
       "      <td>title_tfidf_1</td>\n",
       "      <td>1080.800780</td>\n",
       "      <td>388</td>\n",
       "    </tr>\n",
       "    <tr>\n",
       "      <th>22</th>\n",
       "      <td>title_tfidf_4</td>\n",
       "      <td>821.801923</td>\n",
       "      <td>385</td>\n",
       "    </tr>\n",
       "    <tr>\n",
       "      <th>21</th>\n",
       "      <td>title_tfidf_3</td>\n",
       "      <td>650.305581</td>\n",
       "      <td>367</td>\n",
       "    </tr>\n",
       "    <tr>\n",
       "      <th>0</th>\n",
       "      <td>uidx</td>\n",
       "      <td>460.020046</td>\n",
       "      <td>364</td>\n",
       "    </tr>\n",
       "    <tr>\n",
       "      <th>20</th>\n",
       "      <td>title_tfidf_2</td>\n",
       "      <td>468.933519</td>\n",
       "      <td>358</td>\n",
       "    </tr>\n",
       "    <tr>\n",
       "      <th>29</th>\n",
       "      <td>desc_tfidf_1</td>\n",
       "      <td>1415.663143</td>\n",
       "      <td>351</td>\n",
       "    </tr>\n",
       "    <tr>\n",
       "      <th>32</th>\n",
       "      <td>desc_tfidf_4</td>\n",
       "      <td>482.991210</td>\n",
       "      <td>341</td>\n",
       "    </tr>\n",
       "    <tr>\n",
       "      <th>15</th>\n",
       "      <td>ads_cnt_by_uid</td>\n",
       "      <td>4348.241808</td>\n",
       "      <td>322</td>\n",
       "    </tr>\n",
       "    <tr>\n",
       "      <th>18</th>\n",
       "      <td>title_tfidf_0</td>\n",
       "      <td>419.834258</td>\n",
       "      <td>315</td>\n",
       "    </tr>\n",
       "  </tbody>\n",
       "</table>\n",
       "</div>"
      ],
      "text/plain": [
       "                    f          gain  split\n",
       "2   region_city_label  15100.792241   5988\n",
       "8             param_1  35224.964765   3267\n",
       "9             param_2   8581.022626   1205\n",
       "10            param_3   3694.306379   1203\n",
       "17         price_log1   5572.762249   1196\n",
       "13      category_name  26133.717461    972\n",
       "6                 day    776.373718    828\n",
       "14        image_top_1   3572.760681    659\n",
       "16     ads_cnt_by_iid   2079.301587    414\n",
       "27       title_hash_4   1430.029037    400\n",
       "4            desc_len    918.036468    393\n",
       "19      title_tfidf_1   1080.800780    388\n",
       "22      title_tfidf_4    821.801923    385\n",
       "21      title_tfidf_3    650.305581    367\n",
       "0                uidx    460.020046    364\n",
       "20      title_tfidf_2    468.933519    358\n",
       "29       desc_tfidf_1   1415.663143    351\n",
       "32       desc_tfidf_4    482.991210    341\n",
       "15     ads_cnt_by_uid   4348.241808    322\n",
       "18      title_tfidf_0    419.834258    315"
      ]
     },
     "execution_count": 43,
     "metadata": {},
     "output_type": "execute_result"
    }
   ],
   "source": [
    "feat_imp.head(20)"
   ]
  },
  {
   "cell_type": "code",
   "execution_count": 42,
   "metadata": {},
   "outputs": [
    {
     "data": {
      "text/html": [
       "<div>\n",
       "<style>\n",
       "    .dataframe thead tr:only-child th {\n",
       "        text-align: right;\n",
       "    }\n",
       "\n",
       "    .dataframe thead th {\n",
       "        text-align: left;\n",
       "    }\n",
       "\n",
       "    .dataframe tbody tr th {\n",
       "        vertical-align: top;\n",
       "    }\n",
       "</style>\n",
       "<table border=\"1\" class=\"dataframe\">\n",
       "  <thead>\n",
       "    <tr style=\"text-align: right;\">\n",
       "      <th></th>\n",
       "      <th>f</th>\n",
       "      <th>gain</th>\n",
       "      <th>split</th>\n",
       "    </tr>\n",
       "  </thead>\n",
       "  <tbody>\n",
       "    <tr>\n",
       "      <th>8</th>\n",
       "      <td>param_1</td>\n",
       "      <td>35224.964765</td>\n",
       "      <td>3267</td>\n",
       "    </tr>\n",
       "    <tr>\n",
       "      <th>13</th>\n",
       "      <td>category_name</td>\n",
       "      <td>26133.717461</td>\n",
       "      <td>972</td>\n",
       "    </tr>\n",
       "    <tr>\n",
       "      <th>2</th>\n",
       "      <td>region_city_label</td>\n",
       "      <td>15100.792241</td>\n",
       "      <td>5988</td>\n",
       "    </tr>\n",
       "    <tr>\n",
       "      <th>9</th>\n",
       "      <td>param_2</td>\n",
       "      <td>8581.022626</td>\n",
       "      <td>1205</td>\n",
       "    </tr>\n",
       "    <tr>\n",
       "      <th>17</th>\n",
       "      <td>price_log1</td>\n",
       "      <td>5572.762249</td>\n",
       "      <td>1196</td>\n",
       "    </tr>\n",
       "    <tr>\n",
       "      <th>15</th>\n",
       "      <td>ads_cnt_by_uid</td>\n",
       "      <td>4348.241808</td>\n",
       "      <td>322</td>\n",
       "    </tr>\n",
       "    <tr>\n",
       "      <th>10</th>\n",
       "      <td>param_3</td>\n",
       "      <td>3694.306379</td>\n",
       "      <td>1203</td>\n",
       "    </tr>\n",
       "    <tr>\n",
       "      <th>14</th>\n",
       "      <td>image_top_1</td>\n",
       "      <td>3572.760681</td>\n",
       "      <td>659</td>\n",
       "    </tr>\n",
       "    <tr>\n",
       "      <th>16</th>\n",
       "      <td>ads_cnt_by_iid</td>\n",
       "      <td>2079.301587</td>\n",
       "      <td>414</td>\n",
       "    </tr>\n",
       "    <tr>\n",
       "      <th>27</th>\n",
       "      <td>title_hash_4</td>\n",
       "      <td>1430.029037</td>\n",
       "      <td>400</td>\n",
       "    </tr>\n",
       "    <tr>\n",
       "      <th>29</th>\n",
       "      <td>desc_tfidf_1</td>\n",
       "      <td>1415.663143</td>\n",
       "      <td>351</td>\n",
       "    </tr>\n",
       "    <tr>\n",
       "      <th>11</th>\n",
       "      <td>user_type</td>\n",
       "      <td>1331.205807</td>\n",
       "      <td>92</td>\n",
       "    </tr>\n",
       "    <tr>\n",
       "      <th>19</th>\n",
       "      <td>title_tfidf_1</td>\n",
       "      <td>1080.800780</td>\n",
       "      <td>388</td>\n",
       "    </tr>\n",
       "    <tr>\n",
       "      <th>4</th>\n",
       "      <td>desc_len</td>\n",
       "      <td>918.036468</td>\n",
       "      <td>393</td>\n",
       "    </tr>\n",
       "    <tr>\n",
       "      <th>22</th>\n",
       "      <td>title_tfidf_4</td>\n",
       "      <td>821.801923</td>\n",
       "      <td>385</td>\n",
       "    </tr>\n",
       "    <tr>\n",
       "      <th>6</th>\n",
       "      <td>day</td>\n",
       "      <td>776.373718</td>\n",
       "      <td>828</td>\n",
       "    </tr>\n",
       "    <tr>\n",
       "      <th>21</th>\n",
       "      <td>title_tfidf_3</td>\n",
       "      <td>650.305581</td>\n",
       "      <td>367</td>\n",
       "    </tr>\n",
       "    <tr>\n",
       "      <th>12</th>\n",
       "      <td>parent_category_name</td>\n",
       "      <td>640.326597</td>\n",
       "      <td>88</td>\n",
       "    </tr>\n",
       "    <tr>\n",
       "      <th>32</th>\n",
       "      <td>desc_tfidf_4</td>\n",
       "      <td>482.991210</td>\n",
       "      <td>341</td>\n",
       "    </tr>\n",
       "    <tr>\n",
       "      <th>20</th>\n",
       "      <td>title_tfidf_2</td>\n",
       "      <td>468.933519</td>\n",
       "      <td>358</td>\n",
       "    </tr>\n",
       "    <tr>\n",
       "      <th>0</th>\n",
       "      <td>uidx</td>\n",
       "      <td>460.020046</td>\n",
       "      <td>364</td>\n",
       "    </tr>\n",
       "    <tr>\n",
       "      <th>18</th>\n",
       "      <td>title_tfidf_0</td>\n",
       "      <td>419.834258</td>\n",
       "      <td>315</td>\n",
       "    </tr>\n",
       "    <tr>\n",
       "      <th>26</th>\n",
       "      <td>title_hash_3</td>\n",
       "      <td>388.100478</td>\n",
       "      <td>240</td>\n",
       "    </tr>\n",
       "    <tr>\n",
       "      <th>23</th>\n",
       "      <td>title_hash_0</td>\n",
       "      <td>372.081678</td>\n",
       "      <td>306</td>\n",
       "    </tr>\n",
       "    <tr>\n",
       "      <th>35</th>\n",
       "      <td>desc_hash_2</td>\n",
       "      <td>370.223130</td>\n",
       "      <td>272</td>\n",
       "    </tr>\n",
       "    <tr>\n",
       "      <th>25</th>\n",
       "      <td>title_hash_2</td>\n",
       "      <td>357.484483</td>\n",
       "      <td>260</td>\n",
       "    </tr>\n",
       "    <tr>\n",
       "      <th>36</th>\n",
       "      <td>desc_hash_3</td>\n",
       "      <td>350.139694</td>\n",
       "      <td>293</td>\n",
       "    </tr>\n",
       "    <tr>\n",
       "      <th>28</th>\n",
       "      <td>desc_tfidf_0</td>\n",
       "      <td>311.472309</td>\n",
       "      <td>299</td>\n",
       "    </tr>\n",
       "    <tr>\n",
       "      <th>24</th>\n",
       "      <td>title_hash_1</td>\n",
       "      <td>305.190618</td>\n",
       "      <td>234</td>\n",
       "    </tr>\n",
       "    <tr>\n",
       "      <th>31</th>\n",
       "      <td>desc_tfidf_3</td>\n",
       "      <td>266.173745</td>\n",
       "      <td>254</td>\n",
       "    </tr>\n",
       "    <tr>\n",
       "      <th>33</th>\n",
       "      <td>desc_hash_0</td>\n",
       "      <td>257.837410</td>\n",
       "      <td>278</td>\n",
       "    </tr>\n",
       "    <tr>\n",
       "      <th>37</th>\n",
       "      <td>desc_hash_4</td>\n",
       "      <td>252.145520</td>\n",
       "      <td>289</td>\n",
       "    </tr>\n",
       "    <tr>\n",
       "      <th>34</th>\n",
       "      <td>desc_hash_1</td>\n",
       "      <td>249.979650</td>\n",
       "      <td>215</td>\n",
       "    </tr>\n",
       "    <tr>\n",
       "      <th>3</th>\n",
       "      <td>tit_len</td>\n",
       "      <td>224.669932</td>\n",
       "      <td>131</td>\n",
       "    </tr>\n",
       "    <tr>\n",
       "      <th>1</th>\n",
       "      <td>iidx</td>\n",
       "      <td>223.901459</td>\n",
       "      <td>288</td>\n",
       "    </tr>\n",
       "    <tr>\n",
       "      <th>30</th>\n",
       "      <td>desc_tfidf_2</td>\n",
       "      <td>220.103119</td>\n",
       "      <td>251</td>\n",
       "    </tr>\n",
       "    <tr>\n",
       "      <th>7</th>\n",
       "      <td>weekday</td>\n",
       "      <td>39.011904</td>\n",
       "      <td>46</td>\n",
       "    </tr>\n",
       "    <tr>\n",
       "      <th>5</th>\n",
       "      <td>month</td>\n",
       "      <td>0.000000</td>\n",
       "      <td>0</td>\n",
       "    </tr>\n",
       "  </tbody>\n",
       "</table>\n",
       "</div>"
      ],
      "text/plain": [
       "                       f          gain  split\n",
       "8                param_1  35224.964765   3267\n",
       "13         category_name  26133.717461    972\n",
       "2      region_city_label  15100.792241   5988\n",
       "9                param_2   8581.022626   1205\n",
       "17            price_log1   5572.762249   1196\n",
       "15        ads_cnt_by_uid   4348.241808    322\n",
       "10               param_3   3694.306379   1203\n",
       "14           image_top_1   3572.760681    659\n",
       "16        ads_cnt_by_iid   2079.301587    414\n",
       "27          title_hash_4   1430.029037    400\n",
       "29          desc_tfidf_1   1415.663143    351\n",
       "11             user_type   1331.205807     92\n",
       "19         title_tfidf_1   1080.800780    388\n",
       "4               desc_len    918.036468    393\n",
       "22         title_tfidf_4    821.801923    385\n",
       "6                    day    776.373718    828\n",
       "21         title_tfidf_3    650.305581    367\n",
       "12  parent_category_name    640.326597     88\n",
       "32          desc_tfidf_4    482.991210    341\n",
       "20         title_tfidf_2    468.933519    358\n",
       "0                   uidx    460.020046    364\n",
       "18         title_tfidf_0    419.834258    315\n",
       "26          title_hash_3    388.100478    240\n",
       "23          title_hash_0    372.081678    306\n",
       "35           desc_hash_2    370.223130    272\n",
       "25          title_hash_2    357.484483    260\n",
       "36           desc_hash_3    350.139694    293\n",
       "28          desc_tfidf_0    311.472309    299\n",
       "24          title_hash_1    305.190618    234\n",
       "31          desc_tfidf_3    266.173745    254\n",
       "33           desc_hash_0    257.837410    278\n",
       "37           desc_hash_4    252.145520    289\n",
       "34           desc_hash_1    249.979650    215\n",
       "3                tit_len    224.669932    131\n",
       "1                   iidx    223.901459    288\n",
       "30          desc_tfidf_2    220.103119    251\n",
       "7                weekday     39.011904     46\n",
       "5                  month      0.000000      0"
      ]
     },
     "execution_count": 42,
     "metadata": {},
     "output_type": "execute_result"
    }
   ],
   "source": [
    "feat_imp.sort_values(by='gain',ascending=False).head(20)"
   ]
  },
  {
   "cell_type": "markdown",
   "metadata": {},
   "source": [
    "____"
   ]
  }
 ],
 "metadata": {
  "anaconda-cloud": {},
  "kernelspec": {
   "display_name": "Python [default]",
   "language": "python",
   "name": "python3"
  },
  "language_info": {
   "codemirror_mode": {
    "name": "ipython",
    "version": 3
   },
   "file_extension": ".py",
   "mimetype": "text/x-python",
   "name": "python",
   "nbconvert_exporter": "python",
   "pygments_lexer": "ipython3",
   "version": "3.5.2"
  }
 },
 "nbformat": 4,
 "nbformat_minor": 1
}
